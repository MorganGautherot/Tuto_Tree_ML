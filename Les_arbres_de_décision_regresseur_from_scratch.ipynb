{
  "nbformat": 4,
  "nbformat_minor": 0,
  "metadata": {
    "colab": {
      "name": "Les arbres de décision regresseur from scratch.ipynb",
      "provenance": [],
      "collapsed_sections": []
    },
    "kernelspec": {
      "name": "python3",
      "display_name": "Python 3"
    }
  },
  "cells": [
    {
      "cell_type": "markdown",
      "metadata": {
        "id": "RzgHy-5MCq7r",
        "colab_type": "text"
      },
      "source": [
        "# Arbres de décisions regresseur from scratch\n",
        "\n",
        "Dans ce notebook, vous allez coder votre propre algorithme de machine learning pour entraîner des arbres de décision afin de résoudre des problèmes de régresssion. \n",
        "\n",
        "Le code que vous trouverez dans ce notebook est fonctionnelle pour créer un algorithme d'apprentissage automatique. Attention, ce code n'est pas optimis, il est uniquement à but pédagogique pour que vous compreniez bien ce qui se passe lorsque vous entraînez un algorithme de machine learning d'arbres de décision. Je vais vous accompagner pas à pas dans l'implémentation de cet algorithme.\n",
        "\n",
        "Si vous voulez entraîner un modèle à but professionnel, je vous recommande d'utiliser le package [Sklearn](https://scikit-learn.org/stable/index.html) qui contient toutes les librairies essentiel pour vous aider. \n",
        "\n",
        "Merci de soutenir ce travail de création de contenus en vous abonnant à la chaîne youtube AIForYou et en mettant une étoile au répertoire github. \n",
        "\n"
      ]
    },
    {
      "cell_type": "markdown",
      "metadata": {
        "id": "Zz4aV5hUD7X_",
        "colab_type": "text"
      },
      "source": [
        "## Importation des packages\n",
        "\n",
        "Comme cet algorithme est codé from scratch nous n'aurons pas besoin de beaucoup de librairie. Nous aurons seulement besoin de [Numpy](https://numpy.org/) pour gérer les calculs matriciels, [Pandas](https://pandas.pydata.org/) pour gérer les dataframe, et certains opérateurs de calcul. "
      ]
    },
    {
      "cell_type": "code",
      "metadata": {
        "id": "ZdlPJFRVCKGk",
        "colab_type": "code",
        "colab": {}
      },
      "source": [
        "import numpy as np \n",
        "import pandas as pd\n",
        "from functools import reduce\n",
        "import operator"
      ],
      "execution_count": 0,
      "outputs": []
    },
    {
      "cell_type": "markdown",
      "metadata": {
        "id": "wOuVz69oEeTt",
        "colab_type": "text"
      },
      "source": [
        "## Importation des données\n",
        "\n",
        "Dans ce notebook, nous allons utiliser un dataframe homemade que j'ai créé pour vous. Le but sera de trouver le prix d'un appartement en fonction de ses caractéristiques.\n",
        "\n"
      ]
    },
    {
      "cell_type": "code",
      "metadata": {
        "id": "UTtIKY4rEaHY",
        "colab_type": "code",
        "colab": {}
      },
      "source": [
        "dataframe = pd.DataFrame([[140000, 50, 1, 2],\n",
        "                         [150000, 55, 0, 3],\n",
        "                         [100000, 38, 1, 2],\n",
        "                         [200000, 72, 0, 3],\n",
        "                         [220000, 70, 1, 4],\n",
        "                         [120000, 40, 0, 2],\n",
        "                         [198000, 68, 0, 3],\n",
        "                         [130000, 54, 0, 2],\n",
        "                         [140000, 62, 0, 3],\n",
        "                         [190000, 79, 1, 2],\n",
        "                         [170000, 67, 1, 4],\n",
        "                         [90000, 40, 0, 2]],\n",
        "                         columns=['prix', 'surface', 'garage', 'nb_piece'])"
      ],
      "execution_count": 0,
      "outputs": []
    },
    {
      "cell_type": "code",
      "metadata": {
        "id": "e-oMjOcrFs7g",
        "colab_type": "code",
        "outputId": "a427a41f-b6c1-44d4-9286-3b3ecd730535",
        "colab": {
          "base_uri": "https://localhost:8080/",
          "height": 421
        }
      },
      "source": [
        "dataframe"
      ],
      "execution_count": 0,
      "outputs": [
        {
          "output_type": "execute_result",
          "data": {
            "text/html": [
              "<div>\n",
              "<style scoped>\n",
              "    .dataframe tbody tr th:only-of-type {\n",
              "        vertical-align: middle;\n",
              "    }\n",
              "\n",
              "    .dataframe tbody tr th {\n",
              "        vertical-align: top;\n",
              "    }\n",
              "\n",
              "    .dataframe thead th {\n",
              "        text-align: right;\n",
              "    }\n",
              "</style>\n",
              "<table border=\"1\" class=\"dataframe\">\n",
              "  <thead>\n",
              "    <tr style=\"text-align: right;\">\n",
              "      <th></th>\n",
              "      <th>prix</th>\n",
              "      <th>surface</th>\n",
              "      <th>garage</th>\n",
              "      <th>nb_piece</th>\n",
              "    </tr>\n",
              "  </thead>\n",
              "  <tbody>\n",
              "    <tr>\n",
              "      <th>0</th>\n",
              "      <td>140000</td>\n",
              "      <td>50</td>\n",
              "      <td>1</td>\n",
              "      <td>2</td>\n",
              "    </tr>\n",
              "    <tr>\n",
              "      <th>1</th>\n",
              "      <td>150000</td>\n",
              "      <td>55</td>\n",
              "      <td>0</td>\n",
              "      <td>3</td>\n",
              "    </tr>\n",
              "    <tr>\n",
              "      <th>2</th>\n",
              "      <td>100000</td>\n",
              "      <td>38</td>\n",
              "      <td>1</td>\n",
              "      <td>2</td>\n",
              "    </tr>\n",
              "    <tr>\n",
              "      <th>3</th>\n",
              "      <td>200000</td>\n",
              "      <td>72</td>\n",
              "      <td>0</td>\n",
              "      <td>3</td>\n",
              "    </tr>\n",
              "    <tr>\n",
              "      <th>4</th>\n",
              "      <td>220000</td>\n",
              "      <td>70</td>\n",
              "      <td>1</td>\n",
              "      <td>4</td>\n",
              "    </tr>\n",
              "    <tr>\n",
              "      <th>5</th>\n",
              "      <td>120000</td>\n",
              "      <td>40</td>\n",
              "      <td>0</td>\n",
              "      <td>2</td>\n",
              "    </tr>\n",
              "    <tr>\n",
              "      <th>6</th>\n",
              "      <td>198000</td>\n",
              "      <td>68</td>\n",
              "      <td>0</td>\n",
              "      <td>3</td>\n",
              "    </tr>\n",
              "    <tr>\n",
              "      <th>7</th>\n",
              "      <td>130000</td>\n",
              "      <td>54</td>\n",
              "      <td>0</td>\n",
              "      <td>2</td>\n",
              "    </tr>\n",
              "    <tr>\n",
              "      <th>8</th>\n",
              "      <td>140000</td>\n",
              "      <td>62</td>\n",
              "      <td>0</td>\n",
              "      <td>3</td>\n",
              "    </tr>\n",
              "    <tr>\n",
              "      <th>9</th>\n",
              "      <td>190000</td>\n",
              "      <td>79</td>\n",
              "      <td>1</td>\n",
              "      <td>2</td>\n",
              "    </tr>\n",
              "    <tr>\n",
              "      <th>10</th>\n",
              "      <td>170000</td>\n",
              "      <td>67</td>\n",
              "      <td>1</td>\n",
              "      <td>4</td>\n",
              "    </tr>\n",
              "    <tr>\n",
              "      <th>11</th>\n",
              "      <td>90000</td>\n",
              "      <td>40</td>\n",
              "      <td>0</td>\n",
              "      <td>2</td>\n",
              "    </tr>\n",
              "  </tbody>\n",
              "</table>\n",
              "</div>"
            ],
            "text/plain": [
              "      prix  surface  garage  nb_piece\n",
              "0   140000       50       1         2\n",
              "1   150000       55       0         3\n",
              "2   100000       38       1         2\n",
              "3   200000       72       0         3\n",
              "4   220000       70       1         4\n",
              "5   120000       40       0         2\n",
              "6   198000       68       0         3\n",
              "7   130000       54       0         2\n",
              "8   140000       62       0         3\n",
              "9   190000       79       1         2\n",
              "10  170000       67       1         4\n",
              "11   90000       40       0         2"
            ]
          },
          "metadata": {
            "tags": []
          },
          "execution_count": 3
        }
      ]
    },
    {
      "cell_type": "markdown",
      "metadata": {
        "id": "FxN0aVf0Fwyp",
        "colab_type": "text"
      },
      "source": [
        "## Création de la classe\n",
        "\n",
        "La première étape de notre algorithme est la création de la classe qui va contenir toutes les fonctions dont notre algorithme à besoin pour fonctionner. On va commencer par la fonction de d'initialisation."
      ]
    },
    {
      "cell_type": "code",
      "metadata": {
        "id": "DoWug5DyGXjl",
        "colab_type": "code",
        "colab": {}
      },
      "source": [
        "class decision_tree_regressor :\n",
        "  \"\"\" Cette classe a pour but de créer un algorithme d'apprentissage automatique\n",
        "  d'arbres de décision regresseur\"\"\"\n",
        "\n",
        "  def __init__(self, target, dataframe, max_depth):\n",
        "    \"\"\"Cette fonction a pour but d'initialiser les variables essentiel à la \n",
        "    construction de notre algorithme.\n",
        "   INPUT \n",
        "    - target : la variable cible qu'il faudra classifier\n",
        "    - dataframe : les données d'apprentissage\n",
        "    - max_deapth : la profondeur maximal de l'arbre à entraîner\n",
        "   \"\"\"\n",
        "    self.max_depth = max_depth\n",
        "    self.target = target\n",
        "    self.dataframe = dataframe"
      ],
      "execution_count": 0,
      "outputs": []
    },
    {
      "cell_type": "markdown",
      "metadata": {
        "id": "BTLFIinmHgtZ",
        "colab_type": "text"
      },
      "source": [
        "## Séparation\n",
        "\n",
        "Maintenant que nous avons notre classe, il va falloir implémenter toutes les fonctions nécessaires à l'entraînement d'un arbre de décision. On va commencer par la séparation d'une branche en deux sous-branches. \n",
        "\n",
        "On peut avoir à faire à deux types de variables : \n",
        "- Les variables quantitatives qui sont des variables réelles ;\n",
        "- Les variables quantitatives qui sont des classes."
      ]
    },
    {
      "cell_type": "code",
      "metadata": {
        "id": "eCnNalvFIIlE",
        "colab_type": "code",
        "colab": {}
      },
      "source": [
        "class decision_tree_regressor :\n",
        "  \"\"\" Cette classe a pour but de créer un algorithme d'apprentissage automatique\n",
        "  d'arbres de décision regresseur\"\"\"\n",
        "\n",
        "  def __init__(self, target, dataframe, max_depth):\n",
        "    \"\"\"Cette fonction a pour but d'initialiser les variables essentiel à la \n",
        "    construction de notre algorithme.\n",
        "   INPUT \n",
        "    - target : la variable cible qu'il faudra classifier\n",
        "    - dataframe : les données d'apprentissage\n",
        "    - max_deapth : la profondeur maximal de l'arbre à entraîner\n",
        "   \"\"\"\n",
        "    self.max_depth = max_depth\n",
        "    self.target = target\n",
        "    self.dataframe = dataframe\n",
        "\n",
        "  def __quanti_split__(self, feature, value, dataset):\n",
        "   \"\"\"Cette fonction split un jeu de données en fonction\n",
        "   de la valeur 'value' de la variable quantitative 'feature' passé en paramètre\n",
        "   INPUT \n",
        "    - feature : integer correspondant à la variable à séparer\n",
        "    - value : integer correspond à la valeur à laquelle séparer notre jeu de données\n",
        "    - dataset : pandas dataframe à séparer\n",
        "   OUTPUT \n",
        "    - left : dataframe avec les données où 'feature' est plus petit ou égale à 'value'\n",
        "    - right : dataframe avec les données où 'feature' est plus grande que 'value' \n",
        "   \"\"\"\n",
        "   \n",
        "   left = dataset[dataset.loc[:,feature]<= value]\n",
        "   right = dataset[dataset.loc[:,feature]> value]\n",
        "\n",
        "   return left, right\n",
        "\n",
        "  def __quali_split__(self, feature, value, dataset):\n",
        "   \"\"\"Cette fonction split un jeu de données en fonction\n",
        "   de la valeur 'value' de la variable qualitative'feature' passé en paramètre\n",
        "   INPUT \n",
        "    - feature : integer correspondant à la variable à séparer\n",
        "    - value : integer correspond à la valeur à laquelle séparer notre jeu de données\n",
        "    - dataset : pandas dataframe à séparer\n",
        "   OUTPUT \n",
        "    - left : dataframe avec les données où 'feature' est égale 'value'\n",
        "    - right : dataframe avec les données où 'feature' est différent 'value'\n",
        "   \"\"\"\n",
        "   \n",
        "   left = dataset[dataset.loc[:,feature]== value]\n",
        "   right = dataset[dataset.loc[:,feature]!= value]\n",
        "\n",
        "   return left, right"
      ],
      "execution_count": 0,
      "outputs": []
    },
    {
      "cell_type": "markdown",
      "metadata": {
        "id": "WDaZdosxI9-t",
        "colab_type": "text"
      },
      "source": [
        "Je vous propose un exemple afin de bien comprendre comment la fonction fonctionne. Le but étant de séparer le dataframe initiale en deux dataframes distinct selon une condition sur une des variables du dataset."
      ]
    },
    {
      "cell_type": "code",
      "metadata": {
        "id": "28Yw_755G8XT",
        "colab_type": "code",
        "outputId": "de773d7e-5d8f-4b19-bc99-f0cc571cb034",
        "colab": {
          "base_uri": "https://localhost:8080/",
          "height": 421
        }
      },
      "source": [
        "dataframe"
      ],
      "execution_count": 0,
      "outputs": [
        {
          "output_type": "execute_result",
          "data": {
            "text/html": [
              "<div>\n",
              "<style scoped>\n",
              "    .dataframe tbody tr th:only-of-type {\n",
              "        vertical-align: middle;\n",
              "    }\n",
              "\n",
              "    .dataframe tbody tr th {\n",
              "        vertical-align: top;\n",
              "    }\n",
              "\n",
              "    .dataframe thead th {\n",
              "        text-align: right;\n",
              "    }\n",
              "</style>\n",
              "<table border=\"1\" class=\"dataframe\">\n",
              "  <thead>\n",
              "    <tr style=\"text-align: right;\">\n",
              "      <th></th>\n",
              "      <th>prix</th>\n",
              "      <th>surface</th>\n",
              "      <th>garage</th>\n",
              "      <th>nb_piece</th>\n",
              "    </tr>\n",
              "  </thead>\n",
              "  <tbody>\n",
              "    <tr>\n",
              "      <th>0</th>\n",
              "      <td>140000</td>\n",
              "      <td>50</td>\n",
              "      <td>1</td>\n",
              "      <td>2</td>\n",
              "    </tr>\n",
              "    <tr>\n",
              "      <th>1</th>\n",
              "      <td>150000</td>\n",
              "      <td>55</td>\n",
              "      <td>0</td>\n",
              "      <td>3</td>\n",
              "    </tr>\n",
              "    <tr>\n",
              "      <th>2</th>\n",
              "      <td>100000</td>\n",
              "      <td>38</td>\n",
              "      <td>1</td>\n",
              "      <td>2</td>\n",
              "    </tr>\n",
              "    <tr>\n",
              "      <th>3</th>\n",
              "      <td>200000</td>\n",
              "      <td>72</td>\n",
              "      <td>0</td>\n",
              "      <td>3</td>\n",
              "    </tr>\n",
              "    <tr>\n",
              "      <th>4</th>\n",
              "      <td>220000</td>\n",
              "      <td>70</td>\n",
              "      <td>1</td>\n",
              "      <td>4</td>\n",
              "    </tr>\n",
              "    <tr>\n",
              "      <th>5</th>\n",
              "      <td>120000</td>\n",
              "      <td>40</td>\n",
              "      <td>0</td>\n",
              "      <td>2</td>\n",
              "    </tr>\n",
              "    <tr>\n",
              "      <th>6</th>\n",
              "      <td>198000</td>\n",
              "      <td>68</td>\n",
              "      <td>0</td>\n",
              "      <td>3</td>\n",
              "    </tr>\n",
              "    <tr>\n",
              "      <th>7</th>\n",
              "      <td>130000</td>\n",
              "      <td>54</td>\n",
              "      <td>0</td>\n",
              "      <td>2</td>\n",
              "    </tr>\n",
              "    <tr>\n",
              "      <th>8</th>\n",
              "      <td>140000</td>\n",
              "      <td>62</td>\n",
              "      <td>0</td>\n",
              "      <td>3</td>\n",
              "    </tr>\n",
              "    <tr>\n",
              "      <th>9</th>\n",
              "      <td>190000</td>\n",
              "      <td>79</td>\n",
              "      <td>1</td>\n",
              "      <td>2</td>\n",
              "    </tr>\n",
              "    <tr>\n",
              "      <th>10</th>\n",
              "      <td>170000</td>\n",
              "      <td>67</td>\n",
              "      <td>1</td>\n",
              "      <td>4</td>\n",
              "    </tr>\n",
              "    <tr>\n",
              "      <th>11</th>\n",
              "      <td>90000</td>\n",
              "      <td>40</td>\n",
              "      <td>0</td>\n",
              "      <td>2</td>\n",
              "    </tr>\n",
              "  </tbody>\n",
              "</table>\n",
              "</div>"
            ],
            "text/plain": [
              "      prix  surface  garage  nb_piece\n",
              "0   140000       50       1         2\n",
              "1   150000       55       0         3\n",
              "2   100000       38       1         2\n",
              "3   200000       72       0         3\n",
              "4   220000       70       1         4\n",
              "5   120000       40       0         2\n",
              "6   198000       68       0         3\n",
              "7   130000       54       0         2\n",
              "8   140000       62       0         3\n",
              "9   190000       79       1         2\n",
              "10  170000       67       1         4\n",
              "11   90000       40       0         2"
            ]
          },
          "metadata": {
            "tags": []
          },
          "execution_count": 6
        }
      ]
    },
    {
      "cell_type": "code",
      "metadata": {
        "id": "nSko48RsI4TL",
        "colab_type": "code",
        "outputId": "9341ab44-debc-4ae3-afb8-8abdcd5c2987",
        "colab": {
          "base_uri": "https://localhost:8080/",
          "height": 255
        }
      },
      "source": [
        "tree = decision_tree_regressor('prix', dataframe, 4)\n",
        "left_node, right_node = tree.__quanti_split__('surface', 60, dataframe)\n",
        "print(left_node)\n",
        "print(right_node)"
      ],
      "execution_count": 0,
      "outputs": [
        {
          "output_type": "stream",
          "text": [
            "      prix  surface  garage  nb_piece\n",
            "0   140000       50       1         2\n",
            "1   150000       55       0         3\n",
            "2   100000       38       1         2\n",
            "5   120000       40       0         2\n",
            "7   130000       54       0         2\n",
            "11   90000       40       0         2\n",
            "      prix  surface  garage  nb_piece\n",
            "3   200000       72       0         3\n",
            "4   220000       70       1         4\n",
            "6   198000       68       0         3\n",
            "8   140000       62       0         3\n",
            "9   190000       79       1         2\n",
            "10  170000       67       1         4\n"
          ],
          "name": "stdout"
        }
      ]
    },
    {
      "cell_type": "code",
      "metadata": {
        "id": "BShi_OaaG63Z",
        "colab_type": "code",
        "outputId": "9f9434a5-b45a-4dbb-ee9e-0c90a0e2a92f",
        "colab": {
          "base_uri": "https://localhost:8080/",
          "height": 255
        }
      },
      "source": [
        "tree = decision_tree_regressor('prix', dataframe, 4)\n",
        "left_node, right_node = tree.__quali_split__('garage', 1, dataframe)\n",
        "print(left_node)\n",
        "print(right_node)"
      ],
      "execution_count": 0,
      "outputs": [
        {
          "output_type": "stream",
          "text": [
            "      prix  surface  garage  nb_piece\n",
            "0   140000       50       1         2\n",
            "2   100000       38       1         2\n",
            "4   220000       70       1         4\n",
            "9   190000       79       1         2\n",
            "10  170000       67       1         4\n",
            "      prix  surface  garage  nb_piece\n",
            "1   150000       55       0         3\n",
            "3   200000       72       0         3\n",
            "5   120000       40       0         2\n",
            "6   198000       68       0         3\n",
            "7   130000       54       0         2\n",
            "8   140000       62       0         3\n",
            "11   90000       40       0         2\n"
          ],
          "name": "stdout"
        }
      ]
    },
    {
      "cell_type": "markdown",
      "metadata": {
        "id": "LB3zj-tWKGoT",
        "colab_type": "text"
      },
      "source": [
        "## Fonction de coût\n",
        "\n",
        "Maintenant que l'on sait comment séparer notre jeu de données, nous allons trouver un moyen de calculer le coût de cette séparation. Le but étant de trouver la séparation correspondant au coût le plus faible. \n",
        "\n",
        "Pour calculer à quel point notre séparation est optimale, nous allons utiliser le MSE, l'erreur moyenne au carré. Pour ceux qui ne connaissent pas cette métrique, je vous recommande de regarder ma [vidéo sur la théorie des arbres de décision](https://www.youtube.com/watch?v=gxS_R1Ph9ak).\n",
        "\n",
        "Le but est de créer des sous-groupes les plus purs possible."
      ]
    },
    {
      "cell_type": "code",
      "metadata": {
        "id": "KbLiKz9WKYFM",
        "colab_type": "code",
        "outputId": "e13d00d4-a50d-4b03-ec58-d38a73d1f0fa",
        "colab": {
          "base_uri": "https://localhost:8080/",
          "height": 238
        }
      },
      "source": [
        "# Nos targets values de départ\n",
        "row = dataframe['prix']\n",
        "print(row)"
      ],
      "execution_count": 0,
      "outputs": [
        {
          "output_type": "stream",
          "text": [
            "0     140000\n",
            "1     150000\n",
            "2     100000\n",
            "3     200000\n",
            "4     220000\n",
            "5     120000\n",
            "6     198000\n",
            "7     130000\n",
            "8     140000\n",
            "9     190000\n",
            "10    170000\n",
            "11     90000\n",
            "Name: prix, dtype: int64\n"
          ],
          "name": "stdout"
        }
      ]
    },
    {
      "cell_type": "markdown",
      "metadata": {
        "id": "WmRCkcY0NdL2",
        "colab_type": "text"
      },
      "source": [
        "$$ MSE = \\frac{1}{m} \\sum^m_{i-1}(y-\\widehat{y})^2 $$\n"
      ]
    },
    {
      "cell_type": "code",
      "metadata": {
        "id": "DlnHChQOLLB6",
        "colab_type": "code",
        "colab": {}
      },
      "source": [
        "def mse(dataset, target):\n",
        "    \"\"\"Calcul l'erreur moyenne au carré entre la moyenne du dataset\n",
        "    et la valeur réel y\n",
        "    INPUT \n",
        "       - dataset : dataset à utiliser\n",
        "       - target : variable cible à utiliser pour le calcul\n",
        "    OUTPUT \n",
        "       - mse : erreur moyenne au carré du dataset\n",
        "    \"\"\"\n",
        "    rows = dataset[target]\n",
        "    pred = np.ones(rows.shape[0]) * np.mean(rows)\n",
        "    mse = (1/len(rows)) *np.sum((rows - pred)**2)\n",
        "\n",
        "    return mse "
      ],
      "execution_count": 0,
      "outputs": []
    },
    {
      "cell_type": "code",
      "metadata": {
        "id": "eL3CCbeNH77w",
        "colab_type": "code",
        "outputId": "a76732ef-03e3-45ad-aa57-b410d08b83d7",
        "colab": {
          "base_uri": "https://localhost:8080/",
          "height": 34
        }
      },
      "source": [
        "mse(dataframe, 'prix')"
      ],
      "execution_count": 0,
      "outputs": [
        {
          "output_type": "execute_result",
          "data": {
            "text/plain": [
              "1592666666.6666665"
            ]
          },
          "metadata": {
            "tags": []
          },
          "execution_count": 19
        }
      ]
    },
    {
      "cell_type": "code",
      "metadata": {
        "id": "bEJ1A-1gOd1p",
        "colab_type": "code",
        "colab": {}
      },
      "source": [
        "class decision_tree_regressor :\n",
        "  \"\"\" Cette classe a pour but de créer un algorithme d'apprentissage automatique\n",
        "  d'arbres de décision regresseur\"\"\"\n",
        "\n",
        "  def __init__(self, target, dataframe, max_depth):\n",
        "    \"\"\"Cette fonction a pour but d'initialiser les variables essentiel à la \n",
        "    construction de notre algorithme.\n",
        "   INPUT \n",
        "    - target : la variable cible qu'il faudra classifier\n",
        "    - dataframe : les données d'apprentissage\n",
        "    - max_deapth : la profondeur maximal de l'arbre à entraîner\n",
        "   \"\"\"\n",
        "    self.max_depth = max_depth\n",
        "    self.target = target\n",
        "    self.dataframe = dataframe\n",
        "\n",
        "  def __quanti_split__(self, feature, value, dataset):\n",
        "   \"\"\"Cette fonction split un jeu de données en fonction\n",
        "   de la valeur 'value' de la variable quantitative 'feature' passé en paramètre\n",
        "   INPUT \n",
        "    - feature : integer correspondant à la variable à séparer\n",
        "    - value : integer correspond à la valeur à laquelle séparer notre jeu de données\n",
        "    - dataset : pandas dataframe à séparer\n",
        "   OUTPUT \n",
        "    - left : dataframe avec les données où 'feature' est plus petit ou égale à 'value'\n",
        "    - right : dataframe avec les données où 'feature' est plus grande que 'value' \n",
        "   \"\"\"\n",
        "   \n",
        "   left = dataset[dataset.loc[:,feature]<= value]\n",
        "   right = dataset[dataset.loc[:,feature]> value]\n",
        "\n",
        "   return left, right\n",
        "\n",
        "  def __quali_split__(self, feature, value, dataset):\n",
        "   \"\"\"Cette fonction split un jeu de données en fonction\n",
        "   de la valeur 'value' de la variable qualitative 'feature' passé en paramètre\n",
        "   INPUT \n",
        "    - feature : integer correspondant à la variable à séparer\n",
        "    - value : integer correspond à la valeur à laquelle séparer notre jeu de données\n",
        "    - dataset : pandas dataframe à séparer\n",
        "   OUTPUT \n",
        "    - left : dataframe avec les données où 'feature' est égale 'value'\n",
        "    - right : dataframe avec les données où 'feature' est différent 'value'\n",
        "   \"\"\"\n",
        "   \n",
        "   left = dataset[dataset.loc[:,feature]== value]\n",
        "   right = dataset[dataset.loc[:,feature]!= value]\n",
        "\n",
        "   return left, right\n",
        "\n",
        "\n",
        "  def __mse__(self, dataset):\n",
        "      \"\"\"Calcul l'erreur moyenne au carré entre la moyenne du dataset\n",
        "      et la valeur réelle y\n",
        "      INPUT \n",
        "        - dataset : dataset à utiliser\n",
        "      OUTPUT \n",
        "        - mse : erreur moyenne au carré du dataset\n",
        "      \"\"\"\n",
        "      rows = dataset[self.target]\n",
        "      pred = np.ones(rows.shape[0]) * np.mean(rows)\n",
        "      mse = (1/len(rows)) *np.sum((rows - pred)**2)\n",
        "\n",
        "      return mse "
      ],
      "execution_count": 0,
      "outputs": []
    },
    {
      "cell_type": "markdown",
      "metadata": {
        "id": "z8aUFaAgP8zi",
        "colab_type": "text"
      },
      "source": [
        "Voici un exemple pour vérifier que la fonction '\\_\\_mse\\_\\_' fonctionne correctement."
      ]
    },
    {
      "cell_type": "code",
      "metadata": {
        "id": "f8_ybUSFPg0_",
        "colab_type": "code",
        "outputId": "004fc85f-8292-473f-a192-9d3c9cb4d3cf",
        "colab": {
          "base_uri": "https://localhost:8080/",
          "height": 34
        }
      },
      "source": [
        "tree = decision_tree_regressor('prix', dataframe, 4)\n",
        "tree.__mse__(dataframe)"
      ],
      "execution_count": 0,
      "outputs": [
        {
          "output_type": "execute_result",
          "data": {
            "text/plain": [
              "1592666666.6666665"
            ]
          },
          "metadata": {
            "tags": []
          },
          "execution_count": 25
        }
      ]
    },
    {
      "cell_type": "markdown",
      "metadata": {
        "id": "ycBPajhhQR-Z",
        "colab_type": "text"
      },
      "source": [
        "## Évaluer une séparation\n",
        "\n",
        "Félicitations, vous avez maintenant votre fonction '\\_\\_mse\\_\\_' pour calculer les performances d'un nœud . Maintenant, vous allez pouvoir créer une fonction capable de déterminer le coût d'une séparation d'un nœud  en deux branches."
      ]
    },
    {
      "cell_type": "code",
      "metadata": {
        "id": "AgsOMqdhQRtl",
        "colab_type": "code",
        "colab": {}
      },
      "source": [
        "class decision_tree_regressor :\n",
        "  \"\"\" Cette classe a pour but de créer un algorithme d'apprentissage automatique\n",
        "  d'arbres de décision regresseur\"\"\"\n",
        "  \n",
        "  def __init__(self, target, dataframe, max_depth):\n",
        "    \"\"\"Cette fonction a pour but d'initialiser les variables essentiel à la \n",
        "    construction de notre algorithme.\n",
        "   INPUT \n",
        "    - target : la variable cible qu'il faudra classifier\n",
        "    - dataframe : les données d'apprentissage\n",
        "    - max_deapth : la profondeur maximal de l'arbre à entraîner\n",
        "   \"\"\"\n",
        "    self.max_depth = max_depth\n",
        "    self.target = target\n",
        "    self.dataframe = dataframe\n",
        "\n",
        "  def __quanti_split__(self, feature, value, dataset):\n",
        "   \"\"\"Cette fonction split un jeu de données en fonction\n",
        "   de la valeur 'value' de la variable quantitative 'feature' passé en paramètre\n",
        "   INPUT \n",
        "    - feature : integer correspondant à la variable à séparer\n",
        "    - value : integer correspond à la valeur à laquelle séparer notre jeu de données\n",
        "    - dataset : pandas dataframe à séparer\n",
        "   OUTPUT \n",
        "    - left : dataframe avec les données où 'feature' est plus petit ou égale à 'value'\n",
        "    - right : dataframe avec les données où 'feature' est plus grande que 'value' \n",
        "   \"\"\"\n",
        "   \n",
        "   left = dataset[dataset.loc[:,feature]<= value]\n",
        "   right = dataset[dataset.loc[:,feature]> value]\n",
        "\n",
        "   return left, right\n",
        "\n",
        "  def __quali_split__(self, feature, value, dataset):\n",
        "   \"\"\"Cette fonction split un jeu de données en fonction\n",
        "   de la valeur 'value' de la variable qualitative 'feature' passé en paramètre\n",
        "   INPUT \n",
        "    - feature : integer correspondant à la variable à séparer\n",
        "    - value : integer correspond à la valeur à laquelle séparer notre jeu de données\n",
        "    - dataset : pandas dataframe à séparer\n",
        "   OUTPUT \n",
        "    - left : dataframe avec les données où 'feature' est égale 'value'\n",
        "    - right : dataframe avec les données où 'feature' est différent 'value'\n",
        "   \"\"\"\n",
        "   \n",
        "   left = dataset[dataset.loc[:,feature]== value]\n",
        "   right = dataset[dataset.loc[:,feature]!= value]\n",
        "\n",
        "   return left, right\n",
        "\n",
        "\n",
        "  def __mse__(self, dataset):\n",
        "      \"\"\"Calcul l'erreur moyenne au carré entre la moyenne du dataset\n",
        "      et la valeur réelle y\n",
        "      INPUT \n",
        "        - dataset : dataset à utiliser\n",
        "      OUTPUT \n",
        "        - mse : erreur moyenne au carré du dataset\n",
        "      \"\"\"\n",
        "      rows = dataset[self.target]\n",
        "      pred = np.ones(rows.shape[0]) * np.mean(rows)\n",
        "      mse = (1/len(rows)) *np.sum((rows - pred)**2)\n",
        "\n",
        "      return mse \n",
        "\n",
        "  def __split_evaluator__(self, left_dataset, right_dataset):\n",
        "    \"\"\"Calculer le coût d'une séparation d'un noeud en deux branches\n",
        "    INPUT \n",
        "       - left_dataset : dataset de la branche de gauche\n",
        "       - right_dataset : dataset de la branche de droite\n",
        "    OUTPUT \n",
        "       - cost : coût de la séparation\"\"\"\n",
        "    left_eval = self.__mse__(left_dataset)\n",
        "    nb_left = left_dataset.shape[0]\n",
        "    right_eval = self.__mse__(right_dataset)\n",
        "    nb_right = right_dataset.shape[0]\n",
        "    nb_tot = nb_left + nb_right\n",
        "    cost = nb_left/nb_tot * left_eval + nb_right/nb_tot * right_eval\n",
        "    return cost "
      ],
      "execution_count": 0,
      "outputs": []
    },
    {
      "cell_type": "markdown",
      "metadata": {
        "id": "ovBAPaSPR5s9",
        "colab_type": "text"
      },
      "source": [
        "Un exemple pour vérifier que la fonction d'évaluation de la séparation fonctionne bien."
      ]
    },
    {
      "cell_type": "code",
      "metadata": {
        "id": "igx-AI3PQG2g",
        "colab_type": "code",
        "outputId": "89b60ea7-d4ab-4a44-8b36-5755fcd89ac6",
        "colab": {
          "base_uri": "https://localhost:8080/",
          "height": 51
        }
      },
      "source": [
        "tree = decision_tree_regressor('prix', dataframe, 4)\n",
        "left_node, right_node = tree.__quanti_split__('surface', 60, dataframe)\n",
        "print(tree.__mse__(dataframe))\n",
        "print(tree.__split_evaluator__(left_node, right_node))"
      ],
      "execution_count": 0,
      "outputs": [
        {
          "output_type": "stream",
          "text": [
            "1592666666.6666665\n",
            "547222222.2222221\n"
          ],
          "name": "stdout"
        }
      ]
    },
    {
      "cell_type": "markdown",
      "metadata": {
        "id": "vDLTgigOV3Js",
        "colab_type": "text"
      },
      "source": [
        "## Évaluer les séparations possibles\n",
        "\n",
        "Maintenant que l'on sait évaluer la performance des séparations, il faut créer une fonction qui va tester toutes les séparations possibles afin de les évaluer et trouver la meilleure séparation. "
      ]
    },
    {
      "cell_type": "code",
      "metadata": {
        "id": "YSodRZ4AV3sq",
        "colab_type": "code",
        "colab": {}
      },
      "source": [
        "class decision_tree_regressor :\n",
        "  \"\"\" Cette classe a pour but de créer un algorithme d'apprentissage automatique\n",
        "  d'arbres de décision regresseur\"\"\"\n",
        "\n",
        "  def __init__(self, target, dataframe, max_depth):\n",
        "    \"\"\"Cette fonction a pour but d'initialiser les variables essentiel à la \n",
        "    construction de notre algorithme.\n",
        "   INPUT \n",
        "    - target : la variable cible qu'il faudra classifier\n",
        "    - dataframe : les données d'apprentissage\n",
        "    - max_deapth : la profondeur maximal de l'arbre à entraîner\n",
        "   \"\"\"\n",
        "    self.max_depth = max_depth\n",
        "    self.target = target\n",
        "    self.dataframe = dataframe\n",
        "\n",
        "  def __quanti_split__(self, feature, value, dataset):\n",
        "   \"\"\"Cette fonction split un jeu de données en fonction\n",
        "   de la valeur 'value' de la variable quantitative 'feature' passé en paramètre\n",
        "   INPUT \n",
        "    - feature : integer correspondant à la variable à séparer\n",
        "    - value : integer correspond à la valeur à laquelle séparer notre jeu de données\n",
        "    - dataset : pandas dataframe à séparer\n",
        "   OUTPUT \n",
        "    - left : dataframe avec les données où 'feature' est plus petit ou égale à 'value'\n",
        "    - right : dataframe avec les données où 'feature' est plus grande que 'value' \n",
        "   \"\"\"\n",
        "   \n",
        "   left = dataset[dataset.loc[:,feature]<= value]\n",
        "   right = dataset[dataset.loc[:,feature]> value]\n",
        "\n",
        "   return left, right\n",
        "\n",
        "  def __quali_split__(self, feature, value, dataset):\n",
        "   \"\"\"Cette fonction split un jeu de données en fonction\n",
        "   de la valeur 'value' de la variable qualitative 'feature' passé en paramètre\n",
        "   INPUT \n",
        "    - feature : integer correspondant à la variable à séparer\n",
        "    - value : integer correspond à la valeur à laquelle séparer notre jeu de données\n",
        "    - dataset : pandas dataframe à séparer\n",
        "   OUTPUT \n",
        "    - left : dataframe avec les données où 'feature' est égale 'value'\n",
        "    - right : dataframe avec les données où 'feature' est différent 'value'\n",
        "   \"\"\"\n",
        "   \n",
        "   left = dataset[dataset.loc[:,feature]== value]\n",
        "   right = dataset[dataset.loc[:,feature]!= value]\n",
        "\n",
        "   return left, right\n",
        "\n",
        "\n",
        "  def __mse__(self, dataset):\n",
        "      \"\"\"Calcul l'erreur moyenne au carré entre la moyenne du dataset\n",
        "      et la valeur réelle y\n",
        "      INPUT \n",
        "        - dataset : dataset à utiliser\n",
        "      OUTPUT \n",
        "        - mse : erreur moyenne au carré du dataset\n",
        "      \"\"\"\n",
        "      rows = dataset[self.target]\n",
        "      pred = np.ones(rows.shape[0]) * np.mean(rows)\n",
        "      mse = (1/len(rows)) *np.sum((rows - pred)**2)\n",
        "      return mse \n",
        "\n",
        "  def __split_evaluator__(self, left_dataset, right_dataset):\n",
        "    \"\"\" Calculer le coût d'une séparation d'un noeud en deux branches\n",
        "    INPUT \n",
        "       - left_dataset : dataset de la branche de gauche\n",
        "       - right_dataset : dataset de la branche de droite\n",
        "    OUTPUT \n",
        "       - cost : coût de la séparation\"\"\"\n",
        "    left_eval = self.__mse__(left_dataset)\n",
        "    nb_left = left_dataset.shape[0]\n",
        "    right_eval = self.__mse__(right_dataset)\n",
        "    nb_right = right_dataset.shape[0]\n",
        "    nb_tot = nb_left + nb_right\n",
        "    cost = nb_left/nb_tot * left_eval + nb_right/nb_tot * right_eval\n",
        "    return cost \n",
        "\n",
        "  def __test_quali__(self, dataset, feature):\n",
        "    \"\"\" Tester toutes les séparations possibles d'une variable qualitative\n",
        "    INPUT \n",
        "       - dataset : dataset à évaluer\n",
        "       - feature : variable du dataset à évaluer\n",
        "    OUTPUT \n",
        "       - df_eval : dataframe contenant le coût de chaque séparation\"\"\"   \n",
        "\n",
        "    df_eval = pd.DataFrame([], columns=('feature', 'value', 'nature', 'cost'))\n",
        "    for value in dataset.loc[:, feature].unique() :\n",
        "      left, right = self.__quali_split__(feature, value, dataset)\n",
        "      cost_result = self.__split_evaluator__(left, right)\n",
        "      df_eval = df_eval.append(pd.DataFrame([[feature, \n",
        "                                              value,\n",
        "                                              'quali',\n",
        "                                              cost_result]],\n",
        "                                            columns=('feature', 'value', 'nature', 'cost')))\n",
        "    return df_eval\n",
        "\n",
        "\n",
        "  def __test_quanti__(self, dataset, feature):\n",
        "    \"\"\" Tester toutes les séparations possibles d'une variable quantitative\n",
        "    INPUT \n",
        "       - dataset : dataset à évaluer\n",
        "       - feature : variable du dataset à évaluer\n",
        "    OUTPUT \n",
        "       - df_eval : dataframe contenant le coût de chaque séparation\"\"\" \n",
        "\n",
        "    df_eval = pd.DataFrame([], columns=('feature', 'value', 'nature', 'cost'))\n",
        "    value_to_test = (dataset.loc[:, feature].sort_values()[1:].values + dataset.loc[:, feature].sort_values()[:-1].values)/2\n",
        "    for value in value_to_test :\n",
        "      left, right = self.__quanti_split__(feature, value, dataset)\n",
        "      cost_result = self.__split_evaluator__(left, right)\n",
        "      df_eval = df_eval.append(pd.DataFrame([[feature, \n",
        "                                              value,\n",
        "                                              'quanti',\n",
        "                                              cost_result]],\n",
        "                                            columns=('feature', 'value', 'nature', 'cost')))\n",
        "    return df_eval"
      ],
      "execution_count": 0,
      "outputs": []
    },
    {
      "cell_type": "markdown",
      "metadata": {
        "id": "KQ3XoSzsX8KO",
        "colab_type": "text"
      },
      "source": [
        "Deux exemples pour vérifier notre nouvelle fonction."
      ]
    },
    {
      "cell_type": "code",
      "metadata": {
        "id": "4eO7GsffYAWq",
        "colab_type": "code",
        "outputId": "90740a34-05ba-43e1-b527-afb13889f24e",
        "colab": {
          "base_uri": "https://localhost:8080/",
          "height": 111
        }
      },
      "source": [
        "tree = decision_tree_regressor('prix', dataframe, 4)\n",
        "tree.__test_quali__(dataframe, 'garage')"
      ],
      "execution_count": 0,
      "outputs": [
        {
          "output_type": "execute_result",
          "data": {
            "text/html": [
              "<div>\n",
              "<style scoped>\n",
              "    .dataframe tbody tr th:only-of-type {\n",
              "        vertical-align: middle;\n",
              "    }\n",
              "\n",
              "    .dataframe tbody tr th {\n",
              "        vertical-align: top;\n",
              "    }\n",
              "\n",
              "    .dataframe thead th {\n",
              "        text-align: right;\n",
              "    }\n",
              "</style>\n",
              "<table border=\"1\" class=\"dataframe\">\n",
              "  <thead>\n",
              "    <tr style=\"text-align: right;\">\n",
              "      <th></th>\n",
              "      <th>feature</th>\n",
              "      <th>value</th>\n",
              "      <th>nature</th>\n",
              "      <th>cost</th>\n",
              "    </tr>\n",
              "  </thead>\n",
              "  <tbody>\n",
              "    <tr>\n",
              "      <th>0</th>\n",
              "      <td>garage</td>\n",
              "      <td>1</td>\n",
              "      <td>quali</td>\n",
              "      <td>1.521238e+09</td>\n",
              "    </tr>\n",
              "    <tr>\n",
              "      <th>0</th>\n",
              "      <td>garage</td>\n",
              "      <td>0</td>\n",
              "      <td>quali</td>\n",
              "      <td>1.521238e+09</td>\n",
              "    </tr>\n",
              "  </tbody>\n",
              "</table>\n",
              "</div>"
            ],
            "text/plain": [
              "  feature value nature          cost\n",
              "0  garage     1  quali  1.521238e+09\n",
              "0  garage     0  quali  1.521238e+09"
            ]
          },
          "metadata": {
            "tags": []
          },
          "execution_count": 32
        }
      ]
    },
    {
      "cell_type": "code",
      "metadata": {
        "id": "D7e9GDoKLVrm",
        "colab_type": "code",
        "outputId": "93537ecb-4e58-4c75-ed2f-eae65f6470a8",
        "colab": {
          "base_uri": "https://localhost:8080/",
          "height": 390
        }
      },
      "source": [
        "tree = decision_tree_regressor('prix', dataframe, 4)\n",
        "tree.__test_quanti__(dataframe, 'surface')"
      ],
      "execution_count": 0,
      "outputs": [
        {
          "output_type": "execute_result",
          "data": {
            "text/html": [
              "<div>\n",
              "<style scoped>\n",
              "    .dataframe tbody tr th:only-of-type {\n",
              "        vertical-align: middle;\n",
              "    }\n",
              "\n",
              "    .dataframe tbody tr th {\n",
              "        vertical-align: top;\n",
              "    }\n",
              "\n",
              "    .dataframe thead th {\n",
              "        text-align: right;\n",
              "    }\n",
              "</style>\n",
              "<table border=\"1\" class=\"dataframe\">\n",
              "  <thead>\n",
              "    <tr style=\"text-align: right;\">\n",
              "      <th></th>\n",
              "      <th>feature</th>\n",
              "      <th>value</th>\n",
              "      <th>nature</th>\n",
              "      <th>cost</th>\n",
              "    </tr>\n",
              "  </thead>\n",
              "  <tbody>\n",
              "    <tr>\n",
              "      <th>0</th>\n",
              "      <td>surface</td>\n",
              "      <td>39.0</td>\n",
              "      <td>quanti</td>\n",
              "      <td>1.327576e+09</td>\n",
              "    </tr>\n",
              "    <tr>\n",
              "      <th>0</th>\n",
              "      <td>surface</td>\n",
              "      <td>40.0</td>\n",
              "      <td>quanti</td>\n",
              "      <td>7.369630e+08</td>\n",
              "    </tr>\n",
              "    <tr>\n",
              "      <th>0</th>\n",
              "      <td>surface</td>\n",
              "      <td>45.0</td>\n",
              "      <td>quanti</td>\n",
              "      <td>7.369630e+08</td>\n",
              "    </tr>\n",
              "    <tr>\n",
              "      <th>0</th>\n",
              "      <td>surface</td>\n",
              "      <td>52.0</td>\n",
              "      <td>quanti</td>\n",
              "      <td>7.315417e+08</td>\n",
              "    </tr>\n",
              "    <tr>\n",
              "      <th>0</th>\n",
              "      <td>surface</td>\n",
              "      <td>54.5</td>\n",
              "      <td>quanti</td>\n",
              "      <td>5.612381e+08</td>\n",
              "    </tr>\n",
              "    <tr>\n",
              "      <th>0</th>\n",
              "      <td>surface</td>\n",
              "      <td>58.5</td>\n",
              "      <td>quanti</td>\n",
              "      <td>5.472222e+08</td>\n",
              "    </tr>\n",
              "    <tr>\n",
              "      <th>0</th>\n",
              "      <td>surface</td>\n",
              "      <td>64.5</td>\n",
              "      <td>quanti</td>\n",
              "      <td>3.565524e+08</td>\n",
              "    </tr>\n",
              "    <tr>\n",
              "      <th>0</th>\n",
              "      <td>surface</td>\n",
              "      <td>67.5</td>\n",
              "      <td>quanti</td>\n",
              "      <td>4.406667e+08</td>\n",
              "    </tr>\n",
              "    <tr>\n",
              "      <th>0</th>\n",
              "      <td>surface</td>\n",
              "      <td>69.0</td>\n",
              "      <td>quanti</td>\n",
              "      <td>7.814074e+08</td>\n",
              "    </tr>\n",
              "    <tr>\n",
              "      <th>0</th>\n",
              "      <td>surface</td>\n",
              "      <td>71.0</td>\n",
              "      <td>quanti</td>\n",
              "      <td>1.256467e+09</td>\n",
              "    </tr>\n",
              "    <tr>\n",
              "      <th>0</th>\n",
              "      <td>surface</td>\n",
              "      <td>75.5</td>\n",
              "      <td>quanti</td>\n",
              "      <td>1.474848e+09</td>\n",
              "    </tr>\n",
              "  </tbody>\n",
              "</table>\n",
              "</div>"
            ],
            "text/plain": [
              "   feature  value  nature          cost\n",
              "0  surface   39.0  quanti  1.327576e+09\n",
              "0  surface   40.0  quanti  7.369630e+08\n",
              "0  surface   45.0  quanti  7.369630e+08\n",
              "0  surface   52.0  quanti  7.315417e+08\n",
              "0  surface   54.5  quanti  5.612381e+08\n",
              "0  surface   58.5  quanti  5.472222e+08\n",
              "0  surface   64.5  quanti  3.565524e+08\n",
              "0  surface   67.5  quanti  4.406667e+08\n",
              "0  surface   69.0  quanti  7.814074e+08\n",
              "0  surface   71.0  quanti  1.256467e+09\n",
              "0  surface   75.5  quanti  1.474848e+09"
            ]
          },
          "metadata": {
            "tags": []
          },
          "execution_count": 33
        }
      ]
    },
    {
      "cell_type": "markdown",
      "metadata": {
        "id": "IAtJJRhOYaQR",
        "colab_type": "text"
      },
      "source": [
        "Utilisons nos nouvelles fonctions afin de déterminer la meilleure séparation de notre dataset."
      ]
    },
    {
      "cell_type": "code",
      "metadata": {
        "id": "I3qWlxbFYgTU",
        "colab_type": "code",
        "colab": {}
      },
      "source": [
        "class decision_tree_regressor :\n",
        "  \"\"\" Cette classe a pour but de créer un algorithme d'apprentissage automatique\n",
        "  d'arbres de décision regresseur\"\"\"\n",
        "\n",
        "  def __init__(self, target, dataframe, max_depth):\n",
        "    \"\"\"Cette fonction a pour but d'initialiser les variables essentiel à la \n",
        "    construction de notre algorithme.\n",
        "   INPUT \n",
        "    - target : la variable cible qu'il faudra classifier\n",
        "    - dataframe : les données d'apprentissage\n",
        "    - max_deapth : la profondeur maximal de l'arbre à entraîner\n",
        "   \"\"\"\n",
        "    self.max_depth = max_depth\n",
        "    self.target = target\n",
        "    self.dataframe = dataframe\n",
        "\n",
        "  def __quanti_split__(self, feature, value, dataset):\n",
        "   \"\"\"Cette fonction split un jeu de données en fonction\n",
        "   de la valeur 'value' de la variable quantitative 'feature' passé en paramètre\n",
        "   INPUT \n",
        "    - feature : integer correspondant à la variable à séparer\n",
        "    - value : integer correspond à la valeur à laquelle séparer notre jeu de données\n",
        "    - dataset : pandas dataframe à séparer\n",
        "   OUTPUT \n",
        "    - left : dataframe avec les données où 'feature' est plus petit ou égale à 'value'\n",
        "    - right : dataframe avec les données où 'feature' est plus grande que 'value' \n",
        "   \"\"\"\n",
        "   \n",
        "   left = dataset[dataset.loc[:,feature]<= value]\n",
        "   right = dataset[dataset.loc[:,feature]> value]\n",
        "\n",
        "   return left, right\n",
        "\n",
        "  def __quali_split__(self, feature, value, dataset):\n",
        "   \"\"\"Cette fonction split un jeu de données en fonction\n",
        "   de la valeur 'value' de la variable qualitative 'feature' passé en paramètre\n",
        "   INPUT \n",
        "    - feature : integer correspondant à la variable à séparer\n",
        "    - value : integer correspond à la valeur à laquelle séparer notre jeu de données\n",
        "    - dataset : pandas dataframe à séparer\n",
        "   OUTPUT \n",
        "    - left : dataframe avec les données où 'feature' est égale 'value'\n",
        "    - right : dataframe avec les données où 'feature' est différent 'value'\n",
        "   \"\"\"\n",
        "   \n",
        "   left = dataset[dataset.loc[:,feature]== value]\n",
        "   right = dataset[dataset.loc[:,feature]!= value]\n",
        "\n",
        "   return left, right\n",
        "\n",
        "\n",
        "  def __mse__(self, dataset):\n",
        "      \"\"\"Calcul l'erreur moyenne au carré entre la moyenne du dataset\n",
        "      et la valeur réelle y\n",
        "      INPUT \n",
        "        - dataset : dataset à utiliser\n",
        "      OUTPUT \n",
        "        - mse : erreur moyenne au carré du dataset\n",
        "      \"\"\"\n",
        "      rows = dataset[self.target]\n",
        "      pred = np.ones(rows.shape[0]) * np.mean(rows)\n",
        "      mse = (1/len(rows)) *np.sum((rows - pred)**2)\n",
        "      return mse \n",
        "\n",
        "  def __split_evaluator__(self, left_dataset, right_dataset):\n",
        "    \"\"\" Calculer le coût d'une séparation d'un noeud en deux branches\n",
        "    INPUT \n",
        "       - left_dataset : dataset de la branche de gauche\n",
        "       - right_dataset : dataset de la branche de droite\n",
        "    OUTPUT \n",
        "       - cost : coût de la séparation\"\"\"\n",
        "    left_eval = self.__mse__(left_dataset)\n",
        "    nb_left = left_dataset.shape[0]\n",
        "    right_eval = self.__mse__(right_dataset)\n",
        "    nb_right = right_dataset.shape[0]\n",
        "    nb_tot = nb_left + nb_right\n",
        "    cost = nb_left/nb_tot * left_eval + nb_right/nb_tot * right_eval\n",
        "    return cost \n",
        "\n",
        "  def __test_quali__(self, dataset, feature):\n",
        "    \"\"\" Tester toutes les séparations possibles d'une variable qualitative\n",
        "    INPUT \n",
        "       - dataset : dataset à évaluer\n",
        "       - feature : variable du dataset à évaluer\n",
        "    OUTPUT \n",
        "       - df_eval : dataframe contenant le coût de chaque séparation\"\"\"   \n",
        "\n",
        "    df_eval = pd.DataFrame([], columns=('feature', 'value', 'nature', 'cost'))\n",
        "    for value in dataset.loc[:, feature].unique() :\n",
        "      left, right = self.__quali_split__(feature, value, dataset)\n",
        "      cost_result = self.__split_evaluator__(left, right)\n",
        "      df_eval = df_eval.append(pd.DataFrame([[feature, \n",
        "                                              value,\n",
        "                                              'quali',\n",
        "                                              cost_result]],\n",
        "                                            columns=('feature', 'value', 'nature', 'cost')))\n",
        "    return df_eval\n",
        "\n",
        "\n",
        "  def __test_quanti__(self, dataset, feature):\n",
        "    \"\"\" Tester toutes les séparations possibles d'une variable quantitative\n",
        "    INPUT \n",
        "       - dataset : dataset à évaluer\n",
        "       - feature : variable du dataset à évaluer\n",
        "    OUTPUT \n",
        "       - df_eval : dataframe contenant le coût de chaque séparation\"\"\" \n",
        "\n",
        "    df_eval = pd.DataFrame([], columns=('feature', 'value', 'nature', 'cost'))\n",
        "    value_to_test = (dataset.loc[:, feature].sort_values()[1:].values + dataset.loc[:, feature].sort_values()[:-1].values)/2\n",
        "    for value in value_to_test :\n",
        "      left, right = self.__quanti_split__(feature, value, dataset)\n",
        "      cost_result = self.__split_evaluator__(left, right)\n",
        "      df_eval = df_eval.append(pd.DataFrame([[feature, \n",
        "                                              value,\n",
        "                                              'quanti',\n",
        "                                              cost_result]],\n",
        "                                            columns=('feature', 'value', 'nature', 'cost')))\n",
        "    return df_eval\n",
        "\n",
        "\n",
        "  def __find_best_split__(self, dataset):\n",
        "    \"\"\" Trouver la meilleure séparation de notre jeu de données\n",
        "    INPUT \n",
        "       - dataset : jeu de données à séparer\n",
        "    OUTPUT \n",
        "       - def_eval : dataset contenant 'feature' variable à séparer, 'value' \n",
        "       la valeur à laquelle séparer la variable, 'nature' la nature de la \n",
        "       variable et 'cost' le coût de cette séparation\"\"\"\n",
        "    df_eval = pd.DataFrame([], columns=('feature', 'value', 'nature', 'cost'))\n",
        "    columns = dataset.columns[np.logical_not(dataset.columns == self.target)]\n",
        "    for column in columns : \n",
        "      if len(dataset[column].unique()) >= 5 :\n",
        "        df_eval = df_eval.append(self.__test_quanti__(dataset, column))\n",
        "      elif len(dataset[column].unique()) > 1 :\n",
        "        df_eval = df_eval.append(self.__test_quali__(dataset, column))\n",
        "\n",
        "    df_eval = df_eval.reset_index(drop=True)\n",
        "\n",
        "    idx_cost_min = df_eval['cost'].idxmin(axis=0, skipna=True)\n",
        "\n",
        "    return df_eval.iloc[idx_cost_min, :]"
      ],
      "execution_count": 0,
      "outputs": []
    },
    {
      "cell_type": "markdown",
      "metadata": {
        "id": "VS_DwCQ5ZJXz",
        "colab_type": "text"
      },
      "source": [
        "Un exemple, pour vérifier si notre fonction est opérationnelle. "
      ]
    },
    {
      "cell_type": "code",
      "metadata": {
        "id": "uZKNVnzYZKTr",
        "colab_type": "code",
        "outputId": "3b5ef91a-9861-4c7b-9745-5f89cf27e683",
        "colab": {
          "base_uri": "https://localhost:8080/",
          "height": 102
        }
      },
      "source": [
        "tree = decision_tree_regressor('prix', dataframe, 4)\n",
        "tree.__find_best_split__(dataframe)"
      ],
      "execution_count": 0,
      "outputs": [
        {
          "output_type": "execute_result",
          "data": {
            "text/plain": [
              "feature        surface\n",
              "value             64.5\n",
              "nature          quanti\n",
              "cost       3.56552e+08\n",
              "Name: 6, dtype: object"
            ]
          },
          "metadata": {
            "tags": []
          },
          "execution_count": 38
        }
      ]
    },
    {
      "cell_type": "markdown",
      "metadata": {
        "id": "mFZeuSRBdMzN",
        "colab_type": "text"
      },
      "source": [
        "## Les branches\n",
        "\n",
        "Nous avons rassemblé quasiment toutes les fonctions nécessaires pour créer notre algorithme d'arbre de décision. Il nous manque cependant la création de branches qui constitue le corps de notre arbre. Nous allons représenter nos branches sous forme de classe.  "
      ]
    },
    {
      "cell_type": "code",
      "metadata": {
        "id": "7PL59NendXIL",
        "colab_type": "code",
        "colab": {}
      },
      "source": [
        "class node:\n",
        "   \"\"\"Cette classe a pour but de représenter les branches de notre arbre de\n",
        "   regression.\n",
        "   \"\"\"   \n",
        "   def __init__(self, feature, value, cost, nature, left_branch, right_branch, depth, pop):\n",
        "      self.feature = feature\n",
        "      self.value = value\n",
        "      self.nature = nature\n",
        "      self.left_branch = left_branch\n",
        "      self.right_branch = right_branch\n",
        "      self.depth = depth\n",
        "      self.pop = pop  \n",
        "       \n",
        "   def __split__(self):\n",
        "      if self.nature == 'quanti' :\n",
        "          return self.feature + ' <= ' + str(self.value)\n",
        "      elif self.nature == 'quali' :\n",
        "          return self.feature + ' == ' + str(self.value)"
      ],
      "execution_count": 0,
      "outputs": []
    },
    {
      "cell_type": "markdown",
      "metadata": {
        "id": "225twdvCeBxI",
        "colab_type": "text"
      },
      "source": [
        "Un exemple pour vérifier que notre classe conserve les informations dont nous avons besoin."
      ]
    },
    {
      "cell_type": "code",
      "metadata": {
        "id": "gYjKTGiIeJsl",
        "colab_type": "code",
        "outputId": "dc85fc13-55d4-4631-f5d4-c8b5e4070364",
        "colab": {
          "base_uri": "https://localhost:8080/",
          "height": 34
        }
      },
      "source": [
        "tree = decision_tree_regressor('prix', dataframe, 4)\n",
        "feature, value, nature, cost = tree.__find_best_split__(dataframe)\n",
        "left_branch, right_branch = tree.__quali_split__(feature, value, dataframe)\n",
        "branch = node(feature, value, cost, nature, left_branch, right_branch, 0, 100)\n",
        "\n",
        "print(branch.__split__())"
      ],
      "execution_count": 0,
      "outputs": [
        {
          "output_type": "stream",
          "text": [
            "surface <= 64.5\n"
          ],
          "name": "stdout"
        }
      ]
    },
    {
      "cell_type": "markdown",
      "metadata": {
        "id": "e_48K4EkZorU",
        "colab_type": "text"
      },
      "source": [
        "## Les feuilles \n",
        "\n",
        "Nous avons rassemblé quasiment toutes les fonctions nécessaires pour créer notre algorithme d'arbre de décision. Il nous manque cependant la création de feuille. Nous allons représenter nos feuilles sous forme de classe. "
      ]
    },
    {
      "cell_type": "code",
      "metadata": {
        "id": "A08Z80iQZ80O",
        "colab_type": "code",
        "colab": {}
      },
      "source": [
        "class decision_tree_regressor :\n",
        "  \"\"\" Cette classe a pour but de créer un algorithme d'apprentissage automatique\n",
        "  d'arbres de décision regresseur\"\"\"\n",
        "\n",
        "  def __init__(self, target, dataframe, max_depth):\n",
        "    \"\"\"Cette fonction a pour but d'initialiser les variables essentiel à la \n",
        "    construction de notre algorithme.\n",
        "   INPUT \n",
        "    - target : la variable cible qu'il faudra classifier\n",
        "    - dataframe : les données d'apprentissage\n",
        "    - max_deapth : la profondeur maximal de l'arbre à entraîner\n",
        "   \"\"\"\n",
        "    self.max_depth = max_depth\n",
        "    self.target = target\n",
        "    self.dataframe = dataframe\n",
        "\n",
        "  def __quanti_split__(self, feature, value, dataset):\n",
        "   \"\"\"Cette fonction split un jeu de données en fonction\n",
        "   de la valeur 'value' de la variable quantitative 'feature' passé en paramètre\n",
        "   INPUT \n",
        "    - feature : integer correspondant à la variable à séparer\n",
        "    - value : integer correspond à la valeur à laquelle séparer notre jeu de données\n",
        "    - dataset : pandas dataframe à séparer\n",
        "   OUTPUT \n",
        "    - left : dataframe avec les données où 'feature' est plus petit ou égale à 'value'\n",
        "    - right : dataframe avec les données où 'feature' est plus grande que 'value' \n",
        "   \"\"\"\n",
        "   \n",
        "   left = dataset[dataset.loc[:,feature]<= value]\n",
        "   right = dataset[dataset.loc[:,feature]> value]\n",
        "\n",
        "   return left, right\n",
        "\n",
        "  def __quali_split__(self, feature, value, dataset):\n",
        "   \"\"\"Cette fonction split un jeu de données en fonction\n",
        "   de la valeur 'value' de la variable qualitative 'feature' passé en paramètre\n",
        "   INPUT \n",
        "    - feature : integer correspondant à la variable à séparer\n",
        "    - value : integer correspond à la valeur à laquelle séparer notre jeu de données\n",
        "    - dataset : pandas dataframe à séparer\n",
        "   OUTPUT \n",
        "    - left : dataframe avec les données où 'feature' est égale 'value'\n",
        "    - right : dataframe avec les données où 'feature' est différent 'value'\n",
        "   \"\"\"\n",
        "   \n",
        "   left = dataset[dataset.loc[:,feature]== value]\n",
        "   right = dataset[dataset.loc[:,feature]!= value]\n",
        "\n",
        "   return left, right\n",
        "\n",
        "  def __mse__(self, dataset):\n",
        "      \"\"\"Calcul l'erreur moyenne au carré entre la moyenne du dataset\n",
        "      et la valeur réelle y\n",
        "      INPUT \n",
        "        - dataset : dataset à utiliser\n",
        "      OUTPUT \n",
        "        - mse : erreur moyenne au carré du dataset\n",
        "      \"\"\"\n",
        "      rows = dataset[self.target]\n",
        "      pred = np.ones(rows.shape[0]) * np.mean(rows)\n",
        "      mse = (1/len(rows)) *np.sum((rows - pred)**2)\n",
        "      return mse \n",
        "\n",
        "  def __split_evaluator__(self, left_dataset, right_dataset):\n",
        "    \"\"\" Calculer le coût d'une séparation d'un noeud en deux branches\n",
        "    INPUT \n",
        "       - left_dataset : dataset de la branche de gauche\n",
        "       - right_dataset : dataset de la branche de droite\n",
        "    OUTPUT \n",
        "       - cost : coût de la séparation\"\"\"\n",
        "    left_eval = self.__mse__(left_dataset)\n",
        "    nb_left = left_dataset.shape[0]\n",
        "    right_eval = self.__mse__(right_dataset)\n",
        "    nb_right = right_dataset.shape[0]\n",
        "    nb_tot = nb_left + nb_right\n",
        "    cost = nb_left/nb_tot * left_eval + nb_right/nb_tot * right_eval\n",
        "    return cost \n",
        "\n",
        "  def __test_quali__(self, dataset, feature):\n",
        "    \"\"\" Tester toutes les séparations possibles d'une variable qualitative\n",
        "    INPUT \n",
        "       - dataset : dataset à évaluer\n",
        "       - feature : variable du dataset à évaluer\n",
        "    OUTPUT \n",
        "       - df_eval : dataframe contenant le coût de chaque séparation\"\"\"   \n",
        "\n",
        "    df_eval = pd.DataFrame([], columns=('feature', 'value', 'nature', 'cost'))\n",
        "    for value in dataset.loc[:, feature].unique() :\n",
        "      left, right = self.__quali_split__(feature, value, dataset)\n",
        "      cost_result = self.__split_evaluator__(left, right)\n",
        "      df_eval = df_eval.append(pd.DataFrame([[feature, \n",
        "                                              value,\n",
        "                                              'quali',\n",
        "                                              cost_result]],\n",
        "                                            columns=('feature', 'value', 'nature', 'cost')))\n",
        "    return df_eval\n",
        "\n",
        "\n",
        "  def __test_quanti__(self, dataset, feature):\n",
        "    \"\"\" Tester toutes les séparations possibles d'une variable quantitative\n",
        "    INPUT \n",
        "       - dataset : dataset à évaluer\n",
        "       - feature : variable du dataset à évaluer\n",
        "    OUTPUT \n",
        "       - df_eval : dataframe contenant le coût de chaque séparation\"\"\" \n",
        "\n",
        "    df_eval = pd.DataFrame([], columns=('feature', 'value', 'nature', 'cost'))\n",
        "    value_to_test = (dataset.loc[:, feature].sort_values()[1:].values + dataset.loc[:, feature].sort_values()[:-1].values)/2\n",
        "    for value in value_to_test :\n",
        "      left, right = self.__quanti_split__(feature, value, dataset)\n",
        "      cost_result = self.__split_evaluator__(left, right)\n",
        "      df_eval = df_eval.append(pd.DataFrame([[feature, \n",
        "                                              value,\n",
        "                                              'quanti',\n",
        "                                              cost_result]],\n",
        "                                            columns=('feature', 'value', 'nature', 'cost')))\n",
        "    return df_eval\n",
        "\n",
        "\n",
        "  def __find_best_split__(self, dataset):\n",
        "    \"\"\" Trouver la meilleure séparation de notre jeu de données\n",
        "    INPUT \n",
        "       - dataset : jeu de données à séparer\n",
        "    OUTPUT \n",
        "       - def_eval : dataset contenant 'feature' variable à séparer, 'value' \n",
        "       la valeur à laquelle séparer la variable, 'nature' la nature de la \n",
        "       variable et 'cost' le coût de cette séparation\"\"\"\n",
        "    df_eval = pd.DataFrame([], columns=('feature', 'value', 'nature', 'cost'))\n",
        "    columns = dataset.columns[np.logical_not(dataset.columns == self.target)]\n",
        "    for column in columns : \n",
        "      if len(dataset[column].unique()) >= 5 :\n",
        "        df_eval = df_eval.append(self.__test_quanti__(dataset, column))\n",
        "      elif len(dataset[column].unique()) > 1 :\n",
        "        df_eval = df_eval.append(self.__test_quali__(dataset, column))\n",
        "\n",
        "    df_eval = df_eval.reset_index(drop=True)\n",
        "\n",
        "    idx_cost_min = df_eval['cost'].idxmin(axis=0, skipna=True)\n",
        "\n",
        "    return df_eval.iloc[idx_cost_min, :]\n",
        "\n",
        "  def create_leaf(self, dataset):\n",
        "    \"\"\" Création d'une feuille \n",
        "    INPUT \n",
        "       - dataset : dataset de la feuille à construire\n",
        "    OUTPUT \n",
        "       - leaf : la classe feuille créée avec les informations de notre dataset\"\"\"\n",
        "\n",
        "    labels = dataset[self.target]\n",
        "    pop = labels.shape[0]\n",
        "    prediction = np.mean(labels)\n",
        "  \n",
        "    return leaf(dataset, pop, prediction)\n",
        "\n",
        "class leaf:\n",
        "  \"\"\"Cette classe a pour but de représenter les feuilles de notre arbre de\n",
        "  regression.\n",
        "  \"\"\"\n",
        "  def __init__(self, dataset, pop, prediction):\n",
        "    self.dataset = dataset\n",
        "    self.pop = pop\n",
        "    self.prediction = prediction"
      ],
      "execution_count": 0,
      "outputs": []
    },
    {
      "cell_type": "markdown",
      "metadata": {
        "id": "sbqWu9WAbwAs",
        "colab_type": "text"
      },
      "source": [
        "Un exemple pour vérifier que notre classe conserve les informations dont nous avons besoin."
      ]
    },
    {
      "cell_type": "code",
      "metadata": {
        "id": "t0PzfL9gbwuj",
        "colab_type": "code",
        "outputId": "16201f56-02b1-4c61-d6db-e6e2758f6a91",
        "colab": {
          "base_uri": "https://localhost:8080/",
          "height": 51
        }
      },
      "source": [
        "tree = decision_tree_regressor('prix', dataframe, 4)\n",
        "leaf_reg = tree.create_leaf(dataframe)\n",
        "print(leaf_reg.prediction)\n",
        "print(leaf_reg.pop)"
      ],
      "execution_count": 0,
      "outputs": [
        {
          "output_type": "stream",
          "text": [
            "154000.0\n",
            "12\n"
          ],
          "name": "stdout"
        }
      ]
    },
    {
      "cell_type": "markdown",
      "metadata": {
        "id": "DgvGANbAc_qh",
        "colab_type": "text"
      },
      "source": [
        "## Entraînement\n",
        "\n",
        "Maintenant que nous avons créé toutes nos fonctions et nos classes, on peut passer à l'implémentation de notre fonction d'entraînement."
      ]
    },
    {
      "cell_type": "code",
      "metadata": {
        "id": "LHGmzlBEgv8v",
        "colab_type": "code",
        "colab": {}
      },
      "source": [
        "class decision_tree_regressor :\n",
        "  \"\"\" Cette classe a pour but de créer un algorithme d'apprentissage automatique\n",
        "  d'arbres de décision regresseur\"\"\"\n",
        "\n",
        "  def __init__(self, target, dataframe, max_depth):\n",
        "    \"\"\"Cette fonction a pour but d'initialiser les variables essentiel à la \n",
        "    construction de notre algorithme.\n",
        "   INPUT \n",
        "    - target : la variable cible qu'il faudra classifier\n",
        "    - dataframe : les données d'apprentissage\n",
        "    - max_deapth : la profondeur maximal de l'arbre à entraîner\n",
        "   \"\"\"\n",
        "    self.max_depth = max_depth\n",
        "    self.target = target\n",
        "    self.dataframe = dataframe\n",
        "\n",
        "  def __quanti_split__(self, feature, value, dataset):\n",
        "   \"\"\"Cette fonction split un jeu de données en fonction\n",
        "   de la valeur 'value' de la variable quantitative 'feature' passé en paramètre\n",
        "   INPUT \n",
        "    - feature : integer correspondant à la variable à séparer\n",
        "    - value : integer correspond à la valeur à laquelle séparer notre jeu de données\n",
        "    - dataset : pandas dataframe à séparer\n",
        "   OUTPUT \n",
        "    - left : dataframe avec les données où 'feature' est plus petit ou égale à 'value'\n",
        "    - right : dataframe avec les données où 'feature' est plus grande que 'value' \n",
        "   \"\"\"\n",
        "   \n",
        "   left = dataset[dataset.loc[:,feature]<= value]\n",
        "   right = dataset[dataset.loc[:,feature]> value]\n",
        "\n",
        "   return left, right\n",
        "\n",
        "  def __quali_split__(self, feature, value, dataset):\n",
        "   \"\"\"Cette fonction split un jeu de données en fonction\n",
        "   de la valeur 'value' de la variable qualitative 'feature' passé en paramètre\n",
        "   INPUT \n",
        "    - feature : integer correspondant à la variable à séparer\n",
        "    - value : integer correspond à la valeur à laquelle séparer notre jeu de données\n",
        "    - dataset : pandas dataframe à séparer\n",
        "   OUTPUT \n",
        "    - left : dataframe avec les données où 'feature' est égale 'value'\n",
        "    - right : dataframe avec les données où 'feature' est différent 'value'\n",
        "   \"\"\"\n",
        "   \n",
        "   left = dataset[dataset.loc[:,feature]== value]\n",
        "   right = dataset[dataset.loc[:,feature]!= value]\n",
        "\n",
        "   return left, right\n",
        "\n",
        "  def __mse__(self, dataset):\n",
        "      \"\"\"Calcul l'erreur moyenne au carré entre la moyenne du dataset\n",
        "      et la valeur réelle y\n",
        "      INPUT \n",
        "        - dataset : dataset à utiliser\n",
        "      OUTPUT \n",
        "        - mse : erreur moyenne au carré du dataset\n",
        "      \"\"\"\n",
        "      rows = dataset[self.target]\n",
        "      pred = np.ones(rows.shape[0]) * np.mean(rows)\n",
        "      mse = (1/len(rows)) *np.sum((rows - pred)**2)\n",
        "      return mse \n",
        "\n",
        "  def __split_evaluator__(self, left_dataset, right_dataset):\n",
        "    \"\"\" Calculer le coût d'une séparation d'un noeud en deux branches\n",
        "    INPUT \n",
        "       - left_dataset : dataset de la branche de gauche\n",
        "       - right_dataset : dataset de la branche de droite\n",
        "    OUTPUT \n",
        "       - cost : coût de la séparation\"\"\"\n",
        "    left_eval = self.__mse__(left_dataset)\n",
        "    nb_left = left_dataset.shape[0]\n",
        "    right_eval = self.__mse__(right_dataset)\n",
        "    nb_right = right_dataset.shape[0]\n",
        "    nb_tot = nb_left + nb_right\n",
        "    cost = nb_left/nb_tot * left_eval + nb_right/nb_tot * right_eval\n",
        "    return cost \n",
        "\n",
        "  def __test_quali__(self, dataset, feature):\n",
        "    \"\"\" Tester toutes les séparations possibles d'une variable qualitative\n",
        "    INPUT \n",
        "       - dataset : dataset à évaluer\n",
        "       - feature : variable du dataset à évaluer\n",
        "    OUTPUT \n",
        "       - df_eval : dataframe contenant le coût de chaque séparation\"\"\"   \n",
        "\n",
        "    df_eval = pd.DataFrame([], columns=('feature', 'value', 'nature', 'cost'))\n",
        "    for value in dataset.loc[:, feature].unique() :\n",
        "      left, right = self.__quali_split__(feature, value, dataset)\n",
        "      cost_result = self.__split_evaluator__(left, right)\n",
        "      df_eval = df_eval.append(pd.DataFrame([[feature, \n",
        "                                              value,\n",
        "                                              'quali',\n",
        "                                              cost_result]],\n",
        "                                            columns=('feature', 'value', 'nature', 'cost')))\n",
        "    return df_eval\n",
        "\n",
        "\n",
        "  def __test_quanti__(self, dataset, feature):\n",
        "    \"\"\" Tester toutes les séparations possibles d'une variable quantitative\n",
        "    INPUT \n",
        "       - dataset : dataset à évaluer\n",
        "       - feature : variable du dataset à évaluer\n",
        "    OUTPUT \n",
        "       - df_eval : dataframe contenant le coût de chaque séparation\"\"\" \n",
        "\n",
        "    df_eval = pd.DataFrame([], columns=('feature', 'value', 'nature', 'cost'))\n",
        "    value_to_test = (dataset.loc[:, feature].sort_values()[1:].values + dataset.loc[:, feature].sort_values()[:-1].values)/2\n",
        "    for value in value_to_test :\n",
        "      left, right = self.__quanti_split__(feature, value, dataset)\n",
        "      cost_result = self.__split_evaluator__(left, right)\n",
        "      df_eval = df_eval.append(pd.DataFrame([[feature, \n",
        "                                              value,\n",
        "                                              'quanti',\n",
        "                                              cost_result]],\n",
        "                                            columns=('feature', 'value', 'nature', 'cost')))\n",
        "    return df_eval\n",
        "\n",
        "\n",
        "  def __find_best_split__(self, dataset):\n",
        "    \"\"\" Trouver la meilleure séparation de notre jeu de données\n",
        "    INPUT \n",
        "       - dataset : jeu de données à séparer\n",
        "    OUTPUT \n",
        "       - def_eval : dataset contenant 'feature' variable à séparer, 'value' \n",
        "       la valeur à laquelle séparer la variable, 'nature' la nature de la \n",
        "       variable et 'cost' le coût de cette séparation\"\"\"\n",
        "    df_eval = pd.DataFrame([], columns=('feature', 'value', 'nature', 'cost'))\n",
        "    columns = dataset.columns[np.logical_not(dataset.columns == self.target)]\n",
        "    for column in columns : \n",
        "      if len(dataset[column].unique()) >= 5 :\n",
        "        df_eval = df_eval.append(self.__test_quanti__(dataset, column))\n",
        "      elif len(dataset[column].unique()) > 1 :\n",
        "        df_eval = df_eval.append(self.__test_quali__(dataset, column))\n",
        "\n",
        "    df_eval = df_eval.reset_index(drop=True)\n",
        "\n",
        "    idx_cost_min = df_eval['cost'].idxmin(axis=0, skipna=True)\n",
        "\n",
        "    return df_eval.iloc[idx_cost_min, :]\n",
        "\n",
        "  def create_leaf(self, dataset):\n",
        "    \"\"\" Création d'une feuille \n",
        "    INPUT \n",
        "       - dataset : dataset de la feuille à construire\n",
        "    OUTPUT \n",
        "       - leaf : la classe feuille créé avec les informations de notre dataset\"\"\"\n",
        "\n",
        "    labels = dataset[self.target]\n",
        "    pop = labels.shape[0]\n",
        "    prediction = np.mean(labels)\n",
        "    return leaf(dataset, pop, prediction)\n",
        "\n",
        "  def training(self, dataset, depth=0):\n",
        "      \"\"\"Cette fonction va construire l'arbre de décision en fonction des \n",
        "      paramètres fournir à l'initialisation de cette classe.\n",
        "      INPUT \n",
        "         - depth : profondeur actuel de l'arbre\n",
        "      OUTPUT \n",
        "         - node : racine de l'arbre\n",
        "      \"\"\"\n",
        "\n",
        "      # Cette partie de code vérifie que le dataset peut encore être séparé\n",
        "      no_more_split = True\n",
        "      columns = dataset.columns[np.logical_not(dataset.columns == self.target)]\n",
        "      for column in columns : \n",
        "        if len(dataset[column].unique()) > 1 :\n",
        "          no_more_split = False\n",
        "\n",
        "      # Si le dataset est pure, ou que la profondeur maximum est atteinte ou\n",
        "      # que le dataset ne peut plus être séparé nous créons une feuille\n",
        "      if len(dataset[self.target].unique())==1 or depth==self.max_depth or no_more_split:\n",
        "        return self.create_leaf(dataset)\n",
        "\n",
        "      # Recherche de la meilleur séparation\n",
        "      split_eval = self.__find_best_split__(dataset)\n",
        "\n",
        "      # Si le coût obtenu après séparation est moins bon le coût actuel, \n",
        "      # création d'une feuille avec le dataset actuel\n",
        "      if split_eval['cost'] >= self.__mse__(dataset) :\n",
        "          return self.create_leaf(dataset)\n",
        "\n",
        "      # Séparation du dataset selon la nature de la variable choisie\n",
        "      if split_eval['nature'] == 'quali' :\n",
        "         left_branch, right_branch = self.__quali_split__(split_eval['feature'], split_eval['value'], dataset)\n",
        "      elif split_eval['nature'] == 'quanti' :\n",
        "         left_branch, right_branch = self.__quanti_split__(split_eval['feature'], split_eval['value'], dataset)\n",
        "\n",
        "      # Entraînement récursif de la branche de gauche\n",
        "      left_node = self.training(left_branch, depth+1)\n",
        "\n",
        "      # Entraînement récrusif de la branche de droite\n",
        "      right_node = self.training(right_branch, depth+1)\n",
        "\n",
        "      # On retourne la racine de l'arbre\n",
        "      return node(split_eval['feature'], \n",
        "                  split_eval['value'], \n",
        "                  split_eval['cost'], \n",
        "                  split_eval['nature'],\n",
        "                  left_node,\n",
        "                  right_node,\n",
        "                  depth,\n",
        "                  dataset.shape[0])\n",
        "      \n",
        "  def fit(self):\n",
        "    \"\"\" Entraînement du modèle\n",
        "    OUTPUT \n",
        "       - node : racine de l'arbre\"\"\"\n",
        "    return self.training(self.dataframe)"
      ],
      "execution_count": 0,
      "outputs": []
    },
    {
      "cell_type": "markdown",
      "metadata": {
        "id": "oQl-RheujcW6",
        "colab_type": "text"
      },
      "source": [
        "Vérification pour voir si la variable fonctionne correctement."
      ]
    },
    {
      "cell_type": "code",
      "metadata": {
        "id": "KtI9UBHdgv1R",
        "colab_type": "code",
        "colab": {}
      },
      "source": [
        "tree = decision_tree_regressor('prix', dataframe, 4)\n",
        "tree_trained = tree.fit()"
      ],
      "execution_count": 0,
      "outputs": []
    },
    {
      "cell_type": "markdown",
      "metadata": {
        "id": "56bz2pXKjhAS",
        "colab_type": "text"
      },
      "source": [
        "## Visualisation de l'arbre\n",
        "\n",
        "Notre arbre est construit, mais il est compliqué de le comprendre, nous allons donc construire une fonction qui va nous permettre de visualiser l'arbre."
      ]
    },
    {
      "cell_type": "code",
      "metadata": {
        "id": "1FxoOjjCjwq6",
        "colab_type": "code",
        "colab": {}
      },
      "source": [
        "def print_tree(node, spacing=\"\"):\n",
        "  \"\"\"Affichage de l'arbre de décision\n",
        "  INPUT \n",
        "     - node : branche à afficher\n",
        "     - spacings : espace à afficher en fonction de la profondeur de la branche\"\"\"\n",
        "\n",
        "  # Différents affichages si c'est une feuille \n",
        "  if isinstance(node, leaf):\n",
        "      print (spacing + \"Predict\", node.prediction)\n",
        "      return\n",
        "\n",
        "  # Affichage de la condition de la séparation\n",
        "  print (spacing + node.__split__())\n",
        "\n",
        "  # Dans le cas où la condition est vérifiée\n",
        "  print (spacing + '--> True:')\n",
        "  print_tree(node.left_branch, spacing + \"  \")\n",
        "\n",
        "  # Dans le cas où la condition n'est pas vérifiée\n",
        "  print (spacing + '--> False:')\n",
        "  print_tree(node.right_branch, spacing + \"  \")"
      ],
      "execution_count": 0,
      "outputs": []
    },
    {
      "cell_type": "code",
      "metadata": {
        "id": "9cR8TsqJooG2",
        "colab_type": "code",
        "outputId": "0b48cb7e-9a0b-440e-8a70-4100eaeac784",
        "colab": {
          "base_uri": "https://localhost:8080/",
          "height": 421
        }
      },
      "source": [
        "dataframe"
      ],
      "execution_count": 0,
      "outputs": [
        {
          "output_type": "execute_result",
          "data": {
            "text/html": [
              "<div>\n",
              "<style scoped>\n",
              "    .dataframe tbody tr th:only-of-type {\n",
              "        vertical-align: middle;\n",
              "    }\n",
              "\n",
              "    .dataframe tbody tr th {\n",
              "        vertical-align: top;\n",
              "    }\n",
              "\n",
              "    .dataframe thead th {\n",
              "        text-align: right;\n",
              "    }\n",
              "</style>\n",
              "<table border=\"1\" class=\"dataframe\">\n",
              "  <thead>\n",
              "    <tr style=\"text-align: right;\">\n",
              "      <th></th>\n",
              "      <th>prix</th>\n",
              "      <th>surface</th>\n",
              "      <th>garage</th>\n",
              "      <th>nb_piece</th>\n",
              "    </tr>\n",
              "  </thead>\n",
              "  <tbody>\n",
              "    <tr>\n",
              "      <th>0</th>\n",
              "      <td>140000</td>\n",
              "      <td>50</td>\n",
              "      <td>1</td>\n",
              "      <td>2</td>\n",
              "    </tr>\n",
              "    <tr>\n",
              "      <th>1</th>\n",
              "      <td>150000</td>\n",
              "      <td>55</td>\n",
              "      <td>0</td>\n",
              "      <td>3</td>\n",
              "    </tr>\n",
              "    <tr>\n",
              "      <th>2</th>\n",
              "      <td>100000</td>\n",
              "      <td>38</td>\n",
              "      <td>1</td>\n",
              "      <td>2</td>\n",
              "    </tr>\n",
              "    <tr>\n",
              "      <th>3</th>\n",
              "      <td>200000</td>\n",
              "      <td>72</td>\n",
              "      <td>0</td>\n",
              "      <td>3</td>\n",
              "    </tr>\n",
              "    <tr>\n",
              "      <th>4</th>\n",
              "      <td>220000</td>\n",
              "      <td>70</td>\n",
              "      <td>1</td>\n",
              "      <td>4</td>\n",
              "    </tr>\n",
              "    <tr>\n",
              "      <th>5</th>\n",
              "      <td>120000</td>\n",
              "      <td>40</td>\n",
              "      <td>0</td>\n",
              "      <td>2</td>\n",
              "    </tr>\n",
              "    <tr>\n",
              "      <th>6</th>\n",
              "      <td>198000</td>\n",
              "      <td>68</td>\n",
              "      <td>0</td>\n",
              "      <td>3</td>\n",
              "    </tr>\n",
              "    <tr>\n",
              "      <th>7</th>\n",
              "      <td>130000</td>\n",
              "      <td>54</td>\n",
              "      <td>0</td>\n",
              "      <td>2</td>\n",
              "    </tr>\n",
              "    <tr>\n",
              "      <th>8</th>\n",
              "      <td>140000</td>\n",
              "      <td>62</td>\n",
              "      <td>0</td>\n",
              "      <td>3</td>\n",
              "    </tr>\n",
              "    <tr>\n",
              "      <th>9</th>\n",
              "      <td>190000</td>\n",
              "      <td>79</td>\n",
              "      <td>1</td>\n",
              "      <td>2</td>\n",
              "    </tr>\n",
              "    <tr>\n",
              "      <th>10</th>\n",
              "      <td>170000</td>\n",
              "      <td>67</td>\n",
              "      <td>1</td>\n",
              "      <td>4</td>\n",
              "    </tr>\n",
              "    <tr>\n",
              "      <th>11</th>\n",
              "      <td>90000</td>\n",
              "      <td>40</td>\n",
              "      <td>0</td>\n",
              "      <td>2</td>\n",
              "    </tr>\n",
              "  </tbody>\n",
              "</table>\n",
              "</div>"
            ],
            "text/plain": [
              "      prix  surface  garage  nb_piece\n",
              "0   140000       50       1         2\n",
              "1   150000       55       0         3\n",
              "2   100000       38       1         2\n",
              "3   200000       72       0         3\n",
              "4   220000       70       1         4\n",
              "5   120000       40       0         2\n",
              "6   198000       68       0         3\n",
              "7   130000       54       0         2\n",
              "8   140000       62       0         3\n",
              "9   190000       79       1         2\n",
              "10  170000       67       1         4\n",
              "11   90000       40       0         2"
            ]
          },
          "metadata": {
            "tags": []
          },
          "execution_count": 46
        }
      ]
    },
    {
      "cell_type": "code",
      "metadata": {
        "id": "X-aEioFTlnn9",
        "colab_type": "code",
        "outputId": "a9dfe84b-ebe2-46eb-9c3f-506ba0bcd498",
        "colab": {
          "base_uri": "https://localhost:8080/",
          "height": 578
        }
      },
      "source": [
        "tree = decision_tree_regressor('prix', dataframe, 4)\n",
        "tree_trained = tree.fit()\n",
        "print_tree(tree_trained)"
      ],
      "execution_count": 0,
      "outputs": [
        {
          "output_type": "stream",
          "text": [
            "surface <= 64.5\n",
            "--> True:\n",
            "  surface <= 40.0\n",
            "  --> True:\n",
            "    surface == 38\n",
            "    --> True:\n",
            "      Predict 100000.0\n",
            "    --> False:\n",
            "      Predict 105000.0\n",
            "  --> False:\n",
            "    surface == 55\n",
            "    --> True:\n",
            "      Predict 150000.0\n",
            "    --> False:\n",
            "      surface == 54\n",
            "      --> True:\n",
            "        Predict 130000.0\n",
            "      --> False:\n",
            "        Predict 140000.0\n",
            "--> False:\n",
            "  surface <= 67.5\n",
            "  --> True:\n",
            "    Predict 170000.0\n",
            "  --> False:\n",
            "    surface == 70\n",
            "    --> True:\n",
            "      Predict 220000.0\n",
            "    --> False:\n",
            "      surface == 79\n",
            "      --> True:\n",
            "        Predict 190000.0\n",
            "      --> False:\n",
            "        Predict 199000.0\n"
          ],
          "name": "stdout"
        }
      ]
    },
    {
      "cell_type": "markdown",
      "metadata": {
        "id": "jvu6f9Q5rLMF",
        "colab_type": "text"
      },
      "source": [
        "J'espère que ce notebook vous a plu, abonnez-vous à la chaîne YouTube et mettez une étoile sur le github de ce répertoire."
      ]
    },
    {
      "cell_type": "markdown",
      "metadata": {
        "id": "O5iI6-X_FgYU",
        "colab_type": "text"
      },
      "source": [
        "## Sources : \n",
        "- https://www.youtube.com/watch?v=gxS_R1Ph9ak&t=548s\n",
        "- http://soutien67.free.fr/svt/animaux/classification/classification01.htm\n",
        "- https://www.youtube.com/watch?v=LDRbO9a6XPU\n",
        "- https://machinelearningmastery.com/implement-decision-tree-algorithm-scratch-python/\n",
        "- https://www.youtube.com/watch?v=g9c66TUylZ4\n",
        "- https://www.youtube.com/watch?v=7VeUPuFGJHk&t=599s\n"
      ]
    },
    {
      "cell_type": "code",
      "metadata": {
        "id": "gh_5iqSwbstw",
        "colab_type": "code",
        "colab": {}
      },
      "source": [
        ""
      ],
      "execution_count": 0,
      "outputs": []
    }
  ]
}