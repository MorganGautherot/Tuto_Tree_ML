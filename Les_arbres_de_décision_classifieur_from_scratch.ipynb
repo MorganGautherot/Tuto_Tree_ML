{
  "nbformat": 4,
  "nbformat_minor": 0,
  "metadata": {
    "colab": {
      "name": "Les arbres de décision classifieur from scratch.ipynb",
      "provenance": [],
      "collapsed_sections": []
    },
    "kernelspec": {
      "name": "python3",
      "display_name": "Python 3"
    }
  },
  "cells": [
    {
      "cell_type": "markdown",
      "metadata": {
        "id": "RzgHy-5MCq7r",
        "colab_type": "text"
      },
      "source": [
        "# Arbres de décisions classifieur from scratch\n",
        "\n",
        "Dans ce notebook, vous allez coder votre propre algorithme de machine learning pour entraîner des arbres de décision afin de résoudre des problèmes de classification. \n",
        "\n",
        "Le code que vous trouverez dans ce notebook est fonctionnelle pour créer un algorithme d'apprentissage automatique. Attention, ce code n'est pas optimis, il est uniquement à but pédagogique pour que vous compreniez bien ce qui se passe lorsque vous entraînez un algorithme de machine learning d'arbres de décision. Je vais vous accompagner pas à pas dans l'implémentation de cet algorithme.\n",
        "\n",
        "Si vous voulez entraîner un modèle à but professionnel, je vous recommande d'utiliser le package [Sklearn](https://scikit-learn.org/stable/index.html) qui contient toutes les librairies essentiel pour vous aider. \n",
        "\n",
        "Merci de soutenir ce travail de création de contenus en vous abonnant à la chaîne youtube AIForYou et en mettant une étoile au répertoire github. \n",
        "\n"
      ]
    },
    {
      "cell_type": "markdown",
      "metadata": {
        "id": "Zz4aV5hUD7X_",
        "colab_type": "text"
      },
      "source": [
        "## Importation des packages\n",
        "\n",
        "Comme cet algorithme est codé from scratch nous n'aurons pas besoin de beaucoup de librairies. Nous aurons seulement besoin de [Numpy](https://numpy.org/) pour gérer les calculs matriciels, [Pandas](https://pandas.pydata.org/) pour gérer les dataframe, et certains opérateurs de calcul. "
      ]
    },
    {
      "cell_type": "code",
      "metadata": {
        "id": "ZdlPJFRVCKGk",
        "colab_type": "code",
        "colab": {}
      },
      "source": [
        "import numpy as np \n",
        "import pandas as pd\n",
        "from functools import reduce\n",
        "import operator"
      ],
      "execution_count": 0,
      "outputs": []
    },
    {
      "cell_type": "markdown",
      "metadata": {
        "id": "wOuVz69oEeTt",
        "colab_type": "text"
      },
      "source": [
        "## Importation des données\n",
        "\n",
        "Dans ce notebook, nous allons utiliser un dataframe homemade que j'ai créé pour vous. Le but sera de trouver la bonne classification des animaux en fonction de leurs caractéristiques. Nous allons utiliser 4 variables : si l'animal possède un gésier, le nombre de membres de l'animal, s'il l'animal possède des poils et si l'animal possède une carapace dorsal et ventral. \n",
        "\n",
        "Je me suis aidé de ce [site](http://soutien67.free.fr/svt/animaux/classification/classification01.htm) pour créer ce dataset."
      ]
    },
    {
      "cell_type": "code",
      "metadata": {
        "id": "UTtIKY4rEaHY",
        "colab_type": "code",
        "colab": {}
      },
      "source": [
        "dataframe = pd.DataFrame([['oiseau', 'coq', 1, 4, 0, 0],\n",
        "                          ['oiseau', 'autruche', 1, 4, 0, 0],\n",
        "                          ['oiseau', 'pigeon', 1, 4, 0, 0],\n",
        "                          ['crocodilien', 'crocodile', 1, 4, 0, 0],\n",
        "                          ['crocodilien', 'aligator', 1, 4, 0, 0],\n",
        "                          ['Chélonien','tortue', 0, 4, 0, 1],\n",
        "                          ['actynoptérygien','thon', 0, 0, 0, 0],\n",
        "                          ['actynoptérygien','brochet', 0, 0, 0, 0],\n",
        "                          ['mammifère','chien', 0, 4, 1, 0],\n",
        "                          ['mammifère','chat', 0, 4, 1, 0],\n",
        "                          ['mammifère','éléphant', 0, 4, 1, 0],\n",
        "                          ['mammifère','sourie', 0, 4, 1, 0]],\n",
        "                          columns=['classification', 'espèce', 'gésier', 'nb membres', 'poil', 'carapace dorsal et ventral'])"
      ],
      "execution_count": 0,
      "outputs": []
    },
    {
      "cell_type": "code",
      "metadata": {
        "id": "e-oMjOcrFs7g",
        "colab_type": "code",
        "outputId": "ea187880-fb89-4390-b416-704342f42738",
        "colab": {
          "base_uri": "https://localhost:8080/",
          "height": 421
        }
      },
      "source": [
        "dataframe"
      ],
      "execution_count": 0,
      "outputs": [
        {
          "output_type": "execute_result",
          "data": {
            "text/html": [
              "<div>\n",
              "<style scoped>\n",
              "    .dataframe tbody tr th:only-of-type {\n",
              "        vertical-align: middle;\n",
              "    }\n",
              "\n",
              "    .dataframe tbody tr th {\n",
              "        vertical-align: top;\n",
              "    }\n",
              "\n",
              "    .dataframe thead th {\n",
              "        text-align: right;\n",
              "    }\n",
              "</style>\n",
              "<table border=\"1\" class=\"dataframe\">\n",
              "  <thead>\n",
              "    <tr style=\"text-align: right;\">\n",
              "      <th></th>\n",
              "      <th>classification</th>\n",
              "      <th>espèce</th>\n",
              "      <th>gésier</th>\n",
              "      <th>nb membres</th>\n",
              "      <th>poil</th>\n",
              "      <th>carapace dorsal et ventral</th>\n",
              "    </tr>\n",
              "  </thead>\n",
              "  <tbody>\n",
              "    <tr>\n",
              "      <th>0</th>\n",
              "      <td>oiseau</td>\n",
              "      <td>coq</td>\n",
              "      <td>1</td>\n",
              "      <td>4</td>\n",
              "      <td>0</td>\n",
              "      <td>0</td>\n",
              "    </tr>\n",
              "    <tr>\n",
              "      <th>1</th>\n",
              "      <td>oiseau</td>\n",
              "      <td>autruche</td>\n",
              "      <td>1</td>\n",
              "      <td>4</td>\n",
              "      <td>0</td>\n",
              "      <td>0</td>\n",
              "    </tr>\n",
              "    <tr>\n",
              "      <th>2</th>\n",
              "      <td>oiseau</td>\n",
              "      <td>pigeon</td>\n",
              "      <td>1</td>\n",
              "      <td>4</td>\n",
              "      <td>0</td>\n",
              "      <td>0</td>\n",
              "    </tr>\n",
              "    <tr>\n",
              "      <th>3</th>\n",
              "      <td>crocodilien</td>\n",
              "      <td>crocodile</td>\n",
              "      <td>1</td>\n",
              "      <td>4</td>\n",
              "      <td>0</td>\n",
              "      <td>0</td>\n",
              "    </tr>\n",
              "    <tr>\n",
              "      <th>4</th>\n",
              "      <td>crocodilien</td>\n",
              "      <td>aligator</td>\n",
              "      <td>1</td>\n",
              "      <td>4</td>\n",
              "      <td>0</td>\n",
              "      <td>0</td>\n",
              "    </tr>\n",
              "    <tr>\n",
              "      <th>5</th>\n",
              "      <td>Chélonien</td>\n",
              "      <td>tortue</td>\n",
              "      <td>0</td>\n",
              "      <td>4</td>\n",
              "      <td>0</td>\n",
              "      <td>1</td>\n",
              "    </tr>\n",
              "    <tr>\n",
              "      <th>6</th>\n",
              "      <td>actynoptérygien</td>\n",
              "      <td>thon</td>\n",
              "      <td>0</td>\n",
              "      <td>0</td>\n",
              "      <td>0</td>\n",
              "      <td>0</td>\n",
              "    </tr>\n",
              "    <tr>\n",
              "      <th>7</th>\n",
              "      <td>actynoptérygien</td>\n",
              "      <td>brochet</td>\n",
              "      <td>0</td>\n",
              "      <td>0</td>\n",
              "      <td>0</td>\n",
              "      <td>0</td>\n",
              "    </tr>\n",
              "    <tr>\n",
              "      <th>8</th>\n",
              "      <td>mammifère</td>\n",
              "      <td>chien</td>\n",
              "      <td>0</td>\n",
              "      <td>4</td>\n",
              "      <td>1</td>\n",
              "      <td>0</td>\n",
              "    </tr>\n",
              "    <tr>\n",
              "      <th>9</th>\n",
              "      <td>mammifère</td>\n",
              "      <td>chat</td>\n",
              "      <td>0</td>\n",
              "      <td>4</td>\n",
              "      <td>1</td>\n",
              "      <td>0</td>\n",
              "    </tr>\n",
              "    <tr>\n",
              "      <th>10</th>\n",
              "      <td>mammifère</td>\n",
              "      <td>éléphant</td>\n",
              "      <td>0</td>\n",
              "      <td>4</td>\n",
              "      <td>1</td>\n",
              "      <td>0</td>\n",
              "    </tr>\n",
              "    <tr>\n",
              "      <th>11</th>\n",
              "      <td>mammifère</td>\n",
              "      <td>sourie</td>\n",
              "      <td>0</td>\n",
              "      <td>4</td>\n",
              "      <td>1</td>\n",
              "      <td>0</td>\n",
              "    </tr>\n",
              "  </tbody>\n",
              "</table>\n",
              "</div>"
            ],
            "text/plain": [
              "     classification     espèce  ...  poil  carapace dorsal et ventral\n",
              "0            oiseau        coq  ...     0                           0\n",
              "1            oiseau   autruche  ...     0                           0\n",
              "2            oiseau     pigeon  ...     0                           0\n",
              "3       crocodilien  crocodile  ...     0                           0\n",
              "4       crocodilien   aligator  ...     0                           0\n",
              "5         Chélonien     tortue  ...     0                           1\n",
              "6   actynoptérygien       thon  ...     0                           0\n",
              "7   actynoptérygien    brochet  ...     0                           0\n",
              "8         mammifère      chien  ...     1                           0\n",
              "9         mammifère       chat  ...     1                           0\n",
              "10        mammifère   éléphant  ...     1                           0\n",
              "11        mammifère     sourie  ...     1                           0\n",
              "\n",
              "[12 rows x 6 columns]"
            ]
          },
          "metadata": {
            "tags": []
          },
          "execution_count": 3
        }
      ]
    },
    {
      "cell_type": "markdown",
      "metadata": {
        "id": "jZMyVTknJSK6",
        "colab_type": "text"
      },
      "source": [
        "Nous n'aurons pas besoin de la variable 'espèce' qui est un identifiant dans ce dataframe."
      ]
    },
    {
      "cell_type": "code",
      "metadata": {
        "id": "hVhFnUXCJQMe",
        "colab_type": "code",
        "outputId": "0700b7a6-bdf8-4eec-c9a3-bd706f2fe064",
        "colab": {
          "base_uri": "https://localhost:8080/",
          "height": 421
        }
      },
      "source": [
        "dataframe_classif = dataframe.loc[:, ('classification', 'gésier', 'nb membres', 'poil', 'carapace dorsal et ventral')]\n",
        "dataframe_classif"
      ],
      "execution_count": 0,
      "outputs": [
        {
          "output_type": "execute_result",
          "data": {
            "text/html": [
              "<div>\n",
              "<style scoped>\n",
              "    .dataframe tbody tr th:only-of-type {\n",
              "        vertical-align: middle;\n",
              "    }\n",
              "\n",
              "    .dataframe tbody tr th {\n",
              "        vertical-align: top;\n",
              "    }\n",
              "\n",
              "    .dataframe thead th {\n",
              "        text-align: right;\n",
              "    }\n",
              "</style>\n",
              "<table border=\"1\" class=\"dataframe\">\n",
              "  <thead>\n",
              "    <tr style=\"text-align: right;\">\n",
              "      <th></th>\n",
              "      <th>classification</th>\n",
              "      <th>gésier</th>\n",
              "      <th>nb membres</th>\n",
              "      <th>poil</th>\n",
              "      <th>carapace dorsal et ventral</th>\n",
              "    </tr>\n",
              "  </thead>\n",
              "  <tbody>\n",
              "    <tr>\n",
              "      <th>0</th>\n",
              "      <td>oiseau</td>\n",
              "      <td>1</td>\n",
              "      <td>4</td>\n",
              "      <td>0</td>\n",
              "      <td>0</td>\n",
              "    </tr>\n",
              "    <tr>\n",
              "      <th>1</th>\n",
              "      <td>oiseau</td>\n",
              "      <td>1</td>\n",
              "      <td>4</td>\n",
              "      <td>0</td>\n",
              "      <td>0</td>\n",
              "    </tr>\n",
              "    <tr>\n",
              "      <th>2</th>\n",
              "      <td>oiseau</td>\n",
              "      <td>1</td>\n",
              "      <td>4</td>\n",
              "      <td>0</td>\n",
              "      <td>0</td>\n",
              "    </tr>\n",
              "    <tr>\n",
              "      <th>3</th>\n",
              "      <td>crocodilien</td>\n",
              "      <td>1</td>\n",
              "      <td>4</td>\n",
              "      <td>0</td>\n",
              "      <td>0</td>\n",
              "    </tr>\n",
              "    <tr>\n",
              "      <th>4</th>\n",
              "      <td>crocodilien</td>\n",
              "      <td>1</td>\n",
              "      <td>4</td>\n",
              "      <td>0</td>\n",
              "      <td>0</td>\n",
              "    </tr>\n",
              "    <tr>\n",
              "      <th>5</th>\n",
              "      <td>Chélonien</td>\n",
              "      <td>0</td>\n",
              "      <td>4</td>\n",
              "      <td>0</td>\n",
              "      <td>1</td>\n",
              "    </tr>\n",
              "    <tr>\n",
              "      <th>6</th>\n",
              "      <td>actynoptérygien</td>\n",
              "      <td>0</td>\n",
              "      <td>0</td>\n",
              "      <td>0</td>\n",
              "      <td>0</td>\n",
              "    </tr>\n",
              "    <tr>\n",
              "      <th>7</th>\n",
              "      <td>actynoptérygien</td>\n",
              "      <td>0</td>\n",
              "      <td>0</td>\n",
              "      <td>0</td>\n",
              "      <td>0</td>\n",
              "    </tr>\n",
              "    <tr>\n",
              "      <th>8</th>\n",
              "      <td>mammifère</td>\n",
              "      <td>0</td>\n",
              "      <td>4</td>\n",
              "      <td>1</td>\n",
              "      <td>0</td>\n",
              "    </tr>\n",
              "    <tr>\n",
              "      <th>9</th>\n",
              "      <td>mammifère</td>\n",
              "      <td>0</td>\n",
              "      <td>4</td>\n",
              "      <td>1</td>\n",
              "      <td>0</td>\n",
              "    </tr>\n",
              "    <tr>\n",
              "      <th>10</th>\n",
              "      <td>mammifère</td>\n",
              "      <td>0</td>\n",
              "      <td>4</td>\n",
              "      <td>1</td>\n",
              "      <td>0</td>\n",
              "    </tr>\n",
              "    <tr>\n",
              "      <th>11</th>\n",
              "      <td>mammifère</td>\n",
              "      <td>0</td>\n",
              "      <td>4</td>\n",
              "      <td>1</td>\n",
              "      <td>0</td>\n",
              "    </tr>\n",
              "  </tbody>\n",
              "</table>\n",
              "</div>"
            ],
            "text/plain": [
              "     classification  gésier  nb membres  poil  carapace dorsal et ventral\n",
              "0            oiseau       1           4     0                           0\n",
              "1            oiseau       1           4     0                           0\n",
              "2            oiseau       1           4     0                           0\n",
              "3       crocodilien       1           4     0                           0\n",
              "4       crocodilien       1           4     0                           0\n",
              "5         Chélonien       0           4     0                           1\n",
              "6   actynoptérygien       0           0     0                           0\n",
              "7   actynoptérygien       0           0     0                           0\n",
              "8         mammifère       0           4     1                           0\n",
              "9         mammifère       0           4     1                           0\n",
              "10        mammifère       0           4     1                           0\n",
              "11        mammifère       0           4     1                           0"
            ]
          },
          "metadata": {
            "tags": []
          },
          "execution_count": 4
        }
      ]
    },
    {
      "cell_type": "markdown",
      "metadata": {
        "id": "FxN0aVf0Fwyp",
        "colab_type": "text"
      },
      "source": [
        "## Création de la classe\n",
        "\n",
        "La première étape de notre algorithme est la création de la classe qui va contenir toutes les fonctions dont notre algorithme à besoin pour fonctionner. On va commencer par la fonction de d'initialisation."
      ]
    },
    {
      "cell_type": "code",
      "metadata": {
        "id": "DoWug5DyGXjl",
        "colab_type": "code",
        "colab": {}
      },
      "source": [
        "class decision_tree_classifier :\n",
        "  \"\"\" Cette classe a pour but de créer un algorithme d'apprentissage automatique\n",
        "  d'arbres de décision classifieur\"\"\"\n",
        "\n",
        "  def __init__(self, target, dataframe, max_depth):\n",
        "    \"\"\"Cette fonction à pour but d'initialiser les variables essentiel à la \n",
        "    construction de notre algorithme.\n",
        "   INPUT \n",
        "    - target : la variable cible qu'il faudra classifier\n",
        "    - dataframe : les données d'apprentissage\n",
        "    - max_deapth : la profondeur maximal de l'arbre à entraîner\n",
        "   \"\"\"\n",
        "    self.max_depth = max_depth\n",
        "    self.target = target\n",
        "    self.dataframe = dataframe"
      ],
      "execution_count": 0,
      "outputs": []
    },
    {
      "cell_type": "markdown",
      "metadata": {
        "id": "BTLFIinmHgtZ",
        "colab_type": "text"
      },
      "source": [
        "## Séparation\n",
        "\n",
        "Maintenant que nous avons notre classe, il va falloir implémenter toutes les fonctions nécessaires à l'entraînement d'un arbre de décision. On va commencer par la séparation d'une branche en deux sous-branches. \n",
        "\n",
        "On peut avoir à faire à deux types de variables : \n",
        "- Les variables quantitatives qui sont des variables réelles ;\n",
        "- Les variables quantitatives qui sont des classes. "
      ]
    },
    {
      "cell_type": "code",
      "metadata": {
        "id": "eCnNalvFIIlE",
        "colab_type": "code",
        "colab": {}
      },
      "source": [
        "class decision_tree_classifier :\n",
        "  \"\"\" Cette classe a pour but de créer un algorithme d'apprentissage automatique\n",
        "  d'arbres de décision classifieur\"\"\"\n",
        "\n",
        "  def __init__(self, target, dataframe, max_depth):\n",
        "    \"\"\"Cette fonction a pour but d'initialiser les variables essentiel à la \n",
        "    construction de notre algorithme.\n",
        "   INPUT \n",
        "    - target : la variable cible qu'il faudra classifier\n",
        "    - dataframe : les données d'apprentissage\n",
        "    - max_deapth : la profondeur maximal de l'arbre à entraîner\n",
        "   \"\"\"\n",
        "    self.max_depth = max_depth\n",
        "    self.target = target\n",
        "    self.dataframe = dataframe\n",
        "\n",
        "  def __quanti_split__(self, feature, value, dataset):\n",
        "   \"\"\"Cette fonction split un jeu de données en fonction\n",
        "   de la valeur 'value' de la variable quantitative 'feature' passé en paramètre\n",
        "   INPUT \n",
        "    - feature : integer correspondant à la variable à séparer\n",
        "    - value : integer correspond à la valeur à laquelle séparer nore jeu de données\n",
        "    - dataset : pandas dataframe à séparer\n",
        "   OUTPUT \n",
        "    - left : dataframe avec les données où 'feature' est plus petit ou égale à 'value'\n",
        "    - right : dataframe avec les données où 'feature' est plus grande que 'value' \n",
        "   \"\"\"\n",
        "   \n",
        "   left = dataset[dataset.loc[:,feature]<= value]\n",
        "   right = dataset[dataset.loc[:,feature]> value]\n",
        "\n",
        "   return left, right\n",
        "\n",
        "  def __quali_split__(self, feature, value, dataset):\n",
        "   \"\"\"Cette fonction split un jeu de données en fonction\n",
        "   de la valeur 'value' de la variable qualitative'feature' passé en paramètre\n",
        "   INPUT \n",
        "    - feature : integer correspondant à la variable à séparer\n",
        "    - value : integer correspond à la valeur à laquelle séparer nore jeu de données\n",
        "    - dataset : pandas dataframe à séparer\n",
        "   OUTPUT \n",
        "    - left : dataframe avec les données où 'feature' est égale 'value'\n",
        "    - right : dataframe avec les données où 'feature' est différent 'value'\n",
        "   \"\"\"\n",
        "   \n",
        "   left = dataset[dataset.loc[:,feature]== value]\n",
        "   right = dataset[dataset.loc[:,feature]!= value]\n",
        "\n",
        "   return left, right"
      ],
      "execution_count": 0,
      "outputs": []
    },
    {
      "cell_type": "markdown",
      "metadata": {
        "id": "WDaZdosxI9-t",
        "colab_type": "text"
      },
      "source": [
        "Je vous propose un exemple afin de bien comprendre comment la fonction fonctionne. Le but étant de séparer le dataframe initiale en deux dataframes distinct suivant si la variable 'poil' est égale à 0 ou non."
      ]
    },
    {
      "cell_type": "code",
      "metadata": {
        "id": "nSko48RsI4TL",
        "colab_type": "code",
        "outputId": "a81cbd00-7d8a-4875-eead-21d7357c8145",
        "colab": {
          "base_uri": "https://localhost:8080/",
          "height": 255
        }
      },
      "source": [
        "tree_classif = decision_tree_classifier('classification', dataframe_classif, 4)\n",
        "left_classif, right_classif = tree_classif.__quali_split__('poil', 1, dataframe_classif)\n",
        "print(left_classif)\n",
        "print(right_classif)"
      ],
      "execution_count": 0,
      "outputs": [
        {
          "output_type": "stream",
          "text": [
            "   classification  gésier  nb membres  poil  carapace dorsal et ventral\n",
            "8       mammifère       0           4     1                           0\n",
            "9       mammifère       0           4     1                           0\n",
            "10      mammifère       0           4     1                           0\n",
            "11      mammifère       0           4     1                           0\n",
            "    classification  gésier  nb membres  poil  carapace dorsal et ventral\n",
            "0           oiseau       1           4     0                           0\n",
            "1           oiseau       1           4     0                           0\n",
            "2           oiseau       1           4     0                           0\n",
            "3      crocodilien       1           4     0                           0\n",
            "4      crocodilien       1           4     0                           0\n",
            "5        Chélonien       0           4     0                           1\n",
            "6  actynoptérygien       0           0     0                           0\n",
            "7  actynoptérygien       0           0     0                           0\n"
          ],
          "name": "stdout"
        }
      ]
    },
    {
      "cell_type": "markdown",
      "metadata": {
        "id": "LB3zj-tWKGoT",
        "colab_type": "text"
      },
      "source": [
        "## Fonction de coût\n",
        "\n",
        "Maintenant que l'on sait comment séparer notre jeu de données, nous allons trouver un moyen de calculer le coût de cette séparation. Le but étant de trouver la séparation correspondant au coût le plus faible. \n",
        "\n",
        "Pour calculer à quel point notre séparation est optimale nous allons utiliser l'indice Gini. Pour ceux qui ne connaissent pas cette métrique, je vous recommande de regarder ma [vidéo sur la théorie des arbres de décision](https://www.youtube.com/watch?v=gxS_R1Ph9ak).\n",
        "\n",
        "Le but est de créer des sous-groupes les plus purs possible."
      ]
    },
    {
      "cell_type": "code",
      "metadata": {
        "id": "KbLiKz9WKYFM",
        "colab_type": "code",
        "outputId": "d04931ce-3066-4d63-fdf5-f799f1f17317",
        "colab": {
          "base_uri": "https://localhost:8080/",
          "height": 238
        }
      },
      "source": [
        "# Nos targets values de départ\n",
        "row = dataframe_classif['classification']\n",
        "print(row)"
      ],
      "execution_count": 0,
      "outputs": [
        {
          "output_type": "stream",
          "text": [
            "0              oiseau\n",
            "1              oiseau\n",
            "2              oiseau\n",
            "3         crocodilien\n",
            "4         crocodilien\n",
            "5           Chélonien\n",
            "6     actynoptérygien\n",
            "7     actynoptérygien\n",
            "8           mammifère\n",
            "9           mammifère\n",
            "10          mammifère\n",
            "11          mammifère\n",
            "Name: classification, dtype: object\n"
          ],
          "name": "stdout"
        }
      ]
    },
    {
      "cell_type": "markdown",
      "metadata": {
        "id": "vqp9S7Zp2otY",
        "colab_type": "text"
      },
      "source": [
        "On utilise les informations calculées ci-dessus afin de calculer l'indice Gini.\n",
        "\n",
        "$$ I_G(f) = 1 - \\sum^m_{i-1}f_i^2$$\n",
        "\n",
        "où $f_i$ est la probabilité d'appartenance à la classe $i$."
      ]
    },
    {
      "cell_type": "markdown",
      "metadata": {
        "id": "4ZQMedQULMa3",
        "colab_type": "text"
      },
      "source": [
        "On va commencer par créer un dictionnaire avec chaque classe et son itération (ici 1 pour chaque classe)."
      ]
    },
    {
      "cell_type": "code",
      "metadata": {
        "id": "DlnHChQOLLB6",
        "colab_type": "code",
        "outputId": "e7b1f764-1212-4a7d-f59b-7c373e49b9c4",
        "colab": {
          "base_uri": "https://localhost:8080/",
          "height": 54
        }
      },
      "source": [
        "class_dict = list(map(lambda x: {x: 1}, row))\n",
        "print(class_dict)"
      ],
      "execution_count": 0,
      "outputs": [
        {
          "output_type": "stream",
          "text": [
            "[{'oiseau': 1}, {'oiseau': 1}, {'oiseau': 1}, {'crocodilien': 1}, {'crocodilien': 1}, {'Chélonien': 1}, {'actynoptérygien': 1}, {'actynoptérygien': 1}, {'mammifère': 1}, {'mammifère': 1}, {'mammifère': 1}, {'mammifère': 1}]\n"
          ],
          "name": "stdout"
        }
      ]
    },
    {
      "cell_type": "markdown",
      "metadata": {
        "id": "HoancuduLZqy",
        "colab_type": "text"
      },
      "source": [
        "On va regrouper ces itérations afin d'obtenir un dictionnaire avec en clef chaque classe et en valeur le nombre d'itérations de cette classe dans le groupe."
      ]
    },
    {
      "cell_type": "code",
      "metadata": {
        "id": "mt5Kx1eSLhMO",
        "colab_type": "code",
        "colab": {}
      },
      "source": [
        "def add_dict(prec_dict, new_dict) :\n",
        "  \"\"\" Cette fonction fusionne des dictionnaires \n",
        "  en sommant les valeurs des clefs similaires\n",
        "  INPUT \n",
        "     - prec_dict : dictionnaire de fusion\n",
        "     - new_dict : dictionnaire à fusionner \"\"\"\n",
        "  if list(new_dict.keys())[0] in prec_dict:\n",
        "    prec_dict[list(new_dict.keys())[0]] += 1\n",
        "  else : \n",
        "    prec_dict[list(new_dict.keys())[0]] = 1\n",
        "  return prec_dict"
      ],
      "execution_count": 0,
      "outputs": []
    },
    {
      "cell_type": "code",
      "metadata": {
        "id": "3PUe6ZY2LkY_",
        "colab_type": "code",
        "outputId": "dec79aa7-3263-4e5d-d6b9-c2ac2bca4038",
        "colab": {
          "base_uri": "https://localhost:8080/",
          "height": 34
        }
      },
      "source": [
        "class_dict_sum = reduce(add_dict, class_dict)\n",
        "print(class_dict_sum)"
      ],
      "execution_count": 0,
      "outputs": [
        {
          "output_type": "stream",
          "text": [
            "{'oiseau': 3, 'crocodilien': 2, 'Chélonien': 1, 'actynoptérygien': 2, 'mammifère': 4}\n"
          ],
          "name": "stdout"
        }
      ]
    },
    {
      "cell_type": "markdown",
      "metadata": {
        "id": "tnTe9MobMMns",
        "colab_type": "text"
      },
      "source": [
        "On extrait le vecteur des occurrences du dictionnaire."
      ]
    },
    {
      "cell_type": "code",
      "metadata": {
        "id": "2CUoCKBvMI04",
        "colab_type": "code",
        "outputId": "35a62cd2-10c2-43a3-8650-72b698831bfb",
        "colab": {
          "base_uri": "https://localhost:8080/",
          "height": 34
        }
      },
      "source": [
        "occu_class = np.fromiter(reduce(add_dict, list(map(lambda x: {x: 1}, dataframe_classif['classification']))).values(), dtype=float)\n",
        "print(occu_class)"
      ],
      "execution_count": 0,
      "outputs": [
        {
          "output_type": "stream",
          "text": [
            "[3. 2. 1. 2. 4.]\n"
          ],
          "name": "stdout"
        }
      ]
    },
    {
      "cell_type": "markdown",
      "metadata": {
        "id": "cnFW_xdnMisJ",
        "colab_type": "text"
      },
      "source": [
        "On calcul le nombre total de populations dans notre classe."
      ]
    },
    {
      "cell_type": "code",
      "metadata": {
        "id": "kjMhU8beMTmW",
        "colab_type": "code",
        "outputId": "4d60785b-58a2-4620-9a81-e9622b9678d2",
        "colab": {
          "base_uri": "https://localhost:8080/",
          "height": 34
        }
      },
      "source": [
        "pop = np.sum(occu_class)\n",
        "print(pop)"
      ],
      "execution_count": 0,
      "outputs": [
        {
          "output_type": "stream",
          "text": [
            "12.0\n"
          ],
          "name": "stdout"
        }
      ]
    },
    {
      "cell_type": "markdown",
      "metadata": {
        "id": "ZNF8UObVM2N5",
        "colab_type": "text"
      },
      "source": [
        "On calcule la probabilité d'appartenance à chaque classe."
      ]
    },
    {
      "cell_type": "code",
      "metadata": {
        "id": "5jqsHCTsMhfz",
        "colab_type": "code",
        "outputId": "07e71106-ed08-4d0a-cfb1-f6eb024c424d",
        "colab": {
          "base_uri": "https://localhost:8080/",
          "height": 34
        }
      },
      "source": [
        "print(occu_class/pop)"
      ],
      "execution_count": 0,
      "outputs": [
        {
          "output_type": "stream",
          "text": [
            "[0.25       0.16666667 0.08333333 0.16666667 0.33333333]\n"
          ],
          "name": "stdout"
        }
      ]
    },
    {
      "cell_type": "markdown",
      "metadata": {
        "id": "WmRCkcY0NdL2",
        "colab_type": "text"
      },
      "source": [
        "On utilise les informations calculées ci-dessus afin de calculer l'indice Gini.\n",
        "\n",
        "$$ I_G(f) = 1 - \\sum^m_{i-1}f_i^2$$\n",
        "\n",
        "où $f_i$ est la probabilité d'appartenance à la classe $i$."
      ]
    },
    {
      "cell_type": "code",
      "metadata": {
        "id": "S0ip_qHFNRki",
        "colab_type": "code",
        "outputId": "cdeb3e96-8c49-4571-99ef-22ee52a135e3",
        "colab": {
          "base_uri": "https://localhost:8080/",
          "height": 34
        }
      },
      "source": [
        "impurity = 1 - np.sum((occu_class/pop)**2)\n",
        "print(impurity)"
      ],
      "execution_count": 0,
      "outputs": [
        {
          "output_type": "stream",
          "text": [
            "0.7638888888888888\n"
          ],
          "name": "stdout"
        }
      ]
    },
    {
      "cell_type": "code",
      "metadata": {
        "id": "bEJ1A-1gOd1p",
        "colab_type": "code",
        "colab": {}
      },
      "source": [
        "class decision_tree :\n",
        "  \"\"\" Cette classe a pour but de créer un algorithme d'apprentissage automatique\n",
        "  d'arbres de décision classifieur\"\"\"\n",
        "\n",
        "  def __init__(self, target, dataframe, max_depth):\n",
        "    \"\"\"Cette fonction a pour but d'initialiser les variables essentiel à la \n",
        "    construction de notre algorithme.\n",
        "   INPUT \n",
        "    - target : la variable cible qu'il faudra classifier\n",
        "    - dataframe : les données d'apprentissage\n",
        "    - max_deapth : la profondeur maximal de l'arbre à entraîner\n",
        "   \"\"\"\n",
        "    self.max_depth = max_depth\n",
        "    self.target = target\n",
        "    self.dataframe = dataframe\n",
        "\n",
        "  def __quanti_split__(self, feature, value, dataset):\n",
        "   \"\"\"Cette fonction split un jeu de données en fonction\n",
        "   de la valeur 'value' de la variable quantitative 'feature' passé en paramètre\n",
        "   INPUT \n",
        "    - feature : integer correspondant à la variable à séparer\n",
        "    - value : integer correspond à la valeur à laquelle séparer notre jeu de données\n",
        "    - dataset : pandas dataframe à séparer\n",
        "   OUTPUT \n",
        "    - left : dataframe avec les données où 'feature' est plus petit ou égale à 'value'\n",
        "    - right : dataframe avec les données où 'feature' est plus grande que 'value' \n",
        "   \"\"\"\n",
        "   \n",
        "   left = dataset[dataset.loc[:,feature]<= value]\n",
        "   right = dataset[dataset.loc[:,feature]> value]\n",
        "\n",
        "   return left, right\n",
        "\n",
        "  def __quali_split__(self, feature, value, dataset):\n",
        "   \"\"\"Cette fonction split un jeu de données en fonction\n",
        "   de la valeur 'value' de la variable qualitative 'feature' passé en paramètre\n",
        "   INPUT \n",
        "    - feature : integer correspondant à la variable à séparer\n",
        "    - value : integer correspond à la valeur à laquelle séparer notre jeu de données\n",
        "    - dataset : pandas dataframe à séparer\n",
        "   OUTPUT \n",
        "    - left : dataframe avec les données où 'feature' est égale 'value'\n",
        "    - right : dataframe avec les données où 'feature' est différent 'value'\n",
        "   \"\"\"\n",
        "   \n",
        "   left = dataset[dataset.loc[:,feature]== value]\n",
        "   right = dataset[dataset.loc[:,feature]!= value]\n",
        "\n",
        "   return left, right\n",
        "\n",
        "\n",
        "  def __add_dict__(self, prec_dict, new_dict) :\n",
        "    \"\"\" Cette fonction fusionne des dictionnaires \n",
        "    en sommant les valeurs des clefs similaires\n",
        "    INPUT \n",
        "       - prec_dict : dictionnaire de fusion\n",
        "       - new_dict : dictionnaire à fusionner \"\"\"\n",
        "    if list(new_dict.keys())[0] in prec_dict:\n",
        "      prec_dict[list(new_dict.keys())[0]] += 1\n",
        "    else : \n",
        "      prec_dict[list(new_dict.keys())[0]] = 1\n",
        "    return prec_dict\n",
        "\n",
        "  def __gini__(self, dataset):\n",
        "    \"\"\"Calculer les indices Gini du dataset passé en paramètre\n",
        "    INPUT \n",
        "       - dataset : dataframe contenant la variable 'self.target'\n",
        "    OUTPUT\n",
        "       - impurity : l'impureté calculée à partir du dataset\n",
        "    \"\"\"\n",
        "    rows = dataset[self.target]\n",
        "    class_dict = list(map(lambda x: {x: 1}, rows))\n",
        "    class_dict_sum = reduce(self.__add_dict__, class_dict)\n",
        "    occu_class = np.fromiter(reduce(self.__add_dict__, \n",
        "                                    list(map(lambda x: {x: 1}, rows))).values(), \n",
        "                             dtype=float)\n",
        "    pop = np.sum(occu_class)\n",
        "    impurity = 1 - np.sum((occu_class/pop)**2)\n",
        "    return impurity   "
      ],
      "execution_count": 0,
      "outputs": []
    },
    {
      "cell_type": "markdown",
      "metadata": {
        "id": "z8aUFaAgP8zi",
        "colab_type": "text"
      },
      "source": [
        "Voici un exemple pour vérifier que la fonction '\\_\\_gini\\_\\_' fonctionne correctement."
      ]
    },
    {
      "cell_type": "code",
      "metadata": {
        "id": "f8_ybUSFPg0_",
        "colab_type": "code",
        "outputId": "e8acecb9-8d9b-445f-dc41-8c742807f3d0",
        "colab": {
          "base_uri": "https://localhost:8080/",
          "height": 34
        }
      },
      "source": [
        "tree_classif = decision_tree('classification', dataframe_classif, 4)\n",
        "tree_classif.__gini__(dataframe_classif)"
      ],
      "execution_count": 0,
      "outputs": [
        {
          "output_type": "execute_result",
          "data": {
            "text/plain": [
              "0.7638888888888888"
            ]
          },
          "metadata": {
            "tags": []
          },
          "execution_count": 17
        }
      ]
    },
    {
      "cell_type": "markdown",
      "metadata": {
        "id": "ycBPajhhQR-Z",
        "colab_type": "text"
      },
      "source": [
        "## Évaluer une séparation\n",
        "\n",
        "Félicitations, vous avez maintenant votre fonction '\\_\\_gini\\_\\_' pour calculer les performances d'un nœud . Maintenant, vous allez pouvoir créer une fonction capable de déterminer le coût d'une séparation d'un nœud  en deux branches."
      ]
    },
    {
      "cell_type": "code",
      "metadata": {
        "id": "AgsOMqdhQRtl",
        "colab_type": "code",
        "colab": {}
      },
      "source": [
        "class decision_tree :\n",
        "  \"\"\" Cette classe a pour but de créer un algorithme d'apprentissage automatique\n",
        "  d'arbres de décision classifieur\"\"\"\n",
        "  \n",
        "  def __init__(self, target, dataframe, max_depth):\n",
        "    \"\"\"Cette fonction a pour but d'initialiser les variables essentiel à la \n",
        "    construction de notre algorithme.\n",
        "   INPUT \n",
        "    - target : la variable cible qu'il faudra classifier\n",
        "    - dataframe : les données d'apprentissage\n",
        "    - max_deapth : la profondeur maximal de l'arbre à entraîner\n",
        "   \"\"\"\n",
        "    self.max_depth = max_depth\n",
        "    self.target = target\n",
        "    self.dataframe = dataframe\n",
        "\n",
        "  def __quanti_split__(self, feature, value, dataset):\n",
        "   \"\"\"Cette fonction split un jeu de données en fonction\n",
        "   de la valeur 'value' de la variable quantitative 'feature' passé en paramètre\n",
        "   INPUT \n",
        "    - feature : integer correspondant à la variable à séparer\n",
        "    - value : integer correspond à la valeur à laquelle séparer notre jeu de données\n",
        "    - dataset : pandas dataframe à séparer\n",
        "   OUTPUT \n",
        "    - left : dataframe avec les données où 'feature' est plus petit ou égale à 'value'\n",
        "    - right : dataframe avec les données où 'feature' est plus grande que 'value' \n",
        "   \"\"\"\n",
        "   \n",
        "   left = dataset[dataset.loc[:,feature]<= value]\n",
        "   right = dataset[dataset.loc[:,feature]> value]\n",
        "\n",
        "   return left, right\n",
        "\n",
        "  def __quali_split__(self, feature, value, dataset):\n",
        "   \"\"\"Cette fonction split un jeu de données en fonction\n",
        "   de la valeur 'value' de la variable qualitative 'feature' passé en paramètre\n",
        "   INPUT \n",
        "    - feature : integer correspondant à la variable à séparer\n",
        "    - value : integer correspond à la valeur à laquelle séparer notre jeu de données\n",
        "    - dataset : pandas dataframe à séparer\n",
        "   OUTPUT \n",
        "    - left : dataframe avec les données où 'feature' est égale 'value'\n",
        "    - right : dataframe avec les données où 'feature' est différent 'value'\n",
        "   \"\"\"\n",
        "   \n",
        "   left = dataset[dataset.loc[:,feature]== value]\n",
        "   right = dataset[dataset.loc[:,feature]!= value]\n",
        "\n",
        "   return left, right\n",
        "\n",
        "\n",
        "  def __add_dict__(self, prec_dict, new_dict) :\n",
        "    \"\"\" Cette fonction fusionne des dictionnaires \n",
        "    en sommant les valeurs des clefs similaires\n",
        "    INPUT \n",
        "       - prec_dict : dictionnaire de fusion\n",
        "       - new_dict : dictionnaire à fusionner \n",
        "    OUTPUT \n",
        "       - prec_dict : dictionnaire avec en clef la 'classe'\n",
        "       et en 'valeur' son occurence dans le dataset\"\"\"\n",
        "    if list(new_dict.keys())[0] in prec_dict:\n",
        "      prec_dict[list(new_dict.keys())[0]] += 1\n",
        "    else : \n",
        "      prec_dict[list(new_dict.keys())[0]] = 1\n",
        "    return prec_dict\n",
        "\n",
        "  def __gini__(self, dataset):\n",
        "    \"\"\"Calculer les indices Gini du dataset passé en paramètre\n",
        "    INPUT \n",
        "       - dataset : dataframe contenant la variable 'self.target'\n",
        "    OUTPUT\n",
        "       - impurity : l'impureté calculée à partir du dataset\n",
        "    \"\"\"\n",
        "    rows = dataset[self.target]\n",
        "    class_dict = list(map(lambda x: {x: 1}, rows))\n",
        "    class_dict_sum = reduce(self.__add_dict__, class_dict)\n",
        "    occu_class = np.fromiter(reduce(self.__add_dict__, \n",
        "                                    list(map(lambda x: {x: 1}, rows))).values(), \n",
        "                             dtype=float)\n",
        "    pop = np.sum(occu_class)\n",
        "    impurity = 1 - np.sum((occu_class/pop)**2)\n",
        "    return impurity   \n",
        "\n",
        "  def __split_evaluator__(self, left_dataset, right_dataset):\n",
        "    \"\"\" Calculer le coût d'une séparation d'un noeud en deux branches\n",
        "    INPUT \n",
        "       - left_dataset : dataset de la branche de gauche\n",
        "       - right_dataset : dataset de la branche de droite\n",
        "    OUTPUT \n",
        "       - cost : coût de la séparation\"\"\"\n",
        "    left_eval = self.__gini__(left_dataset)\n",
        "    nb_left = left_dataset.shape[0]\n",
        "    right_eval = self.__gini__(right_dataset)\n",
        "    nb_right = right_dataset.shape[0]\n",
        "    nb_tot = nb_left + nb_right\n",
        "    cost = nb_left/nb_tot * left_eval + nb_right/nb_tot * right_eval\n",
        "    return cost "
      ],
      "execution_count": 0,
      "outputs": []
    },
    {
      "cell_type": "markdown",
      "metadata": {
        "id": "ovBAPaSPR5s9",
        "colab_type": "text"
      },
      "source": [
        "Un exemple pour vérifier que la fonction d'évaluation de la séparation fonctionne bien."
      ]
    },
    {
      "cell_type": "code",
      "metadata": {
        "id": "igx-AI3PQG2g",
        "colab_type": "code",
        "outputId": "50f31da7-99fc-44e9-bb51-78671b9c668c",
        "colab": {
          "base_uri": "https://localhost:8080/",
          "height": 34
        }
      },
      "source": [
        "tree_classif = decision_tree('classification', dataframe_classif, 4)\n",
        "left_classif, right_classif = tree_classif.__quali_split__('poil', 1, dataframe_classif)\n",
        "tree_classif.__split_evaluator__(left_classif, right_classif)"
      ],
      "execution_count": 0,
      "outputs": [
        {
          "output_type": "execute_result",
          "data": {
            "text/plain": [
              "0.47916666666666663"
            ]
          },
          "metadata": {
            "tags": []
          },
          "execution_count": 19
        }
      ]
    },
    {
      "cell_type": "markdown",
      "metadata": {
        "id": "vDLTgigOV3Js",
        "colab_type": "text"
      },
      "source": [
        "## Évaluer les séparations possibles\n",
        "\n",
        "Maintenant que l'on sait évaluer la performance des séparations, il faut créer une fonction qui va tester toutes les séparations possibles afin de les évaluer et trouver la meilleure séparation. "
      ]
    },
    {
      "cell_type": "code",
      "metadata": {
        "id": "YSodRZ4AV3sq",
        "colab_type": "code",
        "colab": {}
      },
      "source": [
        "class decision_tree :\n",
        "  \"\"\" Cette classe a pour but de créer un algorithme d'apprentissage automatique\n",
        "  d'arbres de décision classifieur\"\"\"\n",
        "\n",
        "  def __init__(self, target, dataframe, max_depth):\n",
        "    \"\"\"Cette fonction a pour but d'initialiser les variables essentiel à la \n",
        "    construction de notre algorithme.\n",
        "   INPUT \n",
        "    - target : la variable cible qu'il faudra classifier\n",
        "    - dataframe : les données d'apprentissage\n",
        "    - max_deapth : la profondeur maximal de l'arbre à entraîner\n",
        "   \"\"\"\n",
        "    self.max_depth = max_depth\n",
        "    self.target = target\n",
        "    self.dataframe = dataframe\n",
        "\n",
        "  def __quanti_split__(self, feature, value, dataset):\n",
        "   \"\"\"Cette fonction split un jeu de données en fonction\n",
        "   de la valeur 'value' de la variable quantitative 'feature' passé en paramètre\n",
        "   INPUT \n",
        "    - feature : integer correspondant à la variable à séparer\n",
        "    - value : integer correspond à la valeur à laquelle séparer notre jeu de données\n",
        "    - dataset : pandas dataframe à séparer\n",
        "   OUTPUT \n",
        "    - left : dataframe avec les données où 'feature' est plus petit ou égale à 'value'\n",
        "    - right : dataframe avec les données où 'feature' est plus grande que 'value' \n",
        "   \"\"\"\n",
        "   \n",
        "   left = dataset[dataset.loc[:,feature]<= value]\n",
        "   right = dataset[dataset.loc[:,feature]> value]\n",
        "\n",
        "   return left, right\n",
        "\n",
        "  def __quali_split__(self, feature, value, dataset):\n",
        "   \"\"\"Cette fonction split un jeu de données en fonction\n",
        "   de la valeur 'value' de la variable qualitative 'feature' passé en paramètre\n",
        "   INPUT \n",
        "    - feature : integer correspondant à la variable à séparer\n",
        "    - value : integer correspond à la valeur à laquelle séparer notre jeu de données\n",
        "    - dataset : pandas dataframe à séparer\n",
        "   OUTPUT \n",
        "    - left : dataframe avec les données où 'feature' est égale 'value'\n",
        "    - right : dataframe avec les données où 'feature' est différent 'value'\n",
        "   \"\"\"\n",
        "   \n",
        "   left = dataset[dataset.loc[:,feature]== value]\n",
        "   right = dataset[dataset.loc[:,feature]!= value]\n",
        "\n",
        "   return left, right\n",
        "\n",
        "\n",
        "  def __add_dict__(self, prec_dict, new_dict) :\n",
        "    \"\"\" Cette fonction fusionne des dictionnaires \n",
        "    en sommant les valeurs des clefs similaires\n",
        "    INPUT \n",
        "       - prec_dict : dictionnaire de fusion\n",
        "       - new_dict : dictionnaire à fusionner \n",
        "    OUTPUT \n",
        "       - prec_dict : dictionnaire avec en clef la 'classe'\n",
        "       et en 'valeur' son occurence dans le dataset\"\"\"\n",
        "    if list(new_dict.keys())[0] in prec_dict:\n",
        "      prec_dict[list(new_dict.keys())[0]] += 1\n",
        "    else : \n",
        "      prec_dict[list(new_dict.keys())[0]] = 1\n",
        "    return prec_dict\n",
        "\n",
        "  def __gini__(self, dataset):\n",
        "    \"\"\"Calculer les indices Gini du dataset passé en paramètre\n",
        "    INPUT \n",
        "       - dataset : dataframe contenant la variable 'self.target'\n",
        "    OUTPUT\n",
        "       - impurity : l'impureté calculée à partir du dataset\n",
        "    \"\"\"\n",
        "    rows = dataset[self.target]\n",
        "    class_dict = list(map(lambda x: {x: 1}, rows))\n",
        "    class_dict_sum = reduce(self.__add_dict__, class_dict)\n",
        "    occu_class = np.fromiter(reduce(self.__add_dict__, \n",
        "                                    list(map(lambda x: {x: 1}, rows))).values(), \n",
        "                             dtype=float)\n",
        "    pop = np.sum(occu_class)\n",
        "    impurity = 1 - np.sum((occu_class/pop)**2)\n",
        "    return impurity   \n",
        "\n",
        "  def __split_evaluator__(self, left_dataset, right_dataset):\n",
        "    \"\"\" Calculer le coût d'une séparation d'un noeud en deux branches\n",
        "    INPUT \n",
        "       - left_dataset : dataset de la branche de gauche\n",
        "       - right_dataset : dataset de la branche de droite\n",
        "    OUTPUT \n",
        "       - cost : coût de la séparation\"\"\"\n",
        "    left_eval = self.__gini__(left_dataset)\n",
        "    nb_left = left_dataset.shape[0]\n",
        "    right_eval = self.__gini__(right_dataset)\n",
        "    nb_right = right_dataset.shape[0]\n",
        "    nb_tot = nb_left + nb_right\n",
        "    cost = nb_left/nb_tot * left_eval + nb_right/nb_tot * right_eval\n",
        "    return cost \n",
        "\n",
        "  def __test_quali__(self, dataset, feature):\n",
        "    \"\"\" Tester toutes les séparations possibles d'une variable qualitative\n",
        "    INPUT \n",
        "       - dataset : dataset à évaluer\n",
        "       - feature : variable du dataset à évaluer\n",
        "    OUTPUT \n",
        "       - df_eval : dataframe contenant le coût de chaque séparation\"\"\"   \n",
        "\n",
        "    df_eval = pd.DataFrame([], columns=('feature', 'value', 'nature', 'cost'))\n",
        "    for value in dataset.loc[:, feature].unique() :\n",
        "      left, right = self.__quali_split__(feature, value, dataset)\n",
        "      cost_result = self.__split_evaluator__(left, right)\n",
        "      df_eval = df_eval.append(pd.DataFrame([[feature, \n",
        "                                              value,\n",
        "                                              'quali',\n",
        "                                              cost_result]],\n",
        "                                            columns=('feature', 'value', 'nature', 'cost')))\n",
        "    return df_eval\n",
        "\n",
        "\n",
        "  def __test_quanti__(self, dataset, feature):\n",
        "    \"\"\" Tester toutes les séparations possibles d'une variable quantitative\n",
        "    INPUT \n",
        "       - dataset : dataset à évaluer\n",
        "       - feature : variable du dataset à évaluer\n",
        "    OUTPUT \n",
        "       - df_eval : dataframe contenant le coût de chaque séparation\"\"\" \n",
        "\n",
        "    df_eval = pd.DataFrame([], columns=('feature', 'value', 'nature', 'cost'))\n",
        "    value_to_test = (dataset.loc[:, feature].sort_values()[1:].values + dataset.loc[:, feature].sort_values()[:-1].values)/2\n",
        "    for value in value_to_test :\n",
        "      left, right = self.__quanti_split__(feature, value, dataset)\n",
        "      cost_result = self.__split_evaluator__(left, right)\n",
        "      df_eval = df_eval.append(pd.DataFrame([[feature, \n",
        "                                              value,\n",
        "                                              'quanti',\n",
        "                                              cost_result]],\n",
        "                                            columns=('feature', 'value', 'nature', 'cost')))\n",
        "    return df_eval"
      ],
      "execution_count": 0,
      "outputs": []
    },
    {
      "cell_type": "markdown",
      "metadata": {
        "id": "KQ3XoSzsX8KO",
        "colab_type": "text"
      },
      "source": [
        "Un exemple pour vérifier notre nouvelle fonction."
      ]
    },
    {
      "cell_type": "code",
      "metadata": {
        "id": "4eO7GsffYAWq",
        "colab_type": "code",
        "outputId": "27af1253-57f8-4124-d5f7-c7b218da7018",
        "colab": {
          "base_uri": "https://localhost:8080/",
          "height": 111
        }
      },
      "source": [
        "tree_classif = decision_tree('classification', dataframe_classif, 4)\n",
        "tree_classif.__test_quali__(dataframe_classif, 'gésier')"
      ],
      "execution_count": 0,
      "outputs": [
        {
          "output_type": "execute_result",
          "data": {
            "text/html": [
              "<div>\n",
              "<style scoped>\n",
              "    .dataframe tbody tr th:only-of-type {\n",
              "        vertical-align: middle;\n",
              "    }\n",
              "\n",
              "    .dataframe tbody tr th {\n",
              "        vertical-align: top;\n",
              "    }\n",
              "\n",
              "    .dataframe thead th {\n",
              "        text-align: right;\n",
              "    }\n",
              "</style>\n",
              "<table border=\"1\" class=\"dataframe\">\n",
              "  <thead>\n",
              "    <tr style=\"text-align: right;\">\n",
              "      <th></th>\n",
              "      <th>feature</th>\n",
              "      <th>value</th>\n",
              "      <th>nature</th>\n",
              "      <th>cost</th>\n",
              "    </tr>\n",
              "  </thead>\n",
              "  <tbody>\n",
              "    <tr>\n",
              "      <th>0</th>\n",
              "      <td>gésier</td>\n",
              "      <td>1</td>\n",
              "      <td>quali</td>\n",
              "      <td>0.533333</td>\n",
              "    </tr>\n",
              "    <tr>\n",
              "      <th>0</th>\n",
              "      <td>gésier</td>\n",
              "      <td>0</td>\n",
              "      <td>quali</td>\n",
              "      <td>0.533333</td>\n",
              "    </tr>\n",
              "  </tbody>\n",
              "</table>\n",
              "</div>"
            ],
            "text/plain": [
              "  feature value nature      cost\n",
              "0  gésier     1  quali  0.533333\n",
              "0  gésier     0  quali  0.533333"
            ]
          },
          "metadata": {
            "tags": []
          },
          "execution_count": 22
        }
      ]
    },
    {
      "cell_type": "markdown",
      "metadata": {
        "id": "IAtJJRhOYaQR",
        "colab_type": "text"
      },
      "source": [
        "Utilisons nos nouvelles fonctions afin de déterminer la meilleure séparation de notre dataset."
      ]
    },
    {
      "cell_type": "code",
      "metadata": {
        "id": "I3qWlxbFYgTU",
        "colab_type": "code",
        "colab": {}
      },
      "source": [
        "class decision_tree :\n",
        "  \"\"\" Cette classe a pour but de créer un algorithme d'apprentissage automatique\n",
        "  d'arbres de décision classifieur\"\"\"\n",
        "\n",
        "  def __init__(self, target, dataframe, max_depth):\n",
        "    \"\"\"Cette fonction a pour but d'initialiser les variables essentiel à la \n",
        "    construction de notre algorithme.\n",
        "   INPUT \n",
        "    - target : la variable cible qu'il faudra classifier\n",
        "    - dataframe : les données d'apprentissage\n",
        "    - max_deapth : la profondeur maximal de l'arbre à entraîner\n",
        "   \"\"\"\n",
        "    self.max_depth = max_depth\n",
        "    self.target = target\n",
        "    self.dataframe = dataframe\n",
        "\n",
        "  def __quanti_split__(self, feature, value, dataset):\n",
        "   \"\"\"Cette fonction split un jeu de données en fonction\n",
        "   de la valeur 'value' de la variable quantitative 'feature' passé en paramètre\n",
        "   INPUT \n",
        "    - feature : integer correspondant à la variable à séparer\n",
        "    - value : integer correspond à la valeur à laquelle séparer notre jeu de données\n",
        "    - dataset : pandas dataframe à séparer\n",
        "   OUTPUT \n",
        "    - left : dataframe avec les données où 'feature' est plus petit ou égale à 'value'\n",
        "    - right : dataframe avec les données où 'feature' est plus grande que 'value' \n",
        "   \"\"\"\n",
        "   \n",
        "   left = dataset[dataset.loc[:,feature]<= value]\n",
        "   right = dataset[dataset.loc[:,feature]> value]\n",
        "\n",
        "   return left, right\n",
        "\n",
        "  def __quali_split__(self, feature, value, dataset):\n",
        "   \"\"\"Cette fonction split un jeu de données en fonction\n",
        "   de la valeur 'value' de la variable qualitative 'feature' passé en paramètre\n",
        "   INPUT \n",
        "    - feature : integer correspondant à la variable à séparer\n",
        "    - value : integer correspond à la valeur à laquelle séparer notre jeu de données\n",
        "    - dataset : pandas dataframe à séparer\n",
        "   OUTPUT \n",
        "    - left : dataframe avec les données où 'feature' est égale 'value'\n",
        "    - right : dataframe avec les données où 'feature' est différent 'value'\n",
        "   \"\"\"\n",
        "   \n",
        "   left = dataset[dataset.loc[:,feature]== value]\n",
        "   right = dataset[dataset.loc[:,feature]!= value]\n",
        "\n",
        "   return left, right\n",
        "\n",
        "\n",
        "  def __add_dict__(self, prec_dict, new_dict) :\n",
        "    \"\"\" Cette fonction fusionne des dictionnaires \n",
        "    en sommant les valeurs des clefs similaires\n",
        "    INPUT \n",
        "       - prec_dict : dictionnaire de fusion\n",
        "       - new_dict : dictionnaire à fusionner \n",
        "    OUTPUT \n",
        "       - prec_dict : dictionnaire avec en clef la 'classe'\n",
        "       et en 'valeur' son occurence dans le dataset\"\"\"\n",
        "    if list(new_dict.keys())[0] in prec_dict:\n",
        "      prec_dict[list(new_dict.keys())[0]] += 1\n",
        "    else : \n",
        "      prec_dict[list(new_dict.keys())[0]] = 1\n",
        "    return prec_dict\n",
        "\n",
        "  def __gini__(self, dataset):\n",
        "    \"\"\"Calculer les indices Gini du dataset passé en paramètre\n",
        "    INPUT \n",
        "       - dataset : dataframe contenant la variable 'self.target'\n",
        "    OUTPUT\n",
        "       - impurity : l'impureté calculée à partir du dataset\n",
        "    \"\"\"\n",
        "    rows = dataset[self.target]\n",
        "    class_dict = list(map(lambda x: {x: 1}, rows))\n",
        "    class_dict_sum = reduce(self.__add_dict__, class_dict)\n",
        "    occu_class = np.fromiter(reduce(self.__add_dict__, \n",
        "                                    list(map(lambda x: {x: 1}, rows))).values(), \n",
        "                             dtype=float)\n",
        "    pop = np.sum(occu_class)\n",
        "    impurity = 1 - np.sum((occu_class/pop)**2)\n",
        "    return impurity   \n",
        "\n",
        "  def __split_evaluator__(self, left_dataset, right_dataset):\n",
        "    \"\"\" Calculer le coût d'une séparation d'un noeud en deux branches\n",
        "    INPUT \n",
        "       - left_dataset : dataset de la branche de gauche\n",
        "       - right_dataset : dataset de la branche de droite\n",
        "    OUTPUT \n",
        "       - cost : coût de la séparation\"\"\"\n",
        "    left_eval = self.__gini__(left_dataset)\n",
        "    nb_left = left_dataset.shape[0]\n",
        "    right_eval = self.__gini__(right_dataset)\n",
        "    nb_right = right_dataset.shape[0]\n",
        "    nb_tot = nb_left + nb_right\n",
        "    cost = nb_left/nb_tot * left_eval + nb_right/nb_tot * right_eval\n",
        "    return cost \n",
        "\n",
        "  def __test_quali__(self, dataset, feature):\n",
        "    \"\"\" Tester toutes les séparations possibles d'une variable qualitative\n",
        "    INPUT \n",
        "       - dataset : dataset à évaluer\n",
        "       - feature : variable du dataset à évaluer\n",
        "    OUTPUT \n",
        "       - df_eval : dataframe contenant le coût de chaque séparation\"\"\"   \n",
        "\n",
        "    df_eval = pd.DataFrame([], columns=('feature', 'value', 'nature', 'cost'))\n",
        "    for value in dataset.loc[:, feature].unique() :\n",
        "      left, right = self.__quali_split__(feature, value, dataset)\n",
        "      cost_result = self.__split_evaluator__(left, right)\n",
        "      df_eval = df_eval.append(pd.DataFrame([[feature, \n",
        "                                              value,\n",
        "                                              'quali',\n",
        "                                              cost_result]],\n",
        "                                            columns=('feature', 'value', 'nature', 'cost')))\n",
        "    return df_eval\n",
        "\n",
        "\n",
        "  def __test_quanti__(self, dataset, feature):\n",
        "    \"\"\" Tester toutes les séparations possibles d'une variable quantitative\n",
        "    INPUT \n",
        "       - dataset : dataset à évaluer\n",
        "       - feature : variable du dataset à évaluer\n",
        "    OUTPUT \n",
        "       - df_eval : dataframe contenant le coût de chaque séparation\"\"\" \n",
        "\n",
        "    df_eval = pd.DataFrame([], columns=('feature', 'value', 'nature', 'cost'))\n",
        "    value_to_test = (dataset.loc[:, feature].sort_values()[1:].values + dataset.loc[:, feature].sort_values()[:-1].values)/2\n",
        "    for value in value_to_test :\n",
        "      left, right = self.__quanti_split__(feature, value, dataset)\n",
        "      cost_result = self.__split_evaluator__(left, right)\n",
        "      df_eval = df_eval.append(pd.DataFrame([[feature, \n",
        "                                              value,\n",
        "                                              'quanti',\n",
        "                                              cost_result]],\n",
        "                                            columns=('feature', 'value', 'nature', 'cost')))\n",
        "    return df_eval\n",
        "\n",
        "\n",
        "  def __find_best_split__(self, dataset):\n",
        "    \"\"\" Trouver la meilleure séparation de notre jeu de données\n",
        "    INPUT \n",
        "       - dataset : jeu de données à séparer\n",
        "    OUTPUT \n",
        "       - def_eval : dataset contenant 'feature' variable à séparer, 'value' \n",
        "       la valeur à laquelle séparer la variable, 'nature' la nature de la \n",
        "       variable et 'cost' le coût de cette séparation\"\"\"\n",
        "    df_eval = pd.DataFrame([], columns=('feature', 'value', 'nature', 'cost'))\n",
        "    columns = dataset.columns[np.logical_not(dataset.columns == self.target)]\n",
        "    for column in columns : \n",
        "      if len(dataset[column].unique()) >= 10 :\n",
        "        df_eval = df_eval.append(self.__test_quanti__(dataset, column))\n",
        "      elif len(dataset[column].unique()) > 1 :\n",
        "        df_eval = df_eval.append(self.__test_quali__(dataset, column))\n",
        "\n",
        "    df_eval = df_eval.reset_index(drop=True)\n",
        "\n",
        "    idx_cost_min = df_eval['cost'].idxmin(axis=0, skipna=True)\n",
        "\n",
        "    return df_eval.iloc[idx_cost_min, :]"
      ],
      "execution_count": 0,
      "outputs": []
    },
    {
      "cell_type": "markdown",
      "metadata": {
        "id": "VS_DwCQ5ZJXz",
        "colab_type": "text"
      },
      "source": [
        "Un exemple, pour vérifier si notre fonction est opérationnelle. "
      ]
    },
    {
      "cell_type": "code",
      "metadata": {
        "id": "uZKNVnzYZKTr",
        "colab_type": "code",
        "outputId": "01c5f611-fa4c-4a43-ca78-7cb9be570589",
        "colab": {
          "base_uri": "https://localhost:8080/",
          "height": 102
        }
      },
      "source": [
        "tree_classif = decision_tree('classification', dataframe_classif, 4)\n",
        "tree_classif.__find_best_split__(dataframe_classif)"
      ],
      "execution_count": 0,
      "outputs": [
        {
          "output_type": "execute_result",
          "data": {
            "text/plain": [
              "feature        poil\n",
              "value             0\n",
              "nature        quali\n",
              "cost       0.479167\n",
              "Name: 4, dtype: object"
            ]
          },
          "metadata": {
            "tags": []
          },
          "execution_count": 24
        }
      ]
    },
    {
      "cell_type": "markdown",
      "metadata": {
        "id": "mFZeuSRBdMzN",
        "colab_type": "text"
      },
      "source": [
        "## Les branches\n",
        "\n",
        "Nous avons rassemblé quasiment toutes les fonctions nécessaires pour créer notre algorithme d'arbre de décision. Il nous manque cependant la création de branches qui constitue le corps de notre arbre. Nous allons représenter nos branches sous forme de classe. "
      ]
    },
    {
      "cell_type": "code",
      "metadata": {
        "id": "7PL59NendXIL",
        "colab_type": "code",
        "colab": {}
      },
      "source": [
        "class node:\n",
        "   \"\"\"Cette classe a pour but de représenter les branches de notre arbre de\n",
        "   classification.\n",
        "   \"\"\"   \n",
        "   def __init__(self, feature, value, cost, nature, left_branch, right_branch, depth, pop):\n",
        "      self.feature = feature\n",
        "      self.value = value\n",
        "      self.nature = nature\n",
        "      self.left_branch = left_branch\n",
        "      self.right_branch = right_branch\n",
        "      self.depth = depth\n",
        "      self.pop = pop  \n",
        "\n",
        "   def __split__(self):\n",
        "      if self.nature == 'quanti' :\n",
        "          return self.feature + ' <= ' + str(self.value)\n",
        "      elif self.nature == 'quali' :\n",
        "          return self.feature + ' == ' + str(self.value)"
      ],
      "execution_count": 0,
      "outputs": []
    },
    {
      "cell_type": "markdown",
      "metadata": {
        "id": "225twdvCeBxI",
        "colab_type": "text"
      },
      "source": [
        "Un exemple pour vérifier que notre classe conserve les informations dont nous avons besoin."
      ]
    },
    {
      "cell_type": "code",
      "metadata": {
        "id": "gYjKTGiIeJsl",
        "colab_type": "code",
        "outputId": "16d378b6-280f-4232-8295-53837d5302a1",
        "colab": {
          "base_uri": "https://localhost:8080/",
          "height": 34
        }
      },
      "source": [
        "tree_classif = decision_tree('classification', dataframe_classif, 4)\n",
        "feature, value, nature, cost = tree_classif.__find_best_split__(dataframe_classif)\n",
        "left_branch, right_branch = tree_classif.__quali_split__(feature, value, dataframe_classif)\n",
        "branch = node(feature, value, cost, nature, left_branch, right_branch, 0, 100)\n",
        "\n",
        "print(branch.__split__())"
      ],
      "execution_count": 0,
      "outputs": [
        {
          "output_type": "stream",
          "text": [
            "poil == 0\n"
          ],
          "name": "stdout"
        }
      ]
    },
    {
      "cell_type": "markdown",
      "metadata": {
        "id": "e_48K4EkZorU",
        "colab_type": "text"
      },
      "source": [
        "## Les feuilles \n",
        "\n",
        "Nous avons rassemblé quasiment toutes les fonctions nécessaires pour créer notre algorithme d'arbre de décision. Il nous manque cependant la création de feuille. Nous allons représenter nos feuilles sous forme de classe. "
      ]
    },
    {
      "cell_type": "code",
      "metadata": {
        "id": "A08Z80iQZ80O",
        "colab_type": "code",
        "colab": {}
      },
      "source": [
        "class decision_tree :\n",
        "  \"\"\" Cette classe a pour but de créer un algorithme d'apprentissage automatique\n",
        "  d'arbres de décision classifieur\"\"\"\n",
        "\n",
        "  def __init__(self, target, dataframe, max_depth):\n",
        "    \"\"\"Cette fonction a pour but d'initialiser les variables essentiel à la \n",
        "    construction de notre algorithme.\n",
        "   INPUT \n",
        "    - target : la variable cible qu'il faudra classifier\n",
        "    - dataframe : les données d'apprentissage\n",
        "    - max_deapth : la profondeur maximal de l'arbre à entraîner\n",
        "   \"\"\"\n",
        "    self.max_depth = max_depth\n",
        "    self.target = target\n",
        "    self.dataframe = dataframe\n",
        "\n",
        "  def __quanti_split__(self, feature, value, dataset):\n",
        "   \"\"\"Cette fonction split un jeu de données en fonction\n",
        "   de la valeur 'value' de la variable quantitative 'feature' passé en paramètre\n",
        "   INPUT \n",
        "    - feature : integer correspondant à la variable à séparer\n",
        "    - value : integer correspond à la valeur à laquelle séparer notre jeu de données\n",
        "    - dataset : pandas dataframe à séparer\n",
        "   OUTPUT \n",
        "    - left : dataframe avec les données où 'feature' est plus petit ou égale à 'value'\n",
        "    - right : dataframe avec les données où 'feature' est plus grande que 'value' \n",
        "   \"\"\"\n",
        "   \n",
        "   left = dataset[dataset.loc[:,feature]<= value]\n",
        "   right = dataset[dataset.loc[:,feature]> value]\n",
        "\n",
        "   return left, right\n",
        "\n",
        "  def __quali_split__(self, feature, value, dataset):\n",
        "   \"\"\"Cette fonction split un jeu de données en fonction\n",
        "   de la valeur 'value' de la variable qualitative 'feature' passé en paramètre\n",
        "   INPUT \n",
        "    - feature : integer correspondant à la variable à séparer\n",
        "    - value : integer correspond à la valeur à laquelle séparer notre jeu de données\n",
        "    - dataset : pandas dataframe à séparer\n",
        "   OUTPUT \n",
        "    - left : dataframe avec les données où 'feature' est égale 'value'\n",
        "    - right : dataframe avec les données où 'feature' est différent 'value'\n",
        "   \"\"\"\n",
        "   \n",
        "   left = dataset[dataset.loc[:,feature]== value]\n",
        "   right = dataset[dataset.loc[:,feature]!= value]\n",
        "\n",
        "   return left, right\n",
        "\n",
        "\n",
        "  def __add_dict__(self, prec_dict, new_dict) :\n",
        "    \"\"\" Cette fonction fusionne des dictionnaires \n",
        "    en sommant les valeurs des clefs similaires\n",
        "    INPUT \n",
        "       - prec_dict : dictionnaire de fusion\n",
        "       - new_dict : dictionnaire à fusionner \n",
        "    OUTPUT \n",
        "       - prec_dict : dictionnaire avec en clef la 'classe'\n",
        "       et en 'valeur' son occurence dans le dataset\"\"\"\n",
        "    if list(new_dict.keys())[0] in prec_dict:\n",
        "      prec_dict[list(new_dict.keys())[0]] += 1\n",
        "    else : \n",
        "      prec_dict[list(new_dict.keys())[0]] = 1\n",
        "    return prec_dict\n",
        "\n",
        "  def __gini__(self, dataset):\n",
        "    \"\"\"Calculer les indices Gini du dataset passé en paramètre\n",
        "    INPUT \n",
        "       - dataset : dataframe contenant la variable 'self.target'\n",
        "    OUTPUT\n",
        "       - impurity : l'impureté calculée à partir du dataset\n",
        "    \"\"\"\n",
        "    rows = dataset[self.target]\n",
        "    class_dict = list(map(lambda x: {x: 1}, rows))\n",
        "    class_dict_sum = reduce(self.__add_dict__, class_dict)\n",
        "    occu_class = np.fromiter(reduce(self.__add_dict__, \n",
        "                                    list(map(lambda x: {x: 1}, rows))).values(), \n",
        "                             dtype=float)\n",
        "    pop = np.sum(occu_class)\n",
        "    impurity = 1 - np.sum((occu_class/pop)**2)\n",
        "    return impurity   \n",
        "\n",
        "  def __split_evaluator__(self, left_dataset, right_dataset):\n",
        "    \"\"\" Calculer le coût d'une séparation d'un noeud en deux branches\n",
        "    INPUT \n",
        "       - left_dataset : dataset de la branche de gauche\n",
        "       - right_dataset : dataset de la branche de droite\n",
        "    OUTPUT \n",
        "       - cost : coût de la séparation\"\"\"\n",
        "    left_eval = self.__gini__(left_dataset)\n",
        "    nb_left = left_dataset.shape[0]\n",
        "    right_eval = self.__gini__(right_dataset)\n",
        "    nb_right = right_dataset.shape[0]\n",
        "    nb_tot = nb_left + nb_right\n",
        "    cost = nb_left/nb_tot * left_eval + nb_right/nb_tot * right_eval\n",
        "    return cost \n",
        "\n",
        "  def __test_quali__(self, dataset, feature):\n",
        "    \"\"\" Tester toutes les séparations possibles d'une variable qualitative\n",
        "    INPUT \n",
        "       - dataset : dataset à évaluer\n",
        "       - feature : variable du dataset à évaluer\n",
        "    OUTPUT \n",
        "       - df_eval : dataframe contenant le coût de chaque séparation\"\"\"   \n",
        "\n",
        "    df_eval = pd.DataFrame([], columns=('feature', 'value', 'nature', 'cost'))\n",
        "    for value in dataset.loc[:, feature].unique() :\n",
        "      left, right = self.__quali_split__(feature, value, dataset)\n",
        "      cost_result = self.__split_evaluator__(left, right)\n",
        "      df_eval = df_eval.append(pd.DataFrame([[feature, \n",
        "                                              value,\n",
        "                                              'quali',\n",
        "                                              cost_result]],\n",
        "                                            columns=('feature', 'value', 'nature', 'cost')))\n",
        "    return df_eval\n",
        "\n",
        "\n",
        "  def __test_quanti__(self, dataset, feature):\n",
        "    \"\"\" Tester toutes les séparations possibles d'une variable quantitative\n",
        "    INPUT \n",
        "       - dataset : dataset à évaluer\n",
        "       - feature : variable du dataset à évaluer\n",
        "    OUTPUT \n",
        "       - df_eval : dataframe contenant le coût de chaque séparation\"\"\" \n",
        "\n",
        "    df_eval = pd.DataFrame([], columns=('feature', 'value', 'nature', 'cost'))\n",
        "    value_to_test = (dataset.loc[:, feature].sort_values()[1:].values + dataset.loc[:, feature].sort_values()[:-1].values)/2\n",
        "    for value in value_to_test :\n",
        "      left, right = self.__quanti_split__(feature, value, dataset)\n",
        "      cost_result = self.__split_evaluator__(left, right)\n",
        "      df_eval = df_eval.append(pd.DataFrame([[feature, \n",
        "                                              value,\n",
        "                                              'quanti',\n",
        "                                              cost_result]],\n",
        "                                            columns=('feature', 'value', 'nature', 'cost')))\n",
        "    return df_eval\n",
        "\n",
        "\n",
        "  def __find_best_split__(self, dataset):\n",
        "    \"\"\" Trouver la meilleure séparation de notre jeu de données\n",
        "    INPUT \n",
        "       - dataset : jeu de données à séparer\n",
        "    OUTPUT \n",
        "       - def_eval : dataset contenant 'feature' variable à séparer, 'value' \n",
        "       la valeur à laquelle séparer la variable, 'nature' la nature de la \n",
        "       variable et 'cost' le coût de cette séparation\"\"\"\n",
        "    df_eval = pd.DataFrame([], columns=('feature', 'value', 'nature', 'cost'))\n",
        "    columns = dataset.columns[np.logical_not(dataset.columns == self.target)]\n",
        "    for column in columns : \n",
        "      if len(dataset[column].unique()) >= 10 :\n",
        "        df_eval = df_eval.append(self.__test_quanti__(dataset, column))\n",
        "      elif len(dataset[column].unique()) > 1 :\n",
        "        df_eval = df_eval.append(self.__test_quali__(dataset, column))\n",
        "\n",
        "    df_eval = df_eval.reset_index(drop=True)\n",
        "\n",
        "    idx_cost_min = df_eval['cost'].idxmin(axis=0, skipna=True)\n",
        "\n",
        "    return df_eval.iloc[idx_cost_min, :]\n",
        "\n",
        "  def create_leaf(self, dataset):\n",
        "    \"\"\" Création d'une feuille \n",
        "    INPUT \n",
        "       - dataset : dataset de la feuille à construire\n",
        "    OUTPUT \n",
        "       - leaf : la classe feuille créée avec les informations de notre dataset\"\"\"\n",
        "\n",
        "    labels = dataset[self.target]\n",
        "    pop = labels.shape[0]\n",
        "    class_dict = list(map(lambda x: {x: 1}, labels))\n",
        "    class_dict_sum = reduce(self.__add_dict__, class_dict)\n",
        "    prediction = max(class_dict_sum.items(), key=operator.itemgetter(1))[0]\n",
        "    proba = {k: v/pop for k, v in class_dict_sum.items()}\n",
        "  \n",
        "    return leaf(dataset, pop, class_dict_sum, prediction, proba)\n",
        "\n",
        "class leaf:\n",
        "  \"\"\"Cette classe a pour but de représenter les feuilles de notre arbre de\n",
        "  classification.\n",
        "  \"\"\"\n",
        "  def __init__(self, dataset, pop, class_dict_sum, prediction, proba):\n",
        "    self.dataset = dataset\n",
        "    self.pop = pop\n",
        "    self.class_dict_sum = class_dict_sum\n",
        "    self.prediction = prediction\n",
        "    self.proba = proba"
      ],
      "execution_count": 0,
      "outputs": []
    },
    {
      "cell_type": "markdown",
      "metadata": {
        "id": "sbqWu9WAbwAs",
        "colab_type": "text"
      },
      "source": [
        "Un exemple pour vérifier que notre classe conserve les informations dont nous avons besoin."
      ]
    },
    {
      "cell_type": "code",
      "metadata": {
        "id": "t0PzfL9gbwuj",
        "colab_type": "code",
        "outputId": "1e3a4e4f-020d-42ae-a08b-aa8e6c5e898f",
        "colab": {
          "base_uri": "https://localhost:8080/",
          "height": 88
        }
      },
      "source": [
        "tree_classif = decision_tree('classification', dataframe_classif, 4)\n",
        "leaf_classif = tree_classif.create_leaf(dataframe_classif)\n",
        "print(leaf_classif.prediction)\n",
        "print(leaf_classif.pop)\n",
        "print(leaf_classif.proba)"
      ],
      "execution_count": 0,
      "outputs": [
        {
          "output_type": "stream",
          "text": [
            "mammifère\n",
            "12\n",
            "{'oiseau': 0.25, 'crocodilien': 0.16666666666666666, 'Chélonien': 0.08333333333333333, 'actynoptérygien': 0.16666666666666666, 'mammifère': 0.3333333333333333}\n"
          ],
          "name": "stdout"
        }
      ]
    },
    {
      "cell_type": "markdown",
      "metadata": {
        "id": "DgvGANbAc_qh",
        "colab_type": "text"
      },
      "source": [
        "## Entraînement\n",
        "\n",
        "Maintenant que nous avons créé toutes nos fonctions et nos classes, on peut passer à l'implémentation de notre fonction d'entraînement."
      ]
    },
    {
      "cell_type": "code",
      "metadata": {
        "id": "LHGmzlBEgv8v",
        "colab_type": "code",
        "colab": {}
      },
      "source": [
        "class decision_tree :\n",
        "  \"\"\" Cette classe a pour but de créer un algorithme d'apprentissage automatique\n",
        "  d'arbres de décision classifieur\"\"\"\n",
        "\n",
        "  def __init__(self, target, dataframe, max_depth):\n",
        "    \"\"\"Cette fonction a pour but d'initialiser les variables essentiel à la \n",
        "    construction de notre algorithme.\n",
        "   INPUT \n",
        "    - target : la variable cible qu'il faudra classifier\n",
        "    - dataframe : les données d'apprentissage\n",
        "    - max_deapth : la profondeur maximal de l'arbre à entraîner\n",
        "   \"\"\"\n",
        "    self.max_depth = max_depth\n",
        "    self.target = target\n",
        "    self.dataframe = dataframe\n",
        "\n",
        "  def __quanti_split__(self, feature, value, dataset):\n",
        "   \"\"\"Cette fonction split un jeu de données en fonction\n",
        "   de la valeur 'value' de la variable quantitative 'feature' passé en paramètre\n",
        "   INPUT \n",
        "    - feature : integer correspondant à la variable à séparer\n",
        "    - value : integer correspond à la valeur à laquelle séparer notre jeu de données\n",
        "    - dataset : pandas dataframe à séparer\n",
        "   OUTPUT \n",
        "    - left : dataframe avec les données où 'feature' est plus petit ou égale à 'value'\n",
        "    - right : dataframe avec les données où 'feature' est plus grande que 'value' \n",
        "   \"\"\"\n",
        "   \n",
        "   left = dataset[dataset.loc[:,feature]<= value]\n",
        "   right = dataset[dataset.loc[:,feature]> value]\n",
        "\n",
        "   return left, right\n",
        "\n",
        "  def __quali_split__(self, feature, value, dataset):\n",
        "   \"\"\"Cette fonction split un jeu de données en fonction\n",
        "   de la valeur 'value' de la variable qualitative 'feature' passé en paramètre\n",
        "   INPUT \n",
        "    - feature : integer correspondant à la variable à séparer\n",
        "    - value : integer correspond à la valeur à laquelle séparer notre jeu de données\n",
        "    - dataset : pandas dataframe à séparer\n",
        "   OUTPUT \n",
        "    - left : dataframe avec les données où 'feature' est égale 'value'\n",
        "    - right : dataframe avec les données où 'feature' est différent 'value'\n",
        "   \"\"\"\n",
        "   \n",
        "   left = dataset[dataset.loc[:,feature]== value]\n",
        "   right = dataset[dataset.loc[:,feature]!= value]\n",
        "\n",
        "   return left, right\n",
        "\n",
        "\n",
        "  def __add_dict__(self, prec_dict, new_dict) :\n",
        "    \"\"\" Cette fonction fusionne des dictionnaires \n",
        "    en sommant les valeurs des clefs similaires\n",
        "    INPUT \n",
        "       - prec_dict : dictionnaire de fusion\n",
        "       - new_dict : dictionnaire à fusionner \n",
        "    OUTPUT \n",
        "       - prec_dict : dictionnaire avec en clef la 'classe'\n",
        "       et en 'valeur' son occurence dans le dataset\"\"\"\n",
        "    if list(new_dict.keys())[0] in prec_dict:\n",
        "      prec_dict[list(new_dict.keys())[0]] += 1\n",
        "    else : \n",
        "      prec_dict[list(new_dict.keys())[0]] = 1\n",
        "    return prec_dict\n",
        "\n",
        "  def __gini__(self, dataset):\n",
        "    \"\"\"Calculer les indices Gini du dataset passé en paramètre\n",
        "    INPUT \n",
        "       - dataset : dataframe contenant la variable 'self.target'\n",
        "    OUTPUT\n",
        "       - impurity : l'impureté calculée à partir du dataset\n",
        "    \"\"\"\n",
        "    rows = dataset[self.target]\n",
        "    class_dict = list(map(lambda x: {x: 1}, rows))\n",
        "    class_dict_sum = reduce(self.__add_dict__, class_dict)\n",
        "    occu_class = np.fromiter(reduce(self.__add_dict__, \n",
        "                                    list(map(lambda x: {x: 1}, rows))).values(), \n",
        "                             dtype=float)\n",
        "    pop = np.sum(occu_class)\n",
        "    impurity = 1 - np.sum((occu_class/pop)**2)\n",
        "    return impurity   \n",
        "\n",
        "  def __split_evaluator__(self, left_dataset, right_dataset):\n",
        "    \"\"\" Calculer le coût d'une séparation d'un noeud en deux branches\n",
        "    INPUT \n",
        "       - left_dataset : dataset de la branche de gauche\n",
        "       - right_dataset : dataset de la branche de droite\n",
        "    OUTPUT \n",
        "       - cost : coût de la séparation\"\"\"\n",
        "    left_eval = self.__gini__(left_dataset)\n",
        "    nb_left = left_dataset.shape[0]\n",
        "    right_eval = self.__gini__(right_dataset)\n",
        "    nb_right = right_dataset.shape[0]\n",
        "    nb_tot = nb_left + nb_right\n",
        "    cost = nb_left/nb_tot * left_eval + nb_right/nb_tot * right_eval\n",
        "    return cost \n",
        "\n",
        "  def __test_quali__(self, dataset, feature):\n",
        "    \"\"\" Tester toutes les séparations possibles d'une variable qualitative\n",
        "    INPUT \n",
        "       - dataset : dataset à évaluer\n",
        "       - feature : variable du dataset à évaluer\n",
        "    OUTPUT \n",
        "       - df_eval : dataframe contenant le coût de chaque séparation\"\"\"   \n",
        "\n",
        "    df_eval = pd.DataFrame([], columns=('feature', 'value', 'nature', 'cost'))\n",
        "    for value in dataset.loc[:, feature].unique() :\n",
        "      left, right = self.__quali_split__(feature, value, dataset)\n",
        "      cost_result = self.__split_evaluator__(left, right)\n",
        "      df_eval = df_eval.append(pd.DataFrame([[feature, \n",
        "                                              value,\n",
        "                                              'quali',\n",
        "                                              cost_result]],\n",
        "                                            columns=('feature', 'value', 'nature', 'cost')))\n",
        "    return df_eval\n",
        "\n",
        "\n",
        "  def __test_quanti__(self, dataset, feature):\n",
        "    \"\"\" Tester toutes les séparations possibles d'une variable quantitative\n",
        "    INPUT \n",
        "       - dataset : dataset à évaluer\n",
        "       - feature : variable du dataset à évaluer\n",
        "    OUTPUT \n",
        "       - df_eval : dataframe contenant le coût de chaque séparation\"\"\" \n",
        "\n",
        "    df_eval = pd.DataFrame([], columns=('feature', 'value', 'nature', 'cost'))\n",
        "    value_to_test = (dataset.loc[:, feature].sort_values()[1:].values + dataset.loc[:, feature].sort_values()[:-1].values)/2\n",
        "    for value in value_to_test :\n",
        "      left, right = self.__quanti_split__(feature, value, dataset)\n",
        "      cost_result = self.__split_evaluator__(left, right)\n",
        "      df_eval = df_eval.append(pd.DataFrame([[feature, \n",
        "                                              value,\n",
        "                                              'quanti',\n",
        "                                              cost_result]],\n",
        "                                            columns=('feature', 'value', 'nature', 'cost')))\n",
        "    return df_eval\n",
        "\n",
        "\n",
        "  def __find_best_split__(self, dataset):\n",
        "    \"\"\" Trouver la meilleure séparation de notre jeu de données\n",
        "    INPUT \n",
        "       - dataset : jeu de données à séparer\n",
        "    OUTPUT \n",
        "       - def_eval : dataset contenant 'feature' variable à séparer, 'value' \n",
        "       la valeur à laquelle séparer la variable, 'nature' la nature de la \n",
        "       variable et 'cost' le coût de cette séparation\"\"\"\n",
        "    df_eval = pd.DataFrame([], columns=('feature', 'value', 'nature', 'cost'))\n",
        "    columns = dataset.columns[np.logical_not(dataset.columns == self.target)]\n",
        "    for column in columns : \n",
        "      if len(dataset[column].unique()) >= 10 :\n",
        "        df_eval = df_eval.append(self.__test_quanti__(dataset, column))\n",
        "      elif len(dataset[column].unique()) > 1 :\n",
        "        df_eval = df_eval.append(self.__test_quali__(dataset, column))\n",
        "\n",
        "    df_eval = df_eval.reset_index(drop=True)\n",
        "\n",
        "    idx_cost_min = df_eval['cost'].idxmin(axis=0, skipna=True)\n",
        "\n",
        "    return df_eval.iloc[idx_cost_min, :]\n",
        "\n",
        "  def create_leaf(self, dataset):\n",
        "    \"\"\" Création d'une feuille \n",
        "    INPUT \n",
        "       - dataset : dataset de la feuille à construire\n",
        "    OUTPUT \n",
        "       - leaf : la classe feuille créé avec les informations de notre dataset\"\"\"\n",
        "\n",
        "    labels = dataset[self.target]\n",
        "    pop = labels.shape[0]\n",
        "    class_dict = list(map(lambda x: {x: 1}, labels))\n",
        "    class_dict_sum = reduce(self.__add_dict__, class_dict)\n",
        "    prediction = max(class_dict_sum.items(), key=operator.itemgetter(1))[0]\n",
        "    proba = {k: v/pop for k, v in class_dict_sum.items()}\n",
        "  \n",
        "    return leaf(dataset, pop, class_dict_sum, prediction, proba)\n",
        "\n",
        "  def training(self, dataset, depth=0):\n",
        "      \"\"\"Cette fonction va construire l'arbre de décision en fonction des \n",
        "      paramètres fournir à l'initialisation de cette classe.\n",
        "      INPUT \n",
        "         - depth : profondeur actuel de l'arbre\n",
        "      OUTPUT \n",
        "         - node : racine de l'arbre\n",
        "      \"\"\"\n",
        "\n",
        "      # Cette partie de code vérifie que le dataset peut encore être séparé\n",
        "      no_more_split = True\n",
        "      columns = dataset.columns[np.logical_not(dataset.columns == self.target)]\n",
        "      for column in columns : \n",
        "        if len(dataset[column].unique()) > 1 :\n",
        "          no_more_split = False\n",
        "\n",
        "      # Si le dataset est pure, ou que la profondeur maximum est atteinte ou\n",
        "      # que le dataset ne peut plus être séparé nous créons une feuille\n",
        "      if len(dataset[self.target].unique())==1 or depth==self.max_depth or no_more_split:\n",
        "        return self.create_leaf(dataset)\n",
        "\n",
        "      # Recherche de la meilleur séparation\n",
        "      split_eval = self.__find_best_split__(dataset)\n",
        "\n",
        "      # Si le coût obtenu après séparation est moins bon le coût actuel, \n",
        "      # création d'une feuille avec le dataset actuel\n",
        "      if split_eval['cost'] >= self.__gini__(dataset) :\n",
        "          return self.create_leaf(dataset)\n",
        "\n",
        "      # Séparation du dataset selon la nature de la variable choisie\n",
        "      if split_eval['nature'] == 'quali' :\n",
        "         left_branch, right_branch = self.__quali_split__(split_eval['feature'], split_eval['value'], dataset)\n",
        "      elif split_eval['nature'] == 'quanti' :\n",
        "         left_branch, right_branch = self.__quanti_split__(split_eval['feature'], split_eval['value'], dataset)\n",
        "\n",
        "      # Entraînement récursif de la branche de gauche\n",
        "      left_node = self.training(left_branch, depth+1)\n",
        "\n",
        "      # Entraînement récursif de la branche de droite\n",
        "      right_node = self.training(right_branch, depth+1)\n",
        "\n",
        "      # On retourne la racine de l'arbre\n",
        "      return node(split_eval['feature'], \n",
        "                  split_eval['value'], \n",
        "                  split_eval['cost'], \n",
        "                  split_eval['nature'],\n",
        "                  left_node,\n",
        "                  right_node,\n",
        "                  depth,\n",
        "                  dataset.shape[0])\n",
        "      \n",
        "  def fit(self):\n",
        "    \"\"\" Entraînement du modèle\n",
        "    OUTPUT \n",
        "       - node : racine de l'arbre\"\"\"\n",
        "    return self.training(self.dataframe)"
      ],
      "execution_count": 0,
      "outputs": []
    },
    {
      "cell_type": "markdown",
      "metadata": {
        "id": "oQl-RheujcW6",
        "colab_type": "text"
      },
      "source": [
        "Vérification pour voir si la variable fonctionne correctement."
      ]
    },
    {
      "cell_type": "code",
      "metadata": {
        "id": "KtI9UBHdgv1R",
        "colab_type": "code",
        "colab": {}
      },
      "source": [
        "tree_classif = decision_tree('classification', dataframe_classif, 4)\n",
        "tree_trained = tree_classif.fit()"
      ],
      "execution_count": 0,
      "outputs": []
    },
    {
      "cell_type": "markdown",
      "metadata": {
        "id": "56bz2pXKjhAS",
        "colab_type": "text"
      },
      "source": [
        "## Visualisation de l'arbre\n",
        "\n",
        "Notre arbre est construit, mais il est compliqué de le comprendre, nous allons donc construire une fonction qui va nous permettre de visualiser l'arbre."
      ]
    },
    {
      "cell_type": "code",
      "metadata": {
        "id": "1FxoOjjCjwq6",
        "colab_type": "code",
        "colab": {}
      },
      "source": [
        "def print_tree(node, spacing=\"\"):\n",
        "  \"\"\"Affichage de l'arbre de décision\n",
        "  INPUT \n",
        "     - node : branche à afficher\n",
        "     - spacings : espace à afficher en fonction de la profondeur de la branche\"\"\"\n",
        "\n",
        "  # Différents affichages si c'est une feuille \n",
        "  if isinstance(node, leaf):\n",
        "      print (spacing + \"Predict\", node.prediction)\n",
        "      print (spacing + \"Predict\", node.proba)\n",
        "      return\n",
        "\n",
        "  # Affichage de la condition de la séparation\n",
        "  print (spacing + node.__split__())\n",
        "\n",
        "  # Dans le cas où la condition est vérifiée\n",
        "  print (spacing + '--> True:')\n",
        "  print_tree(node.left_branch, spacing + \"  \")\n",
        "\n",
        "  # Dans le cas où la condition n'est pas vérifiée\n",
        "  print (spacing + '--> False:')\n",
        "  print_tree(node.right_branch, spacing + \"  \")"
      ],
      "execution_count": 0,
      "outputs": []
    },
    {
      "cell_type": "code",
      "metadata": {
        "id": "9cR8TsqJooG2",
        "colab_type": "code",
        "outputId": "a4ac782b-7c7f-4c1f-b3cc-ae1143ee8313",
        "colab": {
          "base_uri": "https://localhost:8080/",
          "height": 421
        }
      },
      "source": [
        "dataframe_classif"
      ],
      "execution_count": 0,
      "outputs": [
        {
          "output_type": "execute_result",
          "data": {
            "text/html": [
              "<div>\n",
              "<style scoped>\n",
              "    .dataframe tbody tr th:only-of-type {\n",
              "        vertical-align: middle;\n",
              "    }\n",
              "\n",
              "    .dataframe tbody tr th {\n",
              "        vertical-align: top;\n",
              "    }\n",
              "\n",
              "    .dataframe thead th {\n",
              "        text-align: right;\n",
              "    }\n",
              "</style>\n",
              "<table border=\"1\" class=\"dataframe\">\n",
              "  <thead>\n",
              "    <tr style=\"text-align: right;\">\n",
              "      <th></th>\n",
              "      <th>classification</th>\n",
              "      <th>gésier</th>\n",
              "      <th>nb membres</th>\n",
              "      <th>poil</th>\n",
              "      <th>carapace dorsal et ventral</th>\n",
              "    </tr>\n",
              "  </thead>\n",
              "  <tbody>\n",
              "    <tr>\n",
              "      <th>0</th>\n",
              "      <td>oiseau</td>\n",
              "      <td>1</td>\n",
              "      <td>4</td>\n",
              "      <td>0</td>\n",
              "      <td>0</td>\n",
              "    </tr>\n",
              "    <tr>\n",
              "      <th>1</th>\n",
              "      <td>oiseau</td>\n",
              "      <td>1</td>\n",
              "      <td>4</td>\n",
              "      <td>0</td>\n",
              "      <td>0</td>\n",
              "    </tr>\n",
              "    <tr>\n",
              "      <th>2</th>\n",
              "      <td>oiseau</td>\n",
              "      <td>1</td>\n",
              "      <td>4</td>\n",
              "      <td>0</td>\n",
              "      <td>0</td>\n",
              "    </tr>\n",
              "    <tr>\n",
              "      <th>3</th>\n",
              "      <td>crocodilien</td>\n",
              "      <td>1</td>\n",
              "      <td>4</td>\n",
              "      <td>0</td>\n",
              "      <td>0</td>\n",
              "    </tr>\n",
              "    <tr>\n",
              "      <th>4</th>\n",
              "      <td>crocodilien</td>\n",
              "      <td>1</td>\n",
              "      <td>4</td>\n",
              "      <td>0</td>\n",
              "      <td>0</td>\n",
              "    </tr>\n",
              "    <tr>\n",
              "      <th>5</th>\n",
              "      <td>Chélonien</td>\n",
              "      <td>0</td>\n",
              "      <td>4</td>\n",
              "      <td>0</td>\n",
              "      <td>1</td>\n",
              "    </tr>\n",
              "    <tr>\n",
              "      <th>6</th>\n",
              "      <td>actynoptérygien</td>\n",
              "      <td>0</td>\n",
              "      <td>0</td>\n",
              "      <td>0</td>\n",
              "      <td>0</td>\n",
              "    </tr>\n",
              "    <tr>\n",
              "      <th>7</th>\n",
              "      <td>actynoptérygien</td>\n",
              "      <td>0</td>\n",
              "      <td>0</td>\n",
              "      <td>0</td>\n",
              "      <td>0</td>\n",
              "    </tr>\n",
              "    <tr>\n",
              "      <th>8</th>\n",
              "      <td>mammifère</td>\n",
              "      <td>0</td>\n",
              "      <td>4</td>\n",
              "      <td>1</td>\n",
              "      <td>0</td>\n",
              "    </tr>\n",
              "    <tr>\n",
              "      <th>9</th>\n",
              "      <td>mammifère</td>\n",
              "      <td>0</td>\n",
              "      <td>4</td>\n",
              "      <td>1</td>\n",
              "      <td>0</td>\n",
              "    </tr>\n",
              "    <tr>\n",
              "      <th>10</th>\n",
              "      <td>mammifère</td>\n",
              "      <td>0</td>\n",
              "      <td>4</td>\n",
              "      <td>1</td>\n",
              "      <td>0</td>\n",
              "    </tr>\n",
              "    <tr>\n",
              "      <th>11</th>\n",
              "      <td>mammifère</td>\n",
              "      <td>0</td>\n",
              "      <td>4</td>\n",
              "      <td>1</td>\n",
              "      <td>0</td>\n",
              "    </tr>\n",
              "  </tbody>\n",
              "</table>\n",
              "</div>"
            ],
            "text/plain": [
              "     classification  gésier  nb membres  poil  carapace dorsal et ventral\n",
              "0            oiseau       1           4     0                           0\n",
              "1            oiseau       1           4     0                           0\n",
              "2            oiseau       1           4     0                           0\n",
              "3       crocodilien       1           4     0                           0\n",
              "4       crocodilien       1           4     0                           0\n",
              "5         Chélonien       0           4     0                           1\n",
              "6   actynoptérygien       0           0     0                           0\n",
              "7   actynoptérygien       0           0     0                           0\n",
              "8         mammifère       0           4     1                           0\n",
              "9         mammifère       0           4     1                           0\n",
              "10        mammifère       0           4     1                           0\n",
              "11        mammifère       0           4     1                           0"
            ]
          },
          "metadata": {
            "tags": []
          },
          "execution_count": 34
        }
      ]
    },
    {
      "cell_type": "code",
      "metadata": {
        "id": "X-aEioFTlnn9",
        "colab_type": "code",
        "outputId": "81be52d2-6777-44ab-8fdc-b86c3f07a081",
        "colab": {
          "base_uri": "https://localhost:8080/",
          "height": 306
        }
      },
      "source": [
        "tree_classif = decision_tree('classification', dataframe_classif, 4)\n",
        "tree_trained = tree_classif.fit()\n",
        "print_tree(tree_trained)"
      ],
      "execution_count": 0,
      "outputs": [
        {
          "output_type": "stream",
          "text": [
            "poil == 0\n",
            "--> True:\n",
            "  nb membres == 4\n",
            "  --> True:\n",
            "    gésier == 1\n",
            "    --> True:\n",
            "      Predict oiseau\n",
            "      Predict {'oiseau': 0.6, 'crocodilien': 0.4}\n",
            "    --> False:\n",
            "      Predict Chélonien\n",
            "      Predict {'Chélonien': 1.0}\n",
            "  --> False:\n",
            "    Predict actynoptérygien\n",
            "    Predict {'actynoptérygien': 1.0}\n",
            "--> False:\n",
            "  Predict mammifère\n",
            "  Predict {'mammifère': 1.0}\n"
          ],
          "name": "stdout"
        }
      ]
    },
    {
      "cell_type": "markdown",
      "metadata": {
        "id": "jvu6f9Q5rLMF",
        "colab_type": "text"
      },
      "source": [
        "J'espère que ce notebook vous a plu, abonnez-vous à la chaîne YouTube et mettez une étoile sur le github de ce répertoire."
      ]
    },
    {
      "cell_type": "markdown",
      "metadata": {
        "id": "O5iI6-X_FgYU",
        "colab_type": "text"
      },
      "source": [
        "## Sources : \n",
        "- https://www.youtube.com/watch?v=gxS_R1Ph9ak&t=548s\n",
        "- http://soutien67.free.fr/svt/animaux/classification/classification01.htm\n",
        "- https://www.youtube.com/watch?v=LDRbO9a6XPU\n",
        "- https://machinelearningmastery.com/implement-decision-tree-algorithm-scratch-python/\n",
        "- https://www.youtube.com/watch?v=g9c66TUylZ4\n",
        "- https://www.youtube.com/watch?v=7VeUPuFGJHk&t=599s\n"
      ]
    },
    {
      "cell_type": "code",
      "metadata": {
        "id": "gh_5iqSwbstw",
        "colab_type": "code",
        "colab": {}
      },
      "source": [
        ""
      ],
      "execution_count": 0,
      "outputs": []
    }
  ]
}