{
  "nbformat": 4,
  "nbformat_minor": 0,
  "metadata": {
    "colab": {
      "name": "Random forest avec Sklearn.ipynb",
      "provenance": []
    },
    "kernelspec": {
      "name": "python3",
      "display_name": "Python 3"
    }
  },
  "cells": [
    {
      "cell_type": "markdown",
      "metadata": {
        "id": "iB0JuKXj4Hkl",
        "colab_type": "text"
      },
      "source": [
        "# L'algorithme du Random Forest avec Sklearn"
      ]
    },
    {
      "cell_type": "markdown",
      "metadata": {
        "id": "XmotOnOn5cZH",
        "colab_type": "text"
      },
      "source": [
        "## Importation des packages"
      ]
    },
    {
      "cell_type": "code",
      "metadata": {
        "id": "8VO2I_xN4H_O",
        "colab_type": "code",
        "colab": {}
      },
      "source": [
        "import pandas as pd\n",
        "import numpy as np\n",
        "\n",
        "from sklearn.ensemble import RandomForestClassifier\n",
        "from sklearn.datasets import load_breast_cancer\n",
        "from sklearn.model_selection import train_test_split"
      ],
      "execution_count": null,
      "outputs": []
    },
    {
      "cell_type": "markdown",
      "metadata": {
        "id": "i0_2aev25gKJ",
        "colab_type": "text"
      },
      "source": [
        "## Importation des données "
      ]
    },
    {
      "cell_type": "code",
      "metadata": {
        "id": "0eyLAOuh3GJk",
        "colab_type": "code",
        "colab": {}
      },
      "source": [
        "data = load_breast_cancer()\n",
        "\n",
        "x = data['data']\n",
        "y = data['target']\n",
        "\n",
        "x_train, x_test, y_train, y_test = train_test_split(x, y, test_size=0.33, random_state=42)"
      ],
      "execution_count": null,
      "outputs": []
    },
    {
      "cell_type": "markdown",
      "metadata": {
        "id": "4NS-WuCY5pTM",
        "colab_type": "text"
      },
      "source": [
        "## Les paramètres"
      ]
    },
    {
      "cell_type": "markdown",
      "metadata": {
        "id": "kMLLmxVI-0NR",
        "colab_type": "text"
      },
      "source": [
        "Dans cette partie, je vais prendre le temps de vous expliquer chaque paramètre de l'algorithme du random forest. De cette façon, vous pourrez choisir judicieusement les paramètres les plus adaptés à votre problème dans le but d'entraîner le modèle de random forest le plus performant. "
      ]
    },
    {
      "cell_type": "markdown",
      "metadata": {
        "id": "wfzy2o2o5yCH",
        "colab_type": "text"
      },
      "source": [
        "### n_estimators"
      ]
    },
    {
      "cell_type": "markdown",
      "metadata": {
        "id": "h8I9gELdAVqy",
        "colab_type": "text"
      },
      "source": [
        "Le paramètre *n_estimators* contrôle le nombre d'arbres présents dans notre forêt d'arbres de décision. Plus il y a d'arbres plus le modèle sera précis, mais plus il sera lent à utiliser. "
      ]
    },
    {
      "cell_type": "code",
      "metadata": {
        "id": "wer1kUVd_D8a",
        "colab_type": "code",
        "colab": {
          "base_uri": "https://localhost:8080/"
        },
        "outputId": "aa395f9c-5b92-4b36-a5d6-af3c4fce0814"
      },
      "source": [
        "model_1 = RandomForestClassifier(n_estimators=10, random_state=123)\n",
        "model_1.fit(x_train, y_train)\n",
        "y_pred_1 = model_1.predict(x_test)\n",
        "print(np.sum(y_pred_1 == y_test)/x_test.shape[0])"
      ],
      "execution_count": null,
      "outputs": [
        {
          "output_type": "stream",
          "text": [
            "0.9468085106382979\n"
          ],
          "name": "stdout"
        }
      ]
    },
    {
      "cell_type": "code",
      "metadata": {
        "id": "bpVstK-F_t_6",
        "colab_type": "code",
        "colab": {
          "base_uri": "https://localhost:8080/",
          "height": 34
        },
        "outputId": "9ad7e623-31ac-4fd6-eb50-a2be60b3c902"
      },
      "source": [
        "model_2 = RandomForestClassifier(n_estimators=100, random_state=123)\n",
        "model_2.fit(x_train, y_train)\n",
        "y_pred_2 = model_2.predict(x_test)\n",
        "print(np.sum(y_pred_2 == y_test)/x_test.shape[0])"
      ],
      "execution_count": null,
      "outputs": [
        {
          "output_type": "stream",
          "text": [
            "0.9627659574468085\n"
          ],
          "name": "stdout"
        }
      ]
    },
    {
      "cell_type": "markdown",
      "metadata": {
        "id": "o5A7ZN7p50gL",
        "colab_type": "text"
      },
      "source": [
        "### criterion"
      ]
    },
    {
      "cell_type": "markdown",
      "metadata": {
        "id": "trfPdfK2Aklg",
        "colab_type": "text"
      },
      "source": [
        "Vous pouvez choisir entre deux façons de calculer l'erreur de votre modèle lors de son entraînement. L'indice Gini ou le calcule de l'Entropy. "
      ]
    },
    {
      "cell_type": "code",
      "metadata": {
        "id": "tUFTtpeeACj8",
        "colab_type": "code",
        "colab": {
          "base_uri": "https://localhost:8080/"
        },
        "outputId": "b3232623-7aa4-4e86-bf65-1b86cdad83ef"
      },
      "source": [
        "model_1 = RandomForestClassifier(criterion='gini', random_state=123)\n",
        "model_1.fit(x_train, y_train)\n",
        "y_pred_1 = model_1.predict(x_test)\n",
        "print(np.sum(y_pred_1 == y_test)/x_test.shape[0])"
      ],
      "execution_count": null,
      "outputs": [
        {
          "output_type": "stream",
          "text": [
            "0.9627659574468085\n"
          ],
          "name": "stdout"
        }
      ]
    },
    {
      "cell_type": "code",
      "metadata": {
        "id": "OP7B4u51A9eB",
        "colab_type": "code",
        "colab": {
          "base_uri": "https://localhost:8080/",
          "height": 34
        },
        "outputId": "cacf645a-6637-4459-8bb0-6bb8c0366e9c"
      },
      "source": [
        "model_2 = RandomForestClassifier(criterion='entropy', random_state=123)\n",
        "model_2.fit(x_train, y_train)\n",
        "y_pred_2 = model_2.predict(x_test)\n",
        "print(np.sum(y_pred_2 == y_test)/x_test.shape[0])"
      ],
      "execution_count": null,
      "outputs": [
        {
          "output_type": "stream",
          "text": [
            "0.9680851063829787\n"
          ],
          "name": "stdout"
        }
      ]
    },
    {
      "cell_type": "markdown",
      "metadata": {
        "id": "WJgs3hXn53oA",
        "colab_type": "text"
      },
      "source": [
        "### max_depth"
      ]
    },
    {
      "cell_type": "markdown",
      "metadata": {
        "id": "bVb_f2W8BKXI",
        "colab_type": "text"
      },
      "source": [
        "La profondeur de l'arbre est un des paramètres les plus importants à définir. \n",
        "\n",
        "Ce paramètre va déterminer la longueur maximum de votre arbre. Vous pouvez aussi spécifier None pour ce paramètre, dans ce cas durant l'entraînement l'arbre va s'approfondir jusqu'à obtenir les feuilles les plus pures possible. \n",
        "\n",
        "Je ne vous conseille pas de laisser ce paramètre à *None*, car plus votre arbre sera profond plus il sera complexe et plus il souffrira du sur-entraînement."
      ]
    },
    {
      "cell_type": "code",
      "metadata": {
        "id": "gUIyYEbkBF_T",
        "colab_type": "code",
        "colab": {
          "base_uri": "https://localhost:8080/"
        },
        "outputId": "4c4113ff-24b2-4867-908d-50cf4ba80852"
      },
      "source": [
        "model_1 = RandomForestClassifier(max_depth=10, random_state=123)\n",
        "model_1.fit(x_train, y_train)\n",
        "y_pred_1 = model_1.predict(x_test)\n",
        "print(np.sum(y_pred_1 == y_test)/x_test.shape[0])"
      ],
      "execution_count": null,
      "outputs": [
        {
          "output_type": "stream",
          "text": [
            "0.9627659574468085\n"
          ],
          "name": "stdout"
        }
      ]
    },
    {
      "cell_type": "markdown",
      "metadata": {
        "id": "nQQm2YDIB077",
        "colab_type": "text"
      },
      "source": [
        "Plus la profondeur est réduite, plus le modèle sera simple et généralisable. Cette meilleure généralisation augmentera les performances du modèle sur le jeu de test.\n",
        "\n",
        "\n",
        "Pour un random forest on préfère travailler avec des \"Weak Learner\" un ensemble de modèle peu performant et gagner de la performance en alliant leurs forces."
      ]
    },
    {
      "cell_type": "markdown",
      "metadata": {
        "id": "z2jc0-Kl5678",
        "colab_type": "text"
      },
      "source": [
        "### min_samples_split"
      ]
    },
    {
      "cell_type": "markdown",
      "metadata": {
        "id": "Wg8mvkOWCRFR",
        "colab_type": "text"
      },
      "source": [
        "Le *min_sample_split* est le nombre minimal d'exemples que le modèle doit avoir pour pouvoir faire une nouvelle séparation. \n",
        "\n",
        "Vous avez le choix de remplir ce paramètre avec un entier (int) ou un flottant (float). \n",
        "\n",
        "Si vous utilisez un entier, le modèle le comprendra comme le nombre minimal d'exemples que le noeud doit avoir pour pouvoir créer une nouvelle séparation. \n",
        "\n",
        "Si vous utilisez un flottant, le modèle le comprendra comme la fraction de données que le noeud doit avoir pour pouvoir créer une nouvelle séparation.\n",
        "\n",
        "Plus ce paramètre sera grand plus votre arbre sera simple et plus il sera généralisable."
      ]
    },
    {
      "cell_type": "code",
      "metadata": {
        "id": "unmHFmxiCS23",
        "colab_type": "code",
        "colab": {
          "base_uri": "https://localhost:8080/"
        },
        "outputId": "80fc97cb-5237-4b3e-9955-5d400466e3cd"
      },
      "source": [
        "model_1 = RandomForestClassifier(min_samples_split=10, random_state=123)\n",
        "model_1.fit(x_train, y_train)\n",
        "y_pred_1 = model_1.predict(x_test)\n",
        "print(np.sum(y_pred_1 == y_test)/x_test.shape[0])"
      ],
      "execution_count": null,
      "outputs": [
        {
          "output_type": "stream",
          "text": [
            "0.9521276595744681\n"
          ],
          "name": "stdout"
        }
      ]
    },
    {
      "cell_type": "markdown",
      "metadata": {
        "id": "P3Vo_5gP5-dJ",
        "colab_type": "text"
      },
      "source": [
        "### min_samples_leaf"
      ]
    },
    {
      "cell_type": "markdown",
      "metadata": {
        "id": "HHNiEIIpCqTg",
        "colab_type": "text"
      },
      "source": [
        "Le *min_sample_leaf* est le minimum d'exemples requis pour créer une feuille.\n",
        "\n",
        "Seules les feuilles ayant ce minimum d'exemples seront conservées. Pour ce paramètre aussi vous pouvez spécifier un nombre entier ou un nombre flottant.\n",
        "\n",
        "Plus ce paramètre sera bas, plus votre modèle pourra faire du cas par cas et aura du mal à généraliser."
      ]
    },
    {
      "cell_type": "code",
      "metadata": {
        "id": "YhqaJE3MCyC9",
        "colab_type": "code",
        "colab": {
          "base_uri": "https://localhost:8080/"
        },
        "outputId": "82ddbbae-7238-4384-dd9d-fbef2ac7e647"
      },
      "source": [
        "model_1 = RandomForestClassifier(min_samples_leaf=20, random_state=123)\n",
        "model_1.fit(x_train, y_train)\n",
        "y_pred_1 = model_1.predict(x_test)\n",
        "print(np.sum(y_pred_1 == y_test)/x_test.shape[0])"
      ],
      "execution_count": null,
      "outputs": [
        {
          "output_type": "stream",
          "text": [
            "0.9574468085106383\n"
          ],
          "name": "stdout"
        }
      ]
    },
    {
      "cell_type": "markdown",
      "metadata": {
        "id": "85wq5Uve6mBF",
        "colab_type": "text"
      },
      "source": [
        "### min_weight_fraction_leaf"
      ]
    },
    {
      "cell_type": "markdown",
      "metadata": {
        "id": "uP9lliE2C8r9",
        "colab_type": "text"
      },
      "source": [
        "Dans l'entraînement d'un modèle d'arbre de décision, on peut ajouter un vecteur de poids qui donne une importance différente aux observations de notre jeu de données.\n",
        "\n",
        "Si vous avez donné un vecteur de poids avec votre jeu de données, ce paramètre vous permet de spécifier le minimum de poids de votre feuille pour sa création. Si vous n'avez pas ajouté de vecteur de poids pour l'entraînement de votre modèle, ce paramètre a la même utilité que le paramètre *min_sample_leaf*.\n",
        "\n",
        "Pour ce paramètre aussi vous pouvez spécifier un nombre entier ou un nombre flottant."
      ]
    },
    {
      "cell_type": "markdown",
      "metadata": {
        "id": "CeKRXGl-6poV",
        "colab_type": "text"
      },
      "source": [
        "### max_features"
      ]
    },
    {
      "cell_type": "markdown",
      "metadata": {
        "id": "4xipWIYADBks",
        "colab_type": "text"
      },
      "source": [
        "Le paramètre *max_features* contrôle le nombre de variables à tester pour trouver la meilleure séparation.\n",
        "\n",
        "Vous pouvez indiquer un entier qui déterminera le nombre de variables à tester.\n",
        "\n",
        "Vous pouvez indiquer un flottant qui sera la proportion de variables à tester parmi les variables du jeu de données.\n",
        "\n",
        "Il y a une option auto qui effectue un test pour chaque variable de votre jeu de données, cette option est équivalente à choisir None. \n",
        "\n",
        "Il y a une option sqrt qui teste la racine carrée du nombre de variables du jeu de données.\n",
        "\n",
        "Il y a une option log2 qui teste le log2 du nombre de variables de votre jeu de données.\n",
        "\n",
        "À noter que même si vous spécifiez un maximum de variable à tester l'algorithme peut le dépasser dans le cas où il ne trouve pas de variable valide pour séparer le jeu de données dans le nombre de tests imparti. \n",
        "\n",
        "\n",
        "C'est un paramètre à tuner si vous avez des problèmes de performance et que vous voulez réduire le temps de calcul. Si vous n'avez pas de problème de performance, je vous recommande de laisser None ou auto."
      ]
    },
    {
      "cell_type": "markdown",
      "metadata": {
        "id": "dPAn_cQB6sc9",
        "colab_type": "text"
      },
      "source": [
        "### max_leaf_nodes"
      ]
    },
    {
      "cell_type": "markdown",
      "metadata": {
        "id": "UyNXfamnDZuK",
        "colab_type": "text"
      },
      "source": [
        "Ce paramètre vous permet de choisir le nombre maximum de feuilles de votre arbre, il peut être intéressant de fixer ce nombre pour contrôler la complexité de l'arbre. Il garde bien sûr les meilleures feuilles disponibles."
      ]
    },
    {
      "cell_type": "code",
      "metadata": {
        "id": "T0XBdF0RDjYO",
        "colab_type": "code",
        "colab": {
          "base_uri": "https://localhost:8080/"
        },
        "outputId": "1b0606c5-0e43-47e5-96bb-192d19ca0959"
      },
      "source": [
        "model_1 = RandomForestClassifier(max_leaf_nodes=10, random_state=123)\n",
        "model_1.fit(x_train, y_train)\n",
        "y_pred_1 = model_1.predict(x_test)\n",
        "print(np.sum(y_pred_1 == y_test)/x_test.shape[0])"
      ],
      "execution_count": null,
      "outputs": [
        {
          "output_type": "stream",
          "text": [
            "0.9627659574468085\n"
          ],
          "name": "stdout"
        }
      ]
    },
    {
      "cell_type": "markdown",
      "metadata": {
        "id": "bWMA4n696vM8",
        "colab_type": "text"
      },
      "source": [
        "### min_impurity_decrease"
      ]
    },
    {
      "cell_type": "markdown",
      "metadata": {
        "id": "_CUENR5pDt70",
        "colab_type": "text"
      },
      "source": [
        "Ce paramètre permet de contrôler si le gain de pureté est suffisant pour continuer la construction de l'arbre dans cette voie. \n",
        "\n",
        "Ce paramètre peut être intéressant, car il est possible d'avoir des règles supplémentaires qui complexifient le modèle pour ne faire gagner que peu de pureté.\n",
        "\n",
        "Plus la valeur de ce paramètre est basse plus l'arbre sera complexe et moins il sera généralisable.\n",
        "\n",
        "Plus la valeur de ce paramètre est élevée plus l'arbre sera simple et généralisable. "
      ]
    },
    {
      "cell_type": "markdown",
      "metadata": {
        "id": "I3wEh2dm6xbV",
        "colab_type": "text"
      },
      "source": [
        "### min_impurity_split"
      ]
    },
    {
      "cell_type": "markdown",
      "metadata": {
        "id": "kc6mYZOkDyb4",
        "colab_type": "text"
      },
      "source": [
        "Ce paramètre n'est plus maintenu ne l'utilisait pas préférez utiliser min_impurity_decrease."
      ]
    },
    {
      "cell_type": "markdown",
      "metadata": {
        "id": "ufxULciQ67wG",
        "colab_type": "text"
      },
      "source": [
        "### bootstrap"
      ]
    },
    {
      "cell_type": "markdown",
      "metadata": {
        "id": "fwK5T80YFjSU",
        "colab_type": "text"
      },
      "source": [
        "Ce paramètre contrôle si la construction de vos arbres se font en sélectionnant aléatoirement des samples de votre jeu de données ou si vos arbres sont construits sur toute votre base de données. \n",
        "\n",
        "Si vous vous souvenez du principe de l'ensemble learning un des points importants est la variété des modèles utilisés pour optimiser les performances du modèle. Utilisé tout votre jeu de données pour la création de vos arbres réduit la variété des arbres que vous pouvez créer et donc nuit à la performance de votre modèle.\n",
        "\n",
        "Utiliser toujours bootstrap, je ne vois pas de raison de ne pas vouloir l'utiliser."
      ]
    },
    {
      "cell_type": "code",
      "metadata": {
        "id": "H1R-zrK1GNR1",
        "colab_type": "code",
        "colab": {
          "base_uri": "https://localhost:8080/",
          "height": 34
        },
        "outputId": "b92ab0e0-44fc-4811-82fd-a41e221370bc"
      },
      "source": [
        "model_1 = RandomForestClassifier(bootstrap=True, random_state=123)\n",
        "model_1.fit(x_train, y_train)\n",
        "y_pred_1 = model_1.predict(x_test)\n",
        "print(np.sum(y_pred_1 == y_test)/x_test.shape[0])"
      ],
      "execution_count": null,
      "outputs": [
        {
          "output_type": "stream",
          "text": [
            "0.9627659574468085\n"
          ],
          "name": "stdout"
        }
      ]
    },
    {
      "cell_type": "code",
      "metadata": {
        "id": "OvQnXrQFGMWd",
        "colab_type": "code",
        "colab": {
          "base_uri": "https://localhost:8080/",
          "height": 34
        },
        "outputId": "3c461402-9f8c-4503-e9d3-01604f40f827"
      },
      "source": [
        "model_2 = RandomForestClassifier(bootstrap=False, random_state=123)\n",
        "model_2.fit(x_train, y_train)\n",
        "y_pred_2 = model_2.predict(x_test)\n",
        "print(np.sum(y_pred_2 == y_test)/x_test.shape[0])"
      ],
      "execution_count": null,
      "outputs": [
        {
          "output_type": "stream",
          "text": [
            "0.9521276595744681\n"
          ],
          "name": "stdout"
        }
      ]
    },
    {
      "cell_type": "markdown",
      "metadata": {
        "id": "bj-17P4H7BCa",
        "colab_type": "text"
      },
      "source": [
        "### oob_score"
      ]
    },
    {
      "cell_type": "markdown",
      "metadata": {
        "id": "0XtoKyqJGn0J",
        "colab_type": "text"
      },
      "source": [
        "Ce paramètre est un score qui permet d'estimer la généralisation de notre modèle en testant les arbres sur les parties du jeu de données non sélectionné lors de sa construction. Oob signifie out-of-bag c'est-à-dire les données non choisi."
      ]
    },
    {
      "cell_type": "markdown",
      "metadata": {
        "id": "qyq14Mbe7DfW",
        "colab_type": "text"
      },
      "source": [
        "### n_jobs"
      ]
    },
    {
      "cell_type": "markdown",
      "metadata": {
        "id": "_rpONn3bHBBP",
        "colab_type": "text"
      },
      "source": [
        "Pour l'algorithme du random forest des arbres sont construit sur des parties aléatoire du jeux de données. Il n'y a pas de lien entre la construction des différents arbres, ils peuvent donc être construit en parrallèle. Le paramètre n_jobs nous propose de paralèliser l'utilisation de notre algorithme. Le chiffre de ce paramètre désignera le nombre de processeur à utiliser pour la parallèlisation de l'aglrotihme. "
      ]
    },
    {
      "cell_type": "markdown",
      "metadata": {
        "id": "LnLmqni37Fvs",
        "colab_type": "text"
      },
      "source": [
        "### random_state"
      ]
    },
    {
      "cell_type": "markdown",
      "metadata": {
        "id": "fEJ3ECNdHj6j",
        "colab_type": "text"
      },
      "source": [
        "Ce paramètre permet d'initialiser une seed. C'est-à-dire que les nombres générés aléatoirement seront toujours les mêmes. C'est intéressant à utiliser durant les tests où l'on voudra tomber sur les mêmes résultats et être sûr que les changements de performance sont dû au changement des paramètres et non à une initialisation différente."
      ]
    },
    {
      "cell_type": "markdown",
      "metadata": {
        "id": "uFMIzGAk7IWY",
        "colab_type": "text"
      },
      "source": [
        "### verbose"
      ]
    },
    {
      "cell_type": "markdown",
      "metadata": {
        "id": "O_hmNPhyHo-D",
        "colab_type": "text"
      },
      "source": [
        "Ce paramètre contrôle le nombre de textes à afficher lors de l'entraînement. Plus ce paramètre est élevé plus vous aurez d'informations affichées. "
      ]
    },
    {
      "cell_type": "code",
      "metadata": {
        "id": "35vlvHPBH0I9",
        "colab_type": "code",
        "colab": {
          "base_uri": "https://localhost:8080/",
          "height": 34
        },
        "outputId": "70a4f1ea-eeae-4bdc-f439-21f2aa2ba4cd"
      },
      "source": [
        "model_1 = RandomForestClassifier(verbose=0, random_state=123)\n",
        "model_1.fit(x_train, y_train)\n",
        "y_pred_1 = model_1.predict(x_test)\n",
        "print(np.sum(y_pred_1 == y_test)/x_test.shape[0])"
      ],
      "execution_count": null,
      "outputs": [
        {
          "output_type": "stream",
          "text": [
            "0.9627659574468085\n"
          ],
          "name": "stdout"
        }
      ]
    },
    {
      "cell_type": "code",
      "metadata": {
        "id": "8O33Qha1H4uO",
        "colab_type": "code",
        "colab": {
          "base_uri": "https://localhost:8080/",
          "height": 102
        },
        "outputId": "dca9a6ca-3c11-42fe-f6eb-10013bcdfc96"
      },
      "source": [
        "model_2 = RandomForestClassifier(verbose=1, random_state=123)\n",
        "model_2.fit(x_train, y_train)\n",
        "y_pred_2 = model_2.predict(x_test)\n",
        "print(np.sum(y_pred_2 == y_test)/x_test.shape[0])"
      ],
      "execution_count": null,
      "outputs": [
        {
          "output_type": "stream",
          "text": [
            "0.9627659574468085\n"
          ],
          "name": "stdout"
        },
        {
          "output_type": "stream",
          "text": [
            "[Parallel(n_jobs=1)]: Using backend SequentialBackend with 1 concurrent workers.\n",
            "[Parallel(n_jobs=1)]: Done 100 out of 100 | elapsed:    0.2s finished\n",
            "[Parallel(n_jobs=1)]: Using backend SequentialBackend with 1 concurrent workers.\n",
            "[Parallel(n_jobs=1)]: Done 100 out of 100 | elapsed:    0.0s finished\n"
          ],
          "name": "stderr"
        }
      ]
    },
    {
      "cell_type": "code",
      "metadata": {
        "id": "3hc8LYFMIAs9",
        "colab_type": "code",
        "colab": {
          "base_uri": "https://localhost:8080/",
          "height": 1000
        },
        "outputId": "88e8e048-c879-4124-9963-0046608182ad"
      },
      "source": [
        "model_3 = RandomForestClassifier(verbose=2, random_state=123)\n",
        "model_3.fit(x_train, y_train)\n",
        "y_pred_3 = model_3.predict(x_test)\n",
        "print(np.sum(y_pred_3 == y_test)/x_test.shape[0])"
      ],
      "execution_count": null,
      "outputs": [
        {
          "output_type": "stream",
          "text": [
            "building tree 1 of 100\n",
            "building tree 2 of 100\n",
            "building tree 3 of 100\n",
            "building tree 4 of 100\n",
            "building tree 5 of 100\n",
            "building tree 6 of 100\n",
            "building tree 7 of 100\n",
            "building tree 8 of 100\n",
            "building tree 9 of 100\n",
            "building tree 10 of 100\n",
            "building tree 11 of 100\n",
            "building tree 12 of 100\n",
            "building tree 13 of 100\n",
            "building tree 14 of 100\n",
            "building tree 15 of 100\n",
            "building tree 16 of 100\n",
            "building tree 17 of 100\n",
            "building tree 18 of 100\n",
            "building tree 19 of 100\n",
            "building tree 20 of 100\n",
            "building tree 21 of 100\n",
            "building tree 22 of 100\n",
            "building tree 23 of 100\n",
            "building tree 24 of 100\n",
            "building tree 25 of 100\n",
            "building tree 26 of 100\n",
            "building tree 27 of 100\n",
            "building tree 28 of 100\n",
            "building tree 29 of 100\n",
            "building tree 30 of 100\n",
            "building tree 31 of 100\n",
            "building tree 32 of 100\n",
            "building tree 33 of 100\n",
            "building tree 34 of 100\n",
            "building tree 35 of 100\n",
            "building tree 36 of 100\n",
            "building tree 37 of 100\n",
            "building tree 38 of 100\n",
            "building tree 39 of 100\n",
            "building tree 40 of 100\n",
            "building tree 41 of 100\n",
            "building tree 42 of 100\n",
            "building tree 43 of 100\n",
            "building tree 44 of 100\n",
            "building tree 45 of 100\n",
            "building tree 46 of 100\n",
            "building tree 47 of 100\n",
            "building tree 48 of 100\n",
            "building tree 49 of 100\n",
            "building tree 50 of 100\n",
            "building tree 51 of 100\n",
            "building tree 52 of 100\n",
            "building tree 53 of 100\n",
            "building tree 54 of 100\n",
            "building tree 55 of 100\n",
            "building tree 56 of 100\n",
            "building tree 57 of 100\n",
            "building tree 58 of 100\n",
            "building tree 59 of 100\n",
            "building tree 60 of 100\n",
            "building tree 61 of 100\n",
            "building tree 62 of 100\n",
            "building tree 63 of 100\n",
            "building tree 64 of 100\n",
            "building tree 65 of 100\n",
            "building tree 66 of 100\n",
            "building tree 67 of 100\n",
            "building tree 68 of 100\n",
            "building tree 69 of 100\n",
            "building tree 70 of 100\n"
          ],
          "name": "stdout"
        },
        {
          "output_type": "stream",
          "text": [
            "[Parallel(n_jobs=1)]: Using backend SequentialBackend with 1 concurrent workers.\n",
            "[Parallel(n_jobs=1)]: Done   1 out of   1 | elapsed:    0.0s remaining:    0.0s\n"
          ],
          "name": "stderr"
        },
        {
          "output_type": "stream",
          "text": [
            "building tree 71 of 100\n",
            "building tree 72 of 100\n",
            "building tree 73 of 100\n",
            "building tree 74 of 100\n",
            "building tree 75 of 100\n",
            "building tree 76 of 100\n",
            "building tree 77 of 100\n",
            "building tree 78 of 100\n",
            "building tree 79 of 100\n",
            "building tree 80 of 100\n",
            "building tree 81 of 100\n",
            "building tree 82 of 100\n",
            "building tree 83 of 100\n",
            "building tree 84 of 100\n",
            "building tree 85 of 100\n",
            "building tree 86 of 100\n",
            "building tree 87 of 100\n",
            "building tree 88 of 100\n",
            "building tree 89 of 100\n",
            "building tree 90 of 100\n",
            "building tree 91 of 100\n",
            "building tree 92 of 100\n",
            "building tree 93 of 100\n",
            "building tree 94 of 100\n",
            "building tree 95 of 100\n",
            "building tree 96 of 100\n",
            "building tree 97 of 100\n",
            "building tree 98 of 100\n",
            "building tree 99 of 100\n",
            "building tree 100 of 100\n",
            "0.9627659574468085\n"
          ],
          "name": "stdout"
        },
        {
          "output_type": "stream",
          "text": [
            "[Parallel(n_jobs=1)]: Done 100 out of 100 | elapsed:    0.2s finished\n",
            "[Parallel(n_jobs=1)]: Using backend SequentialBackend with 1 concurrent workers.\n",
            "[Parallel(n_jobs=1)]: Done   1 out of   1 | elapsed:    0.0s remaining:    0.0s\n",
            "[Parallel(n_jobs=1)]: Done 100 out of 100 | elapsed:    0.0s finished\n"
          ],
          "name": "stderr"
        }
      ]
    },
    {
      "cell_type": "markdown",
      "metadata": {
        "id": "eUzzmY7_7K6-",
        "colab_type": "text"
      },
      "source": [
        "### warm_start"
      ]
    },
    {
      "cell_type": "markdown",
      "metadata": {
        "id": "-uhteheoIMzW",
        "colab_type": "text"
      },
      "source": [
        "L'option warm_start permet de pouvoir effectué un second entrainement sur des nouveaux arbres sans toucher aux arbres du premier entraînement."
      ]
    },
    {
      "cell_type": "code",
      "metadata": {
        "id": "P-lLby9rIckb",
        "colab_type": "code",
        "colab": {
          "base_uri": "https://localhost:8080/",
          "height": 34
        },
        "outputId": "86eaa632-6876-4a57-d9ec-11fae3c9910b"
      },
      "source": [
        "model_1 = RandomForestClassifier(warm_start=True, random_state=123)\n",
        "model_1.fit(x_train, y_train)\n",
        "y_pred_1 = model_1.predict(x_test)\n",
        "print(np.sum(y_pred_1 == y_test)/x_test.shape[0])"
      ],
      "execution_count": null,
      "outputs": [
        {
          "output_type": "stream",
          "text": [
            "0.9627659574468085\n"
          ],
          "name": "stdout"
        }
      ]
    },
    {
      "cell_type": "code",
      "metadata": {
        "id": "0dbzFjh8IfEs",
        "colab_type": "code",
        "colab": {
          "base_uri": "https://localhost:8080/",
          "height": 34
        },
        "outputId": "2985d8a8-f710-425b-caab-084dcc6b83d4"
      },
      "source": [
        "model_1.n_estimators += 20\n",
        "model_1.fit(x_test, y_test)\n",
        "y_pred_1 = model_1.predict(x)\n",
        "print(np.sum(y_pred_1 == y)/x.shape[0])"
      ],
      "execution_count": null,
      "outputs": [
        {
          "output_type": "stream",
          "text": [
            "0.9912126537785588\n"
          ],
          "name": "stdout"
        }
      ]
    },
    {
      "cell_type": "code",
      "metadata": {
        "id": "UT7m2p2sI8o3",
        "colab_type": "code",
        "colab": {
          "base_uri": "https://localhost:8080/",
          "height": 34
        },
        "outputId": "f6305465-7441-4ba2-fec2-86d404e6d5a0"
      },
      "source": [
        "model_2 = RandomForestClassifier(random_state=123)\n",
        "model_2.fit(x_train, y_train)\n",
        "y_pred_2 = model_2.predict(x_test)\n",
        "print(np.sum(y_pred_2 == y_test)/x_test.shape[0])"
      ],
      "execution_count": null,
      "outputs": [
        {
          "output_type": "stream",
          "text": [
            "0.9627659574468085\n"
          ],
          "name": "stdout"
        }
      ]
    },
    {
      "cell_type": "code",
      "metadata": {
        "id": "2tjaj8k-JCgT",
        "colab_type": "code",
        "colab": {
          "base_uri": "https://localhost:8080/",
          "height": 34
        },
        "outputId": "6979f3ec-9579-4bf6-9e3d-f948aa052a59"
      },
      "source": [
        "model_2.n_estimators += 20\n",
        "model_2.fit(x_test, y_test)\n",
        "y_pred_2 = model_2.predict(x)\n",
        "print(np.sum(y_pred_2 == y)/x.shape[0])"
      ],
      "execution_count": null,
      "outputs": [
        {
          "output_type": "stream",
          "text": [
            "0.961335676625659\n"
          ],
          "name": "stdout"
        }
      ]
    },
    {
      "cell_type": "markdown",
      "metadata": {
        "id": "Yefzf-Q37OmS",
        "colab_type": "text"
      },
      "source": [
        "### class_weight"
      ]
    },
    {
      "cell_type": "markdown",
      "metadata": {
        "id": "lDdhQe8FLMAG",
        "colab_type": "text"
      },
      "source": [
        "Ce paramètre permet de donner un poids différent aux classes de notre jeu d'entraînement. Ce paramètre peut être intéressant lorsque nous avons affaire à un jeu de données qui n'est pas réparti équitablement entre les différentes classes."
      ]
    },
    {
      "cell_type": "markdown",
      "metadata": {
        "id": "Q7w_ygsQ7SIQ",
        "colab_type": "text"
      },
      "source": [
        "### ccp_alpha"
      ]
    },
    {
      "cell_type": "markdown",
      "metadata": {
        "id": "wXuqrkCpLPG3",
        "colab_type": "text"
      },
      "source": [
        "Ce paramètre initialise le *alpha* de l'algorithme du minimal Cost-Complexity Pruning (CCP).\n",
        "\n",
        "Le CCP est un algorithme qui permet de supprimer des parties de l'arbre qui ajoute de la complexité au modèle sans apporter beaucoup de valeur supplémentaire. Le but de cette suppression est de rendre l'algorithme plus simple et plus généralisable tout en conservant une performance acceptable.\n",
        "\n",
        "Le paramètre alpha est un nombre positif. Plus le paramètre est élevé plus le modèle sera simplifié. \n",
        "\n",
        "Attention si *alpha* est trop élevé votre modèle deviendra trop simple et cela dégradera la performance de votre modèle. "
      ]
    },
    {
      "cell_type": "markdown",
      "metadata": {
        "id": "0EXqUoxA7WdY",
        "colab_type": "text"
      },
      "source": [
        "### max_samples"
      ]
    },
    {
      "cell_type": "markdown",
      "metadata": {
        "id": "RzUUD4EvLeSo",
        "colab_type": "text"
      },
      "source": [
        "Ca paramètre contrôle le nombre d'observations à tirer pour l'entraînement de nos modèles. \n",
        "\n",
        "Par défaut on tire autant d'observations que le nombre de lignes dans le jeu de données d'origine. Ce paramètre vous permet de définir vous même le nombre d'observations que l'algorithme doit tirer pour l'entraînement des arbres. "
      ]
    },
    {
      "cell_type": "markdown",
      "metadata": {
        "id": "Vq1SaRtD7Zes",
        "colab_type": "text"
      },
      "source": [
        "## Attributs"
      ]
    },
    {
      "cell_type": "markdown",
      "metadata": {
        "id": "n1Z15DmKMO9k",
        "colab_type": "text"
      },
      "source": [
        "Les attributs sont les différentes informations que l'on peut obtenir du modèle une fois qu'il est entraîné."
      ]
    },
    {
      "cell_type": "markdown",
      "metadata": {
        "id": "Tc6ddhB57bGQ",
        "colab_type": "text"
      },
      "source": [
        "### base_estimator_\n"
      ]
    },
    {
      "cell_type": "markdown",
      "metadata": {
        "id": "Jx6KB5zQxvRe",
        "colab_type": "text"
      },
      "source": [
        "L'attribut *base_estimator_* retourne les paramètres d'entraînement de notre algorithme de random forest. "
      ]
    },
    {
      "cell_type": "code",
      "metadata": {
        "id": "Gqr2Rduqx6yj",
        "colab_type": "code",
        "colab": {
          "base_uri": "https://localhost:8080/",
          "height": 119
        },
        "outputId": "3e6fb973-698d-40d5-92cd-cd04bb266b5a"
      },
      "source": [
        "model_1.base_estimator_"
      ],
      "execution_count": null,
      "outputs": [
        {
          "output_type": "execute_result",
          "data": {
            "text/plain": [
              "DecisionTreeClassifier(ccp_alpha=0.0, class_weight=None, criterion='gini',\n",
              "                       max_depth=None, max_features=None, max_leaf_nodes=None,\n",
              "                       min_impurity_decrease=0.0, min_impurity_split=None,\n",
              "                       min_samples_leaf=1, min_samples_split=2,\n",
              "                       min_weight_fraction_leaf=0.0, presort='deprecated',\n",
              "                       random_state=None, splitter='best')"
            ]
          },
          "metadata": {
            "tags": []
          },
          "execution_count": 22
        }
      ]
    },
    {
      "cell_type": "markdown",
      "metadata": {
        "id": "FLg57CvM7faU",
        "colab_type": "text"
      },
      "source": [
        "### estimators_"
      ]
    },
    {
      "cell_type": "markdown",
      "metadata": {
        "id": "6I9dgYsm0Pbt",
        "colab_type": "text"
      },
      "source": [
        "L'attribut *estimators_* retourne les paramètres d'entraînement de chacun des arbres de notre forêt. "
      ]
    },
    {
      "cell_type": "code",
      "metadata": {
        "id": "E9oG9pekyMKv",
        "colab_type": "code",
        "colab": {
          "base_uri": "https://localhost:8080/",
          "height": 1000
        },
        "outputId": "b2652b4d-b5cc-44ca-907f-69e3017af292"
      },
      "source": [
        "model_1.estimators_"
      ],
      "execution_count": null,
      "outputs": [
        {
          "output_type": "execute_result",
          "data": {
            "text/plain": [
              "[DecisionTreeClassifier(ccp_alpha=0.0, class_weight=None, criterion='gini',\n",
              "                        max_depth=None, max_features='auto', max_leaf_nodes=None,\n",
              "                        min_impurity_decrease=0.0, min_impurity_split=None,\n",
              "                        min_samples_leaf=1, min_samples_split=2,\n",
              "                        min_weight_fraction_leaf=0.0, presort='deprecated',\n",
              "                        random_state=843828734, splitter='best'),\n",
              " DecisionTreeClassifier(ccp_alpha=0.0, class_weight=None, criterion='gini',\n",
              "                        max_depth=None, max_features='auto', max_leaf_nodes=None,\n",
              "                        min_impurity_decrease=0.0, min_impurity_split=None,\n",
              "                        min_samples_leaf=1, min_samples_split=2,\n",
              "                        min_weight_fraction_leaf=0.0, presort='deprecated',\n",
              "                        random_state=914636141, splitter='best'),\n",
              " DecisionTreeClassifier(ccp_alpha=0.0, class_weight=None, criterion='gini',\n",
              "                        max_depth=None, max_features='auto', max_leaf_nodes=None,\n",
              "                        min_impurity_decrease=0.0, min_impurity_split=None,\n",
              "                        min_samples_leaf=1, min_samples_split=2,\n",
              "                        min_weight_fraction_leaf=0.0, presort='deprecated',\n",
              "                        random_state=1228959102, splitter='best'),\n",
              " DecisionTreeClassifier(ccp_alpha=0.0, class_weight=None, criterion='gini',\n",
              "                        max_depth=None, max_features='auto', max_leaf_nodes=None,\n",
              "                        min_impurity_decrease=0.0, min_impurity_split=None,\n",
              "                        min_samples_leaf=1, min_samples_split=2,\n",
              "                        min_weight_fraction_leaf=0.0, presort='deprecated',\n",
              "                        random_state=1840268610, splitter='best'),\n",
              " DecisionTreeClassifier(ccp_alpha=0.0, class_weight=None, criterion='gini',\n",
              "                        max_depth=None, max_features='auto', max_leaf_nodes=None,\n",
              "                        min_impurity_decrease=0.0, min_impurity_split=None,\n",
              "                        min_samples_leaf=1, min_samples_split=2,\n",
              "                        min_weight_fraction_leaf=0.0, presort='deprecated',\n",
              "                        random_state=974319580, splitter='best'),\n",
              " DecisionTreeClassifier(ccp_alpha=0.0, class_weight=None, criterion='gini',\n",
              "                        max_depth=None, max_features='auto', max_leaf_nodes=None,\n",
              "                        min_impurity_decrease=0.0, min_impurity_split=None,\n",
              "                        min_samples_leaf=1, min_samples_split=2,\n",
              "                        min_weight_fraction_leaf=0.0, presort='deprecated',\n",
              "                        random_state=819844194, splitter='best'),\n",
              " DecisionTreeClassifier(ccp_alpha=0.0, class_weight=None, criterion='gini',\n",
              "                        max_depth=None, max_features='auto', max_leaf_nodes=None,\n",
              "                        min_impurity_decrease=0.0, min_impurity_split=None,\n",
              "                        min_samples_leaf=1, min_samples_split=2,\n",
              "                        min_weight_fraction_leaf=0.0, presort='deprecated',\n",
              "                        random_state=220395238, splitter='best'),\n",
              " DecisionTreeClassifier(ccp_alpha=0.0, class_weight=None, criterion='gini',\n",
              "                        max_depth=None, max_features='auto', max_leaf_nodes=None,\n",
              "                        min_impurity_decrease=0.0, min_impurity_split=None,\n",
              "                        min_samples_leaf=1, min_samples_split=2,\n",
              "                        min_weight_fraction_leaf=0.0, presort='deprecated',\n",
              "                        random_state=941243409, splitter='best'),\n",
              " DecisionTreeClassifier(ccp_alpha=0.0, class_weight=None, criterion='gini',\n",
              "                        max_depth=None, max_features='auto', max_leaf_nodes=None,\n",
              "                        min_impurity_decrease=0.0, min_impurity_split=None,\n",
              "                        min_samples_leaf=1, min_samples_split=2,\n",
              "                        min_weight_fraction_leaf=0.0, presort='deprecated',\n",
              "                        random_state=942612051, splitter='best'),\n",
              " DecisionTreeClassifier(ccp_alpha=0.0, class_weight=None, criterion='gini',\n",
              "                        max_depth=None, max_features='auto', max_leaf_nodes=None,\n",
              "                        min_impurity_decrease=0.0, min_impurity_split=None,\n",
              "                        min_samples_leaf=1, min_samples_split=2,\n",
              "                        min_weight_fraction_leaf=0.0, presort='deprecated',\n",
              "                        random_state=2109339754, splitter='best'),\n",
              " DecisionTreeClassifier(ccp_alpha=0.0, class_weight=None, criterion='gini',\n",
              "                        max_depth=None, max_features='auto', max_leaf_nodes=None,\n",
              "                        min_impurity_decrease=0.0, min_impurity_split=None,\n",
              "                        min_samples_leaf=1, min_samples_split=2,\n",
              "                        min_weight_fraction_leaf=0.0, presort='deprecated',\n",
              "                        random_state=1817228411, splitter='best'),\n",
              " DecisionTreeClassifier(ccp_alpha=0.0, class_weight=None, criterion='gini',\n",
              "                        max_depth=None, max_features='auto', max_leaf_nodes=None,\n",
              "                        min_impurity_decrease=0.0, min_impurity_split=None,\n",
              "                        min_samples_leaf=1, min_samples_split=2,\n",
              "                        min_weight_fraction_leaf=0.0, presort='deprecated',\n",
              "                        random_state=1202710073, splitter='best'),\n",
              " DecisionTreeClassifier(ccp_alpha=0.0, class_weight=None, criterion='gini',\n",
              "                        max_depth=None, max_features='auto', max_leaf_nodes=None,\n",
              "                        min_impurity_decrease=0.0, min_impurity_split=None,\n",
              "                        min_samples_leaf=1, min_samples_split=2,\n",
              "                        min_weight_fraction_leaf=0.0, presort='deprecated',\n",
              "                        random_state=2064866518, splitter='best'),\n",
              " DecisionTreeClassifier(ccp_alpha=0.0, class_weight=None, criterion='gini',\n",
              "                        max_depth=None, max_features='auto', max_leaf_nodes=None,\n",
              "                        min_impurity_decrease=0.0, min_impurity_split=None,\n",
              "                        min_samples_leaf=1, min_samples_split=2,\n",
              "                        min_weight_fraction_leaf=0.0, presort='deprecated',\n",
              "                        random_state=1764906721, splitter='best'),\n",
              " DecisionTreeClassifier(ccp_alpha=0.0, class_weight=None, criterion='gini',\n",
              "                        max_depth=None, max_features='auto', max_leaf_nodes=None,\n",
              "                        min_impurity_decrease=0.0, min_impurity_split=None,\n",
              "                        min_samples_leaf=1, min_samples_split=2,\n",
              "                        min_weight_fraction_leaf=0.0, presort='deprecated',\n",
              "                        random_state=793837664, splitter='best'),\n",
              " DecisionTreeClassifier(ccp_alpha=0.0, class_weight=None, criterion='gini',\n",
              "                        max_depth=None, max_features='auto', max_leaf_nodes=None,\n",
              "                        min_impurity_decrease=0.0, min_impurity_split=None,\n",
              "                        min_samples_leaf=1, min_samples_split=2,\n",
              "                        min_weight_fraction_leaf=0.0, presort='deprecated',\n",
              "                        random_state=342284401, splitter='best'),\n",
              " DecisionTreeClassifier(ccp_alpha=0.0, class_weight=None, criterion='gini',\n",
              "                        max_depth=None, max_features='auto', max_leaf_nodes=None,\n",
              "                        min_impurity_decrease=0.0, min_impurity_split=None,\n",
              "                        min_samples_leaf=1, min_samples_split=2,\n",
              "                        min_weight_fraction_leaf=0.0, presort='deprecated',\n",
              "                        random_state=2065586814, splitter='best'),\n",
              " DecisionTreeClassifier(ccp_alpha=0.0, class_weight=None, criterion='gini',\n",
              "                        max_depth=None, max_features='auto', max_leaf_nodes=None,\n",
              "                        min_impurity_decrease=0.0, min_impurity_split=None,\n",
              "                        min_samples_leaf=1, min_samples_split=2,\n",
              "                        min_weight_fraction_leaf=0.0, presort='deprecated',\n",
              "                        random_state=601083951, splitter='best'),\n",
              " DecisionTreeClassifier(ccp_alpha=0.0, class_weight=None, criterion='gini',\n",
              "                        max_depth=None, max_features='auto', max_leaf_nodes=None,\n",
              "                        min_impurity_decrease=0.0, min_impurity_split=None,\n",
              "                        min_samples_leaf=1, min_samples_split=2,\n",
              "                        min_weight_fraction_leaf=0.0, presort='deprecated',\n",
              "                        random_state=1684131913, splitter='best'),\n",
              " DecisionTreeClassifier(ccp_alpha=0.0, class_weight=None, criterion='gini',\n",
              "                        max_depth=None, max_features='auto', max_leaf_nodes=None,\n",
              "                        min_impurity_decrease=0.0, min_impurity_split=None,\n",
              "                        min_samples_leaf=1, min_samples_split=2,\n",
              "                        min_weight_fraction_leaf=0.0, presort='deprecated',\n",
              "                        random_state=1722357280, splitter='best'),\n",
              " DecisionTreeClassifier(ccp_alpha=0.0, class_weight=None, criterion='gini',\n",
              "                        max_depth=None, max_features='auto', max_leaf_nodes=None,\n",
              "                        min_impurity_decrease=0.0, min_impurity_split=None,\n",
              "                        min_samples_leaf=1, min_samples_split=2,\n",
              "                        min_weight_fraction_leaf=0.0, presort='deprecated',\n",
              "                        random_state=1473938350, splitter='best'),\n",
              " DecisionTreeClassifier(ccp_alpha=0.0, class_weight=None, criterion='gini',\n",
              "                        max_depth=None, max_features='auto', max_leaf_nodes=None,\n",
              "                        min_impurity_decrease=0.0, min_impurity_split=None,\n",
              "                        min_samples_leaf=1, min_samples_split=2,\n",
              "                        min_weight_fraction_leaf=0.0, presort='deprecated',\n",
              "                        random_state=546822368, splitter='best'),\n",
              " DecisionTreeClassifier(ccp_alpha=0.0, class_weight=None, criterion='gini',\n",
              "                        max_depth=None, max_features='auto', max_leaf_nodes=None,\n",
              "                        min_impurity_decrease=0.0, min_impurity_split=None,\n",
              "                        min_samples_leaf=1, min_samples_split=2,\n",
              "                        min_weight_fraction_leaf=0.0, presort='deprecated',\n",
              "                        random_state=983761007, splitter='best'),\n",
              " DecisionTreeClassifier(ccp_alpha=0.0, class_weight=None, criterion='gini',\n",
              "                        max_depth=None, max_features='auto', max_leaf_nodes=None,\n",
              "                        min_impurity_decrease=0.0, min_impurity_split=None,\n",
              "                        min_samples_leaf=1, min_samples_split=2,\n",
              "                        min_weight_fraction_leaf=0.0, presort='deprecated',\n",
              "                        random_state=1392217497, splitter='best'),\n",
              " DecisionTreeClassifier(ccp_alpha=0.0, class_weight=None, criterion='gini',\n",
              "                        max_depth=None, max_features='auto', max_leaf_nodes=None,\n",
              "                        min_impurity_decrease=0.0, min_impurity_split=None,\n",
              "                        min_samples_leaf=1, min_samples_split=2,\n",
              "                        min_weight_fraction_leaf=0.0, presort='deprecated',\n",
              "                        random_state=1883653459, splitter='best'),\n",
              " DecisionTreeClassifier(ccp_alpha=0.0, class_weight=None, criterion='gini',\n",
              "                        max_depth=None, max_features='auto', max_leaf_nodes=None,\n",
              "                        min_impurity_decrease=0.0, min_impurity_split=None,\n",
              "                        min_samples_leaf=1, min_samples_split=2,\n",
              "                        min_weight_fraction_leaf=0.0, presort='deprecated',\n",
              "                        random_state=1051233102, splitter='best'),\n",
              " DecisionTreeClassifier(ccp_alpha=0.0, class_weight=None, criterion='gini',\n",
              "                        max_depth=None, max_features='auto', max_leaf_nodes=None,\n",
              "                        min_impurity_decrease=0.0, min_impurity_split=None,\n",
              "                        min_samples_leaf=1, min_samples_split=2,\n",
              "                        min_weight_fraction_leaf=0.0, presort='deprecated',\n",
              "                        random_state=256314621, splitter='best'),\n",
              " DecisionTreeClassifier(ccp_alpha=0.0, class_weight=None, criterion='gini',\n",
              "                        max_depth=None, max_features='auto', max_leaf_nodes=None,\n",
              "                        min_impurity_decrease=0.0, min_impurity_split=None,\n",
              "                        min_samples_leaf=1, min_samples_split=2,\n",
              "                        min_weight_fraction_leaf=0.0, presort='deprecated',\n",
              "                        random_state=836467108, splitter='best'),\n",
              " DecisionTreeClassifier(ccp_alpha=0.0, class_weight=None, criterion='gini',\n",
              "                        max_depth=None, max_features='auto', max_leaf_nodes=None,\n",
              "                        min_impurity_decrease=0.0, min_impurity_split=None,\n",
              "                        min_samples_leaf=1, min_samples_split=2,\n",
              "                        min_weight_fraction_leaf=0.0, presort='deprecated',\n",
              "                        random_state=1709587040, splitter='best'),\n",
              " DecisionTreeClassifier(ccp_alpha=0.0, class_weight=None, criterion='gini',\n",
              "                        max_depth=None, max_features='auto', max_leaf_nodes=None,\n",
              "                        min_impurity_decrease=0.0, min_impurity_split=None,\n",
              "                        min_samples_leaf=1, min_samples_split=2,\n",
              "                        min_weight_fraction_leaf=0.0, presort='deprecated',\n",
              "                        random_state=403307728, splitter='best'),\n",
              " DecisionTreeClassifier(ccp_alpha=0.0, class_weight=None, criterion='gini',\n",
              "                        max_depth=None, max_features='auto', max_leaf_nodes=None,\n",
              "                        min_impurity_decrease=0.0, min_impurity_split=None,\n",
              "                        min_samples_leaf=1, min_samples_split=2,\n",
              "                        min_weight_fraction_leaf=0.0, presort='deprecated',\n",
              "                        random_state=1022182468, splitter='best'),\n",
              " DecisionTreeClassifier(ccp_alpha=0.0, class_weight=None, criterion='gini',\n",
              "                        max_depth=None, max_features='auto', max_leaf_nodes=None,\n",
              "                        min_impurity_decrease=0.0, min_impurity_split=None,\n",
              "                        min_samples_leaf=1, min_samples_split=2,\n",
              "                        min_weight_fraction_leaf=0.0, presort='deprecated',\n",
              "                        random_state=566042417, splitter='best'),\n",
              " DecisionTreeClassifier(ccp_alpha=0.0, class_weight=None, criterion='gini',\n",
              "                        max_depth=None, max_features='auto', max_leaf_nodes=None,\n",
              "                        min_impurity_decrease=0.0, min_impurity_split=None,\n",
              "                        min_samples_leaf=1, min_samples_split=2,\n",
              "                        min_weight_fraction_leaf=0.0, presort='deprecated',\n",
              "                        random_state=783796023, splitter='best'),\n",
              " DecisionTreeClassifier(ccp_alpha=0.0, class_weight=None, criterion='gini',\n",
              "                        max_depth=None, max_features='auto', max_leaf_nodes=None,\n",
              "                        min_impurity_decrease=0.0, min_impurity_split=None,\n",
              "                        min_samples_leaf=1, min_samples_split=2,\n",
              "                        min_weight_fraction_leaf=0.0, presort='deprecated',\n",
              "                        random_state=1890890179, splitter='best'),\n",
              " DecisionTreeClassifier(ccp_alpha=0.0, class_weight=None, criterion='gini',\n",
              "                        max_depth=None, max_features='auto', max_leaf_nodes=None,\n",
              "                        min_impurity_decrease=0.0, min_impurity_split=None,\n",
              "                        min_samples_leaf=1, min_samples_split=2,\n",
              "                        min_weight_fraction_leaf=0.0, presort='deprecated',\n",
              "                        random_state=753559554, splitter='best'),\n",
              " DecisionTreeClassifier(ccp_alpha=0.0, class_weight=None, criterion='gini',\n",
              "                        max_depth=None, max_features='auto', max_leaf_nodes=None,\n",
              "                        min_impurity_decrease=0.0, min_impurity_split=None,\n",
              "                        min_samples_leaf=1, min_samples_split=2,\n",
              "                        min_weight_fraction_leaf=0.0, presort='deprecated',\n",
              "                        random_state=359602516, splitter='best'),\n",
              " DecisionTreeClassifier(ccp_alpha=0.0, class_weight=None, criterion='gini',\n",
              "                        max_depth=None, max_features='auto', max_leaf_nodes=None,\n",
              "                        min_impurity_decrease=0.0, min_impurity_split=None,\n",
              "                        min_samples_leaf=1, min_samples_split=2,\n",
              "                        min_weight_fraction_leaf=0.0, presort='deprecated',\n",
              "                        random_state=135512103, splitter='best'),\n",
              " DecisionTreeClassifier(ccp_alpha=0.0, class_weight=None, criterion='gini',\n",
              "                        max_depth=None, max_features='auto', max_leaf_nodes=None,\n",
              "                        min_impurity_decrease=0.0, min_impurity_split=None,\n",
              "                        min_samples_leaf=1, min_samples_split=2,\n",
              "                        min_weight_fraction_leaf=0.0, presort='deprecated',\n",
              "                        random_state=911951170, splitter='best'),\n",
              " DecisionTreeClassifier(ccp_alpha=0.0, class_weight=None, criterion='gini',\n",
              "                        max_depth=None, max_features='auto', max_leaf_nodes=None,\n",
              "                        min_impurity_decrease=0.0, min_impurity_split=None,\n",
              "                        min_samples_leaf=1, min_samples_split=2,\n",
              "                        min_weight_fraction_leaf=0.0, presort='deprecated',\n",
              "                        random_state=136698452, splitter='best'),\n",
              " DecisionTreeClassifier(ccp_alpha=0.0, class_weight=None, criterion='gini',\n",
              "                        max_depth=None, max_features='auto', max_leaf_nodes=None,\n",
              "                        min_impurity_decrease=0.0, min_impurity_split=None,\n",
              "                        min_samples_leaf=1, min_samples_split=2,\n",
              "                        min_weight_fraction_leaf=0.0, presort='deprecated',\n",
              "                        random_state=1837659695, splitter='best'),\n",
              " DecisionTreeClassifier(ccp_alpha=0.0, class_weight=None, criterion='gini',\n",
              "                        max_depth=None, max_features='auto', max_leaf_nodes=None,\n",
              "                        min_impurity_decrease=0.0, min_impurity_split=None,\n",
              "                        min_samples_leaf=1, min_samples_split=2,\n",
              "                        min_weight_fraction_leaf=0.0, presort='deprecated',\n",
              "                        random_state=577247736, splitter='best'),\n",
              " DecisionTreeClassifier(ccp_alpha=0.0, class_weight=None, criterion='gini',\n",
              "                        max_depth=None, max_features='auto', max_leaf_nodes=None,\n",
              "                        min_impurity_decrease=0.0, min_impurity_split=None,\n",
              "                        min_samples_leaf=1, min_samples_split=2,\n",
              "                        min_weight_fraction_leaf=0.0, presort='deprecated',\n",
              "                        random_state=1278957501, splitter='best'),\n",
              " DecisionTreeClassifier(ccp_alpha=0.0, class_weight=None, criterion='gini',\n",
              "                        max_depth=None, max_features='auto', max_leaf_nodes=None,\n",
              "                        min_impurity_decrease=0.0, min_impurity_split=None,\n",
              "                        min_samples_leaf=1, min_samples_split=2,\n",
              "                        min_weight_fraction_leaf=0.0, presort='deprecated',\n",
              "                        random_state=1500798128, splitter='best'),\n",
              " DecisionTreeClassifier(ccp_alpha=0.0, class_weight=None, criterion='gini',\n",
              "                        max_depth=None, max_features='auto', max_leaf_nodes=None,\n",
              "                        min_impurity_decrease=0.0, min_impurity_split=None,\n",
              "                        min_samples_leaf=1, min_samples_split=2,\n",
              "                        min_weight_fraction_leaf=0.0, presort='deprecated',\n",
              "                        random_state=2113488007, splitter='best'),\n",
              " DecisionTreeClassifier(ccp_alpha=0.0, class_weight=None, criterion='gini',\n",
              "                        max_depth=None, max_features='auto', max_leaf_nodes=None,\n",
              "                        min_impurity_decrease=0.0, min_impurity_split=None,\n",
              "                        min_samples_leaf=1, min_samples_split=2,\n",
              "                        min_weight_fraction_leaf=0.0, presort='deprecated',\n",
              "                        random_state=964028265, splitter='best'),\n",
              " DecisionTreeClassifier(ccp_alpha=0.0, class_weight=None, criterion='gini',\n",
              "                        max_depth=None, max_features='auto', max_leaf_nodes=None,\n",
              "                        min_impurity_decrease=0.0, min_impurity_split=None,\n",
              "                        min_samples_leaf=1, min_samples_split=2,\n",
              "                        min_weight_fraction_leaf=0.0, presort='deprecated',\n",
              "                        random_state=1032065123, splitter='best'),\n",
              " DecisionTreeClassifier(ccp_alpha=0.0, class_weight=None, criterion='gini',\n",
              "                        max_depth=None, max_features='auto', max_leaf_nodes=None,\n",
              "                        min_impurity_decrease=0.0, min_impurity_split=None,\n",
              "                        min_samples_leaf=1, min_samples_split=2,\n",
              "                        min_weight_fraction_leaf=0.0, presort='deprecated',\n",
              "                        random_state=476842364, splitter='best'),\n",
              " DecisionTreeClassifier(ccp_alpha=0.0, class_weight=None, criterion='gini',\n",
              "                        max_depth=None, max_features='auto', max_leaf_nodes=None,\n",
              "                        min_impurity_decrease=0.0, min_impurity_split=None,\n",
              "                        min_samples_leaf=1, min_samples_split=2,\n",
              "                        min_weight_fraction_leaf=0.0, presort='deprecated',\n",
              "                        random_state=1536434012, splitter='best'),\n",
              " DecisionTreeClassifier(ccp_alpha=0.0, class_weight=None, criterion='gini',\n",
              "                        max_depth=None, max_features='auto', max_leaf_nodes=None,\n",
              "                        min_impurity_decrease=0.0, min_impurity_split=None,\n",
              "                        min_samples_leaf=1, min_samples_split=2,\n",
              "                        min_weight_fraction_leaf=0.0, presort='deprecated',\n",
              "                        random_state=955387060, splitter='best'),\n",
              " DecisionTreeClassifier(ccp_alpha=0.0, class_weight=None, criterion='gini',\n",
              "                        max_depth=None, max_features='auto', max_leaf_nodes=None,\n",
              "                        min_impurity_decrease=0.0, min_impurity_split=None,\n",
              "                        min_samples_leaf=1, min_samples_split=2,\n",
              "                        min_weight_fraction_leaf=0.0, presort='deprecated',\n",
              "                        random_state=1791903078, splitter='best'),\n",
              " DecisionTreeClassifier(ccp_alpha=0.0, class_weight=None, criterion='gini',\n",
              "                        max_depth=None, max_features='auto', max_leaf_nodes=None,\n",
              "                        min_impurity_decrease=0.0, min_impurity_split=None,\n",
              "                        min_samples_leaf=1, min_samples_split=2,\n",
              "                        min_weight_fraction_leaf=0.0, presort='deprecated',\n",
              "                        random_state=1387097953, splitter='best'),\n",
              " DecisionTreeClassifier(ccp_alpha=0.0, class_weight=None, criterion='gini',\n",
              "                        max_depth=None, max_features='auto', max_leaf_nodes=None,\n",
              "                        min_impurity_decrease=0.0, min_impurity_split=None,\n",
              "                        min_samples_leaf=1, min_samples_split=2,\n",
              "                        min_weight_fraction_leaf=0.0, presort='deprecated',\n",
              "                        random_state=664522965, splitter='best'),\n",
              " DecisionTreeClassifier(ccp_alpha=0.0, class_weight=None, criterion='gini',\n",
              "                        max_depth=None, max_features='auto', max_leaf_nodes=None,\n",
              "                        min_impurity_decrease=0.0, min_impurity_split=None,\n",
              "                        min_samples_leaf=1, min_samples_split=2,\n",
              "                        min_weight_fraction_leaf=0.0, presort='deprecated',\n",
              "                        random_state=1553870454, splitter='best'),\n",
              " DecisionTreeClassifier(ccp_alpha=0.0, class_weight=None, criterion='gini',\n",
              "                        max_depth=None, max_features='auto', max_leaf_nodes=None,\n",
              "                        min_impurity_decrease=0.0, min_impurity_split=None,\n",
              "                        min_samples_leaf=1, min_samples_split=2,\n",
              "                        min_weight_fraction_leaf=0.0, presort='deprecated',\n",
              "                        random_state=1605464926, splitter='best'),\n",
              " DecisionTreeClassifier(ccp_alpha=0.0, class_weight=None, criterion='gini',\n",
              "                        max_depth=None, max_features='auto', max_leaf_nodes=None,\n",
              "                        min_impurity_decrease=0.0, min_impurity_split=None,\n",
              "                        min_samples_leaf=1, min_samples_split=2,\n",
              "                        min_weight_fraction_leaf=0.0, presort='deprecated',\n",
              "                        random_state=980383131, splitter='best'),\n",
              " DecisionTreeClassifier(ccp_alpha=0.0, class_weight=None, criterion='gini',\n",
              "                        max_depth=None, max_features='auto', max_leaf_nodes=None,\n",
              "                        min_impurity_decrease=0.0, min_impurity_split=None,\n",
              "                        min_samples_leaf=1, min_samples_split=2,\n",
              "                        min_weight_fraction_leaf=0.0, presort='deprecated',\n",
              "                        random_state=1007225122, splitter='best'),\n",
              " DecisionTreeClassifier(ccp_alpha=0.0, class_weight=None, criterion='gini',\n",
              "                        max_depth=None, max_features='auto', max_leaf_nodes=None,\n",
              "                        min_impurity_decrease=0.0, min_impurity_split=None,\n",
              "                        min_samples_leaf=1, min_samples_split=2,\n",
              "                        min_weight_fraction_leaf=0.0, presort='deprecated',\n",
              "                        random_state=1261492193, splitter='best'),\n",
              " DecisionTreeClassifier(ccp_alpha=0.0, class_weight=None, criterion='gini',\n",
              "                        max_depth=None, max_features='auto', max_leaf_nodes=None,\n",
              "                        min_impurity_decrease=0.0, min_impurity_split=None,\n",
              "                        min_samples_leaf=1, min_samples_split=2,\n",
              "                        min_weight_fraction_leaf=0.0, presort='deprecated',\n",
              "                        random_state=2095923788, splitter='best'),\n",
              " DecisionTreeClassifier(ccp_alpha=0.0, class_weight=None, criterion='gini',\n",
              "                        max_depth=None, max_features='auto', max_leaf_nodes=None,\n",
              "                        min_impurity_decrease=0.0, min_impurity_split=None,\n",
              "                        min_samples_leaf=1, min_samples_split=2,\n",
              "                        min_weight_fraction_leaf=0.0, presort='deprecated',\n",
              "                        random_state=562538152, splitter='best'),\n",
              " DecisionTreeClassifier(ccp_alpha=0.0, class_weight=None, criterion='gini',\n",
              "                        max_depth=None, max_features='auto', max_leaf_nodes=None,\n",
              "                        min_impurity_decrease=0.0, min_impurity_split=None,\n",
              "                        min_samples_leaf=1, min_samples_split=2,\n",
              "                        min_weight_fraction_leaf=0.0, presort='deprecated',\n",
              "                        random_state=1142443907, splitter='best'),\n",
              " DecisionTreeClassifier(ccp_alpha=0.0, class_weight=None, criterion='gini',\n",
              "                        max_depth=None, max_features='auto', max_leaf_nodes=None,\n",
              "                        min_impurity_decrease=0.0, min_impurity_split=None,\n",
              "                        min_samples_leaf=1, min_samples_split=2,\n",
              "                        min_weight_fraction_leaf=0.0, presort='deprecated',\n",
              "                        random_state=395587690, splitter='best'),\n",
              " DecisionTreeClassifier(ccp_alpha=0.0, class_weight=None, criterion='gini',\n",
              "                        max_depth=None, max_features='auto', max_leaf_nodes=None,\n",
              "                        min_impurity_decrease=0.0, min_impurity_split=None,\n",
              "                        min_samples_leaf=1, min_samples_split=2,\n",
              "                        min_weight_fraction_leaf=0.0, presort='deprecated',\n",
              "                        random_state=1189724997, splitter='best'),\n",
              " DecisionTreeClassifier(ccp_alpha=0.0, class_weight=None, criterion='gini',\n",
              "                        max_depth=None, max_features='auto', max_leaf_nodes=None,\n",
              "                        min_impurity_decrease=0.0, min_impurity_split=None,\n",
              "                        min_samples_leaf=1, min_samples_split=2,\n",
              "                        min_weight_fraction_leaf=0.0, presort='deprecated',\n",
              "                        random_state=1862732352, splitter='best'),\n",
              " DecisionTreeClassifier(ccp_alpha=0.0, class_weight=None, criterion='gini',\n",
              "                        max_depth=None, max_features='auto', max_leaf_nodes=None,\n",
              "                        min_impurity_decrease=0.0, min_impurity_split=None,\n",
              "                        min_samples_leaf=1, min_samples_split=2,\n",
              "                        min_weight_fraction_leaf=0.0, presort='deprecated',\n",
              "                        random_state=120181579, splitter='best'),\n",
              " DecisionTreeClassifier(ccp_alpha=0.0, class_weight=None, criterion='gini',\n",
              "                        max_depth=None, max_features='auto', max_leaf_nodes=None,\n",
              "                        min_impurity_decrease=0.0, min_impurity_split=None,\n",
              "                        min_samples_leaf=1, min_samples_split=2,\n",
              "                        min_weight_fraction_leaf=0.0, presort='deprecated',\n",
              "                        random_state=1850541474, splitter='best'),\n",
              " DecisionTreeClassifier(ccp_alpha=0.0, class_weight=None, criterion='gini',\n",
              "                        max_depth=None, max_features='auto', max_leaf_nodes=None,\n",
              "                        min_impurity_decrease=0.0, min_impurity_split=None,\n",
              "                        min_samples_leaf=1, min_samples_split=2,\n",
              "                        min_weight_fraction_leaf=0.0, presort='deprecated',\n",
              "                        random_state=746922810, splitter='best'),\n",
              " DecisionTreeClassifier(ccp_alpha=0.0, class_weight=None, criterion='gini',\n",
              "                        max_depth=None, max_features='auto', max_leaf_nodes=None,\n",
              "                        min_impurity_decrease=0.0, min_impurity_split=None,\n",
              "                        min_samples_leaf=1, min_samples_split=2,\n",
              "                        min_weight_fraction_leaf=0.0, presort='deprecated',\n",
              "                        random_state=2120361354, splitter='best'),\n",
              " DecisionTreeClassifier(ccp_alpha=0.0, class_weight=None, criterion='gini',\n",
              "                        max_depth=None, max_features='auto', max_leaf_nodes=None,\n",
              "                        min_impurity_decrease=0.0, min_impurity_split=None,\n",
              "                        min_samples_leaf=1, min_samples_split=2,\n",
              "                        min_weight_fraction_leaf=0.0, presort='deprecated',\n",
              "                        random_state=661778198, splitter='best'),\n",
              " DecisionTreeClassifier(ccp_alpha=0.0, class_weight=None, criterion='gini',\n",
              "                        max_depth=None, max_features='auto', max_leaf_nodes=None,\n",
              "                        min_impurity_decrease=0.0, min_impurity_split=None,\n",
              "                        min_samples_leaf=1, min_samples_split=2,\n",
              "                        min_weight_fraction_leaf=0.0, presort='deprecated',\n",
              "                        random_state=1828927181, splitter='best'),\n",
              " DecisionTreeClassifier(ccp_alpha=0.0, class_weight=None, criterion='gini',\n",
              "                        max_depth=None, max_features='auto', max_leaf_nodes=None,\n",
              "                        min_impurity_decrease=0.0, min_impurity_split=None,\n",
              "                        min_samples_leaf=1, min_samples_split=2,\n",
              "                        min_weight_fraction_leaf=0.0, presort='deprecated',\n",
              "                        random_state=331083922, splitter='best'),\n",
              " DecisionTreeClassifier(ccp_alpha=0.0, class_weight=None, criterion='gini',\n",
              "                        max_depth=None, max_features='auto', max_leaf_nodes=None,\n",
              "                        min_impurity_decrease=0.0, min_impurity_split=None,\n",
              "                        min_samples_leaf=1, min_samples_split=2,\n",
              "                        min_weight_fraction_leaf=0.0, presort='deprecated',\n",
              "                        random_state=1341151716, splitter='best'),\n",
              " DecisionTreeClassifier(ccp_alpha=0.0, class_weight=None, criterion='gini',\n",
              "                        max_depth=None, max_features='auto', max_leaf_nodes=None,\n",
              "                        min_impurity_decrease=0.0, min_impurity_split=None,\n",
              "                        min_samples_leaf=1, min_samples_split=2,\n",
              "                        min_weight_fraction_leaf=0.0, presort='deprecated',\n",
              "                        random_state=1674460431, splitter='best'),\n",
              " DecisionTreeClassifier(ccp_alpha=0.0, class_weight=None, criterion='gini',\n",
              "                        max_depth=None, max_features='auto', max_leaf_nodes=None,\n",
              "                        min_impurity_decrease=0.0, min_impurity_split=None,\n",
              "                        min_samples_leaf=1, min_samples_split=2,\n",
              "                        min_weight_fraction_leaf=0.0, presort='deprecated',\n",
              "                        random_state=1831164907, splitter='best'),\n",
              " DecisionTreeClassifier(ccp_alpha=0.0, class_weight=None, criterion='gini',\n",
              "                        max_depth=None, max_features='auto', max_leaf_nodes=None,\n",
              "                        min_impurity_decrease=0.0, min_impurity_split=None,\n",
              "                        min_samples_leaf=1, min_samples_split=2,\n",
              "                        min_weight_fraction_leaf=0.0, presort='deprecated',\n",
              "                        random_state=1075368347, splitter='best'),\n",
              " DecisionTreeClassifier(ccp_alpha=0.0, class_weight=None, criterion='gini',\n",
              "                        max_depth=None, max_features='auto', max_leaf_nodes=None,\n",
              "                        min_impurity_decrease=0.0, min_impurity_split=None,\n",
              "                        min_samples_leaf=1, min_samples_split=2,\n",
              "                        min_weight_fraction_leaf=0.0, presort='deprecated',\n",
              "                        random_state=1689593597, splitter='best'),\n",
              " DecisionTreeClassifier(ccp_alpha=0.0, class_weight=None, criterion='gini',\n",
              "                        max_depth=None, max_features='auto', max_leaf_nodes=None,\n",
              "                        min_impurity_decrease=0.0, min_impurity_split=None,\n",
              "                        min_samples_leaf=1, min_samples_split=2,\n",
              "                        min_weight_fraction_leaf=0.0, presort='deprecated',\n",
              "                        random_state=830660588, splitter='best'),\n",
              " DecisionTreeClassifier(ccp_alpha=0.0, class_weight=None, criterion='gini',\n",
              "                        max_depth=None, max_features='auto', max_leaf_nodes=None,\n",
              "                        min_impurity_decrease=0.0, min_impurity_split=None,\n",
              "                        min_samples_leaf=1, min_samples_split=2,\n",
              "                        min_weight_fraction_leaf=0.0, presort='deprecated',\n",
              "                        random_state=1907652766, splitter='best'),\n",
              " DecisionTreeClassifier(ccp_alpha=0.0, class_weight=None, criterion='gini',\n",
              "                        max_depth=None, max_features='auto', max_leaf_nodes=None,\n",
              "                        min_impurity_decrease=0.0, min_impurity_split=None,\n",
              "                        min_samples_leaf=1, min_samples_split=2,\n",
              "                        min_weight_fraction_leaf=0.0, presort='deprecated',\n",
              "                        random_state=50523316, splitter='best'),\n",
              " DecisionTreeClassifier(ccp_alpha=0.0, class_weight=None, criterion='gini',\n",
              "                        max_depth=None, max_features='auto', max_leaf_nodes=None,\n",
              "                        min_impurity_decrease=0.0, min_impurity_split=None,\n",
              "                        min_samples_leaf=1, min_samples_split=2,\n",
              "                        min_weight_fraction_leaf=0.0, presort='deprecated',\n",
              "                        random_state=7888454, splitter='best'),\n",
              " DecisionTreeClassifier(ccp_alpha=0.0, class_weight=None, criterion='gini',\n",
              "                        max_depth=None, max_features='auto', max_leaf_nodes=None,\n",
              "                        min_impurity_decrease=0.0, min_impurity_split=None,\n",
              "                        min_samples_leaf=1, min_samples_split=2,\n",
              "                        min_weight_fraction_leaf=0.0, presort='deprecated',\n",
              "                        random_state=1994016109, splitter='best'),\n",
              " DecisionTreeClassifier(ccp_alpha=0.0, class_weight=None, criterion='gini',\n",
              "                        max_depth=None, max_features='auto', max_leaf_nodes=None,\n",
              "                        min_impurity_decrease=0.0, min_impurity_split=None,\n",
              "                        min_samples_leaf=1, min_samples_split=2,\n",
              "                        min_weight_fraction_leaf=0.0, presort='deprecated',\n",
              "                        random_state=532373875, splitter='best'),\n",
              " DecisionTreeClassifier(ccp_alpha=0.0, class_weight=None, criterion='gini',\n",
              "                        max_depth=None, max_features='auto', max_leaf_nodes=None,\n",
              "                        min_impurity_decrease=0.0, min_impurity_split=None,\n",
              "                        min_samples_leaf=1, min_samples_split=2,\n",
              "                        min_weight_fraction_leaf=0.0, presort='deprecated',\n",
              "                        random_state=293907610, splitter='best'),\n",
              " DecisionTreeClassifier(ccp_alpha=0.0, class_weight=None, criterion='gini',\n",
              "                        max_depth=None, max_features='auto', max_leaf_nodes=None,\n",
              "                        min_impurity_decrease=0.0, min_impurity_split=None,\n",
              "                        min_samples_leaf=1, min_samples_split=2,\n",
              "                        min_weight_fraction_leaf=0.0, presort='deprecated',\n",
              "                        random_state=496577232, splitter='best'),\n",
              " DecisionTreeClassifier(ccp_alpha=0.0, class_weight=None, criterion='gini',\n",
              "                        max_depth=None, max_features='auto', max_leaf_nodes=None,\n",
              "                        min_impurity_decrease=0.0, min_impurity_split=None,\n",
              "                        min_samples_leaf=1, min_samples_split=2,\n",
              "                        min_weight_fraction_leaf=0.0, presort='deprecated',\n",
              "                        random_state=1299440006, splitter='best'),\n",
              " DecisionTreeClassifier(ccp_alpha=0.0, class_weight=None, criterion='gini',\n",
              "                        max_depth=None, max_features='auto', max_leaf_nodes=None,\n",
              "                        min_impurity_decrease=0.0, min_impurity_split=None,\n",
              "                        min_samples_leaf=1, min_samples_split=2,\n",
              "                        min_weight_fraction_leaf=0.0, presort='deprecated',\n",
              "                        random_state=1362730766, splitter='best'),\n",
              " DecisionTreeClassifier(ccp_alpha=0.0, class_weight=None, criterion='gini',\n",
              "                        max_depth=None, max_features='auto', max_leaf_nodes=None,\n",
              "                        min_impurity_decrease=0.0, min_impurity_split=None,\n",
              "                        min_samples_leaf=1, min_samples_split=2,\n",
              "                        min_weight_fraction_leaf=0.0, presort='deprecated',\n",
              "                        random_state=2135924991, splitter='best'),\n",
              " DecisionTreeClassifier(ccp_alpha=0.0, class_weight=None, criterion='gini',\n",
              "                        max_depth=None, max_features='auto', max_leaf_nodes=None,\n",
              "                        min_impurity_decrease=0.0, min_impurity_split=None,\n",
              "                        min_samples_leaf=1, min_samples_split=2,\n",
              "                        min_weight_fraction_leaf=0.0, presort='deprecated',\n",
              "                        random_state=1781665012, splitter='best'),\n",
              " DecisionTreeClassifier(ccp_alpha=0.0, class_weight=None, criterion='gini',\n",
              "                        max_depth=None, max_features='auto', max_leaf_nodes=None,\n",
              "                        min_impurity_decrease=0.0, min_impurity_split=None,\n",
              "                        min_samples_leaf=1, min_samples_split=2,\n",
              "                        min_weight_fraction_leaf=0.0, presort='deprecated',\n",
              "                        random_state=787108199, splitter='best'),\n",
              " DecisionTreeClassifier(ccp_alpha=0.0, class_weight=None, criterion='gini',\n",
              "                        max_depth=None, max_features='auto', max_leaf_nodes=None,\n",
              "                        min_impurity_decrease=0.0, min_impurity_split=None,\n",
              "                        min_samples_leaf=1, min_samples_split=2,\n",
              "                        min_weight_fraction_leaf=0.0, presort='deprecated',\n",
              "                        random_state=1573285835, splitter='best'),\n",
              " DecisionTreeClassifier(ccp_alpha=0.0, class_weight=None, criterion='gini',\n",
              "                        max_depth=None, max_features='auto', max_leaf_nodes=None,\n",
              "                        min_impurity_decrease=0.0, min_impurity_split=None,\n",
              "                        min_samples_leaf=1, min_samples_split=2,\n",
              "                        min_weight_fraction_leaf=0.0, presort='deprecated',\n",
              "                        random_state=1789707190, splitter='best'),\n",
              " DecisionTreeClassifier(ccp_alpha=0.0, class_weight=None, criterion='gini',\n",
              "                        max_depth=None, max_features='auto', max_leaf_nodes=None,\n",
              "                        min_impurity_decrease=0.0, min_impurity_split=None,\n",
              "                        min_samples_leaf=1, min_samples_split=2,\n",
              "                        min_weight_fraction_leaf=0.0, presort='deprecated',\n",
              "                        random_state=1075697607, splitter='best'),\n",
              " DecisionTreeClassifier(ccp_alpha=0.0, class_weight=None, criterion='gini',\n",
              "                        max_depth=None, max_features='auto', max_leaf_nodes=None,\n",
              "                        min_impurity_decrease=0.0, min_impurity_split=None,\n",
              "                        min_samples_leaf=1, min_samples_split=2,\n",
              "                        min_weight_fraction_leaf=0.0, presort='deprecated',\n",
              "                        random_state=467846273, splitter='best'),\n",
              " DecisionTreeClassifier(ccp_alpha=0.0, class_weight=None, criterion='gini',\n",
              "                        max_depth=None, max_features='auto', max_leaf_nodes=None,\n",
              "                        min_impurity_decrease=0.0, min_impurity_split=None,\n",
              "                        min_samples_leaf=1, min_samples_split=2,\n",
              "                        min_weight_fraction_leaf=0.0, presort='deprecated',\n",
              "                        random_state=2074616363, splitter='best'),\n",
              " DecisionTreeClassifier(ccp_alpha=0.0, class_weight=None, criterion='gini',\n",
              "                        max_depth=None, max_features='auto', max_leaf_nodes=None,\n",
              "                        min_impurity_decrease=0.0, min_impurity_split=None,\n",
              "                        min_samples_leaf=1, min_samples_split=2,\n",
              "                        min_weight_fraction_leaf=0.0, presort='deprecated',\n",
              "                        random_state=2128121018, splitter='best'),\n",
              " DecisionTreeClassifier(ccp_alpha=0.0, class_weight=None, criterion='gini',\n",
              "                        max_depth=None, max_features='auto', max_leaf_nodes=None,\n",
              "                        min_impurity_decrease=0.0, min_impurity_split=None,\n",
              "                        min_samples_leaf=1, min_samples_split=2,\n",
              "                        min_weight_fraction_leaf=0.0, presort='deprecated',\n",
              "                        random_state=2085463397, splitter='best'),\n",
              " DecisionTreeClassifier(ccp_alpha=0.0, class_weight=None, criterion='gini',\n",
              "                        max_depth=None, max_features='auto', max_leaf_nodes=None,\n",
              "                        min_impurity_decrease=0.0, min_impurity_split=None,\n",
              "                        min_samples_leaf=1, min_samples_split=2,\n",
              "                        min_weight_fraction_leaf=0.0, presort='deprecated',\n",
              "                        random_state=1000022711, splitter='best'),\n",
              " DecisionTreeClassifier(ccp_alpha=0.0, class_weight=None, criterion='gini',\n",
              "                        max_depth=None, max_features='auto', max_leaf_nodes=None,\n",
              "                        min_impurity_decrease=0.0, min_impurity_split=None,\n",
              "                        min_samples_leaf=1, min_samples_split=2,\n",
              "                        min_weight_fraction_leaf=0.0, presort='deprecated',\n",
              "                        random_state=83687961, splitter='best'),\n",
              " DecisionTreeClassifier(ccp_alpha=0.0, class_weight=None, criterion='gini',\n",
              "                        max_depth=None, max_features='auto', max_leaf_nodes=None,\n",
              "                        min_impurity_decrease=0.0, min_impurity_split=None,\n",
              "                        min_samples_leaf=1, min_samples_split=2,\n",
              "                        min_weight_fraction_leaf=0.0, presort='deprecated',\n",
              "                        random_state=1876302258, splitter='best'),\n",
              " DecisionTreeClassifier(ccp_alpha=0.0, class_weight=None, criterion='gini',\n",
              "                        max_depth=None, max_features='auto', max_leaf_nodes=None,\n",
              "                        min_impurity_decrease=0.0, min_impurity_split=None,\n",
              "                        min_samples_leaf=1, min_samples_split=2,\n",
              "                        min_weight_fraction_leaf=0.0, presort='deprecated',\n",
              "                        random_state=484878292, splitter='best'),\n",
              " DecisionTreeClassifier(ccp_alpha=0.0, class_weight=None, criterion='gini',\n",
              "                        max_depth=None, max_features='auto', max_leaf_nodes=None,\n",
              "                        min_impurity_decrease=0.0, min_impurity_split=None,\n",
              "                        min_samples_leaf=1, min_samples_split=2,\n",
              "                        min_weight_fraction_leaf=0.0, presort='deprecated',\n",
              "                        random_state=1080368952, splitter='best'),\n",
              " DecisionTreeClassifier(ccp_alpha=0.0, class_weight=None, criterion='gini',\n",
              "                        max_depth=None, max_features='auto', max_leaf_nodes=None,\n",
              "                        min_impurity_decrease=0.0, min_impurity_split=None,\n",
              "                        min_samples_leaf=1, min_samples_split=2,\n",
              "                        min_weight_fraction_leaf=0.0, presort='deprecated',\n",
              "                        random_state=518096177, splitter='best'),\n",
              " DecisionTreeClassifier(ccp_alpha=0.0, class_weight=None, criterion='gini',\n",
              "                        max_depth=None, max_features='auto', max_leaf_nodes=None,\n",
              "                        min_impurity_decrease=0.0, min_impurity_split=None,\n",
              "                        min_samples_leaf=1, min_samples_split=2,\n",
              "                        min_weight_fraction_leaf=0.0, presort='deprecated',\n",
              "                        random_state=2065415948, splitter='best'),\n",
              " DecisionTreeClassifier(ccp_alpha=0.0, class_weight=None, criterion='gini',\n",
              "                        max_depth=None, max_features='auto', max_leaf_nodes=None,\n",
              "                        min_impurity_decrease=0.0, min_impurity_split=None,\n",
              "                        min_samples_leaf=1, min_samples_split=2,\n",
              "                        min_weight_fraction_leaf=0.0, presort='deprecated',\n",
              "                        random_state=1401623058, splitter='best'),\n",
              " DecisionTreeClassifier(ccp_alpha=0.0, class_weight=None, criterion='gini',\n",
              "                        max_depth=None, max_features='auto', max_leaf_nodes=None,\n",
              "                        min_impurity_decrease=0.0, min_impurity_split=None,\n",
              "                        min_samples_leaf=1, min_samples_split=2,\n",
              "                        min_weight_fraction_leaf=0.0, presort='deprecated',\n",
              "                        random_state=1278733777, splitter='best'),\n",
              " DecisionTreeClassifier(ccp_alpha=0.0, class_weight=None, criterion='gini',\n",
              "                        max_depth=None, max_features='auto', max_leaf_nodes=None,\n",
              "                        min_impurity_decrease=0.0, min_impurity_split=None,\n",
              "                        min_samples_leaf=1, min_samples_split=2,\n",
              "                        min_weight_fraction_leaf=0.0, presort='deprecated',\n",
              "                        random_state=442639873, splitter='best'),\n",
              " DecisionTreeClassifier(ccp_alpha=0.0, class_weight=None, criterion='gini',\n",
              "                        max_depth=None, max_features='auto', max_leaf_nodes=None,\n",
              "                        min_impurity_decrease=0.0, min_impurity_split=None,\n",
              "                        min_samples_leaf=1, min_samples_split=2,\n",
              "                        min_weight_fraction_leaf=0.0, presort='deprecated',\n",
              "                        random_state=1214199859, splitter='best'),\n",
              " DecisionTreeClassifier(ccp_alpha=0.0, class_weight=None, criterion='gini',\n",
              "                        max_depth=None, max_features='auto', max_leaf_nodes=None,\n",
              "                        min_impurity_decrease=0.0, min_impurity_split=None,\n",
              "                        min_samples_leaf=1, min_samples_split=2,\n",
              "                        min_weight_fraction_leaf=0.0, presort='deprecated',\n",
              "                        random_state=193565612, splitter='best'),\n",
              " DecisionTreeClassifier(ccp_alpha=0.0, class_weight=None, criterion='gini',\n",
              "                        max_depth=None, max_features='auto', max_leaf_nodes=None,\n",
              "                        min_impurity_decrease=0.0, min_impurity_split=None,\n",
              "                        min_samples_leaf=1, min_samples_split=2,\n",
              "                        min_weight_fraction_leaf=0.0, presort='deprecated',\n",
              "                        random_state=1861517173, splitter='best'),\n",
              " DecisionTreeClassifier(ccp_alpha=0.0, class_weight=None, criterion='gini',\n",
              "                        max_depth=None, max_features='auto', max_leaf_nodes=None,\n",
              "                        min_impurity_decrease=0.0, min_impurity_split=None,\n",
              "                        min_samples_leaf=1, min_samples_split=2,\n",
              "                        min_weight_fraction_leaf=0.0, presort='deprecated',\n",
              "                        random_state=1472159465, splitter='best'),\n",
              " DecisionTreeClassifier(ccp_alpha=0.0, class_weight=None, criterion='gini',\n",
              "                        max_depth=None, max_features='auto', max_leaf_nodes=None,\n",
              "                        min_impurity_decrease=0.0, min_impurity_split=None,\n",
              "                        min_samples_leaf=1, min_samples_split=2,\n",
              "                        min_weight_fraction_leaf=0.0, presort='deprecated',\n",
              "                        random_state=41907504, splitter='best'),\n",
              " DecisionTreeClassifier(ccp_alpha=0.0, class_weight=None, criterion='gini',\n",
              "                        max_depth=None, max_features='auto', max_leaf_nodes=None,\n",
              "                        min_impurity_decrease=0.0, min_impurity_split=None,\n",
              "                        min_samples_leaf=1, min_samples_split=2,\n",
              "                        min_weight_fraction_leaf=0.0, presort='deprecated',\n",
              "                        random_state=1306188856, splitter='best'),\n",
              " DecisionTreeClassifier(ccp_alpha=0.0, class_weight=None, criterion='gini',\n",
              "                        max_depth=None, max_features='auto', max_leaf_nodes=None,\n",
              "                        min_impurity_decrease=0.0, min_impurity_split=None,\n",
              "                        min_samples_leaf=1, min_samples_split=2,\n",
              "                        min_weight_fraction_leaf=0.0, presort='deprecated',\n",
              "                        random_state=1463707611, splitter='best'),\n",
              " DecisionTreeClassifier(ccp_alpha=0.0, class_weight=None, criterion='gini',\n",
              "                        max_depth=None, max_features='auto', max_leaf_nodes=None,\n",
              "                        min_impurity_decrease=0.0, min_impurity_split=None,\n",
              "                        min_samples_leaf=1, min_samples_split=2,\n",
              "                        min_weight_fraction_leaf=0.0, presort='deprecated',\n",
              "                        random_state=1791096753, splitter='best'),\n",
              " DecisionTreeClassifier(ccp_alpha=0.0, class_weight=None, criterion='gini',\n",
              "                        max_depth=None, max_features='auto', max_leaf_nodes=None,\n",
              "                        min_impurity_decrease=0.0, min_impurity_split=None,\n",
              "                        min_samples_leaf=1, min_samples_split=2,\n",
              "                        min_weight_fraction_leaf=0.0, presort='deprecated',\n",
              "                        random_state=812917078, splitter='best'),\n",
              " DecisionTreeClassifier(ccp_alpha=0.0, class_weight=None, criterion='gini',\n",
              "                        max_depth=None, max_features='auto', max_leaf_nodes=None,\n",
              "                        min_impurity_decrease=0.0, min_impurity_split=None,\n",
              "                        min_samples_leaf=1, min_samples_split=2,\n",
              "                        min_weight_fraction_leaf=0.0, presort='deprecated',\n",
              "                        random_state=778680835, splitter='best'),\n",
              " DecisionTreeClassifier(ccp_alpha=0.0, class_weight=None, criterion='gini',\n",
              "                        max_depth=None, max_features='auto', max_leaf_nodes=None,\n",
              "                        min_impurity_decrease=0.0, min_impurity_split=None,\n",
              "                        min_samples_leaf=1, min_samples_split=2,\n",
              "                        min_weight_fraction_leaf=0.0, presort='deprecated',\n",
              "                        random_state=1586428995, splitter='best'),\n",
              " DecisionTreeClassifier(ccp_alpha=0.0, class_weight=None, criterion='gini',\n",
              "                        max_depth=None, max_features='auto', max_leaf_nodes=None,\n",
              "                        min_impurity_decrease=0.0, min_impurity_split=None,\n",
              "                        min_samples_leaf=1, min_samples_split=2,\n",
              "                        min_weight_fraction_leaf=0.0, presort='deprecated',\n",
              "                        random_state=1612574859, splitter='best'),\n",
              " DecisionTreeClassifier(ccp_alpha=0.0, class_weight=None, criterion='gini',\n",
              "                        max_depth=None, max_features='auto', max_leaf_nodes=None,\n",
              "                        min_impurity_decrease=0.0, min_impurity_split=None,\n",
              "                        min_samples_leaf=1, min_samples_split=2,\n",
              "                        min_weight_fraction_leaf=0.0, presort='deprecated',\n",
              "                        random_state=1150208661, splitter='best'),\n",
              " DecisionTreeClassifier(ccp_alpha=0.0, class_weight=None, criterion='gini',\n",
              "                        max_depth=None, max_features='auto', max_leaf_nodes=None,\n",
              "                        min_impurity_decrease=0.0, min_impurity_split=None,\n",
              "                        min_samples_leaf=1, min_samples_split=2,\n",
              "                        min_weight_fraction_leaf=0.0, presort='deprecated',\n",
              "                        random_state=44763609, splitter='best'),\n",
              " DecisionTreeClassifier(ccp_alpha=0.0, class_weight=None, criterion='gini',\n",
              "                        max_depth=None, max_features='auto', max_leaf_nodes=None,\n",
              "                        min_impurity_decrease=0.0, min_impurity_split=None,\n",
              "                        min_samples_leaf=1, min_samples_split=2,\n",
              "                        min_weight_fraction_leaf=0.0, presort='deprecated',\n",
              "                        random_state=1961717351, splitter='best')]"
            ]
          },
          "metadata": {
            "tags": []
          },
          "execution_count": 23
        }
      ]
    },
    {
      "cell_type": "markdown",
      "metadata": {
        "id": "6kynZT7e7iWt",
        "colab_type": "text"
      },
      "source": [
        "### classes_"
      ]
    },
    {
      "cell_type": "markdown",
      "metadata": {
        "id": "2tdVEfq109p_",
        "colab_type": "text"
      },
      "source": [
        "L'attribut *classes_* retourne les classes de notre modèle."
      ]
    },
    {
      "cell_type": "code",
      "metadata": {
        "id": "K9xNSSAGyPKh",
        "colab_type": "code",
        "colab": {
          "base_uri": "https://localhost:8080/",
          "height": 34
        },
        "outputId": "5e3812d4-38e5-4976-ce48-1fc6d6d14966"
      },
      "source": [
        "model_1.classes_"
      ],
      "execution_count": null,
      "outputs": [
        {
          "output_type": "execute_result",
          "data": {
            "text/plain": [
              "array([0, 1])"
            ]
          },
          "metadata": {
            "tags": []
          },
          "execution_count": 24
        }
      ]
    },
    {
      "cell_type": "markdown",
      "metadata": {
        "id": "PDmbVHHN7k7f",
        "colab_type": "text"
      },
      "source": [
        "### n_classes_"
      ]
    },
    {
      "cell_type": "markdown",
      "metadata": {
        "id": "2xPuVHQc1JXC",
        "colab_type": "text"
      },
      "source": [
        "L'attribut *n_classes_* retourne le nombre de classes de notre modèle."
      ]
    },
    {
      "cell_type": "code",
      "metadata": {
        "id": "ofs9tCNAySpb",
        "colab_type": "code",
        "colab": {
          "base_uri": "https://localhost:8080/",
          "height": 34
        },
        "outputId": "3e07aa95-7225-4aab-c759-47b4c1f38854"
      },
      "source": [
        "model_1.n_classes_"
      ],
      "execution_count": null,
      "outputs": [
        {
          "output_type": "execute_result",
          "data": {
            "text/plain": [
              "2"
            ]
          },
          "metadata": {
            "tags": []
          },
          "execution_count": 25
        }
      ]
    },
    {
      "cell_type": "markdown",
      "metadata": {
        "id": "mynEPMbo7nhS",
        "colab_type": "text"
      },
      "source": [
        "### n_features_"
      ]
    },
    {
      "cell_type": "markdown",
      "metadata": {
        "id": "m1OXhnXx1T7e",
        "colab_type": "text"
      },
      "source": [
        "L'attribut *n_features_* retourne le nombre de variables de notre modèle. "
      ]
    },
    {
      "cell_type": "code",
      "metadata": {
        "id": "5dKGCUbUyVhf",
        "colab_type": "code",
        "colab": {
          "base_uri": "https://localhost:8080/",
          "height": 34
        },
        "outputId": "957e1cdd-ae75-47fa-b2be-c69b4004b77a"
      },
      "source": [
        "model_1.n_features_"
      ],
      "execution_count": null,
      "outputs": [
        {
          "output_type": "execute_result",
          "data": {
            "text/plain": [
              "30"
            ]
          },
          "metadata": {
            "tags": []
          },
          "execution_count": 26
        }
      ]
    },
    {
      "cell_type": "markdown",
      "metadata": {
        "id": "3AkN4dhP7p80",
        "colab_type": "text"
      },
      "source": [
        "### n_outputs_"
      ]
    },
    {
      "cell_type": "markdown",
      "metadata": {
        "id": "jCSH8nHl1aK3",
        "colab_type": "text"
      },
      "source": [
        "L'attribut *n_outputs* retourne le nombre de sortie de notre modèle."
      ]
    },
    {
      "cell_type": "code",
      "metadata": {
        "id": "aNZh44FhyYo1",
        "colab_type": "code",
        "colab": {
          "base_uri": "https://localhost:8080/",
          "height": 34
        },
        "outputId": "e6ffd380-5589-4040-d8b5-80157b37278c"
      },
      "source": [
        "model_1.n_outputs_"
      ],
      "execution_count": null,
      "outputs": [
        {
          "output_type": "execute_result",
          "data": {
            "text/plain": [
              "1"
            ]
          },
          "metadata": {
            "tags": []
          },
          "execution_count": 28
        }
      ]
    },
    {
      "cell_type": "markdown",
      "metadata": {
        "id": "5dJunM0d7sAA",
        "colab_type": "text"
      },
      "source": [
        "### feature_importances_"
      ]
    },
    {
      "cell_type": "markdown",
      "metadata": {
        "id": "fERG4ZF72PXs",
        "colab_type": "text"
      },
      "source": [
        "L'attribut *feature_importances_* retourne l'importance des variables du jeu de données dans la construction des arbres de la forêt."
      ]
    },
    {
      "cell_type": "code",
      "metadata": {
        "id": "0f5X2Pzo1tGk",
        "colab_type": "code",
        "colab": {
          "base_uri": "https://localhost:8080/",
          "height": 979
        },
        "outputId": "8bfb3fcc-ad46-49ee-f1ce-078e60e7f064"
      },
      "source": [
        "pd.DataFrame({'Features' : data.feature_names, \n",
        "              'Features_importances' : model_1.feature_importances_})"
      ],
      "execution_count": null,
      "outputs": [
        {
          "output_type": "execute_result",
          "data": {
            "text/html": [
              "<div>\n",
              "<style scoped>\n",
              "    .dataframe tbody tr th:only-of-type {\n",
              "        vertical-align: middle;\n",
              "    }\n",
              "\n",
              "    .dataframe tbody tr th {\n",
              "        vertical-align: top;\n",
              "    }\n",
              "\n",
              "    .dataframe thead th {\n",
              "        text-align: right;\n",
              "    }\n",
              "</style>\n",
              "<table border=\"1\" class=\"dataframe\">\n",
              "  <thead>\n",
              "    <tr style=\"text-align: right;\">\n",
              "      <th></th>\n",
              "      <th>Features</th>\n",
              "      <th>Features_importances</th>\n",
              "    </tr>\n",
              "  </thead>\n",
              "  <tbody>\n",
              "    <tr>\n",
              "      <th>0</th>\n",
              "      <td>mean radius</td>\n",
              "      <td>0.025040</td>\n",
              "    </tr>\n",
              "    <tr>\n",
              "      <th>1</th>\n",
              "      <td>mean texture</td>\n",
              "      <td>0.017265</td>\n",
              "    </tr>\n",
              "    <tr>\n",
              "      <th>2</th>\n",
              "      <td>mean perimeter</td>\n",
              "      <td>0.035399</td>\n",
              "    </tr>\n",
              "    <tr>\n",
              "      <th>3</th>\n",
              "      <td>mean area</td>\n",
              "      <td>0.028034</td>\n",
              "    </tr>\n",
              "    <tr>\n",
              "      <th>4</th>\n",
              "      <td>mean smoothness</td>\n",
              "      <td>0.004840</td>\n",
              "    </tr>\n",
              "    <tr>\n",
              "      <th>5</th>\n",
              "      <td>mean compactness</td>\n",
              "      <td>0.009528</td>\n",
              "    </tr>\n",
              "    <tr>\n",
              "      <th>6</th>\n",
              "      <td>mean concavity</td>\n",
              "      <td>0.060733</td>\n",
              "    </tr>\n",
              "    <tr>\n",
              "      <th>7</th>\n",
              "      <td>mean concave points</td>\n",
              "      <td>0.159195</td>\n",
              "    </tr>\n",
              "    <tr>\n",
              "      <th>8</th>\n",
              "      <td>mean symmetry</td>\n",
              "      <td>0.001634</td>\n",
              "    </tr>\n",
              "    <tr>\n",
              "      <th>9</th>\n",
              "      <td>mean fractal dimension</td>\n",
              "      <td>0.005390</td>\n",
              "    </tr>\n",
              "    <tr>\n",
              "      <th>10</th>\n",
              "      <td>radius error</td>\n",
              "      <td>0.010632</td>\n",
              "    </tr>\n",
              "    <tr>\n",
              "      <th>11</th>\n",
              "      <td>texture error</td>\n",
              "      <td>0.004021</td>\n",
              "    </tr>\n",
              "    <tr>\n",
              "      <th>12</th>\n",
              "      <td>perimeter error</td>\n",
              "      <td>0.012101</td>\n",
              "    </tr>\n",
              "    <tr>\n",
              "      <th>13</th>\n",
              "      <td>area error</td>\n",
              "      <td>0.039578</td>\n",
              "    </tr>\n",
              "    <tr>\n",
              "      <th>14</th>\n",
              "      <td>smoothness error</td>\n",
              "      <td>0.007196</td>\n",
              "    </tr>\n",
              "    <tr>\n",
              "      <th>15</th>\n",
              "      <td>compactness error</td>\n",
              "      <td>0.004257</td>\n",
              "    </tr>\n",
              "    <tr>\n",
              "      <th>16</th>\n",
              "      <td>concavity error</td>\n",
              "      <td>0.006719</td>\n",
              "    </tr>\n",
              "    <tr>\n",
              "      <th>17</th>\n",
              "      <td>concave points error</td>\n",
              "      <td>0.004709</td>\n",
              "    </tr>\n",
              "    <tr>\n",
              "      <th>18</th>\n",
              "      <td>symmetry error</td>\n",
              "      <td>0.007269</td>\n",
              "    </tr>\n",
              "    <tr>\n",
              "      <th>19</th>\n",
              "      <td>fractal dimension error</td>\n",
              "      <td>0.005323</td>\n",
              "    </tr>\n",
              "    <tr>\n",
              "      <th>20</th>\n",
              "      <td>worst radius</td>\n",
              "      <td>0.089383</td>\n",
              "    </tr>\n",
              "    <tr>\n",
              "      <th>21</th>\n",
              "      <td>worst texture</td>\n",
              "      <td>0.016372</td>\n",
              "    </tr>\n",
              "    <tr>\n",
              "      <th>22</th>\n",
              "      <td>worst perimeter</td>\n",
              "      <td>0.131948</td>\n",
              "    </tr>\n",
              "    <tr>\n",
              "      <th>23</th>\n",
              "      <td>worst area</td>\n",
              "      <td>0.077515</td>\n",
              "    </tr>\n",
              "    <tr>\n",
              "      <th>24</th>\n",
              "      <td>worst smoothness</td>\n",
              "      <td>0.013307</td>\n",
              "    </tr>\n",
              "    <tr>\n",
              "      <th>25</th>\n",
              "      <td>worst compactness</td>\n",
              "      <td>0.017422</td>\n",
              "    </tr>\n",
              "    <tr>\n",
              "      <th>26</th>\n",
              "      <td>worst concavity</td>\n",
              "      <td>0.045978</td>\n",
              "    </tr>\n",
              "    <tr>\n",
              "      <th>27</th>\n",
              "      <td>worst concave points</td>\n",
              "      <td>0.139885</td>\n",
              "    </tr>\n",
              "    <tr>\n",
              "      <th>28</th>\n",
              "      <td>worst symmetry</td>\n",
              "      <td>0.014870</td>\n",
              "    </tr>\n",
              "    <tr>\n",
              "      <th>29</th>\n",
              "      <td>worst fractal dimension</td>\n",
              "      <td>0.004456</td>\n",
              "    </tr>\n",
              "  </tbody>\n",
              "</table>\n",
              "</div>"
            ],
            "text/plain": [
              "                   Features  Features_importances\n",
              "0               mean radius              0.025040\n",
              "1              mean texture              0.017265\n",
              "2            mean perimeter              0.035399\n",
              "3                 mean area              0.028034\n",
              "4           mean smoothness              0.004840\n",
              "5          mean compactness              0.009528\n",
              "6            mean concavity              0.060733\n",
              "7       mean concave points              0.159195\n",
              "8             mean symmetry              0.001634\n",
              "9    mean fractal dimension              0.005390\n",
              "10             radius error              0.010632\n",
              "11            texture error              0.004021\n",
              "12          perimeter error              0.012101\n",
              "13               area error              0.039578\n",
              "14         smoothness error              0.007196\n",
              "15        compactness error              0.004257\n",
              "16          concavity error              0.006719\n",
              "17     concave points error              0.004709\n",
              "18           symmetry error              0.007269\n",
              "19  fractal dimension error              0.005323\n",
              "20             worst radius              0.089383\n",
              "21            worst texture              0.016372\n",
              "22          worst perimeter              0.131948\n",
              "23               worst area              0.077515\n",
              "24         worst smoothness              0.013307\n",
              "25        worst compactness              0.017422\n",
              "26          worst concavity              0.045978\n",
              "27     worst concave points              0.139885\n",
              "28           worst symmetry              0.014870\n",
              "29  worst fractal dimension              0.004456"
            ]
          },
          "metadata": {
            "tags": []
          },
          "execution_count": 52
        }
      ]
    },
    {
      "cell_type": "markdown",
      "metadata": {
        "id": "fymudsEk7u7q",
        "colab_type": "text"
      },
      "source": [
        "### oob_score_"
      ]
    },
    {
      "cell_type": "markdown",
      "metadata": {
        "id": "XWKSwwlR3Jdx",
        "colab_type": "text"
      },
      "source": [
        "Le paramètre *oob_score_* permet de retourner le score de votre modèle sur les observations non vues par les arbres pendant leurs constructions. "
      ]
    },
    {
      "cell_type": "code",
      "metadata": {
        "id": "yFMnpN7byjpv",
        "colab_type": "code",
        "colab": {
          "base_uri": "https://localhost:8080/",
          "height": 34
        },
        "outputId": "42060654-0425-4228-be8e-43020c2a48da"
      },
      "source": [
        "model_1 = RandomForestClassifier(verbose=0, random_state=123, oob_score=True)\n",
        "model_1.fit(x_train, y_train)\n",
        "model_1.oob_score_"
      ],
      "execution_count": null,
      "outputs": [
        {
          "output_type": "execute_result",
          "data": {
            "text/plain": [
              "0.952755905511811"
            ]
          },
          "metadata": {
            "tags": []
          },
          "execution_count": 41
        }
      ]
    },
    {
      "cell_type": "markdown",
      "metadata": {
        "id": "Gv64dYlT7xUM",
        "colab_type": "text"
      },
      "source": [
        "### oob_decision_function_"
      ]
    },
    {
      "cell_type": "markdown",
      "metadata": {
        "id": "g4-Yq1Kw3y09",
        "colab_type": "text"
      },
      "source": [
        "Le paramètre *oob_decision_function_* nous permet de voir le score de toutes les observations classifier par les arbres n'ayant pas utilisé ces observations durant sa construction."
      ]
    },
    {
      "cell_type": "code",
      "metadata": {
        "id": "fgIB1zdF5r1S",
        "colab_type": "code",
        "colab": {
          "base_uri": "https://localhost:8080/",
          "height": 1000
        },
        "outputId": "69ff8fbc-4c28-4e2e-a8b4-3d42dff2c054"
      },
      "source": [
        "print(x_train.shape)\n",
        "print(model_1.oob_decision_function_.shape)\n",
        "model_1.oob_decision_function_"
      ],
      "execution_count": null,
      "outputs": [
        {
          "output_type": "stream",
          "text": [
            "(381, 30)\n",
            "(381, 2)\n"
          ],
          "name": "stdout"
        },
        {
          "output_type": "execute_result",
          "data": {
            "text/plain": [
              "array([[0.81578947, 0.18421053],\n",
              "       [0.03225806, 0.96774194],\n",
              "       [1.        , 0.        ],\n",
              "       [0.        , 1.        ],\n",
              "       [0.        , 1.        ],\n",
              "       [0.        , 1.        ],\n",
              "       [0.        , 1.        ],\n",
              "       [0.875     , 0.125     ],\n",
              "       [0.03125   , 0.96875   ],\n",
              "       [0.02564103, 0.97435897],\n",
              "       [0.97297297, 0.02702703],\n",
              "       [0.        , 1.        ],\n",
              "       [0.03225806, 0.96774194],\n",
              "       [0.07317073, 0.92682927],\n",
              "       [1.        , 0.        ],\n",
              "       [0.03225806, 0.96774194],\n",
              "       [1.        , 0.        ],\n",
              "       [1.        , 0.        ],\n",
              "       [0.        , 1.        ],\n",
              "       [0.        , 1.        ],\n",
              "       [0.11111111, 0.88888889],\n",
              "       [0.38636364, 0.61363636],\n",
              "       [0.        , 1.        ],\n",
              "       [0.        , 1.        ],\n",
              "       [0.07692308, 0.92307692],\n",
              "       [0.        , 1.        ],\n",
              "       [0.59375   , 0.40625   ],\n",
              "       [0.        , 1.        ],\n",
              "       [0.        , 1.        ],\n",
              "       [0.05405405, 0.94594595],\n",
              "       [0.        , 1.        ],\n",
              "       [0.0625    , 0.9375    ],\n",
              "       [0.95454545, 0.04545455],\n",
              "       [0.08571429, 0.91428571],\n",
              "       [1.        , 0.        ],\n",
              "       [1.        , 0.        ],\n",
              "       [0.        , 1.        ],\n",
              "       [0.        , 1.        ],\n",
              "       [1.        , 0.        ],\n",
              "       [0.        , 1.        ],\n",
              "       [0.        , 1.        ],\n",
              "       [0.07142857, 0.92857143],\n",
              "       [0.02272727, 0.97727273],\n",
              "       [0.10869565, 0.89130435],\n",
              "       [0.        , 1.        ],\n",
              "       [0.        , 1.        ],\n",
              "       [0.52173913, 0.47826087],\n",
              "       [1.        , 0.        ],\n",
              "       [1.        , 0.        ],\n",
              "       [0.        , 1.        ],\n",
              "       [0.11764706, 0.88235294],\n",
              "       [1.        , 0.        ],\n",
              "       [0.        , 1.        ],\n",
              "       [0.        , 1.        ],\n",
              "       [1.        , 0.        ],\n",
              "       [0.07692308, 0.92307692],\n",
              "       [0.90322581, 0.09677419],\n",
              "       [0.03030303, 0.96969697],\n",
              "       [1.        , 0.        ],\n",
              "       [0.        , 1.        ],\n",
              "       [0.35897436, 0.64102564],\n",
              "       [0.        , 1.        ],\n",
              "       [0.40740741, 0.59259259],\n",
              "       [0.91176471, 0.08823529],\n",
              "       [0.07407407, 0.92592593],\n",
              "       [0.        , 1.        ],\n",
              "       [0.25714286, 0.74285714],\n",
              "       [0.6744186 , 0.3255814 ],\n",
              "       [0.        , 1.        ],\n",
              "       [1.        , 0.        ],\n",
              "       [0.23529412, 0.76470588],\n",
              "       [1.        , 0.        ],\n",
              "       [0.        , 1.        ],\n",
              "       [0.90322581, 0.09677419],\n",
              "       [0.        , 1.        ],\n",
              "       [0.54285714, 0.45714286],\n",
              "       [1.        , 0.        ],\n",
              "       [0.04347826, 0.95652174],\n",
              "       [0.        , 1.        ],\n",
              "       [0.02857143, 0.97142857],\n",
              "       [0.        , 1.        ],\n",
              "       [0.85294118, 0.14705882],\n",
              "       [0.25714286, 0.74285714],\n",
              "       [0.        , 1.        ],\n",
              "       [0.0212766 , 0.9787234 ],\n",
              "       [1.        , 0.        ],\n",
              "       [0.26666667, 0.73333333],\n",
              "       [0.        , 1.        ],\n",
              "       [0.36666667, 0.63333333],\n",
              "       [0.39393939, 0.60606061],\n",
              "       [0.02777778, 0.97222222],\n",
              "       [0.96774194, 0.03225806],\n",
              "       [0.02564103, 0.97435897],\n",
              "       [0.02380952, 0.97619048],\n",
              "       [0.        , 1.        ],\n",
              "       [0.        , 1.        ],\n",
              "       [0.        , 1.        ],\n",
              "       [0.07692308, 0.92307692],\n",
              "       [0.        , 1.        ],\n",
              "       [0.84615385, 0.15384615],\n",
              "       [0.        , 1.        ],\n",
              "       [0.        , 1.        ],\n",
              "       [0.        , 1.        ],\n",
              "       [0.44736842, 0.55263158],\n",
              "       [0.        , 1.        ],\n",
              "       [1.        , 0.        ],\n",
              "       [0.58974359, 0.41025641],\n",
              "       [0.21875   , 0.78125   ],\n",
              "       [0.        , 1.        ],\n",
              "       [0.91304348, 0.08695652],\n",
              "       [0.        , 1.        ],\n",
              "       [1.        , 0.        ],\n",
              "       [1.        , 0.        ],\n",
              "       [0.02631579, 0.97368421],\n",
              "       [0.16666667, 0.83333333],\n",
              "       [1.        , 0.        ],\n",
              "       [0.07317073, 0.92682927],\n",
              "       [0.94117647, 0.05882353],\n",
              "       [1.        , 0.        ],\n",
              "       [0.08571429, 0.91428571],\n",
              "       [0.02222222, 0.97777778],\n",
              "       [0.        , 1.        ],\n",
              "       [0.42222222, 0.57777778],\n",
              "       [0.47222222, 0.52777778],\n",
              "       [0.        , 1.        ],\n",
              "       [0.        , 1.        ],\n",
              "       [1.        , 0.        ],\n",
              "       [0.05263158, 0.94736842],\n",
              "       [0.73170732, 0.26829268],\n",
              "       [0.14705882, 0.85294118],\n",
              "       [0.21428571, 0.78571429],\n",
              "       [0.08823529, 0.91176471],\n",
              "       [1.        , 0.        ],\n",
              "       [0.20512821, 0.79487179],\n",
              "       [1.        , 0.        ],\n",
              "       [0.        , 1.        ],\n",
              "       [0.025     , 0.975     ],\n",
              "       [1.        , 0.        ],\n",
              "       [1.        , 0.        ],\n",
              "       [0.        , 1.        ],\n",
              "       [0.        , 1.        ],\n",
              "       [1.        , 0.        ],\n",
              "       [0.        , 1.        ],\n",
              "       [1.        , 0.        ],\n",
              "       [0.94285714, 0.05714286],\n",
              "       [0.02325581, 0.97674419],\n",
              "       [1.        , 0.        ],\n",
              "       [1.        , 0.        ],\n",
              "       [0.        , 1.        ],\n",
              "       [0.33333333, 0.66666667],\n",
              "       [1.        , 0.        ],\n",
              "       [1.        , 0.        ],\n",
              "       [0.97142857, 0.02857143],\n",
              "       [0.08888889, 0.91111111],\n",
              "       [0.        , 1.        ],\n",
              "       [0.        , 1.        ],\n",
              "       [0.08571429, 0.91428571],\n",
              "       [1.        , 0.        ],\n",
              "       [0.        , 1.        ],\n",
              "       [0.94117647, 0.05882353],\n",
              "       [1.        , 0.        ],\n",
              "       [1.        , 0.        ],\n",
              "       [0.48571429, 0.51428571],\n",
              "       [0.        , 1.        ],\n",
              "       [0.16129032, 0.83870968],\n",
              "       [0.39534884, 0.60465116],\n",
              "       [0.23255814, 0.76744186],\n",
              "       [0.        , 1.        ],\n",
              "       [0.        , 1.        ],\n",
              "       [0.        , 1.        ],\n",
              "       [0.05714286, 0.94285714],\n",
              "       [0.95555556, 0.04444444],\n",
              "       [1.        , 0.        ],\n",
              "       [0.78787879, 0.21212121],\n",
              "       [0.        , 1.        ],\n",
              "       [1.        , 0.        ],\n",
              "       [0.        , 1.        ],\n",
              "       [0.        , 1.        ],\n",
              "       [0.05714286, 0.94285714],\n",
              "       [0.09677419, 0.90322581],\n",
              "       [0.        , 1.        ],\n",
              "       [1.        , 0.        ],\n",
              "       [0.        , 1.        ],\n",
              "       [0.02777778, 0.97222222],\n",
              "       [1.        , 0.        ],\n",
              "       [1.        , 0.        ],\n",
              "       [0.08333333, 0.91666667],\n",
              "       [0.83783784, 0.16216216],\n",
              "       [0.        , 1.        ],\n",
              "       [0.92307692, 0.07692308],\n",
              "       [0.02941176, 0.97058824],\n",
              "       [0.        , 1.        ],\n",
              "       [0.        , 1.        ],\n",
              "       [0.        , 1.        ],\n",
              "       [0.16666667, 0.83333333],\n",
              "       [0.        , 1.        ],\n",
              "       [0.96875   , 0.03125   ],\n",
              "       [0.02272727, 0.97727273],\n",
              "       [0.23529412, 0.76470588],\n",
              "       [0.93548387, 0.06451613],\n",
              "       [0.18918919, 0.81081081],\n",
              "       [0.        , 1.        ],\n",
              "       [0.        , 1.        ],\n",
              "       [0.19444444, 0.80555556],\n",
              "       [0.        , 1.        ],\n",
              "       [0.15789474, 0.84210526],\n",
              "       [1.        , 0.        ],\n",
              "       [0.5       , 0.5       ],\n",
              "       [0.06451613, 0.93548387],\n",
              "       [0.69767442, 0.30232558],\n",
              "       [0.04545455, 0.95454545],\n",
              "       [0.97142857, 0.02857143],\n",
              "       [1.        , 0.        ],\n",
              "       [1.        , 0.        ],\n",
              "       [0.13157895, 0.86842105],\n",
              "       [0.92307692, 0.07692308],\n",
              "       [0.29545455, 0.70454545],\n",
              "       [0.        , 1.        ],\n",
              "       [0.95      , 0.05      ],\n",
              "       [1.        , 0.        ],\n",
              "       [1.        , 0.        ],\n",
              "       [0.02777778, 0.97222222],\n",
              "       [0.        , 1.        ],\n",
              "       [0.        , 1.        ],\n",
              "       [0.        , 1.        ],\n",
              "       [0.25641026, 0.74358974],\n",
              "       [0.        , 1.        ],\n",
              "       [0.02173913, 0.97826087],\n",
              "       [1.        , 0.        ],\n",
              "       [0.        , 1.        ],\n",
              "       [0.        , 1.        ],\n",
              "       [0.23684211, 0.76315789],\n",
              "       [1.        , 0.        ],\n",
              "       [0.        , 1.        ],\n",
              "       [0.06451613, 0.93548387],\n",
              "       [1.        , 0.        ],\n",
              "       [0.23809524, 0.76190476],\n",
              "       [0.        , 1.        ],\n",
              "       [1.        , 0.        ],\n",
              "       [0.        , 1.        ],\n",
              "       [1.        , 0.        ],\n",
              "       [1.        , 0.        ],\n",
              "       [0.02439024, 0.97560976],\n",
              "       [0.025     , 0.975     ],\n",
              "       [1.        , 0.        ],\n",
              "       [0.04651163, 0.95348837],\n",
              "       [0.8974359 , 0.1025641 ],\n",
              "       [1.        , 0.        ],\n",
              "       [0.        , 1.        ],\n",
              "       [0.89473684, 0.10526316],\n",
              "       [0.46341463, 0.53658537],\n",
              "       [0.        , 1.        ],\n",
              "       [0.23529412, 0.76470588],\n",
              "       [0.87096774, 0.12903226],\n",
              "       [0.        , 1.        ],\n",
              "       [0.60465116, 0.39534884],\n",
              "       [0.        , 1.        ],\n",
              "       [0.03333333, 0.96666667],\n",
              "       [0.82051282, 0.17948718],\n",
              "       [0.        , 1.        ],\n",
              "       [0.39215686, 0.60784314],\n",
              "       [0.89473684, 0.10526316],\n",
              "       [1.        , 0.        ],\n",
              "       [1.        , 0.        ],\n",
              "       [0.03030303, 0.96969697],\n",
              "       [0.        , 1.        ],\n",
              "       [0.02941176, 0.97058824],\n",
              "       [0.96969697, 0.03030303],\n",
              "       [1.        , 0.        ],\n",
              "       [0.        , 1.        ],\n",
              "       [1.        , 0.        ],\n",
              "       [1.        , 0.        ],\n",
              "       [0.        , 1.        ],\n",
              "       [0.12820513, 0.87179487],\n",
              "       [0.        , 1.        ],\n",
              "       [1.        , 0.        ],\n",
              "       [0.        , 1.        ],\n",
              "       [1.        , 0.        ],\n",
              "       [0.97619048, 0.02380952],\n",
              "       [1.        , 0.        ],\n",
              "       [0.        , 1.        ],\n",
              "       [0.61290323, 0.38709677],\n",
              "       [0.03846154, 0.96153846],\n",
              "       [0.94444444, 0.05555556],\n",
              "       [0.        , 1.        ],\n",
              "       [0.        , 1.        ],\n",
              "       [0.90322581, 0.09677419],\n",
              "       [1.        , 0.        ],\n",
              "       [0.97222222, 0.02777778],\n",
              "       [1.        , 0.        ],\n",
              "       [0.05882353, 0.94117647],\n",
              "       [0.64864865, 0.35135135],\n",
              "       [0.        , 1.        ],\n",
              "       [0.        , 1.        ],\n",
              "       [0.        , 1.        ],\n",
              "       [0.        , 1.        ],\n",
              "       [0.        , 1.        ],\n",
              "       [0.        , 1.        ],\n",
              "       [0.        , 1.        ],\n",
              "       [1.        , 0.        ],\n",
              "       [1.        , 0.        ],\n",
              "       [0.54761905, 0.45238095],\n",
              "       [0.89189189, 0.10810811],\n",
              "       [0.        , 1.        ],\n",
              "       [0.23529412, 0.76470588],\n",
              "       [0.        , 1.        ],\n",
              "       [0.13157895, 0.86842105],\n",
              "       [1.        , 0.        ],\n",
              "       [0.02941176, 0.97058824],\n",
              "       [0.93939394, 0.06060606],\n",
              "       [0.03333333, 0.96666667],\n",
              "       [0.        , 1.        ],\n",
              "       [0.        , 1.        ],\n",
              "       [0.09756098, 0.90243902],\n",
              "       [0.06666667, 0.93333333],\n",
              "       [1.        , 0.        ],\n",
              "       [0.82352941, 0.17647059],\n",
              "       [0.84210526, 0.15789474],\n",
              "       [0.        , 1.        ],\n",
              "       [0.        , 1.        ],\n",
              "       [0.85294118, 0.14705882],\n",
              "       [0.09677419, 0.90322581],\n",
              "       [0.02564103, 0.97435897],\n",
              "       [0.97058824, 0.02941176],\n",
              "       [0.7804878 , 0.2195122 ],\n",
              "       [1.        , 0.        ],\n",
              "       [0.97297297, 0.02702703],\n",
              "       [0.        , 1.        ],\n",
              "       [0.02564103, 0.97435897],\n",
              "       [0.55555556, 0.44444444],\n",
              "       [1.        , 0.        ],\n",
              "       [0.15625   , 0.84375   ],\n",
              "       [0.02702703, 0.97297297],\n",
              "       [0.        , 1.        ],\n",
              "       [1.        , 0.        ],\n",
              "       [0.73684211, 0.26315789],\n",
              "       [1.        , 0.        ],\n",
              "       [0.        , 1.        ],\n",
              "       [0.02380952, 0.97619048],\n",
              "       [0.54545455, 0.45454545],\n",
              "       [0.07142857, 0.92857143],\n",
              "       [0.        , 1.        ],\n",
              "       [0.        , 1.        ],\n",
              "       [0.02702703, 0.97297297],\n",
              "       [1.        , 0.        ],\n",
              "       [0.5       , 0.5       ],\n",
              "       [0.09302326, 0.90697674],\n",
              "       [0.10810811, 0.89189189],\n",
              "       [0.15217391, 0.84782609],\n",
              "       [0.        , 1.        ],\n",
              "       [0.05263158, 0.94736842],\n",
              "       [0.        , 1.        ],\n",
              "       [0.        , 1.        ],\n",
              "       [0.02777778, 0.97222222],\n",
              "       [1.        , 0.        ],\n",
              "       [0.        , 1.        ],\n",
              "       [0.02439024, 0.97560976],\n",
              "       [0.05714286, 0.94285714],\n",
              "       [0.06060606, 0.93939394],\n",
              "       [0.        , 1.        ],\n",
              "       [0.32432432, 0.67567568],\n",
              "       [0.34285714, 0.65714286],\n",
              "       [0.2962963 , 0.7037037 ],\n",
              "       [0.44736842, 0.55263158],\n",
              "       [1.        , 0.        ],\n",
              "       [0.07142857, 0.92857143],\n",
              "       [0.03030303, 0.96969697],\n",
              "       [0.675     , 0.325     ],\n",
              "       [0.89189189, 0.10810811],\n",
              "       [1.        , 0.        ],\n",
              "       [0.14705882, 0.85294118],\n",
              "       [0.95833333, 0.04166667],\n",
              "       [0.94736842, 0.05263158],\n",
              "       [0.10526316, 0.89473684],\n",
              "       [1.        , 0.        ],\n",
              "       [0.        , 1.        ],\n",
              "       [0.        , 1.        ],\n",
              "       [0.11111111, 0.88888889],\n",
              "       [0.        , 1.        ],\n",
              "       [0.90322581, 0.09677419],\n",
              "       [0.05      , 0.95      ]])"
            ]
          },
          "metadata": {
            "tags": []
          },
          "execution_count": 53
        }
      ]
    }
  ]
}