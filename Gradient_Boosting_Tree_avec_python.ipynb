{
  "nbformat": 4,
  "nbformat_minor": 0,
  "metadata": {
    "colab": {
      "name": "Gradient Boosting Tree avec python.ipynb",
      "provenance": [],
      "collapsed_sections": [
        "E0PNFV4hJ9iy",
        "DouZaw3hJ9go",
        "gfQcOo9cJ9cL",
        "qRpjY8fWKVnC",
        "U9F08viGNWc7",
        "bYWGu0NGNWX7",
        "csU3V_L4NQ7L",
        "SyrpFUW_NQ0R",
        "JMh-9uaENWVd",
        "LAqGlRnbKGN3",
        "Eyg5MLAsJ9Vc",
        "RnnII1ZiKGW1",
        "YY8D7N9LKGUc",
        "ulvsNm74KGRj",
        "kZA0PJv4KVuL",
        "Yf1JEdsjKVr-",
        "1eCP4eKCKVpi",
        "vLjVlOSkNQ2i",
        "Ca4-Dzb-NWaU",
        "9iFEl6FzNnhp"
      ]
    },
    "kernelspec": {
      "name": "python3",
      "display_name": "Python 3"
    }
  },
  "cells": [
    {
      "cell_type": "markdown",
      "metadata": {
        "id": "NphAjHJGEh0i"
      },
      "source": [
        "# La Gradient Boosting Tree avec Python\r\n",
        "\r\n",
        "Dans ce notebook, nous allons expliquer tous les hyperparamètres présent dans la fonction Gradient Boosting Tree de sklearn. Le but étant de vous familliariser avec ses paramètres afin que vous puissiez entraîner le meilleurs modèles possibles. \r\n",
        "\r\n",
        "Vous pouvez retrouver [ici](https://scikit-learn.org/stable/modules/generated/sklearn.ensemble.GradientBoostingRegressor.html) la documentation de la fonction Gradient Boosting Tree de sklearn."
      ]
    },
    {
      "cell_type": "markdown",
      "metadata": {
        "id": "ePLA15i7OkP0"
      },
      "source": [
        "# Importation des packages"
      ]
    },
    {
      "cell_type": "code",
      "metadata": {
        "id": "SaLutvSyOjoA"
      },
      "source": [
        "# Packages de gestion des données\r\n",
        "import numpy as np\r\n",
        "import pandas as pd\r\n",
        "\r\n",
        "# Packages de visualisation\r\n",
        "import matplotlib.pyplot as plt\r\n",
        "\r\n",
        "# Packages de modélisation\r\n",
        "from sklearn.ensemble import GradientBoostingRegressor\r\n",
        "from sklearn.model_selection import train_test_split\r\n",
        "from sklearn.metrics import mean_absolute_error\r\n",
        "\r\n",
        "from sklearn.model_selection import GridSearchCV\r\n",
        "\r\n",
        "from sklearn import tree\r\n",
        "import graphviz "
      ],
      "execution_count": null,
      "outputs": []
    },
    {
      "cell_type": "markdown",
      "metadata": {
        "id": "erypLorxPL21"
      },
      "source": [
        "# Création des données"
      ]
    },
    {
      "cell_type": "code",
      "metadata": {
        "id": "hbhDaqkTPQra"
      },
      "source": [
        "# x est une variable continue de 0 à 100\r\n",
        "x = np.arange(0,100)\r\n",
        "x = pd.DataFrame({'x':x})\r\n",
        "\r\n",
        "# y aura cinq distributions de données différentes\r\n",
        "y1 = np.random.uniform(5,20,20)\r\n",
        "y2 = np.random.uniform(30,40,20)\r\n",
        "y3 = np.random.uniform(-20,0,20)\r\n",
        "y4 = np.random.uniform(45,55,20)\r\n",
        "y5 = np.random.uniform(10,20,20)\r\n",
        "\r\n",
        "# Intégration de la variable cible dans la base de données\r\n",
        "x['y'] = np.concatenate((y1,y2,y3,y4,y5))"
      ],
      "execution_count": null,
      "outputs": []
    },
    {
      "cell_type": "code",
      "metadata": {
        "colab": {
          "base_uri": "https://localhost:8080/",
          "height": 295
        },
        "id": "NVYHYBT3PRSd",
        "outputId": "b64db605-c427-4639-af27-7d1cf3f3df86"
      },
      "source": [
        "plt.scatter(x['x'], x['y'])\r\n",
        "plt.ylabel('y')\r\n",
        "plt.xlabel('x')\r\n",
        "plt.title('Distribution de x en fonction de y')\r\n",
        "plt.show()"
      ],
      "execution_count": null,
      "outputs": [
        {
          "output_type": "display_data",
          "data": {
            "image/png": "[encoded data removed]",
            "text/plain": [
              "<Figure size 432x288 with 1 Axes>"
            ]
          },
          "metadata": {
            "tags": [],
            "needs_background": "light"
          }
        }
      ]
    },
    {
      "cell_type": "code",
      "metadata": {
        "id": "IKrzJssjPUfT"
      },
      "source": [
        "x_train, x_test, y_train, y_test = train_test_split(x['x'], x['y'], test_size=0.33, random_state=123)\r\n",
        "\r\n",
        "x_train = np.array(x_train).reshape(-1, 1)\r\n",
        "x_test = np.array(x_test).reshape(-1, 1)"
      ],
      "execution_count": null,
      "outputs": []
    },
    {
      "cell_type": "markdown",
      "metadata": {
        "id": "1E_EyBXnJvqJ"
      },
      "source": [
        "# Les hyperparamètres"
      ]
    },
    {
      "cell_type": "markdown",
      "metadata": {
        "id": "BC25HuZ9ODWk"
      },
      "source": [
        "Les hyperparamères, sont les paramètres que vous choisissez à l'initialisation de l'algorithme d'apprentissage et qui influeront sur l'entraînement du modèle."
      ]
    },
    {
      "cell_type": "markdown",
      "metadata": {
        "id": "kcoJa9XGtOIS"
      },
      "source": [
        "## Hyperparamètres du Gadient Boosting Tree"
      ]
    },
    {
      "cell_type": "markdown",
      "metadata": {
        "id": "mm_nvqLkJ6-e"
      },
      "source": [
        "### loss"
      ]
    },
    {
      "cell_type": "markdown",
      "metadata": {
        "id": "T7DBJ9CXRnIJ"
      },
      "source": [
        "La loss est la fonction que l'algorithme utilisera pour optimiser la forêt d'arbre. C'est cette fonction qui sera utiliser pour le calcul des résidus. "
      ]
    },
    {
      "cell_type": "code",
      "metadata": {
        "colab": {
          "base_uri": "https://localhost:8080/"
        },
        "id": "E3baMTapODBw",
        "outputId": "99d8d95c-c65d-4fcd-bb54-0f65bf8a5631"
      },
      "source": [
        "# Identification des paramètres\r\n",
        "parameters = {'loss':('ls', 'lad', 'huber', 'quantile')}\r\n",
        "\r\n",
        "# Initialisation du modèle\r\n",
        "gbt = GradientBoostingRegressor()\r\n",
        "\r\n",
        "# Gridsearch\r\n",
        "grid = GridSearchCV(gbt, parameters)\r\n",
        "\r\n",
        "# Entraînement\r\n",
        "grid.fit(x_train, y_train)\r\n",
        "\r\n",
        "# résultats\r\n",
        "grid.best_estimator_"
      ],
      "execution_count": null,
      "outputs": [
        {
          "output_type": "execute_result",
          "data": {
            "text/plain": [
              "GradientBoostingRegressor(alpha=0.9, ccp_alpha=0.0, criterion='friedman_mse',\n",
              "                          init=None, learning_rate=0.1, loss='lad', max_depth=3,\n",
              "                          max_features=None, max_leaf_nodes=None,\n",
              "                          min_impurity_decrease=0.0, min_impurity_split=None,\n",
              "                          min_samples_leaf=1, min_samples_split=2,\n",
              "                          min_weight_fraction_leaf=0.0, n_estimators=100,\n",
              "                          n_iter_no_change=None, presort='deprecated',\n",
              "                          random_state=None, subsample=1.0, tol=0.0001,\n",
              "                          validation_fraction=0.1, verbose=0, warm_start=False)"
            ]
          },
          "metadata": {
            "tags": []
          },
          "execution_count": 5
        }
      ]
    },
    {
      "cell_type": "markdown",
      "metadata": {
        "id": "NswkIYOZNWfN"
      },
      "source": [
        "### alpha"
      ]
    },
    {
      "cell_type": "markdown",
      "metadata": {
        "id": "LfasmGavU4QN"
      },
      "source": [
        "Cette hyperpparamètre n'est utile que lorsque vous utilisez l'hyperparamètre 'huber' ou 'quantile'. \r\n",
        "\r\n",
        "La valeur de alpha doit rester enre 0 et 1."
      ]
    },
    {
      "cell_type": "code",
      "metadata": {
        "colab": {
          "base_uri": "https://localhost:8080/"
        },
        "id": "Lm6moPsrYFS-",
        "outputId": "5634a7b4-11d5-4176-cfdf-8d688b8d9c21"
      },
      "source": [
        "# Identification des paramètres\r\n",
        "parameters = {'loss':('huber', 'quantile'), \r\n",
        "              'alpha':np.arange(0.1, 1, 0.1)}\r\n",
        "\r\n",
        "# Initialisation du modèle\r\n",
        "gbt = GradientBoostingRegressor()\r\n",
        "\r\n",
        "# Gridsearch\r\n",
        "grid = GridSearchCV(gbt, parameters)\r\n",
        "\r\n",
        "# Entraînement\r\n",
        "grid.fit(x_train, y_train)\r\n",
        "\r\n",
        "# résultats\r\n",
        "grid.best_estimator_"
      ],
      "execution_count": null,
      "outputs": [
        {
          "output_type": "execute_result",
          "data": {
            "text/plain": [
              "GradientBoostingRegressor(alpha=0.6, ccp_alpha=0.0, criterion='friedman_mse',\n",
              "                          init=None, learning_rate=0.1, loss='quantile',\n",
              "                          max_depth=3, max_features=None, max_leaf_nodes=None,\n",
              "                          min_impurity_decrease=0.0, min_impurity_split=None,\n",
              "                          min_samples_leaf=1, min_samples_split=2,\n",
              "                          min_weight_fraction_leaf=0.0, n_estimators=100,\n",
              "                          n_iter_no_change=None, presort='deprecated',\n",
              "                          random_state=None, subsample=1.0, tol=0.0001,\n",
              "                          validation_fraction=0.1, verbose=0, warm_start=False)"
            ]
          },
          "metadata": {
            "tags": []
          },
          "execution_count": 6
        }
      ]
    },
    {
      "cell_type": "markdown",
      "metadata": {
        "id": "E0PNFV4hJ9iy"
      },
      "source": [
        "### learning_rate"
      ]
    },
    {
      "cell_type": "markdown",
      "metadata": {
        "id": "vtzOqkQSZUjm"
      },
      "source": [
        "Cette hyperparamètre va contrôler l'apport de chaque arbre dans la forêt."
      ]
    },
    {
      "cell_type": "code",
      "metadata": {
        "colab": {
          "base_uri": "https://localhost:8080/",
          "height": 312
        },
        "id": "-vgorkykZUHl",
        "outputId": "9b95144d-134a-45d2-888a-7a1724d29415"
      },
      "source": [
        "# Initialisation du modèle\r\n",
        "gbt = GradientBoostingRegressor(learning_rate=1)\r\n",
        "\r\n",
        "# Entraînement\r\n",
        "gbt.fit(x_train, y_train)\r\n",
        "\r\n",
        "# Prédiction des données d'entraînement\r\n",
        "y_train_pred = gbt.predict(x_train)\r\n",
        "\r\n",
        "print(mean_absolute_error(y_train_pred, y_train))\r\n",
        "\r\n",
        "# Visualisation du modèle actuel\r\n",
        "x_line = np.arange(0,100).reshape(-1, 1)\r\n",
        "plt.scatter(x_train, y_train)\r\n",
        "pred = gbt.predict(x_line)\r\n",
        "plt.plot(x_line, pred, color='red')\r\n",
        "plt.ylabel('y')\r\n",
        "plt.xlabel('x')\r\n",
        "plt.title('Prédiction de la forêt pour estimer y')\r\n",
        "plt.show()"
      ],
      "execution_count": null,
      "outputs": [
        {
          "output_type": "stream",
          "text": [
            "1.1649056512111717e-15\n"
          ],
          "name": "stdout"
        },
        {
          "output_type": "display_data",
          "data": {
            "image/png": "[encoded data removed]",
            "text/plain": [
              "<Figure size 432x288 with 1 Axes>"
            ]
          },
          "metadata": {
            "tags": [],
            "needs_background": "light"
          }
        }
      ]
    },
    {
      "cell_type": "code",
      "metadata": {
        "colab": {
          "base_uri": "https://localhost:8080/",
          "height": 312
        },
        "id": "UELwI8XkhxMc",
        "outputId": "16d2cba3-cd3a-4dc5-c136-9ded2d2fc244"
      },
      "source": [
        "# Prédiction des données de tests\r\n",
        "y_test_pred = gbt.predict(x_test)\r\n",
        "\r\n",
        "print(mean_absolute_error(y_test_pred, y_test))\r\n",
        "\r\n",
        "# Visualisation du modèle actuel\r\n",
        "x_line = np.arange(0,100).reshape(-1, 1)\r\n",
        "plt.scatter(x_test, y_test)\r\n",
        "pred = gbt.predict(x_line)\r\n",
        "plt.plot(x_line, pred, color='red')\r\n",
        "plt.ylabel('y')\r\n",
        "plt.xlabel('x')\r\n",
        "plt.title('Prédiction de la forêt pour estimer y')\r\n",
        "plt.show()"
      ],
      "execution_count": null,
      "outputs": [
        {
          "output_type": "stream",
          "text": [
            "6.427912773098188\n"
          ],
          "name": "stdout"
        },
        {
          "output_type": "display_data",
          "data": {
            "image/png": "[encoded data removed]",
            "text/plain": [
              "<Figure size 432x288 with 1 Axes>"
            ]
          },
          "metadata": {
            "tags": [],
            "needs_background": "light"
          }
        }
      ]
    },
    {
      "cell_type": "code",
      "metadata": {
        "colab": {
          "base_uri": "https://localhost:8080/",
          "height": 312
        },
        "id": "sk4vQtUtfZRl",
        "outputId": "8e44541b-10b2-496d-aaf0-fe224c013056"
      },
      "source": [
        "# Initialisation du modèle\r\n",
        "gbt = GradientBoostingRegressor(learning_rate=0.04)\r\n",
        "\r\n",
        "# Entraînement\r\n",
        "gbt.fit(x_train, y_train)\r\n",
        "\r\n",
        "# Prédiction des données d'entraînement\r\n",
        "y_train_pred = gbt.predict(x_train)\r\n",
        "\r\n",
        "print(mean_absolute_error(y_train_pred, y_train))\r\n",
        "\r\n",
        "# Visualisation du modèle actuel\r\n",
        "x_line = np.arange(0,100).reshape(-1, 1)\r\n",
        "plt.scatter(x_train, y_train)\r\n",
        "pred = gbt.predict(x_line)\r\n",
        "plt.plot(x_line, pred, color='red')\r\n",
        "plt.ylabel('y')\r\n",
        "plt.xlabel('x')\r\n",
        "plt.title('Prédiction de la forêt pour estimer y')\r\n",
        "plt.show()"
      ],
      "execution_count": null,
      "outputs": [
        {
          "output_type": "stream",
          "text": [
            "2.337475962322703\n"
          ],
          "name": "stdout"
        },
        {
          "output_type": "display_data",
          "data": {
            "image/png": "[encoded data removed]",
            "text/plain": [
              "<Figure size 432x288 with 1 Axes>"
            ]
          },
          "metadata": {
            "tags": [],
            "needs_background": "light"
          }
        }
      ]
    },
    {
      "cell_type": "code",
      "metadata": {
        "colab": {
          "base_uri": "https://localhost:8080/",
          "height": 312
        },
        "id": "ew0hFiCdiPBS",
        "outputId": "c1c915a1-0756-446e-9a92-c42e2d513051"
      },
      "source": [
        "# Prédiction des données de tests\r\n",
        "y_test_pred = gbt.predict(x_test)\r\n",
        "\r\n",
        "print(mean_absolute_error(y_test_pred, y_test))\r\n",
        "\r\n",
        "# Visualisation du modèle actuel\r\n",
        "x_line = np.arange(0,100).reshape(-1, 1)\r\n",
        "plt.scatter(x_test, y_test)\r\n",
        "pred = gbt.predict(x_line)\r\n",
        "plt.plot(x_line, pred, color='red')\r\n",
        "plt.ylabel('y')\r\n",
        "plt.xlabel('x')\r\n",
        "plt.title('Prédiction de la forêt pour estimer y')\r\n",
        "plt.show()"
      ],
      "execution_count": null,
      "outputs": [
        {
          "output_type": "stream",
          "text": [
            "4.916231828808045\n"
          ],
          "name": "stdout"
        },
        {
          "output_type": "display_data",
          "data": {
            "image/png": "[encoded data removed]",
            "text/plain": [
              "<Figure size 432x288 with 1 Axes>"
            ]
          },
          "metadata": {
            "tags": [],
            "needs_background": "light"
          }
        }
      ]
    },
    {
      "cell_type": "code",
      "metadata": {
        "colab": {
          "base_uri": "https://localhost:8080/"
        },
        "id": "Wv3ioSWJkAWH",
        "outputId": "79da817b-8996-486d-89e3-1c62791d9911"
      },
      "source": [
        "# Identification des paramètres\r\n",
        "parameters = {'learning_rate':np.arange(0.1, 1, 0.1)}\r\n",
        "\r\n",
        "# Initialisation du modèle\r\n",
        "gbt = GradientBoostingRegressor()\r\n",
        "\r\n",
        "# Gridsearch\r\n",
        "grid = GridSearchCV(gbt, parameters)\r\n",
        "\r\n",
        "# Entraînement\r\n",
        "grid.fit(x_train, y_train)\r\n",
        "\r\n",
        "# résultats\r\n",
        "grid.best_estimator_"
      ],
      "execution_count": null,
      "outputs": [
        {
          "output_type": "execute_result",
          "data": {
            "text/plain": [
              "GradientBoostingRegressor(alpha=0.9, ccp_alpha=0.0, criterion='friedman_mse',\n",
              "                          init=None, learning_rate=0.1, loss='ls', max_depth=3,\n",
              "                          max_features=None, max_leaf_nodes=None,\n",
              "                          min_impurity_decrease=0.0, min_impurity_split=None,\n",
              "                          min_samples_leaf=1, min_samples_split=2,\n",
              "                          min_weight_fraction_leaf=0.0, n_estimators=100,\n",
              "                          n_iter_no_change=None, presort='deprecated',\n",
              "                          random_state=None, subsample=1.0, tol=0.0001,\n",
              "                          validation_fraction=0.1, verbose=0, warm_start=False)"
            ]
          },
          "metadata": {
            "tags": []
          },
          "execution_count": 11
        }
      ]
    },
    {
      "cell_type": "code",
      "metadata": {
        "colab": {
          "base_uri": "https://localhost:8080/"
        },
        "id": "Ae2W6ktWlW3D",
        "outputId": "b722703d-cecc-41f7-f9f9-27aec50f18a0"
      },
      "source": [
        "# Identification des paramètres\r\n",
        "parameters = {'learning_rate':np.arange(0.01, 0.2, 0.01)}\r\n",
        "\r\n",
        "# Initialisation du modèle\r\n",
        "gbt = GradientBoostingRegressor()\r\n",
        "\r\n",
        "# Gridsearch\r\n",
        "grid = GridSearchCV(gbt, parameters)\r\n",
        "\r\n",
        "# Entraînement\r\n",
        "grid.fit(x_train, y_train)\r\n",
        "\r\n",
        "# résultats\r\n",
        "grid.best_estimator_"
      ],
      "execution_count": null,
      "outputs": [
        {
          "output_type": "execute_result",
          "data": {
            "text/plain": [
              "GradientBoostingRegressor(alpha=0.9, ccp_alpha=0.0, criterion='friedman_mse',\n",
              "                          init=None, learning_rate=0.03, loss='ls', max_depth=3,\n",
              "                          max_features=None, max_leaf_nodes=None,\n",
              "                          min_impurity_decrease=0.0, min_impurity_split=None,\n",
              "                          min_samples_leaf=1, min_samples_split=2,\n",
              "                          min_weight_fraction_leaf=0.0, n_estimators=100,\n",
              "                          n_iter_no_change=None, presort='deprecated',\n",
              "                          random_state=None, subsample=1.0, tol=0.0001,\n",
              "                          validation_fraction=0.1, verbose=0, warm_start=False)"
            ]
          },
          "metadata": {
            "tags": []
          },
          "execution_count": 12
        }
      ]
    },
    {
      "cell_type": "code",
      "metadata": {
        "colab": {
          "base_uri": "https://localhost:8080/"
        },
        "id": "kiS8y9IZlWxC",
        "outputId": "15bdb986-c126-40aa-88e2-0884106be9a8"
      },
      "source": [
        "# Identification des paramètres\r\n",
        "parameters = {'learning_rate':np.arange(0.02, 0.04, 0.001)}\r\n",
        "\r\n",
        "# Initialisation du modèle\r\n",
        "gbt = GradientBoostingRegressor()\r\n",
        "\r\n",
        "# Gridsearch\r\n",
        "grid = GridSearchCV(gbt, parameters)\r\n",
        "\r\n",
        "# Entraînement\r\n",
        "grid.fit(x_train, y_train)\r\n",
        "\r\n",
        "# résultats\r\n",
        "grid.best_estimator_"
      ],
      "execution_count": null,
      "outputs": [
        {
          "output_type": "execute_result",
          "data": {
            "text/plain": [
              "GradientBoostingRegressor(alpha=0.9, ccp_alpha=0.0, criterion='friedman_mse',\n",
              "                          init=None, learning_rate=0.03700000000000002,\n",
              "                          loss='ls', max_depth=3, max_features=None,\n",
              "                          max_leaf_nodes=None, min_impurity_decrease=0.0,\n",
              "                          min_impurity_split=None, min_samples_leaf=1,\n",
              "                          min_samples_split=2, min_weight_fraction_leaf=0.0,\n",
              "                          n_estimators=100, n_iter_no_change=None,\n",
              "                          presort='deprecated', random_state=None,\n",
              "                          subsample=1.0, tol=0.0001, validation_fraction=0.1,\n",
              "                          verbose=0, warm_start=False)"
            ]
          },
          "metadata": {
            "tags": []
          },
          "execution_count": 13
        }
      ]
    },
    {
      "cell_type": "markdown",
      "metadata": {
        "id": "DouZaw3hJ9go"
      },
      "source": [
        "### n_estimators"
      ]
    },
    {
      "cell_type": "markdown",
      "metadata": {
        "id": "ukMKDgODj4eV"
      },
      "source": [
        "Ce paramètre détermine le nombre d'arbre de notre forêt."
      ]
    },
    {
      "cell_type": "markdown",
      "metadata": {
        "id": "gfQcOo9cJ9cL"
      },
      "source": [
        "### subsample"
      ]
    },
    {
      "cell_type": "markdown",
      "metadata": {
        "id": "NyI6pLUfm36d"
      },
      "source": [
        "Détermine la proportion de notre dataset utilisé lors de la création des arbres de la forêt. "
      ]
    },
    {
      "cell_type": "code",
      "metadata": {
        "colab": {
          "base_uri": "https://localhost:8080/",
          "height": 312
        },
        "id": "xwT7K2_pnWca",
        "outputId": "d1b38ac6-1174-4289-c823-a343c717413e"
      },
      "source": [
        "# Initialisation du modèle\r\n",
        "gbt = GradientBoostingRegressor(subsample=1)\r\n",
        "\r\n",
        "# Entraînement\r\n",
        "gbt.fit(x_train, y_train)\r\n",
        "\r\n",
        "# Prédiction des données d'entraînement\r\n",
        "y_train_pred = gbt.predict(x_train)\r\n",
        "\r\n",
        "print(mean_absolute_error(y_train_pred, y_train))\r\n",
        "\r\n",
        "# Visualisation du modèle actuel\r\n",
        "x_line = np.arange(0,100).reshape(-1, 1)\r\n",
        "plt.scatter(x_train, y_train)\r\n",
        "pred = gbt.predict(x_line)\r\n",
        "plt.plot(x_line, pred, color='red')\r\n",
        "plt.ylabel('y')\r\n",
        "plt.xlabel('x')\r\n",
        "plt.title('Prédiction de la forêt pour estimer y')\r\n",
        "plt.show()"
      ],
      "execution_count": null,
      "outputs": [
        {
          "output_type": "stream",
          "text": [
            "1.2415617336677338\n"
          ],
          "name": "stdout"
        },
        {
          "output_type": "display_data",
          "data": {
            "image/png": "[encoded data removed]",
            "text/plain": [
              "<Figure size 432x288 with 1 Axes>"
            ]
          },
          "metadata": {
            "tags": [],
            "needs_background": "light"
          }
        }
      ]
    },
    {
      "cell_type": "code",
      "metadata": {
        "colab": {
          "base_uri": "https://localhost:8080/",
          "height": 312
        },
        "id": "KhvLzHnbpnXy",
        "outputId": "aa60d5e5-cc75-45f7-9842-3e489a5d8c9d"
      },
      "source": [
        "# Prédiction des données de tests\r\n",
        "y_test_pred = gbt.predict(x_test)\r\n",
        "\r\n",
        "print(mean_absolute_error(y_test_pred, y_test))\r\n",
        "\r\n",
        "# Visualisation du modèle actuel\r\n",
        "x_line = np.arange(0,100).reshape(-1, 1)\r\n",
        "plt.scatter(x_test, y_test)\r\n",
        "pred = gbt.predict(x_line)\r\n",
        "plt.plot(x_line, pred, color='red')\r\n",
        "plt.ylabel('y')\r\n",
        "plt.xlabel('x')\r\n",
        "plt.title('Prédiction de la forêt pour estimer y')\r\n",
        "plt.show()"
      ],
      "execution_count": null,
      "outputs": [
        {
          "output_type": "stream",
          "text": [
            "5.504714633831664\n"
          ],
          "name": "stdout"
        },
        {
          "output_type": "display_data",
          "data": {
            "image/png": "[encoded data removed]",
            "text/plain": [
              "<Figure size 432x288 with 1 Axes>"
            ]
          },
          "metadata": {
            "tags": [],
            "needs_background": "light"
          }
        }
      ]
    },
    {
      "cell_type": "code",
      "metadata": {
        "colab": {
          "base_uri": "https://localhost:8080/",
          "height": 312
        },
        "id": "pBPy6QOvnv7y",
        "outputId": "82816738-7590-4095-e9a7-a7cfbac2815b"
      },
      "source": [
        "# Initialisation du modèle\r\n",
        "gbt = GradientBoostingRegressor(subsample=0.7)\r\n",
        "\r\n",
        "# Entraînement\r\n",
        "gbt.fit(x_train, y_train)\r\n",
        "\r\n",
        "# Prédiction des données d'entraînement\r\n",
        "y_train_pred = gbt.predict(x_train)\r\n",
        "\r\n",
        "print(mean_absolute_error(y_train_pred, y_train))\r\n",
        "\r\n",
        "# Visualisation du modèle actuel\r\n",
        "x_line = np.arange(0,100).reshape(-1, 1)\r\n",
        "plt.scatter(x_train, y_train)\r\n",
        "pred = gbt.predict(x_line)\r\n",
        "plt.plot(x_line, pred, color='red')\r\n",
        "plt.ylabel('y')\r\n",
        "plt.xlabel('x')\r\n",
        "plt.title('Prédiction de la forêt pour estimer y')\r\n",
        "plt.show()"
      ],
      "execution_count": null,
      "outputs": [
        {
          "output_type": "stream",
          "text": [
            "1.5168748395651452\n"
          ],
          "name": "stdout"
        },
        {
          "output_type": "display_data",
          "data": {
            "image/png": "[encoded data removed]",
            "text/plain": [
              "<Figure size 432x288 with 1 Axes>"
            ]
          },
          "metadata": {
            "tags": [],
            "needs_background": "light"
          }
        }
      ]
    },
    {
      "cell_type": "code",
      "metadata": {
        "colab": {
          "base_uri": "https://localhost:8080/",
          "height": 312
        },
        "id": "mA1joFKipolR",
        "outputId": "5f7c8f85-260e-43cb-e051-347769eead20"
      },
      "source": [
        "# Prédiction des données de tests\r\n",
        "y_test_pred = gbt.predict(x_test)\r\n",
        "\r\n",
        "print(mean_absolute_error(y_test_pred, y_test))\r\n",
        "\r\n",
        "# Visualisation du modèle actuel\r\n",
        "x_line = np.arange(0,100).reshape(-1, 1)\r\n",
        "plt.scatter(x_test, y_test)\r\n",
        "pred = gbt.predict(x_line)\r\n",
        "plt.plot(x_line, pred, color='red')\r\n",
        "plt.ylabel('y')\r\n",
        "plt.xlabel('x')\r\n",
        "plt.title('Prédiction de la forêt pour estimer y')\r\n",
        "plt.show()"
      ],
      "execution_count": null,
      "outputs": [
        {
          "output_type": "stream",
          "text": [
            "5.411887795843137\n"
          ],
          "name": "stdout"
        },
        {
          "output_type": "display_data",
          "data": {
            "image/png": "[encoded data removed]",
            "text/plain": [
              "<Figure size 432x288 with 1 Axes>"
            ]
          },
          "metadata": {
            "tags": [],
            "needs_background": "light"
          }
        }
      ]
    },
    {
      "cell_type": "code",
      "metadata": {
        "colab": {
          "base_uri": "https://localhost:8080/",
          "height": 312
        },
        "id": "T-ma9RoDoD10",
        "outputId": "f6301c25-4850-4336-e78f-34ecdcf5950d"
      },
      "source": [
        "# Initialisation du modèle\r\n",
        "gbt = GradientBoostingRegressor(subsample=0.03)\r\n",
        "\r\n",
        "# Entraînement\r\n",
        "gbt.fit(x_train, y_train)\r\n",
        "\r\n",
        "# Prédiction des données d'entraînement\r\n",
        "y_train_pred = gbt.predict(x_train)\r\n",
        "\r\n",
        "print(mean_absolute_error(y_train_pred, y_train))\r\n",
        "\r\n",
        "# Visualisation du modèle actuel\r\n",
        "x_line = np.arange(0,100).reshape(-1, 1)\r\n",
        "plt.scatter(x_train, y_train)\r\n",
        "pred = gbt.predict(x_line)\r\n",
        "plt.plot(x_line, pred, color='red')\r\n",
        "plt.ylabel('y')\r\n",
        "plt.xlabel('x')\r\n",
        "plt.title('Prédiction de la forêt pour estimer y')\r\n",
        "plt.show()"
      ],
      "execution_count": null,
      "outputs": [
        {
          "output_type": "stream",
          "text": [
            "11.697756253237097\n"
          ],
          "name": "stdout"
        },
        {
          "output_type": "display_data",
          "data": {
            "image/png": "[encoded data removed]",
            "text/plain": [
              "<Figure size 432x288 with 1 Axes>"
            ]
          },
          "metadata": {
            "tags": [],
            "needs_background": "light"
          }
        }
      ]
    },
    {
      "cell_type": "markdown",
      "metadata": {
        "id": "qRpjY8fWKVnC"
      },
      "source": [
        "### init"
      ]
    },
    {
      "cell_type": "markdown",
      "metadata": {
        "id": "vkEgGGI9qPL_"
      },
      "source": [
        "Cette valeur détermine l'initialisation du modèle, pour le calcul des résidus avant la création du première arbre. "
      ]
    },
    {
      "cell_type": "markdown",
      "metadata": {
        "id": "U9F08viGNWc7"
      },
      "source": [
        "### verbose\r\n",
        "\r\n"
      ]
    },
    {
      "cell_type": "markdown",
      "metadata": {
        "id": "2yoOqAbLub09"
      },
      "source": [
        "Cette valeur détermine la quantité d'informations reçut pendant l'entraînement du modèle. "
      ]
    },
    {
      "cell_type": "code",
      "metadata": {
        "colab": {
          "base_uri": "https://localhost:8080/"
        },
        "id": "f9XWukuauach",
        "outputId": "b898e83f-0ce7-4e7d-db2c-0cfe3872d72d"
      },
      "source": [
        "# Initialisation du modèle\r\n",
        "gbt = GradientBoostingRegressor(verbose=0)\r\n",
        "\r\n",
        "# Entraînement\r\n",
        "gbt.fit(x_train, y_train)"
      ],
      "execution_count": null,
      "outputs": [
        {
          "output_type": "execute_result",
          "data": {
            "text/plain": [
              "GradientBoostingRegressor(alpha=0.9, ccp_alpha=0.0, criterion='friedman_mse',\n",
              "                          init=None, learning_rate=0.1, loss='ls', max_depth=3,\n",
              "                          max_features=None, max_leaf_nodes=None,\n",
              "                          min_impurity_decrease=0.0, min_impurity_split=None,\n",
              "                          min_samples_leaf=1, min_samples_split=2,\n",
              "                          min_weight_fraction_leaf=0.0, n_estimators=100,\n",
              "                          n_iter_no_change=None, presort='deprecated',\n",
              "                          random_state=None, subsample=1.0, tol=0.0001,\n",
              "                          validation_fraction=0.1, verbose=0, warm_start=False)"
            ]
          },
          "metadata": {
            "tags": []
          },
          "execution_count": 19
        }
      ]
    },
    {
      "cell_type": "code",
      "metadata": {
        "colab": {
          "base_uri": "https://localhost:8080/"
        },
        "id": "pAuHnItwua5r",
        "outputId": "98b63116-deaa-4528-b5aa-97f2f3dc8ff2"
      },
      "source": [
        "# Initialisation du modèle\r\n",
        "gbt = GradientBoostingRegressor(verbose=1)\r\n",
        "\r\n",
        "# Entraînement\r\n",
        "gbt.fit(x_train, y_train)"
      ],
      "execution_count": null,
      "outputs": [
        {
          "output_type": "stream",
          "text": [
            "      Iter       Train Loss   Remaining Time \n",
            "         1         353.1898            0.07s\n",
            "         2         288.7597            0.07s\n",
            "         3         236.5598            0.07s\n",
            "         4         194.2694            0.07s\n",
            "         5         160.0013            0.11s\n",
            "         6         132.2246            0.14s\n",
            "         7         109.7037            0.13s\n",
            "         8          91.4464            0.12s\n",
            "         9          76.6400            0.11s\n",
            "        10          64.6273            0.11s\n",
            "        20          18.5014            0.06s\n",
            "        30          10.6313            0.04s\n",
            "        40           8.7436            0.03s\n",
            "        50           7.5238            0.02s\n",
            "        60           6.1122            0.02s\n",
            "        70           4.6590            0.01s\n",
            "        80           3.7382            0.01s\n",
            "        90           3.0799            0.00s\n",
            "       100           2.4786            0.00s\n"
          ],
          "name": "stdout"
        },
        {
          "output_type": "execute_result",
          "data": {
            "text/plain": [
              "GradientBoostingRegressor(alpha=0.9, ccp_alpha=0.0, criterion='friedman_mse',\n",
              "                          init=None, learning_rate=0.1, loss='ls', max_depth=3,\n",
              "                          max_features=None, max_leaf_nodes=None,\n",
              "                          min_impurity_decrease=0.0, min_impurity_split=None,\n",
              "                          min_samples_leaf=1, min_samples_split=2,\n",
              "                          min_weight_fraction_leaf=0.0, n_estimators=100,\n",
              "                          n_iter_no_change=None, presort='deprecated',\n",
              "                          random_state=None, subsample=1.0, tol=0.0001,\n",
              "                          validation_fraction=0.1, verbose=1, warm_start=False)"
            ]
          },
          "metadata": {
            "tags": []
          },
          "execution_count": 20
        }
      ]
    },
    {
      "cell_type": "code",
      "metadata": {
        "colab": {
          "base_uri": "https://localhost:8080/"
        },
        "id": "zrH_rOmtubYt",
        "outputId": "04d278e1-e094-461e-c3cd-d02257bed36a"
      },
      "source": [
        "# Initialisation du modèle\r\n",
        "gbt = GradientBoostingRegressor(verbose=2)\r\n",
        "\r\n",
        "# Entraînement\r\n",
        "gbt.fit(x_train, y_train)"
      ],
      "execution_count": null,
      "outputs": [
        {
          "output_type": "stream",
          "text": [
            "      Iter       Train Loss   Remaining Time \n",
            "         1         353.1898            0.09s\n",
            "         2         288.7597            0.17s\n",
            "         3         236.5598            0.20s\n",
            "         4         194.2694            0.18s\n",
            "         5         160.0013            0.17s\n",
            "         6         132.2246            0.15s\n",
            "         7         109.7037            0.15s\n",
            "         8          91.4464            0.13s\n",
            "         9          76.6400            0.13s\n",
            "        10          64.6273            0.12s\n",
            "        11          54.8844            0.11s\n",
            "        12          46.9731            0.11s\n",
            "        13          40.5523            0.10s\n",
            "        14          35.3340            0.10s\n",
            "        15          31.0772            0.10s\n",
            "        16          27.5728            0.09s\n",
            "        17          24.6709            0.09s\n",
            "        18          22.2087            0.09s\n",
            "        19          20.2071            0.09s\n",
            "        20          18.5014            0.08s\n",
            "        21          17.0121            0.08s\n",
            "        22          15.8052            0.08s\n",
            "        23          14.7512            0.08s\n",
            "        24          13.8217            0.07s\n",
            "        25          13.0907            0.07s\n",
            "        26          12.4289            0.07s\n",
            "        27          11.6966            0.07s\n",
            "        28          11.2395            0.07s\n",
            "        29          10.8983            0.07s\n",
            "        30          10.6313            0.07s\n",
            "        31          10.5066            0.06s\n",
            "        32          10.2848            0.06s\n",
            "        33          10.1931            0.06s\n",
            "        34           9.7760            0.06s\n",
            "        35           9.6112            0.06s\n",
            "        36           9.4666            0.06s\n",
            "        37           9.1735            0.06s\n",
            "        38           9.0713            0.06s\n",
            "        39           9.0170            0.05s\n",
            "        40           8.7436            0.05s\n",
            "        41           8.5090            0.05s\n",
            "        42           8.4043            0.05s\n",
            "        43           8.3148            0.05s\n",
            "        44           8.1278            0.05s\n",
            "        45           8.0564            0.05s\n",
            "        46           8.0258            0.05s\n",
            "        47           7.8462            0.05s\n",
            "        48           7.7457            0.05s\n",
            "        49           7.6690            0.05s\n",
            "        50           7.5238            0.04s\n",
            "        51           7.4417            0.04s\n",
            "        52           7.2391            0.04s\n",
            "        53           7.1195            0.04s\n",
            "        54           7.0059            0.04s\n",
            "        55           6.8993            0.04s\n",
            "        56           6.8327            0.04s\n",
            "        57           6.6107            0.04s\n",
            "        58           6.2807            0.04s\n",
            "        59           6.1520            0.04s\n",
            "        60           6.1122            0.03s\n",
            "        61           5.9325            0.03s\n",
            "        62           5.6784            0.03s\n",
            "        63           5.5411            0.03s\n",
            "        64           5.3348            0.03s\n",
            "        65           5.2998            0.03s\n",
            "        66           5.1266            0.03s\n",
            "        67           4.9889            0.03s\n",
            "        68           4.9568            0.03s\n",
            "        69           4.8027            0.03s\n",
            "        70           4.6590            0.03s\n",
            "        71           4.4161            0.02s\n",
            "        72           4.3396            0.02s\n",
            "        73           4.2892            0.02s\n",
            "        74           4.2614            0.02s\n",
            "        75           4.2354            0.02s\n",
            "        76           4.1212            0.02s\n",
            "        77           4.0256            0.02s\n",
            "        78           3.8308            0.02s\n",
            "        79           3.7587            0.02s\n",
            "        80           3.7382            0.02s\n",
            "        81           3.5765            0.02s\n",
            "        82           3.5173            0.02s\n",
            "        83           3.4769            0.01s\n",
            "        84           3.3876            0.01s\n",
            "        85           3.3067            0.01s\n",
            "        86           3.1954            0.01s\n",
            "        87           3.1515            0.01s\n",
            "        88           3.1186            0.01s\n",
            "        89           3.0965            0.01s\n",
            "        90           3.0799            0.01s\n",
            "        91           3.0155            0.01s\n",
            "        92           2.9461            0.01s\n",
            "        93           2.8997            0.01s\n",
            "        94           2.8730            0.00s\n",
            "        95           2.7992            0.00s\n",
            "        96           2.7160            0.00s\n",
            "        97           2.6647            0.00s\n",
            "        98           2.6513            0.00s\n",
            "        99           2.5259            0.00s\n",
            "       100           2.4786            0.00s\n"
          ],
          "name": "stdout"
        },
        {
          "output_type": "execute_result",
          "data": {
            "text/plain": [
              "GradientBoostingRegressor(alpha=0.9, ccp_alpha=0.0, criterion='friedman_mse',\n",
              "                          init=None, learning_rate=0.1, loss='ls', max_depth=3,\n",
              "                          max_features=None, max_leaf_nodes=None,\n",
              "                          min_impurity_decrease=0.0, min_impurity_split=None,\n",
              "                          min_samples_leaf=1, min_samples_split=2,\n",
              "                          min_weight_fraction_leaf=0.0, n_estimators=100,\n",
              "                          n_iter_no_change=None, presort='deprecated',\n",
              "                          random_state=None, subsample=1.0, tol=0.0001,\n",
              "                          validation_fraction=0.1, verbose=2, warm_start=False)"
            ]
          },
          "metadata": {
            "tags": []
          },
          "execution_count": 21
        }
      ]
    },
    {
      "cell_type": "markdown",
      "metadata": {
        "id": "bYWGu0NGNWX7"
      },
      "source": [
        "### warm_start"
      ]
    },
    {
      "cell_type": "markdown",
      "metadata": {
        "id": "heeWrSzryH99"
      },
      "source": [
        "Booléen qui permet d'entraîner de nouveaux arbres dans un forêt existante. "
      ]
    },
    {
      "cell_type": "code",
      "metadata": {
        "colab": {
          "base_uri": "https://localhost:8080/"
        },
        "id": "E25nKM09ya-U",
        "outputId": "85279acc-8067-456f-b90c-0730eaa5d82b"
      },
      "source": [
        "# Initialisation du modèle\r\n",
        "gbt = GradientBoostingRegressor(n_estimators=2, warm_start=False)\r\n",
        "\r\n",
        "# Entraînement\r\n",
        "gbt.fit(x_train, y_train)\r\n",
        "\r\n",
        "gbt.estimators_"
      ],
      "execution_count": null,
      "outputs": [
        {
          "output_type": "execute_result",
          "data": {
            "text/plain": [
              "array([[DecisionTreeRegressor(ccp_alpha=0.0, criterion='friedman_mse', max_depth=3,\n",
              "                      max_features=None, max_leaf_nodes=None,\n",
              "                      min_impurity_decrease=0.0, min_impurity_split=None,\n",
              "                      min_samples_leaf=1, min_samples_split=2,\n",
              "                      min_weight_fraction_leaf=0.0, presort='deprecated',\n",
              "                      random_state=RandomState(MT19937) at 0x7FC489C49050,\n",
              "                      splitter='best')],\n",
              "       [DecisionTreeRegressor(ccp_alpha=0.0, criterion='friedman_mse', max_depth=3,\n",
              "                      max_features=None, max_leaf_nodes=None,\n",
              "                      min_impurity_decrease=0.0, min_impurity_split=None,\n",
              "                      min_samples_leaf=1, min_samples_split=2,\n",
              "                      min_weight_fraction_leaf=0.0, presort='deprecated',\n",
              "                      random_state=RandomState(MT19937) at 0x7FC489C49050,\n",
              "                      splitter='best')]], dtype=object)"
            ]
          },
          "metadata": {
            "tags": []
          },
          "execution_count": 22
        }
      ]
    },
    {
      "cell_type": "code",
      "metadata": {
        "colab": {
          "base_uri": "https://localhost:8080/"
        },
        "id": "rYHCgpf0yk0v",
        "outputId": "63cfb174-b34f-41e4-f601-225891ec0039"
      },
      "source": [
        "gbt.n_estimators +=2\r\n",
        "\r\n",
        "# Entraînement\r\n",
        "gbt.fit(x_train, y_train)\r\n",
        "\r\n",
        "gbt.estimators_"
      ],
      "execution_count": null,
      "outputs": [
        {
          "output_type": "execute_result",
          "data": {
            "text/plain": [
              "array([[DecisionTreeRegressor(ccp_alpha=0.0, criterion='friedman_mse', max_depth=3,\n",
              "                      max_features=None, max_leaf_nodes=None,\n",
              "                      min_impurity_decrease=0.0, min_impurity_split=None,\n",
              "                      min_samples_leaf=1, min_samples_split=2,\n",
              "                      min_weight_fraction_leaf=0.0, presort='deprecated',\n",
              "                      random_state=RandomState(MT19937) at 0x7FC489C49050,\n",
              "                      splitter='best')],\n",
              "       [DecisionTreeRegressor(ccp_alpha=0.0, criterion='friedman_mse', max_depth=3,\n",
              "                      max_features=None, max_leaf_nodes=None,\n",
              "                      min_impurity_decrease=0.0, min_impurity_split=None,\n",
              "                      min_samples_leaf=1, min_samples_split=2,\n",
              "                      min_weight_fraction_leaf=0.0, presort='deprecated',\n",
              "                      random_state=RandomState(MT19937) at 0x7FC489C49050,\n",
              "                      splitter='best')],\n",
              "       [DecisionTreeRegressor(ccp_alpha=0.0, criterion='friedman_mse', max_depth=3,\n",
              "                      max_features=None, max_leaf_nodes=None,\n",
              "                      min_impurity_decrease=0.0, min_impurity_split=None,\n",
              "                      min_samples_leaf=1, min_samples_split=2,\n",
              "                      min_weight_fraction_leaf=0.0, presort='deprecated',\n",
              "                      random_state=RandomState(MT19937) at 0x7FC489C49050,\n",
              "                      splitter='best')],\n",
              "       [DecisionTreeRegressor(ccp_alpha=0.0, criterion='friedman_mse', max_depth=3,\n",
              "                      max_features=None, max_leaf_nodes=None,\n",
              "                      min_impurity_decrease=0.0, min_impurity_split=None,\n",
              "                      min_samples_leaf=1, min_samples_split=2,\n",
              "                      min_weight_fraction_leaf=0.0, presort='deprecated',\n",
              "                      random_state=RandomState(MT19937) at 0x7FC489C49050,\n",
              "                      splitter='best')]], dtype=object)"
            ]
          },
          "metadata": {
            "tags": []
          },
          "execution_count": 23
        }
      ]
    },
    {
      "cell_type": "code",
      "metadata": {
        "colab": {
          "base_uri": "https://localhost:8080/"
        },
        "id": "7NcV2r-3y6y7",
        "outputId": "5e3f78eb-d2d6-423b-a045-d2982e8d51d7"
      },
      "source": [
        "# Initialisation du modèle\r\n",
        "gbt = GradientBoostingRegressor(n_estimators=2, warm_start=True)\r\n",
        "\r\n",
        "# Entraînement\r\n",
        "gbt.fit(x_train, y_train)\r\n",
        "\r\n",
        "gbt.estimators_"
      ],
      "execution_count": null,
      "outputs": [
        {
          "output_type": "execute_result",
          "data": {
            "text/plain": [
              "array([[DecisionTreeRegressor(ccp_alpha=0.0, criterion='friedman_mse', max_depth=3,\n",
              "                      max_features=None, max_leaf_nodes=None,\n",
              "                      min_impurity_decrease=0.0, min_impurity_split=None,\n",
              "                      min_samples_leaf=1, min_samples_split=2,\n",
              "                      min_weight_fraction_leaf=0.0, presort='deprecated',\n",
              "                      random_state=RandomState(MT19937) at 0x7FC489C49050,\n",
              "                      splitter='best')],\n",
              "       [DecisionTreeRegressor(ccp_alpha=0.0, criterion='friedman_mse', max_depth=3,\n",
              "                      max_features=None, max_leaf_nodes=None,\n",
              "                      min_impurity_decrease=0.0, min_impurity_split=None,\n",
              "                      min_samples_leaf=1, min_samples_split=2,\n",
              "                      min_weight_fraction_leaf=0.0, presort='deprecated',\n",
              "                      random_state=RandomState(MT19937) at 0x7FC489C49050,\n",
              "                      splitter='best')]], dtype=object)"
            ]
          },
          "metadata": {
            "tags": []
          },
          "execution_count": 24
        }
      ]
    },
    {
      "cell_type": "code",
      "metadata": {
        "colab": {
          "base_uri": "https://localhost:8080/"
        },
        "id": "fIrDcUTPy8rZ",
        "outputId": "51458f2d-194f-417f-ba78-675cbe50b4ae"
      },
      "source": [
        "gbt.n_estimators +=2\r\n",
        "\r\n",
        "# Entraînement\r\n",
        "gbt.fit(x_train, y_train)\r\n",
        "\r\n",
        "gbt.estimators_"
      ],
      "execution_count": null,
      "outputs": [
        {
          "output_type": "execute_result",
          "data": {
            "text/plain": [
              "array([[DecisionTreeRegressor(ccp_alpha=0.0, criterion='friedman_mse', max_depth=3,\n",
              "                      max_features=None, max_leaf_nodes=None,\n",
              "                      min_impurity_decrease=0.0, min_impurity_split=None,\n",
              "                      min_samples_leaf=1, min_samples_split=2,\n",
              "                      min_weight_fraction_leaf=0.0, presort='deprecated',\n",
              "                      random_state=RandomState(MT19937) at 0x7FC489C49050,\n",
              "                      splitter='best')],\n",
              "       [DecisionTreeRegressor(ccp_alpha=0.0, criterion='friedman_mse', max_depth=3,\n",
              "                      max_features=None, max_leaf_nodes=None,\n",
              "                      min_impurity_decrease=0.0, min_impurity_split=None,\n",
              "                      min_samples_leaf=1, min_samples_split=2,\n",
              "                      min_weight_fraction_leaf=0.0, presort='deprecated',\n",
              "                      random_state=RandomState(MT19937) at 0x7FC489C49050,\n",
              "                      splitter='best')],\n",
              "       [DecisionTreeRegressor(ccp_alpha=0.0, criterion='friedman_mse', max_depth=3,\n",
              "                      max_features=None, max_leaf_nodes=None,\n",
              "                      min_impurity_decrease=0.0, min_impurity_split=None,\n",
              "                      min_samples_leaf=1, min_samples_split=2,\n",
              "                      min_weight_fraction_leaf=0.0, presort='deprecated',\n",
              "                      random_state=RandomState(MT19937) at 0x7FC489C49050,\n",
              "                      splitter='best')],\n",
              "       [DecisionTreeRegressor(ccp_alpha=0.0, criterion='friedman_mse', max_depth=3,\n",
              "                      max_features=None, max_leaf_nodes=None,\n",
              "                      min_impurity_decrease=0.0, min_impurity_split=None,\n",
              "                      min_samples_leaf=1, min_samples_split=2,\n",
              "                      min_weight_fraction_leaf=0.0, presort='deprecated',\n",
              "                      random_state=RandomState(MT19937) at 0x7FC489C49050,\n",
              "                      splitter='best')]], dtype=object)"
            ]
          },
          "metadata": {
            "tags": []
          },
          "execution_count": 25
        }
      ]
    },
    {
      "cell_type": "markdown",
      "metadata": {
        "id": "csU3V_L4NQ7L"
      },
      "source": [
        "### random_state"
      ]
    },
    {
      "cell_type": "markdown",
      "metadata": {
        "id": "5IoM7PLARIR1"
      },
      "source": [
        "Ce paramètre permet d'initialiser une seed. C'est-à-dire que les nombres générés aléatoirement seront toujours les mêmes. C'est intéressant à utiliser durant les tests où l'on voudra tomber sur les mêmes résultats et être sûr que les changements de performance sont dû au changement des paramètres et non à une initialisation différente."
      ]
    },
    {
      "cell_type": "markdown",
      "metadata": {
        "id": "SyrpFUW_NQ0R"
      },
      "source": [
        "### n_iter_no_change"
      ]
    },
    {
      "cell_type": "markdown",
      "metadata": {
        "id": "7sR3J49K2deU"
      },
      "source": [
        "La valeur de cet hyperparamètre et le nombre d'itérations sans baisse de la performance pour arrêté l'entraînement du modèle. "
      ]
    },
    {
      "cell_type": "markdown",
      "metadata": {
        "id": "JMh-9uaENWVd"
      },
      "source": [
        "### validation_fraction"
      ]
    },
    {
      "cell_type": "markdown",
      "metadata": {
        "id": "l92RhTYG2o1V"
      },
      "source": [
        "Fraction du jeu de données séparé du jeu d'entraînement pour évaluer la forêt dans le cas de l'utilisation de n_iter_no_change."
      ]
    },
    {
      "cell_type": "markdown",
      "metadata": {
        "id": "LAqGlRnbKGN3"
      },
      "source": [
        "### tol"
      ]
    },
    {
      "cell_type": "markdown",
      "metadata": {
        "id": "ZK5xMbKK3fE0"
      },
      "source": [
        "Fixe la valeur à partir de laquelle une augmentation de performance est significative. "
      ]
    },
    {
      "cell_type": "markdown",
      "metadata": {
        "id": "x3aml1-btEi6"
      },
      "source": [
        "## Hyperparamètre des arbres de la forêt"
      ]
    },
    {
      "cell_type": "markdown",
      "metadata": {
        "id": "Eyg5MLAsJ9Vc"
      },
      "source": [
        "### criterion"
      ]
    },
    {
      "cell_type": "markdown",
      "metadata": {
        "id": "FVbKnXSEQLD_"
      },
      "source": [
        "Le paramètre *criterion* est la fonction de coût, c'est-à-dire le critère de performance que l'on choisit pour construire notre modèle et mesurer sa qualité. \r\n",
        "\r\n",
        "On a le choix entre trois options : le mse, le friedman_mse et le mae."
      ]
    },
    {
      "cell_type": "markdown",
      "metadata": {
        "id": "RnnII1ZiKGW1"
      },
      "source": [
        "### min_samples_split"
      ]
    },
    {
      "cell_type": "markdown",
      "metadata": {
        "id": "pGDrV6nFQXZt"
      },
      "source": [
        "Le min sample split est le nombre minimal d'exemples que le modèle doit avoir pour pouvoir faire une nouvelle séparation. \r\n",
        "\r\n",
        "Vous avez le choix de remplir ce paramètre avec un entier (int) ou un flottant (float). \r\n",
        "\r\n",
        "Si vous utilisez un entier, le modèle le comprendra comme le nombre minimal d'exemples que le noeud doit avoir pour pouvoir créer une nouvelle séparation. \r\n",
        "\r\n",
        "Si vous utiliser un flottant, le modèle le comprendra comme la fraction de données que le noeud doit avoir pour pouvoir créer une nouvelle séparation.\r\n",
        "\r\n",
        "Plus ce paramètre sera grand plus votre arbre sera simple et plus il sera généralisable."
      ]
    },
    {
      "cell_type": "markdown",
      "metadata": {
        "id": "YY8D7N9LKGUc"
      },
      "source": [
        "### min_samples_leaf"
      ]
    },
    {
      "cell_type": "markdown",
      "metadata": {
        "id": "UiOMBi2XQfyk"
      },
      "source": [
        "Le min_sample_leaf est le minimum d'exemples requis pour créer une feuille.\r\n",
        "\r\n",
        "Seules les feuilles ayant ce minimum d'exemples seront conservées. Pour ce paramètre aussi vous pouvez spécifier un nombre entier ou un nombre flottant.\r\n",
        "\r\n",
        "Plus ce paramètre sera bas, plus votre modèle pourra faire du cas par cas et aura du mal à généraliser."
      ]
    },
    {
      "cell_type": "markdown",
      "metadata": {
        "id": "Jg2-XLvMQiqW"
      },
      "source": [
        "Plus ce paramètre est petit, plus le modèle sera performant sur le jeu d'entraînement, mais plus vous dégraderez les performances sur le jeu de test. \r\n",
        "\r\n",
        "Plus ce paramètre est élevé, plus le modèle sera simple et généralisable. Cette meilleure généralisation augmentera les performances du modèle sur le jeu de test.\r\n",
        "\r\n",
        "Attention, si vous augmentez trop ce paramètre, vous dégraderez aussi les performances global du modèle. Tester plusieurs valeurs afin de maximiser vos performances sur votre jeu de tests."
      ]
    },
    {
      "cell_type": "markdown",
      "metadata": {
        "id": "ulvsNm74KGRj"
      },
      "source": [
        "### min_weight_fraction_leaf"
      ]
    },
    {
      "cell_type": "markdown",
      "metadata": {
        "id": "RjMU52-oQlcb"
      },
      "source": [
        "Dans l'entraînement d'un modèle d'arbre de décision, on peut ajouter un vecteur de poids qui donne une importance différente aux observations de notre jeu de données.\r\n",
        "\r\n",
        "Si vous avez donné un vecteur de poids avec votre jeu de données, ce paramètre vous permet de spécifier le minimum de poids de votre feuille pour sa création. Si vous n'avez pas ajouté de vecteur de poids pour l'entraînement de votre modèle, ce paramètre a la même utilité que le paramètre min_sample_leaf.\r\n",
        "\r\n",
        "Pour ce paramètre aussi vous pouvez spécifier un nombre entier ou un nombre flottant."
      ]
    },
    {
      "cell_type": "markdown",
      "metadata": {
        "id": "kZA0PJv4KVuL"
      },
      "source": [
        "### max_depth"
      ]
    },
    {
      "cell_type": "markdown",
      "metadata": {
        "id": "c_5kLzZZQrfz"
      },
      "source": [
        "La profondeur de l'arbre est un des paramètres les plus important à définir. \r\n",
        "\r\n",
        "Ce paramètre va déterminer la longueur maximum de votre arbre. Vous pouvez aussi spécifier None pour ce paramètre, dans ce cas durant l'entraînement l'arbre va s'approfondir jusqu'à obtenir les feuilles les plus pures possible. \r\n",
        "\r\n",
        "Je ne vous conseille pas de laisser ce paramètre à *None*, car plus votre arbre sera profond plus il sera complexe et plus il souffrira du sur-entraînement.\r\n",
        "\r\n"
      ]
    },
    {
      "cell_type": "markdown",
      "metadata": {
        "id": "wD0xbrBDQvKP"
      },
      "source": [
        "Plus l'arbre est profond, plus il sera performant sur le jeu d'entraînement, mais plus vous dégraderez les performances sur le jeu de test. \r\n",
        "\r\n",
        "Plus la profondeur est réduite, plus le modèle sera simple et généralisable. Cette meilleure généralisation augmentera les performances du modèle sur le jeu de test.\r\n",
        "\r\n",
        "Attention, si vous réduisez trop la profondeur de l'arbre, vous dégraderez aussi les performances global du modèle. Tester plusieurs profondeurs afin de maximiser vos performances sur votre jeu de tests."
      ]
    },
    {
      "cell_type": "markdown",
      "metadata": {
        "id": "Yf1JEdsjKVr-"
      },
      "source": [
        "### min_impurity_decrease"
      ]
    },
    {
      "cell_type": "markdown",
      "metadata": {
        "id": "c29DITBqQzwX"
      },
      "source": [
        "Ce paramètre permet de contrôler si le gain de pureté est suffisant pour continuer la construction de l'arbre dans cette voie. \r\n",
        "\r\n",
        "Ce paramètre peut être intéressant, car il est possible d'avoir des règles supplémentaires qui complexifie le modèle pour ne faire gagner que peu de pureté.\r\n",
        "\r\n",
        "Plus la valeur de ce paramètre est bas plus l'arbre sera complexe et moins il sera généralisable.\r\n",
        "\r\n",
        "Plus la valeur de ce paramètre est élevée plus l'arbre sera simple et généralisable. "
      ]
    },
    {
      "cell_type": "markdown",
      "metadata": {
        "id": "1eCP4eKCKVpi"
      },
      "source": [
        "### min_impurity_split"
      ]
    },
    {
      "cell_type": "markdown",
      "metadata": {
        "id": "BDRatKCRQ2qp"
      },
      "source": [
        "Ce paramètre n'est plus maintenu ne l'utilisait pas préférez utiliser min_impurity_decrease."
      ]
    },
    {
      "cell_type": "markdown",
      "metadata": {
        "id": "vLjVlOSkNQ2i"
      },
      "source": [
        "### max_features"
      ]
    },
    {
      "cell_type": "markdown",
      "metadata": {
        "id": "jygE9iLlRs2v"
      },
      "source": [
        "Le paramètre max_features contrôle le nombre de variables à tester pour trouver la meilleure séparation.\r\n",
        "\r\n",
        "Vous pouvez indiquer un entier qui déterminera le nombre de variables à tester.\r\n",
        "\r\n",
        "Vous pouvez indiquer un flottant qui sera la proportion de variables à tester parmi les variables du jeu de données.\r\n",
        "\r\n",
        "Il y a une option auto qui effectue un test pour chaque variable de votre jeu de données, cette option est équivalente à choisir None. \r\n",
        "\r\n",
        "Il y a une option sqrt qui teste la racine carré du nombre de variables du jeu de données.\r\n",
        "\r\n",
        "Il y a une option log2 qui teste le log2 du nombre de variables de votre jeu de données.\r\n",
        "\r\n",
        "À noter que même si vous spécifiez un maximum de variable à tester l'algorithme peut le dépasser dans le cas où il ne trouve pas de variable valide pour séparer le jeu de données dans le nombre de tests imparti. \r\n",
        "\r\n",
        "\r\n",
        "C'est un paramètre à tuner si vous avez des problèmes de performance et que vous voulez réduire le temps de calcul. Si vous n'avez pas de problème de performance, je vous recommande de laisser None ou auto."
      ]
    },
    {
      "cell_type": "markdown",
      "metadata": {
        "id": "Ca4-Dzb-NWaU"
      },
      "source": [
        "### max_leaf_nodes"
      ]
    },
    {
      "cell_type": "markdown",
      "metadata": {
        "id": "3gdyYXZRRvbq"
      },
      "source": [
        "Ce paramètre vous permet de choisir le nombre maximum de feuilles de votre arbre, il peut être intéressant de fixer ce nombre pour contrôler la complexité de l'arbre. Il garde bien sûr les meilleures feuilles disponibles."
      ]
    },
    {
      "cell_type": "markdown",
      "metadata": {
        "id": "k_H4PsdyRv7M"
      },
      "source": [
        "Plus ce paramètre est grand, plus le modèle sera performant sur le jeu d'entraînement, mais plus vous dégraderez les performances sur le jeu de test. \r\n",
        "\r\n",
        "Plus ce paramètre sera petit, plus le modèle sera simple et généralisable. Cette meilleure généralisation augmentera les performances du modèle sur le jeu de test.\r\n",
        "\r\n",
        "Attention, si vous réduisez trop ce paramètre, vous dégraderez aussi les performances global du modèle. Tester plusieurs valeurs afin de maximiser vos performances sur votre jeu de tests."
      ]
    },
    {
      "cell_type": "markdown",
      "metadata": {
        "id": "9iFEl6FzNnhp"
      },
      "source": [
        "### ccp_alpha"
      ]
    },
    {
      "cell_type": "markdown",
      "metadata": {
        "id": "gAN9Di4LRzCo"
      },
      "source": [
        "Ce paramètre initialise le *alpha* de l'algorithme du minimal Cost-Complexity Pruning (CCP).\r\n",
        "\r\n",
        "Le CCP est un algorithme qui permet de supprimer des parties de l'arbre qui ajoute de la complexité au modèle sans apporter beaucoup de valeur supplémentaire. Le but de cette suppression est de rendre l'algorithme plus simple et plus généralisable tout en conservant une performance acceptable.\r\n",
        "\r\n",
        "Le paramètre alpha est un nombre positif. Plus le paramètre est élevé plus le modèle sera simplifié. \r\n",
        "\r\n",
        "Attention si *alpha* est trop élevé votre modèle deviendra trop simple et cela dégradera la performance de votre modèle. "
      ]
    },
    {
      "cell_type": "markdown",
      "metadata": {
        "id": "TKkRfNCsNqHu"
      },
      "source": [
        "# Attributs"
      ]
    },
    {
      "cell_type": "markdown",
      "metadata": {
        "id": "_nen6v4-Uotd"
      },
      "source": [
        "Les attributs sont les différentes informations que l'on peut obtenir du modèle une fois qu'il est entraîné."
      ]
    },
    {
      "cell_type": "markdown",
      "metadata": {
        "id": "mKxqyWyiNtfZ"
      },
      "source": [
        "## features_importances"
      ]
    },
    {
      "cell_type": "markdown",
      "metadata": {
        "id": "ZvlDCeUdUzPn"
      },
      "source": [
        "Permet de visualiser lesquelles de vos variables sont les plus influentes dans votre modèle. "
      ]
    },
    {
      "cell_type": "code",
      "metadata": {
        "colab": {
          "base_uri": "https://localhost:8080/"
        },
        "id": "fGG6vTkYNmeq",
        "outputId": "455b40ab-bd13-4e87-fb28-a4839e12ff72"
      },
      "source": [
        "gbt.feature_importances_"
      ],
      "execution_count": null,
      "outputs": [
        {
          "output_type": "execute_result",
          "data": {
            "text/plain": [
              "array([1.])"
            ]
          },
          "metadata": {
            "tags": []
          },
          "execution_count": 26
        }
      ]
    },
    {
      "cell_type": "markdown",
      "metadata": {
        "id": "8tYRc9fANvxp"
      },
      "source": [
        "## oob_improvement"
      ]
    },
    {
      "cell_type": "markdown",
      "metadata": {
        "id": "rNaa8VV9WISi"
      },
      "source": [
        "Seulement disponible si sub_sample est présent. \r\n",
        "\r\n",
        "Cet attribut calcul la progresion de l'erreur du modèle sur le jeu de données gardé pour le test."
      ]
    },
    {
      "cell_type": "code",
      "metadata": {
        "colab": {
          "base_uri": "https://localhost:8080/"
        },
        "id": "AtDXnAX5Db7T",
        "outputId": "ff9b82d8-b742-4966-eb25-74bce1fe04da"
      },
      "source": [
        "# Initialisation du modèle\r\n",
        "gbt = GradientBoostingRegressor(subsample=0.1)\r\n",
        "\r\n",
        "# Entraînement\r\n",
        "gbt.fit(x_train, y_train)\r\n",
        "\r\n",
        "gbt.oob_improvement_"
      ],
      "execution_count": null,
      "outputs": [
        {
          "output_type": "execute_result",
          "data": {
            "text/plain": [
              "array([ 16.38739238,  58.61859904,  28.46926619,   9.31831776,\n",
              "        43.26600233,  25.40376277,   4.44436625,   1.69394692,\n",
              "       -17.54444937,   0.20735683,  20.55893591,  22.90516124,\n",
              "         2.08012178,  18.56043833,   9.51965549,   2.59096298,\n",
              "        -1.34446153,   5.10091904,   1.41927218,   7.80948421,\n",
              "         4.35989941,   1.28750474,   0.6750682 ,   1.02004235,\n",
              "        -2.68429611,   5.43715441,   1.19103484,   4.21918313,\n",
              "        -5.65679743,  -0.20575999,   3.19166386,  -4.66374459,\n",
              "         3.84036983,   0.96777493,   1.8371787 ,   4.86307559,\n",
              "        -0.57658432,   1.09921126,  -0.49785886,   0.64502552,\n",
              "        -6.22346289,  -0.66488444,  -4.53045745,  -1.78506284,\n",
              "         0.13272423,   0.5347285 ,   0.65311796,  -2.19790184,\n",
              "         1.51020812,  -0.70280971,  -0.91499888,  -1.23538673,\n",
              "        -5.42272584,  -0.71885054,  -0.661725  ,   0.15903414,\n",
              "        -0.61045589,  -1.70508556,  -0.37014869,  -1.1342509 ,\n",
              "         0.25378221,  -2.27632205,  -1.26449453,  -0.75217122,\n",
              "         0.58905766,  -0.80555116,   0.76189002,  -1.28399235,\n",
              "        -0.30553915,  -2.40793062,  -3.13622812,  -2.36207148,\n",
              "        -2.62650689,  -0.23980157,   4.86609058,  -3.05075202,\n",
              "        -0.56937453,  -1.73460287,  -2.39534573,   0.36923363,\n",
              "         0.48657313,  -0.66990293,   0.21625863,  -1.65620825,\n",
              "        -0.23999936,   1.54803201,   0.75107518,  -0.56513366,\n",
              "        -0.81237678,  -4.02374548,  -0.84303922,  -0.35756163,\n",
              "        -0.86981356,   0.52092497,  -3.4912196 ,  -0.90944328,\n",
              "        -0.6198589 ,   1.84850425,  -1.50405875,   0.32720817])"
            ]
          },
          "metadata": {
            "tags": []
          },
          "execution_count": 28
        }
      ]
    },
    {
      "cell_type": "markdown",
      "metadata": {
        "id": "YHYS9hs-NyS9"
      },
      "source": [
        "## train_score"
      ]
    },
    {
      "cell_type": "markdown",
      "metadata": {
        "id": "HUlTUwQzYAcS"
      },
      "source": [
        "L'attribut train_score est le calcul de l'erreur du modèle sur les données utilisées pour l'entraînement des modèles tout au long de la création de la forêt. "
      ]
    },
    {
      "cell_type": "code",
      "metadata": {
        "colab": {
          "base_uri": "https://localhost:8080/"
        },
        "id": "usHrQnkyNzuH",
        "outputId": "e1691da2-df44-427f-d0aa-5224e7441712"
      },
      "source": [
        "gbt.train_score_"
      ],
      "execution_count": null,
      "outputs": [
        {
          "output_type": "execute_result",
          "data": {
            "text/plain": [
              "array([353.1898141 , 288.75965426, 236.55976251, 194.26944252])"
            ]
          },
          "metadata": {
            "tags": []
          },
          "execution_count": 27
        }
      ]
    },
    {
      "cell_type": "markdown",
      "metadata": {
        "id": "I5X_XcJeNz8h"
      },
      "source": [
        "## loss"
      ]
    },
    {
      "cell_type": "code",
      "metadata": {
        "colab": {
          "base_uri": "https://localhost:8080/"
        },
        "id": "aQEkmI9GN2YP",
        "outputId": "c8953002-966a-46e6-aae5-127f4ca57998"
      },
      "source": [
        "gbt.loss_"
      ],
      "execution_count": null,
      "outputs": [
        {
          "output_type": "execute_result",
          "data": {
            "text/plain": [
              "<sklearn.ensemble._gb_losses.LeastSquaresError at 0x7fc4682a9690>"
            ]
          },
          "metadata": {
            "tags": []
          },
          "execution_count": 30
        }
      ]
    },
    {
      "cell_type": "markdown",
      "metadata": {
        "id": "bmBoh2r_N2lM"
      },
      "source": [
        "## estimators"
      ]
    },
    {
      "cell_type": "markdown",
      "metadata": {
        "id": "xla2n7wiYewj"
      },
      "source": [
        "L'attribut renvoie une liste des tous les modèles d'arbres de la forêt."
      ]
    },
    {
      "cell_type": "code",
      "metadata": {
        "colab": {
          "base_uri": "https://localhost:8080/"
        },
        "id": "I95zXmZYN4Nu",
        "outputId": "9ade91e2-f33e-4a11-b0e7-f61eb102c6db"
      },
      "source": [
        "gbt.estimators_"
      ],
      "execution_count": null,
      "outputs": [
        {
          "output_type": "execute_result",
          "data": {
            "text/plain": [
              "array([[DecisionTreeRegressor(ccp_alpha=0.0, criterion='friedman_mse', max_depth=3,\n",
              "                      max_features=None, max_leaf_nodes=None,\n",
              "                      min_impurity_decrease=0.0, min_impurity_split=None,\n",
              "                      min_samples_leaf=1, min_samples_split=2,\n",
              "                      min_weight_fraction_leaf=0.0, presort='deprecated',\n",
              "                      random_state=RandomState(MT19937) at 0x7FC489C49050,\n",
              "                      splitter='best')],\n",
              "       [DecisionTreeRegressor(ccp_alpha=0.0, criterion='friedman_mse', max_depth=3,\n",
              "                      max_features=None, max_leaf_nodes=None,\n",
              "                      min_impurity_decrease=0.0, min_impurity_split=None,\n",
              "                      min_samples_leaf=1, min_samples_split=2,\n",
              "                      min_weight_fraction_leaf=0.0, presort='deprecated',\n",
              "                      random_state=RandomState(MT19937) at 0x7FC489C49050,\n",
              "                      splitter='best')],\n",
              "       [DecisionTreeRegressor(ccp_alpha=0.0, criterion='friedman_mse', max_depth=3,\n",
              "                      max_features=None, max_leaf_nodes=None,\n",
              "                      min_impurity_decrease=0.0, min_impurity_split=None,\n",
              "                      min_samples_leaf=1, min_samples_split=2,\n",
              "                      min_weight_fraction_leaf=0.0, presort='deprecated',\n",
              "                      random_state=RandomState(MT19937) at 0x7FC489C49050,\n",
              "                      splitter='best')],\n",
              "       [DecisionTreeRegressor(ccp_alpha=0.0, criterion='friedman_mse', max_depth=3,\n",
              "                      max_features=None, max_leaf_nodes=None,\n",
              "                      min_impurity_decrease=0.0, min_impurity_split=None,\n",
              "                      min_samples_leaf=1, min_samples_split=2,\n",
              "                      min_weight_fraction_leaf=0.0, presort='deprecated',\n",
              "                      random_state=RandomState(MT19937) at 0x7FC489C49050,\n",
              "                      splitter='best')],\n",
              "       [DecisionTreeRegressor(ccp_alpha=0.0, criterion='friedman_mse', max_depth=3,\n",
              "                      max_features=None, max_leaf_nodes=None,\n",
              "                      min_impurity_decrease=0.0, min_impurity_split=None,\n",
              "                      min_samples_leaf=1, min_samples_split=2,\n",
              "                      min_weight_fraction_leaf=0.0, presort='deprecated',\n",
              "                      random_state=RandomState(MT19937) at 0x7FC489C49050,\n",
              "                      splitter='best')],\n",
              "       [DecisionTreeRegressor(ccp_alpha=0.0, criterion='friedman_mse', max_depth=3,\n",
              "                      max_features=None, max_leaf_nodes=None,\n",
              "                      min_impurity_decrease=0.0, min_impurity_split=None,\n",
              "                      min_samples_leaf=1, min_samples_split=2,\n",
              "                      min_weight_fraction_leaf=0.0, presort='deprecated',\n",
              "                      random_state=RandomState(MT19937) at 0x7FC489C49050,\n",
              "                      splitter='best')],\n",
              "       [DecisionTreeRegressor(ccp_alpha=0.0, criterion='friedman_mse', max_depth=3,\n",
              "                      max_features=None, max_leaf_nodes=None,\n",
              "                      min_impurity_decrease=0.0, min_impurity_split=None,\n",
              "                      min_samples_leaf=1, min_samples_split=2,\n",
              "                      min_weight_fraction_leaf=0.0, presort='deprecated',\n",
              "                      random_state=RandomState(MT19937) at 0x7FC489C49050,\n",
              "                      splitter='best')],\n",
              "       [DecisionTreeRegressor(ccp_alpha=0.0, criterion='friedman_mse', max_depth=3,\n",
              "                      max_features=None, max_leaf_nodes=None,\n",
              "                      min_impurity_decrease=0.0, min_impurity_split=None,\n",
              "                      min_samples_leaf=1, min_samples_split=2,\n",
              "                      min_weight_fraction_leaf=0.0, presort='deprecated',\n",
              "                      random_state=RandomState(MT19937) at 0x7FC489C49050,\n",
              "                      splitter='best')],\n",
              "       [DecisionTreeRegressor(ccp_alpha=0.0, criterion='friedman_mse', max_depth=3,\n",
              "                      max_features=None, max_leaf_nodes=None,\n",
              "                      min_impurity_decrease=0.0, min_impurity_split=None,\n",
              "                      min_samples_leaf=1, min_samples_split=2,\n",
              "                      min_weight_fraction_leaf=0.0, presort='deprecated',\n",
              "                      random_state=RandomState(MT19937) at 0x7FC489C49050,\n",
              "                      splitter='best')],\n",
              "       [DecisionTreeRegressor(ccp_alpha=0.0, criterion='friedman_mse', max_depth=3,\n",
              "                      max_features=None, max_leaf_nodes=None,\n",
              "                      min_impurity_decrease=0.0, min_impurity_split=None,\n",
              "                      min_samples_leaf=1, min_samples_split=2,\n",
              "                      min_weight_fraction_leaf=0.0, presort='deprecated',\n",
              "                      random_state=RandomState(MT19937) at 0x7FC489C49050,\n",
              "                      splitter='best')],\n",
              "       [DecisionTreeRegressor(ccp_alpha=0.0, criterion='friedman_mse', max_depth=3,\n",
              "                      max_features=None, max_leaf_nodes=None,\n",
              "                      min_impurity_decrease=0.0, min_impurity_split=None,\n",
              "                      min_samples_leaf=1, min_samples_split=2,\n",
              "                      min_weight_fraction_leaf=0.0, presort='deprecated',\n",
              "                      random_state=RandomState(MT19937) at 0x7FC489C49050,\n",
              "                      splitter='best')],\n",
              "       [DecisionTreeRegressor(ccp_alpha=0.0, criterion='friedman_mse', max_depth=3,\n",
              "                      max_features=None, max_leaf_nodes=None,\n",
              "                      min_impurity_decrease=0.0, min_impurity_split=None,\n",
              "                      min_samples_leaf=1, min_samples_split=2,\n",
              "                      min_weight_fraction_leaf=0.0, presort='deprecated',\n",
              "                      random_state=RandomState(MT19937) at 0x7FC489C49050,\n",
              "                      splitter='best')],\n",
              "       [DecisionTreeRegressor(ccp_alpha=0.0, criterion='friedman_mse', max_depth=3,\n",
              "                      max_features=None, max_leaf_nodes=None,\n",
              "                      min_impurity_decrease=0.0, min_impurity_split=None,\n",
              "                      min_samples_leaf=1, min_samples_split=2,\n",
              "                      min_weight_fraction_leaf=0.0, presort='deprecated',\n",
              "                      random_state=RandomState(MT19937) at 0x7FC489C49050,\n",
              "                      splitter='best')],\n",
              "       [DecisionTreeRegressor(ccp_alpha=0.0, criterion='friedman_mse', max_depth=3,\n",
              "                      max_features=None, max_leaf_nodes=None,\n",
              "                      min_impurity_decrease=0.0, min_impurity_split=None,\n",
              "                      min_samples_leaf=1, min_samples_split=2,\n",
              "                      min_weight_fraction_leaf=0.0, presort='deprecated',\n",
              "                      random_state=RandomState(MT19937) at 0x7FC489C49050,\n",
              "                      splitter='best')],\n",
              "       [DecisionTreeRegressor(ccp_alpha=0.0, criterion='friedman_mse', max_depth=3,\n",
              "                      max_features=None, max_leaf_nodes=None,\n",
              "                      min_impurity_decrease=0.0, min_impurity_split=None,\n",
              "                      min_samples_leaf=1, min_samples_split=2,\n",
              "                      min_weight_fraction_leaf=0.0, presort='deprecated',\n",
              "                      random_state=RandomState(MT19937) at 0x7FC489C49050,\n",
              "                      splitter='best')],\n",
              "       [DecisionTreeRegressor(ccp_alpha=0.0, criterion='friedman_mse', max_depth=3,\n",
              "                      max_features=None, max_leaf_nodes=None,\n",
              "                      min_impurity_decrease=0.0, min_impurity_split=None,\n",
              "                      min_samples_leaf=1, min_samples_split=2,\n",
              "                      min_weight_fraction_leaf=0.0, presort='deprecated',\n",
              "                      random_state=RandomState(MT19937) at 0x7FC489C49050,\n",
              "                      splitter='best')],\n",
              "       [DecisionTreeRegressor(ccp_alpha=0.0, criterion='friedman_mse', max_depth=3,\n",
              "                      max_features=None, max_leaf_nodes=None,\n",
              "                      min_impurity_decrease=0.0, min_impurity_split=None,\n",
              "                      min_samples_leaf=1, min_samples_split=2,\n",
              "                      min_weight_fraction_leaf=0.0, presort='deprecated',\n",
              "                      random_state=RandomState(MT19937) at 0x7FC489C49050,\n",
              "                      splitter='best')],\n",
              "       [DecisionTreeRegressor(ccp_alpha=0.0, criterion='friedman_mse', max_depth=3,\n",
              "                      max_features=None, max_leaf_nodes=None,\n",
              "                      min_impurity_decrease=0.0, min_impurity_split=None,\n",
              "                      min_samples_leaf=1, min_samples_split=2,\n",
              "                      min_weight_fraction_leaf=0.0, presort='deprecated',\n",
              "                      random_state=RandomState(MT19937) at 0x7FC489C49050,\n",
              "                      splitter='best')],\n",
              "       [DecisionTreeRegressor(ccp_alpha=0.0, criterion='friedman_mse', max_depth=3,\n",
              "                      max_features=None, max_leaf_nodes=None,\n",
              "                      min_impurity_decrease=0.0, min_impurity_split=None,\n",
              "                      min_samples_leaf=1, min_samples_split=2,\n",
              "                      min_weight_fraction_leaf=0.0, presort='deprecated',\n",
              "                      random_state=RandomState(MT19937) at 0x7FC489C49050,\n",
              "                      splitter='best')],\n",
              "       [DecisionTreeRegressor(ccp_alpha=0.0, criterion='friedman_mse', max_depth=3,\n",
              "                      max_features=None, max_leaf_nodes=None,\n",
              "                      min_impurity_decrease=0.0, min_impurity_split=None,\n",
              "                      min_samples_leaf=1, min_samples_split=2,\n",
              "                      min_weight_fraction_leaf=0.0, presort='deprecated',\n",
              "                      random_state=RandomState(MT19937) at 0x7FC489C49050,\n",
              "                      splitter='best')],\n",
              "       [DecisionTreeRegressor(ccp_alpha=0.0, criterion='friedman_mse', max_depth=3,\n",
              "                      max_features=None, max_leaf_nodes=None,\n",
              "                      min_impurity_decrease=0.0, min_impurity_split=None,\n",
              "                      min_samples_leaf=1, min_samples_split=2,\n",
              "                      min_weight_fraction_leaf=0.0, presort='deprecated',\n",
              "                      random_state=RandomState(MT19937) at 0x7FC489C49050,\n",
              "                      splitter='best')],\n",
              "       [DecisionTreeRegressor(ccp_alpha=0.0, criterion='friedman_mse', max_depth=3,\n",
              "                      max_features=None, max_leaf_nodes=None,\n",
              "                      min_impurity_decrease=0.0, min_impurity_split=None,\n",
              "                      min_samples_leaf=1, min_samples_split=2,\n",
              "                      min_weight_fraction_leaf=0.0, presort='deprecated',\n",
              "                      random_state=RandomState(MT19937) at 0x7FC489C49050,\n",
              "                      splitter='best')],\n",
              "       [DecisionTreeRegressor(ccp_alpha=0.0, criterion='friedman_mse', max_depth=3,\n",
              "                      max_features=None, max_leaf_nodes=None,\n",
              "                      min_impurity_decrease=0.0, min_impurity_split=None,\n",
              "                      min_samples_leaf=1, min_samples_split=2,\n",
              "                      min_weight_fraction_leaf=0.0, presort='deprecated',\n",
              "                      random_state=RandomState(MT19937) at 0x7FC489C49050,\n",
              "                      splitter='best')],\n",
              "       [DecisionTreeRegressor(ccp_alpha=0.0, criterion='friedman_mse', max_depth=3,\n",
              "                      max_features=None, max_leaf_nodes=None,\n",
              "                      min_impurity_decrease=0.0, min_impurity_split=None,\n",
              "                      min_samples_leaf=1, min_samples_split=2,\n",
              "                      min_weight_fraction_leaf=0.0, presort='deprecated',\n",
              "                      random_state=RandomState(MT19937) at 0x7FC489C49050,\n",
              "                      splitter='best')],\n",
              "       [DecisionTreeRegressor(ccp_alpha=0.0, criterion='friedman_mse', max_depth=3,\n",
              "                      max_features=None, max_leaf_nodes=None,\n",
              "                      min_impurity_decrease=0.0, min_impurity_split=None,\n",
              "                      min_samples_leaf=1, min_samples_split=2,\n",
              "                      min_weight_fraction_leaf=0.0, presort='deprecated',\n",
              "                      random_state=RandomState(MT19937) at 0x7FC489C49050,\n",
              "                      splitter='best')],\n",
              "       [DecisionTreeRegressor(ccp_alpha=0.0, criterion='friedman_mse', max_depth=3,\n",
              "                      max_features=None, max_leaf_nodes=None,\n",
              "                      min_impurity_decrease=0.0, min_impurity_split=None,\n",
              "                      min_samples_leaf=1, min_samples_split=2,\n",
              "                      min_weight_fraction_leaf=0.0, presort='deprecated',\n",
              "                      random_state=RandomState(MT19937) at 0x7FC489C49050,\n",
              "                      splitter='best')],\n",
              "       [DecisionTreeRegressor(ccp_alpha=0.0, criterion='friedman_mse', max_depth=3,\n",
              "                      max_features=None, max_leaf_nodes=None,\n",
              "                      min_impurity_decrease=0.0, min_impurity_split=None,\n",
              "                      min_samples_leaf=1, min_samples_split=2,\n",
              "                      min_weight_fraction_leaf=0.0, presort='deprecated',\n",
              "                      random_state=RandomState(MT19937) at 0x7FC489C49050,\n",
              "                      splitter='best')],\n",
              "       [DecisionTreeRegressor(ccp_alpha=0.0, criterion='friedman_mse', max_depth=3,\n",
              "                      max_features=None, max_leaf_nodes=None,\n",
              "                      min_impurity_decrease=0.0, min_impurity_split=None,\n",
              "                      min_samples_leaf=1, min_samples_split=2,\n",
              "                      min_weight_fraction_leaf=0.0, presort='deprecated',\n",
              "                      random_state=RandomState(MT19937) at 0x7FC489C49050,\n",
              "                      splitter='best')],\n",
              "       [DecisionTreeRegressor(ccp_alpha=0.0, criterion='friedman_mse', max_depth=3,\n",
              "                      max_features=None, max_leaf_nodes=None,\n",
              "                      min_impurity_decrease=0.0, min_impurity_split=None,\n",
              "                      min_samples_leaf=1, min_samples_split=2,\n",
              "                      min_weight_fraction_leaf=0.0, presort='deprecated',\n",
              "                      random_state=RandomState(MT19937) at 0x7FC489C49050,\n",
              "                      splitter='best')],\n",
              "       [DecisionTreeRegressor(ccp_alpha=0.0, criterion='friedman_mse', max_depth=3,\n",
              "                      max_features=None, max_leaf_nodes=None,\n",
              "                      min_impurity_decrease=0.0, min_impurity_split=None,\n",
              "                      min_samples_leaf=1, min_samples_split=2,\n",
              "                      min_weight_fraction_leaf=0.0, presort='deprecated',\n",
              "                      random_state=RandomState(MT19937) at 0x7FC489C49050,\n",
              "                      splitter='best')],\n",
              "       [DecisionTreeRegressor(ccp_alpha=0.0, criterion='friedman_mse', max_depth=3,\n",
              "                      max_features=None, max_leaf_nodes=None,\n",
              "                      min_impurity_decrease=0.0, min_impurity_split=None,\n",
              "                      min_samples_leaf=1, min_samples_split=2,\n",
              "                      min_weight_fraction_leaf=0.0, presort='deprecated',\n",
              "                      random_state=RandomState(MT19937) at 0x7FC489C49050,\n",
              "                      splitter='best')],\n",
              "       [DecisionTreeRegressor(ccp_alpha=0.0, criterion='friedman_mse', max_depth=3,\n",
              "                      max_features=None, max_leaf_nodes=None,\n",
              "                      min_impurity_decrease=0.0, min_impurity_split=None,\n",
              "                      min_samples_leaf=1, min_samples_split=2,\n",
              "                      min_weight_fraction_leaf=0.0, presort='deprecated',\n",
              "                      random_state=RandomState(MT19937) at 0x7FC489C49050,\n",
              "                      splitter='best')],\n",
              "       [DecisionTreeRegressor(ccp_alpha=0.0, criterion='friedman_mse', max_depth=3,\n",
              "                      max_features=None, max_leaf_nodes=None,\n",
              "                      min_impurity_decrease=0.0, min_impurity_split=None,\n",
              "                      min_samples_leaf=1, min_samples_split=2,\n",
              "                      min_weight_fraction_leaf=0.0, presort='deprecated',\n",
              "                      random_state=RandomState(MT19937) at 0x7FC489C49050,\n",
              "                      splitter='best')],\n",
              "       [DecisionTreeRegressor(ccp_alpha=0.0, criterion='friedman_mse', max_depth=3,\n",
              "                      max_features=None, max_leaf_nodes=None,\n",
              "                      min_impurity_decrease=0.0, min_impurity_split=None,\n",
              "                      min_samples_leaf=1, min_samples_split=2,\n",
              "                      min_weight_fraction_leaf=0.0, presort='deprecated',\n",
              "                      random_state=RandomState(MT19937) at 0x7FC489C49050,\n",
              "                      splitter='best')],\n",
              "       [DecisionTreeRegressor(ccp_alpha=0.0, criterion='friedman_mse', max_depth=3,\n",
              "                      max_features=None, max_leaf_nodes=None,\n",
              "                      min_impurity_decrease=0.0, min_impurity_split=None,\n",
              "                      min_samples_leaf=1, min_samples_split=2,\n",
              "                      min_weight_fraction_leaf=0.0, presort='deprecated',\n",
              "                      random_state=RandomState(MT19937) at 0x7FC489C49050,\n",
              "                      splitter='best')],\n",
              "       [DecisionTreeRegressor(ccp_alpha=0.0, criterion='friedman_mse', max_depth=3,\n",
              "                      max_features=None, max_leaf_nodes=None,\n",
              "                      min_impurity_decrease=0.0, min_impurity_split=None,\n",
              "                      min_samples_leaf=1, min_samples_split=2,\n",
              "                      min_weight_fraction_leaf=0.0, presort='deprecated',\n",
              "                      random_state=RandomState(MT19937) at 0x7FC489C49050,\n",
              "                      splitter='best')],\n",
              "       [DecisionTreeRegressor(ccp_alpha=0.0, criterion='friedman_mse', max_depth=3,\n",
              "                      max_features=None, max_leaf_nodes=None,\n",
              "                      min_impurity_decrease=0.0, min_impurity_split=None,\n",
              "                      min_samples_leaf=1, min_samples_split=2,\n",
              "                      min_weight_fraction_leaf=0.0, presort='deprecated',\n",
              "                      random_state=RandomState(MT19937) at 0x7FC489C49050,\n",
              "                      splitter='best')],\n",
              "       [DecisionTreeRegressor(ccp_alpha=0.0, criterion='friedman_mse', max_depth=3,\n",
              "                      max_features=None, max_leaf_nodes=None,\n",
              "                      min_impurity_decrease=0.0, min_impurity_split=None,\n",
              "                      min_samples_leaf=1, min_samples_split=2,\n",
              "                      min_weight_fraction_leaf=0.0, presort='deprecated',\n",
              "                      random_state=RandomState(MT19937) at 0x7FC489C49050,\n",
              "                      splitter='best')],\n",
              "       [DecisionTreeRegressor(ccp_alpha=0.0, criterion='friedman_mse', max_depth=3,\n",
              "                      max_features=None, max_leaf_nodes=None,\n",
              "                      min_impurity_decrease=0.0, min_impurity_split=None,\n",
              "                      min_samples_leaf=1, min_samples_split=2,\n",
              "                      min_weight_fraction_leaf=0.0, presort='deprecated',\n",
              "                      random_state=RandomState(MT19937) at 0x7FC489C49050,\n",
              "                      splitter='best')],\n",
              "       [DecisionTreeRegressor(ccp_alpha=0.0, criterion='friedman_mse', max_depth=3,\n",
              "                      max_features=None, max_leaf_nodes=None,\n",
              "                      min_impurity_decrease=0.0, min_impurity_split=None,\n",
              "                      min_samples_leaf=1, min_samples_split=2,\n",
              "                      min_weight_fraction_leaf=0.0, presort='deprecated',\n",
              "                      random_state=RandomState(MT19937) at 0x7FC489C49050,\n",
              "                      splitter='best')],\n",
              "       [DecisionTreeRegressor(ccp_alpha=0.0, criterion='friedman_mse', max_depth=3,\n",
              "                      max_features=None, max_leaf_nodes=None,\n",
              "                      min_impurity_decrease=0.0, min_impurity_split=None,\n",
              "                      min_samples_leaf=1, min_samples_split=2,\n",
              "                      min_weight_fraction_leaf=0.0, presort='deprecated',\n",
              "                      random_state=RandomState(MT19937) at 0x7FC489C49050,\n",
              "                      splitter='best')],\n",
              "       [DecisionTreeRegressor(ccp_alpha=0.0, criterion='friedman_mse', max_depth=3,\n",
              "                      max_features=None, max_leaf_nodes=None,\n",
              "                      min_impurity_decrease=0.0, min_impurity_split=None,\n",
              "                      min_samples_leaf=1, min_samples_split=2,\n",
              "                      min_weight_fraction_leaf=0.0, presort='deprecated',\n",
              "                      random_state=RandomState(MT19937) at 0x7FC489C49050,\n",
              "                      splitter='best')],\n",
              "       [DecisionTreeRegressor(ccp_alpha=0.0, criterion='friedman_mse', max_depth=3,\n",
              "                      max_features=None, max_leaf_nodes=None,\n",
              "                      min_impurity_decrease=0.0, min_impurity_split=None,\n",
              "                      min_samples_leaf=1, min_samples_split=2,\n",
              "                      min_weight_fraction_leaf=0.0, presort='deprecated',\n",
              "                      random_state=RandomState(MT19937) at 0x7FC489C49050,\n",
              "                      splitter='best')],\n",
              "       [DecisionTreeRegressor(ccp_alpha=0.0, criterion='friedman_mse', max_depth=3,\n",
              "                      max_features=None, max_leaf_nodes=None,\n",
              "                      min_impurity_decrease=0.0, min_impurity_split=None,\n",
              "                      min_samples_leaf=1, min_samples_split=2,\n",
              "                      min_weight_fraction_leaf=0.0, presort='deprecated',\n",
              "                      random_state=RandomState(MT19937) at 0x7FC489C49050,\n",
              "                      splitter='best')],\n",
              "       [DecisionTreeRegressor(ccp_alpha=0.0, criterion='friedman_mse', max_depth=3,\n",
              "                      max_features=None, max_leaf_nodes=None,\n",
              "                      min_impurity_decrease=0.0, min_impurity_split=None,\n",
              "                      min_samples_leaf=1, min_samples_split=2,\n",
              "                      min_weight_fraction_leaf=0.0, presort='deprecated',\n",
              "                      random_state=RandomState(MT19937) at 0x7FC489C49050,\n",
              "                      splitter='best')],\n",
              "       [DecisionTreeRegressor(ccp_alpha=0.0, criterion='friedman_mse', max_depth=3,\n",
              "                      max_features=None, max_leaf_nodes=None,\n",
              "                      min_impurity_decrease=0.0, min_impurity_split=None,\n",
              "                      min_samples_leaf=1, min_samples_split=2,\n",
              "                      min_weight_fraction_leaf=0.0, presort='deprecated',\n",
              "                      random_state=RandomState(MT19937) at 0x7FC489C49050,\n",
              "                      splitter='best')],\n",
              "       [DecisionTreeRegressor(ccp_alpha=0.0, criterion='friedman_mse', max_depth=3,\n",
              "                      max_features=None, max_leaf_nodes=None,\n",
              "                      min_impurity_decrease=0.0, min_impurity_split=None,\n",
              "                      min_samples_leaf=1, min_samples_split=2,\n",
              "                      min_weight_fraction_leaf=0.0, presort='deprecated',\n",
              "                      random_state=RandomState(MT19937) at 0x7FC489C49050,\n",
              "                      splitter='best')],\n",
              "       [DecisionTreeRegressor(ccp_alpha=0.0, criterion='friedman_mse', max_depth=3,\n",
              "                      max_features=None, max_leaf_nodes=None,\n",
              "                      min_impurity_decrease=0.0, min_impurity_split=None,\n",
              "                      min_samples_leaf=1, min_samples_split=2,\n",
              "                      min_weight_fraction_leaf=0.0, presort='deprecated',\n",
              "                      random_state=RandomState(MT19937) at 0x7FC489C49050,\n",
              "                      splitter='best')],\n",
              "       [DecisionTreeRegressor(ccp_alpha=0.0, criterion='friedman_mse', max_depth=3,\n",
              "                      max_features=None, max_leaf_nodes=None,\n",
              "                      min_impurity_decrease=0.0, min_impurity_split=None,\n",
              "                      min_samples_leaf=1, min_samples_split=2,\n",
              "                      min_weight_fraction_leaf=0.0, presort='deprecated',\n",
              "                      random_state=RandomState(MT19937) at 0x7FC489C49050,\n",
              "                      splitter='best')],\n",
              "       [DecisionTreeRegressor(ccp_alpha=0.0, criterion='friedman_mse', max_depth=3,\n",
              "                      max_features=None, max_leaf_nodes=None,\n",
              "                      min_impurity_decrease=0.0, min_impurity_split=None,\n",
              "                      min_samples_leaf=1, min_samples_split=2,\n",
              "                      min_weight_fraction_leaf=0.0, presort='deprecated',\n",
              "                      random_state=RandomState(MT19937) at 0x7FC489C49050,\n",
              "                      splitter='best')],\n",
              "       [DecisionTreeRegressor(ccp_alpha=0.0, criterion='friedman_mse', max_depth=3,\n",
              "                      max_features=None, max_leaf_nodes=None,\n",
              "                      min_impurity_decrease=0.0, min_impurity_split=None,\n",
              "                      min_samples_leaf=1, min_samples_split=2,\n",
              "                      min_weight_fraction_leaf=0.0, presort='deprecated',\n",
              "                      random_state=RandomState(MT19937) at 0x7FC489C49050,\n",
              "                      splitter='best')],\n",
              "       [DecisionTreeRegressor(ccp_alpha=0.0, criterion='friedman_mse', max_depth=3,\n",
              "                      max_features=None, max_leaf_nodes=None,\n",
              "                      min_impurity_decrease=0.0, min_impurity_split=None,\n",
              "                      min_samples_leaf=1, min_samples_split=2,\n",
              "                      min_weight_fraction_leaf=0.0, presort='deprecated',\n",
              "                      random_state=RandomState(MT19937) at 0x7FC489C49050,\n",
              "                      splitter='best')],\n",
              "       [DecisionTreeRegressor(ccp_alpha=0.0, criterion='friedman_mse', max_depth=3,\n",
              "                      max_features=None, max_leaf_nodes=None,\n",
              "                      min_impurity_decrease=0.0, min_impurity_split=None,\n",
              "                      min_samples_leaf=1, min_samples_split=2,\n",
              "                      min_weight_fraction_leaf=0.0, presort='deprecated',\n",
              "                      random_state=RandomState(MT19937) at 0x7FC489C49050,\n",
              "                      splitter='best')],\n",
              "       [DecisionTreeRegressor(ccp_alpha=0.0, criterion='friedman_mse', max_depth=3,\n",
              "                      max_features=None, max_leaf_nodes=None,\n",
              "                      min_impurity_decrease=0.0, min_impurity_split=None,\n",
              "                      min_samples_leaf=1, min_samples_split=2,\n",
              "                      min_weight_fraction_leaf=0.0, presort='deprecated',\n",
              "                      random_state=RandomState(MT19937) at 0x7FC489C49050,\n",
              "                      splitter='best')],\n",
              "       [DecisionTreeRegressor(ccp_alpha=0.0, criterion='friedman_mse', max_depth=3,\n",
              "                      max_features=None, max_leaf_nodes=None,\n",
              "                      min_impurity_decrease=0.0, min_impurity_split=None,\n",
              "                      min_samples_leaf=1, min_samples_split=2,\n",
              "                      min_weight_fraction_leaf=0.0, presort='deprecated',\n",
              "                      random_state=RandomState(MT19937) at 0x7FC489C49050,\n",
              "                      splitter='best')],\n",
              "       [DecisionTreeRegressor(ccp_alpha=0.0, criterion='friedman_mse', max_depth=3,\n",
              "                      max_features=None, max_leaf_nodes=None,\n",
              "                      min_impurity_decrease=0.0, min_impurity_split=None,\n",
              "                      min_samples_leaf=1, min_samples_split=2,\n",
              "                      min_weight_fraction_leaf=0.0, presort='deprecated',\n",
              "                      random_state=RandomState(MT19937) at 0x7FC489C49050,\n",
              "                      splitter='best')],\n",
              "       [DecisionTreeRegressor(ccp_alpha=0.0, criterion='friedman_mse', max_depth=3,\n",
              "                      max_features=None, max_leaf_nodes=None,\n",
              "                      min_impurity_decrease=0.0, min_impurity_split=None,\n",
              "                      min_samples_leaf=1, min_samples_split=2,\n",
              "                      min_weight_fraction_leaf=0.0, presort='deprecated',\n",
              "                      random_state=RandomState(MT19937) at 0x7FC489C49050,\n",
              "                      splitter='best')],\n",
              "       [DecisionTreeRegressor(ccp_alpha=0.0, criterion='friedman_mse', max_depth=3,\n",
              "                      max_features=None, max_leaf_nodes=None,\n",
              "                      min_impurity_decrease=0.0, min_impurity_split=None,\n",
              "                      min_samples_leaf=1, min_samples_split=2,\n",
              "                      min_weight_fraction_leaf=0.0, presort='deprecated',\n",
              "                      random_state=RandomState(MT19937) at 0x7FC489C49050,\n",
              "                      splitter='best')],\n",
              "       [DecisionTreeRegressor(ccp_alpha=0.0, criterion='friedman_mse', max_depth=3,\n",
              "                      max_features=None, max_leaf_nodes=None,\n",
              "                      min_impurity_decrease=0.0, min_impurity_split=None,\n",
              "                      min_samples_leaf=1, min_samples_split=2,\n",
              "                      min_weight_fraction_leaf=0.0, presort='deprecated',\n",
              "                      random_state=RandomState(MT19937) at 0x7FC489C49050,\n",
              "                      splitter='best')],\n",
              "       [DecisionTreeRegressor(ccp_alpha=0.0, criterion='friedman_mse', max_depth=3,\n",
              "                      max_features=None, max_leaf_nodes=None,\n",
              "                      min_impurity_decrease=0.0, min_impurity_split=None,\n",
              "                      min_samples_leaf=1, min_samples_split=2,\n",
              "                      min_weight_fraction_leaf=0.0, presort='deprecated',\n",
              "                      random_state=RandomState(MT19937) at 0x7FC489C49050,\n",
              "                      splitter='best')],\n",
              "       [DecisionTreeRegressor(ccp_alpha=0.0, criterion='friedman_mse', max_depth=3,\n",
              "                      max_features=None, max_leaf_nodes=None,\n",
              "                      min_impurity_decrease=0.0, min_impurity_split=None,\n",
              "                      min_samples_leaf=1, min_samples_split=2,\n",
              "                      min_weight_fraction_leaf=0.0, presort='deprecated',\n",
              "                      random_state=RandomState(MT19937) at 0x7FC489C49050,\n",
              "                      splitter='best')],\n",
              "       [DecisionTreeRegressor(ccp_alpha=0.0, criterion='friedman_mse', max_depth=3,\n",
              "                      max_features=None, max_leaf_nodes=None,\n",
              "                      min_impurity_decrease=0.0, min_impurity_split=None,\n",
              "                      min_samples_leaf=1, min_samples_split=2,\n",
              "                      min_weight_fraction_leaf=0.0, presort='deprecated',\n",
              "                      random_state=RandomState(MT19937) at 0x7FC489C49050,\n",
              "                      splitter='best')],\n",
              "       [DecisionTreeRegressor(ccp_alpha=0.0, criterion='friedman_mse', max_depth=3,\n",
              "                      max_features=None, max_leaf_nodes=None,\n",
              "                      min_impurity_decrease=0.0, min_impurity_split=None,\n",
              "                      min_samples_leaf=1, min_samples_split=2,\n",
              "                      min_weight_fraction_leaf=0.0, presort='deprecated',\n",
              "                      random_state=RandomState(MT19937) at 0x7FC489C49050,\n",
              "                      splitter='best')],\n",
              "       [DecisionTreeRegressor(ccp_alpha=0.0, criterion='friedman_mse', max_depth=3,\n",
              "                      max_features=None, max_leaf_nodes=None,\n",
              "                      min_impurity_decrease=0.0, min_impurity_split=None,\n",
              "                      min_samples_leaf=1, min_samples_split=2,\n",
              "                      min_weight_fraction_leaf=0.0, presort='deprecated',\n",
              "                      random_state=RandomState(MT19937) at 0x7FC489C49050,\n",
              "                      splitter='best')],\n",
              "       [DecisionTreeRegressor(ccp_alpha=0.0, criterion='friedman_mse', max_depth=3,\n",
              "                      max_features=None, max_leaf_nodes=None,\n",
              "                      min_impurity_decrease=0.0, min_impurity_split=None,\n",
              "                      min_samples_leaf=1, min_samples_split=2,\n",
              "                      min_weight_fraction_leaf=0.0, presort='deprecated',\n",
              "                      random_state=RandomState(MT19937) at 0x7FC489C49050,\n",
              "                      splitter='best')],\n",
              "       [DecisionTreeRegressor(ccp_alpha=0.0, criterion='friedman_mse', max_depth=3,\n",
              "                      max_features=None, max_leaf_nodes=None,\n",
              "                      min_impurity_decrease=0.0, min_impurity_split=None,\n",
              "                      min_samples_leaf=1, min_samples_split=2,\n",
              "                      min_weight_fraction_leaf=0.0, presort='deprecated',\n",
              "                      random_state=RandomState(MT19937) at 0x7FC489C49050,\n",
              "                      splitter='best')],\n",
              "       [DecisionTreeRegressor(ccp_alpha=0.0, criterion='friedman_mse', max_depth=3,\n",
              "                      max_features=None, max_leaf_nodes=None,\n",
              "                      min_impurity_decrease=0.0, min_impurity_split=None,\n",
              "                      min_samples_leaf=1, min_samples_split=2,\n",
              "                      min_weight_fraction_leaf=0.0, presort='deprecated',\n",
              "                      random_state=RandomState(MT19937) at 0x7FC489C49050,\n",
              "                      splitter='best')],\n",
              "       [DecisionTreeRegressor(ccp_alpha=0.0, criterion='friedman_mse', max_depth=3,\n",
              "                      max_features=None, max_leaf_nodes=None,\n",
              "                      min_impurity_decrease=0.0, min_impurity_split=None,\n",
              "                      min_samples_leaf=1, min_samples_split=2,\n",
              "                      min_weight_fraction_leaf=0.0, presort='deprecated',\n",
              "                      random_state=RandomState(MT19937) at 0x7FC489C49050,\n",
              "                      splitter='best')],\n",
              "       [DecisionTreeRegressor(ccp_alpha=0.0, criterion='friedman_mse', max_depth=3,\n",
              "                      max_features=None, max_leaf_nodes=None,\n",
              "                      min_impurity_decrease=0.0, min_impurity_split=None,\n",
              "                      min_samples_leaf=1, min_samples_split=2,\n",
              "                      min_weight_fraction_leaf=0.0, presort='deprecated',\n",
              "                      random_state=RandomState(MT19937) at 0x7FC489C49050,\n",
              "                      splitter='best')],\n",
              "       [DecisionTreeRegressor(ccp_alpha=0.0, criterion='friedman_mse', max_depth=3,\n",
              "                      max_features=None, max_leaf_nodes=None,\n",
              "                      min_impurity_decrease=0.0, min_impurity_split=None,\n",
              "                      min_samples_leaf=1, min_samples_split=2,\n",
              "                      min_weight_fraction_leaf=0.0, presort='deprecated',\n",
              "                      random_state=RandomState(MT19937) at 0x7FC489C49050,\n",
              "                      splitter='best')],\n",
              "       [DecisionTreeRegressor(ccp_alpha=0.0, criterion='friedman_mse', max_depth=3,\n",
              "                      max_features=None, max_leaf_nodes=None,\n",
              "                      min_impurity_decrease=0.0, min_impurity_split=None,\n",
              "                      min_samples_leaf=1, min_samples_split=2,\n",
              "                      min_weight_fraction_leaf=0.0, presort='deprecated',\n",
              "                      random_state=RandomState(MT19937) at 0x7FC489C49050,\n",
              "                      splitter='best')],\n",
              "       [DecisionTreeRegressor(ccp_alpha=0.0, criterion='friedman_mse', max_depth=3,\n",
              "                      max_features=None, max_leaf_nodes=None,\n",
              "                      min_impurity_decrease=0.0, min_impurity_split=None,\n",
              "                      min_samples_leaf=1, min_samples_split=2,\n",
              "                      min_weight_fraction_leaf=0.0, presort='deprecated',\n",
              "                      random_state=RandomState(MT19937) at 0x7FC489C49050,\n",
              "                      splitter='best')],\n",
              "       [DecisionTreeRegressor(ccp_alpha=0.0, criterion='friedman_mse', max_depth=3,\n",
              "                      max_features=None, max_leaf_nodes=None,\n",
              "                      min_impurity_decrease=0.0, min_impurity_split=None,\n",
              "                      min_samples_leaf=1, min_samples_split=2,\n",
              "                      min_weight_fraction_leaf=0.0, presort='deprecated',\n",
              "                      random_state=RandomState(MT19937) at 0x7FC489C49050,\n",
              "                      splitter='best')],\n",
              "       [DecisionTreeRegressor(ccp_alpha=0.0, criterion='friedman_mse', max_depth=3,\n",
              "                      max_features=None, max_leaf_nodes=None,\n",
              "                      min_impurity_decrease=0.0, min_impurity_split=None,\n",
              "                      min_samples_leaf=1, min_samples_split=2,\n",
              "                      min_weight_fraction_leaf=0.0, presort='deprecated',\n",
              "                      random_state=RandomState(MT19937) at 0x7FC489C49050,\n",
              "                      splitter='best')],\n",
              "       [DecisionTreeRegressor(ccp_alpha=0.0, criterion='friedman_mse', max_depth=3,\n",
              "                      max_features=None, max_leaf_nodes=None,\n",
              "                      min_impurity_decrease=0.0, min_impurity_split=None,\n",
              "                      min_samples_leaf=1, min_samples_split=2,\n",
              "                      min_weight_fraction_leaf=0.0, presort='deprecated',\n",
              "                      random_state=RandomState(MT19937) at 0x7FC489C49050,\n",
              "                      splitter='best')],\n",
              "       [DecisionTreeRegressor(ccp_alpha=0.0, criterion='friedman_mse', max_depth=3,\n",
              "                      max_features=None, max_leaf_nodes=None,\n",
              "                      min_impurity_decrease=0.0, min_impurity_split=None,\n",
              "                      min_samples_leaf=1, min_samples_split=2,\n",
              "                      min_weight_fraction_leaf=0.0, presort='deprecated',\n",
              "                      random_state=RandomState(MT19937) at 0x7FC489C49050,\n",
              "                      splitter='best')],\n",
              "       [DecisionTreeRegressor(ccp_alpha=0.0, criterion='friedman_mse', max_depth=3,\n",
              "                      max_features=None, max_leaf_nodes=None,\n",
              "                      min_impurity_decrease=0.0, min_impurity_split=None,\n",
              "                      min_samples_leaf=1, min_samples_split=2,\n",
              "                      min_weight_fraction_leaf=0.0, presort='deprecated',\n",
              "                      random_state=RandomState(MT19937) at 0x7FC489C49050,\n",
              "                      splitter='best')],\n",
              "       [DecisionTreeRegressor(ccp_alpha=0.0, criterion='friedman_mse', max_depth=3,\n",
              "                      max_features=None, max_leaf_nodes=None,\n",
              "                      min_impurity_decrease=0.0, min_impurity_split=None,\n",
              "                      min_samples_leaf=1, min_samples_split=2,\n",
              "                      min_weight_fraction_leaf=0.0, presort='deprecated',\n",
              "                      random_state=RandomState(MT19937) at 0x7FC489C49050,\n",
              "                      splitter='best')],\n",
              "       [DecisionTreeRegressor(ccp_alpha=0.0, criterion='friedman_mse', max_depth=3,\n",
              "                      max_features=None, max_leaf_nodes=None,\n",
              "                      min_impurity_decrease=0.0, min_impurity_split=None,\n",
              "                      min_samples_leaf=1, min_samples_split=2,\n",
              "                      min_weight_fraction_leaf=0.0, presort='deprecated',\n",
              "                      random_state=RandomState(MT19937) at 0x7FC489C49050,\n",
              "                      splitter='best')],\n",
              "       [DecisionTreeRegressor(ccp_alpha=0.0, criterion='friedman_mse', max_depth=3,\n",
              "                      max_features=None, max_leaf_nodes=None,\n",
              "                      min_impurity_decrease=0.0, min_impurity_split=None,\n",
              "                      min_samples_leaf=1, min_samples_split=2,\n",
              "                      min_weight_fraction_leaf=0.0, presort='deprecated',\n",
              "                      random_state=RandomState(MT19937) at 0x7FC489C49050,\n",
              "                      splitter='best')],\n",
              "       [DecisionTreeRegressor(ccp_alpha=0.0, criterion='friedman_mse', max_depth=3,\n",
              "                      max_features=None, max_leaf_nodes=None,\n",
              "                      min_impurity_decrease=0.0, min_impurity_split=None,\n",
              "                      min_samples_leaf=1, min_samples_split=2,\n",
              "                      min_weight_fraction_leaf=0.0, presort='deprecated',\n",
              "                      random_state=RandomState(MT19937) at 0x7FC489C49050,\n",
              "                      splitter='best')],\n",
              "       [DecisionTreeRegressor(ccp_alpha=0.0, criterion='friedman_mse', max_depth=3,\n",
              "                      max_features=None, max_leaf_nodes=None,\n",
              "                      min_impurity_decrease=0.0, min_impurity_split=None,\n",
              "                      min_samples_leaf=1, min_samples_split=2,\n",
              "                      min_weight_fraction_leaf=0.0, presort='deprecated',\n",
              "                      random_state=RandomState(MT19937) at 0x7FC489C49050,\n",
              "                      splitter='best')],\n",
              "       [DecisionTreeRegressor(ccp_alpha=0.0, criterion='friedman_mse', max_depth=3,\n",
              "                      max_features=None, max_leaf_nodes=None,\n",
              "                      min_impurity_decrease=0.0, min_impurity_split=None,\n",
              "                      min_samples_leaf=1, min_samples_split=2,\n",
              "                      min_weight_fraction_leaf=0.0, presort='deprecated',\n",
              "                      random_state=RandomState(MT19937) at 0x7FC489C49050,\n",
              "                      splitter='best')],\n",
              "       [DecisionTreeRegressor(ccp_alpha=0.0, criterion='friedman_mse', max_depth=3,\n",
              "                      max_features=None, max_leaf_nodes=None,\n",
              "                      min_impurity_decrease=0.0, min_impurity_split=None,\n",
              "                      min_samples_leaf=1, min_samples_split=2,\n",
              "                      min_weight_fraction_leaf=0.0, presort='deprecated',\n",
              "                      random_state=RandomState(MT19937) at 0x7FC489C49050,\n",
              "                      splitter='best')],\n",
              "       [DecisionTreeRegressor(ccp_alpha=0.0, criterion='friedman_mse', max_depth=3,\n",
              "                      max_features=None, max_leaf_nodes=None,\n",
              "                      min_impurity_decrease=0.0, min_impurity_split=None,\n",
              "                      min_samples_leaf=1, min_samples_split=2,\n",
              "                      min_weight_fraction_leaf=0.0, presort='deprecated',\n",
              "                      random_state=RandomState(MT19937) at 0x7FC489C49050,\n",
              "                      splitter='best')],\n",
              "       [DecisionTreeRegressor(ccp_alpha=0.0, criterion='friedman_mse', max_depth=3,\n",
              "                      max_features=None, max_leaf_nodes=None,\n",
              "                      min_impurity_decrease=0.0, min_impurity_split=None,\n",
              "                      min_samples_leaf=1, min_samples_split=2,\n",
              "                      min_weight_fraction_leaf=0.0, presort='deprecated',\n",
              "                      random_state=RandomState(MT19937) at 0x7FC489C49050,\n",
              "                      splitter='best')],\n",
              "       [DecisionTreeRegressor(ccp_alpha=0.0, criterion='friedman_mse', max_depth=3,\n",
              "                      max_features=None, max_leaf_nodes=None,\n",
              "                      min_impurity_decrease=0.0, min_impurity_split=None,\n",
              "                      min_samples_leaf=1, min_samples_split=2,\n",
              "                      min_weight_fraction_leaf=0.0, presort='deprecated',\n",
              "                      random_state=RandomState(MT19937) at 0x7FC489C49050,\n",
              "                      splitter='best')],\n",
              "       [DecisionTreeRegressor(ccp_alpha=0.0, criterion='friedman_mse', max_depth=3,\n",
              "                      max_features=None, max_leaf_nodes=None,\n",
              "                      min_impurity_decrease=0.0, min_impurity_split=None,\n",
              "                      min_samples_leaf=1, min_samples_split=2,\n",
              "                      min_weight_fraction_leaf=0.0, presort='deprecated',\n",
              "                      random_state=RandomState(MT19937) at 0x7FC489C49050,\n",
              "                      splitter='best')],\n",
              "       [DecisionTreeRegressor(ccp_alpha=0.0, criterion='friedman_mse', max_depth=3,\n",
              "                      max_features=None, max_leaf_nodes=None,\n",
              "                      min_impurity_decrease=0.0, min_impurity_split=None,\n",
              "                      min_samples_leaf=1, min_samples_split=2,\n",
              "                      min_weight_fraction_leaf=0.0, presort='deprecated',\n",
              "                      random_state=RandomState(MT19937) at 0x7FC489C49050,\n",
              "                      splitter='best')],\n",
              "       [DecisionTreeRegressor(ccp_alpha=0.0, criterion='friedman_mse', max_depth=3,\n",
              "                      max_features=None, max_leaf_nodes=None,\n",
              "                      min_impurity_decrease=0.0, min_impurity_split=None,\n",
              "                      min_samples_leaf=1, min_samples_split=2,\n",
              "                      min_weight_fraction_leaf=0.0, presort='deprecated',\n",
              "                      random_state=RandomState(MT19937) at 0x7FC489C49050,\n",
              "                      splitter='best')],\n",
              "       [DecisionTreeRegressor(ccp_alpha=0.0, criterion='friedman_mse', max_depth=3,\n",
              "                      max_features=None, max_leaf_nodes=None,\n",
              "                      min_impurity_decrease=0.0, min_impurity_split=None,\n",
              "                      min_samples_leaf=1, min_samples_split=2,\n",
              "                      min_weight_fraction_leaf=0.0, presort='deprecated',\n",
              "                      random_state=RandomState(MT19937) at 0x7FC489C49050,\n",
              "                      splitter='best')],\n",
              "       [DecisionTreeRegressor(ccp_alpha=0.0, criterion='friedman_mse', max_depth=3,\n",
              "                      max_features=None, max_leaf_nodes=None,\n",
              "                      min_impurity_decrease=0.0, min_impurity_split=None,\n",
              "                      min_samples_leaf=1, min_samples_split=2,\n",
              "                      min_weight_fraction_leaf=0.0, presort='deprecated',\n",
              "                      random_state=RandomState(MT19937) at 0x7FC489C49050,\n",
              "                      splitter='best')],\n",
              "       [DecisionTreeRegressor(ccp_alpha=0.0, criterion='friedman_mse', max_depth=3,\n",
              "                      max_features=None, max_leaf_nodes=None,\n",
              "                      min_impurity_decrease=0.0, min_impurity_split=None,\n",
              "                      min_samples_leaf=1, min_samples_split=2,\n",
              "                      min_weight_fraction_leaf=0.0, presort='deprecated',\n",
              "                      random_state=RandomState(MT19937) at 0x7FC489C49050,\n",
              "                      splitter='best')],\n",
              "       [DecisionTreeRegressor(ccp_alpha=0.0, criterion='friedman_mse', max_depth=3,\n",
              "                      max_features=None, max_leaf_nodes=None,\n",
              "                      min_impurity_decrease=0.0, min_impurity_split=None,\n",
              "                      min_samples_leaf=1, min_samples_split=2,\n",
              "                      min_weight_fraction_leaf=0.0, presort='deprecated',\n",
              "                      random_state=RandomState(MT19937) at 0x7FC489C49050,\n",
              "                      splitter='best')],\n",
              "       [DecisionTreeRegressor(ccp_alpha=0.0, criterion='friedman_mse', max_depth=3,\n",
              "                      max_features=None, max_leaf_nodes=None,\n",
              "                      min_impurity_decrease=0.0, min_impurity_split=None,\n",
              "                      min_samples_leaf=1, min_samples_split=2,\n",
              "                      min_weight_fraction_leaf=0.0, presort='deprecated',\n",
              "                      random_state=RandomState(MT19937) at 0x7FC489C49050,\n",
              "                      splitter='best')],\n",
              "       [DecisionTreeRegressor(ccp_alpha=0.0, criterion='friedman_mse', max_depth=3,\n",
              "                      max_features=None, max_leaf_nodes=None,\n",
              "                      min_impurity_decrease=0.0, min_impurity_split=None,\n",
              "                      min_samples_leaf=1, min_samples_split=2,\n",
              "                      min_weight_fraction_leaf=0.0, presort='deprecated',\n",
              "                      random_state=RandomState(MT19937) at 0x7FC489C49050,\n",
              "                      splitter='best')],\n",
              "       [DecisionTreeRegressor(ccp_alpha=0.0, criterion='friedman_mse', max_depth=3,\n",
              "                      max_features=None, max_leaf_nodes=None,\n",
              "                      min_impurity_decrease=0.0, min_impurity_split=None,\n",
              "                      min_samples_leaf=1, min_samples_split=2,\n",
              "                      min_weight_fraction_leaf=0.0, presort='deprecated',\n",
              "                      random_state=RandomState(MT19937) at 0x7FC489C49050,\n",
              "                      splitter='best')],\n",
              "       [DecisionTreeRegressor(ccp_alpha=0.0, criterion='friedman_mse', max_depth=3,\n",
              "                      max_features=None, max_leaf_nodes=None,\n",
              "                      min_impurity_decrease=0.0, min_impurity_split=None,\n",
              "                      min_samples_leaf=1, min_samples_split=2,\n",
              "                      min_weight_fraction_leaf=0.0, presort='deprecated',\n",
              "                      random_state=RandomState(MT19937) at 0x7FC489C49050,\n",
              "                      splitter='best')],\n",
              "       [DecisionTreeRegressor(ccp_alpha=0.0, criterion='friedman_mse', max_depth=3,\n",
              "                      max_features=None, max_leaf_nodes=None,\n",
              "                      min_impurity_decrease=0.0, min_impurity_split=None,\n",
              "                      min_samples_leaf=1, min_samples_split=2,\n",
              "                      min_weight_fraction_leaf=0.0, presort='deprecated',\n",
              "                      random_state=RandomState(MT19937) at 0x7FC489C49050,\n",
              "                      splitter='best')],\n",
              "       [DecisionTreeRegressor(ccp_alpha=0.0, criterion='friedman_mse', max_depth=3,\n",
              "                      max_features=None, max_leaf_nodes=None,\n",
              "                      min_impurity_decrease=0.0, min_impurity_split=None,\n",
              "                      min_samples_leaf=1, min_samples_split=2,\n",
              "                      min_weight_fraction_leaf=0.0, presort='deprecated',\n",
              "                      random_state=RandomState(MT19937) at 0x7FC489C49050,\n",
              "                      splitter='best')]], dtype=object)"
            ]
          },
          "metadata": {
            "tags": []
          },
          "execution_count": 31
        }
      ]
    },
    {
      "cell_type": "markdown",
      "metadata": {
        "id": "RboR591YN516"
      },
      "source": [
        "## n_classes"
      ]
    },
    {
      "cell_type": "markdown",
      "metadata": {
        "id": "MUmi9BShY0D6"
      },
      "source": [
        "Nombre de classes du modèle, pour la régression c'est toujours à 1, l'attribut sera bientôt supprimé. "
      ]
    },
    {
      "cell_type": "markdown",
      "metadata": {
        "id": "jvi4yIEMN8B7"
      },
      "source": [
        "## n_estimators"
      ]
    },
    {
      "cell_type": "markdown",
      "metadata": {
        "id": "HKTKfIGHZNzS"
      },
      "source": [
        "Renvoie le nombre d'arbres de la forêt."
      ]
    },
    {
      "cell_type": "code",
      "metadata": {
        "colab": {
          "base_uri": "https://localhost:8080/"
        },
        "id": "QwPRntnjN9sD",
        "outputId": "50fc339c-0fc6-4325-fb73-fae1d1e6123c"
      },
      "source": [
        "gbt.n_estimators_"
      ],
      "execution_count": null,
      "outputs": [
        {
          "output_type": "execute_result",
          "data": {
            "text/plain": [
              "100"
            ]
          },
          "metadata": {
            "tags": []
          },
          "execution_count": 32
        }
      ]
    },
    {
      "cell_type": "markdown",
      "metadata": {
        "id": "kCeG30DzN-GX"
      },
      "source": [
        "## n_features"
      ]
    },
    {
      "cell_type": "markdown",
      "metadata": {
        "id": "15pI7sgtZjLr"
      },
      "source": [
        "Nombre de variables pendant l'entraînement du modèle. "
      ]
    },
    {
      "cell_type": "code",
      "metadata": {
        "colab": {
          "base_uri": "https://localhost:8080/"
        },
        "id": "USp-iHqBZfOI",
        "outputId": "f5cc1cf8-af37-4bfd-a36a-d0ffa59058f7"
      },
      "source": [
        "gbt.n_features_"
      ],
      "execution_count": null,
      "outputs": [
        {
          "output_type": "execute_result",
          "data": {
            "text/plain": [
              "1"
            ]
          },
          "metadata": {
            "tags": []
          },
          "execution_count": 33
        }
      ]
    },
    {
      "cell_type": "markdown",
      "metadata": {
        "id": "OkM7PfQXOAho"
      },
      "source": [
        "## max_features"
      ]
    },
    {
      "cell_type": "markdown",
      "metadata": {
        "id": "HwFqX_cNZv3j"
      },
      "source": [
        "Retourne la valeur de max_features établit lors de l'initialisation du modèle. "
      ]
    },
    {
      "cell_type": "code",
      "metadata": {
        "colab": {
          "base_uri": "https://localhost:8080/"
        },
        "id": "f4q52tNrOCLB",
        "outputId": "212f5fa9-b9b1-4c5d-e2de-1fd72cc2c493"
      },
      "source": [
        "gbt.max_features_"
      ],
      "execution_count": null,
      "outputs": [
        {
          "output_type": "execute_result",
          "data": {
            "text/plain": [
              "1"
            ]
          },
          "metadata": {
            "tags": []
          },
          "execution_count": 34
        }
      ]
    },
    {
      "cell_type": "code",
      "metadata": {
        "id": "iuK0KDhv90Kz"
      },
      "source": [
        ""
      ],
      "execution_count": null,
      "outputs": []
    }
  ]
}